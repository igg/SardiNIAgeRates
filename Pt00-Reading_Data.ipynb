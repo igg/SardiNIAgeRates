{
 "metadata": {
  "name": "",
  "signature": "sha256:35092d6f3f90a5c7c0a73bf21252ce8e9ecc735417c4aad1ebc171af877113be"
 },
 "nbformat": 3,
 "nbformat_minor": 0,
 "worksheets": [
  {
   "cells": [
    {
     "cell_type": "code",
     "collapsed": false,
     "input": [
      "%run 'Functions.ipynb'\n",
      "from unidecode import unidecode\n",
      "import dateutil\n",
      "import re\n",
      "from inspect import isfunction"
     ],
     "language": "python",
     "metadata": {},
     "outputs": [],
     "prompt_number": 1
    },
    {
     "cell_type": "code",
     "collapsed": false,
     "input": [
      "REGEX_TYPE = type(re.compile(''))\n",
      "REGEX_LEADING_STAR = re.compile ('\\*(\\d+\\.?\\d+)$') \n",
      "\n",
      "COLUMN_FIXES = {\n",
      "        # If the column name is mapped to None, the column is dropped\n",
      "        'labsHbA1Cdx'         : None,\n",
      "        'disMIname'           : None,\n",
      "        'disAPname'           : None,\n",
      "        'disHFname'           : None,\n",
      "        'disArrhythmiatype'   : None,\n",
      "        'disSTname'           : None,\n",
      "        'disHeartOther'       : None,\n",
      "        'disCancerOther'      : None,\n",
      "        'disEndoOther'        : None,\n",
      "        'ecgNote'             : None,\n",
      "        'hxContraceptive2'    : None,\n",
      "        'hxHormoneRepl2'      : None,\n",
      "        'examBisThyroidNotes' : None,\n",
      "        'examBisKidneyNotes'  : None,\n",
      "        # If the column name maps to a dict, then its used to substitute values\n",
      "        'UriBilirubin' : {\n",
      "            'negativo' : 0,\n",
      "            'leggero'  : 1,\n",
      "            'medio'    : 2,\n",
      "            'errore'   : None\n",
      "        },\n",
      "        'disCancerOther' : None,\n",
      "        'exmPedidiedestra' : {\n",
      "            '+++'      : 3,\n",
      "            '++-'      : 2,\n",
      "            '+--'      : 1,\n",
      "            '---'      : 0,\n",
      "        },\n",
      "        'exmPedidiesinistra' : {\n",
      "            '+++'      : 3,\n",
      "            '++-'      : 2,\n",
      "            '+--'      : 1,\n",
      "            '---'      : 0,\n",
      "        },\n",
      "        'UriGlucose' : {\n",
      "            'negativo'   :  0,\n",
      "            '1.0^g/l'    :  1,\n",
      "            '2.5^g/l'    :  2.5,\n",
      "            '5.0^g/l'    :  5.0,\n",
      "            '>=10.0^g/l' : 10,\n",
      "            'errore'     : None,\n",
      "        },\n",
      "        'UriBilirubin' : {\n",
      "            'negativo': 0,\n",
      "            'leggero' : 1,\n",
      "            'medio'   : 2,\n",
      "            'errore'  : None,\n",
      "        },\n",
      "        'UriKetones' : {\n",
      "            'negativo' :  0,\n",
      "            'tracce'   :  1,\n",
      "            '15^mg/dl' : 15,\n",
      "            '40^mg/dl' : 40,\n",
      "            'errore'   : None,\n",
      "        },\n",
      "        'UriGravity' : {\n",
      "            '>=1.030' : 1.030,\n",
      "            '<=1.005' : 1.005,\n",
      "            'errore'  : None,\n",
      "        },\n",
      "        'UriBlood' : {\n",
      "            'negativo'     : 0,\n",
      "            'tracce(lis.)' : 1,\n",
      "            'tracce(int.)' : 1,\n",
      "            'leggero'      : 2,\n",
      "            'medio'        : 3,\n",
      "            'forte'        : 4,\n",
      "            'errore'       : None,\n",
      "        },\n",
      "        'UriProtein' : {\n",
      "            'negativo'    :   0,\n",
      "            'tracce'      :   1,\n",
      "            '30^mg/dl'    :  30,\n",
      "            '100^mg/dl'   : 100,\n",
      "            '>=300^mg/dl' : 300,\n",
      "            'errore'      : None,\n",
      "        },\n",
      "        'UriUrobilinogen' : {\n",
      "            '0.2^e.u./dl'   : 0.2,\n",
      "            '1.0^e.u./dl'   : 1.0,\n",
      "            '2.0^e.u./dl'   : 0.2,\n",
      "            '4.0^e.u./dl'   : 4.0,\n",
      "            '>=8.0^e.u./dl' : 8.0,\n",
      "            'errore'        : None,\n",
      "        },\n",
      "        'UriNitrite' : {\n",
      "            'negativo' : 0,\n",
      "            'positivo' : 1,\n",
      "            'errore'   : None,\n",
      "        },\n",
      "        'UriPH' : {\n",
      "            'errore' : None,\n",
      "        },\n",
      "        'UriLeucocytes' : {\n",
      "            'negativo'      :   0,\n",
      "            'ca 15^cel/ul'  :  15,\n",
      "            'ca 70^cel/ul'  :  70,\n",
      "            'ca 125^cel/ul' : 125,\n",
      "            'ca 500^cel/ul' : 500,\n",
      "            'errore'        : None,\n",
      "        },\n",
      "        'disCardcongeniteType' : {\n",
      "            'prolasso valvola mitralica'                      :  0,\n",
      "            'stenosi aortica'                                 :  1,\n",
      "            'prolasso mitrale'                                :  2,\n",
      "            'blocco di branca dx'                             :  3,\n",
      "            'difetto del setto interatriale'                  :  4,\n",
      "            'cardiomiopatia dilatativa'                       :  5,\n",
      "            'insuff mitral, pervieta dotto bottallo, div'     :  6,\n",
      "            'non sa dare maggiori informazioni'               :  7,\n",
      "            'ipertrofia ventricolo sn'                        :  8,\n",
      "            'possibile malattia congenita operata a due mesi' :  9,\n",
      "            'prolasso mitrale, blocco di branca dx'           : 10,\n",
      "        },\n",
      "        'disChkOrticariat'  : None,\n",
      "        # if the column name is mapped to a regex, use the regex for replacement\n",
      "        'ecardioAoLvotDiam' : REGEX_LEADING_STAR,\n",
      "        'ecardioLAVolSimp'  : REGEX_LEADING_STAR,\n",
      "        'ecardioLAVolI'     : REGEX_LEADING_STAR,\n",
      "        'ecardioLA4Ch'      : REGEX_LEADING_STAR,\n",
      "        'labsTsh_OS.wave.'  : {\n",
      "            'inf' : 0,\n",
      "            'sup' : 1,\n",
      "        },\n",
      "        'labsAta_OS.wave.'  : {\n",
      "            'inf' : 0,\n",
      "            'sup' : 1,\n",
      "        },\n",
      "        'labsAtg_OS.wave.'  : {\n",
      "            'inf' : 0,\n",
      "            'sup' : 1,\n",
      "        },\n",
      "        'labsTie_OS.wave.'  : {\n",
      "            'inf' : 0,\n",
      "            'sup' : 1,\n",
      "        },\n",
      "        'labsIns_OS.wave.'  : {\n",
      "            'inf' : 0,\n",
      "            'sup' : 1,\n",
      "        },\n",
      "        'labsFt4_OS.wave.'  : {\n",
      "            'inf' : 0,\n",
      "            'sup' : 1,\n",
      "        },\n",
      "        'Subject_ID[4%]'    : None,\n",
      "        'Subject_ID[38%]'   : None,\n",
      "        'Subject_ID[66%]'   : None,\n",
      "    }\n",
      "\n",
      "def validate (s, colname):\n",
      "    invalid_strings = [\n",
      "        '#null!',\n",
      "    ]\n",
      "    valid_strings = [\n",
      "        'inf',\n",
      "    ]\n",
      "\n",
      "    if s is None or len(s) < 1:\n",
      "        return (None)\n",
      "\n",
      "    s = s.strip().lower()\n",
      "    if colname in COLUMN_FIXES and COLUMN_FIXES[colname] is not None:\n",
      "        if type (COLUMN_FIXES[colname]) is dict and s in COLUMN_FIXES[colname]:\n",
      "            return (COLUMN_FIXES[colname][s])\n",
      "        elif isfunction(COLUMN_FIXES[colname]):\n",
      "            return ( COLUMN_FIXES[colname](s) )\n",
      "        elif isinstance(COLUMN_FIXES[colname], REGEX_TYPE):\n",
      "            s_m = COLUMN_FIXES[colname].match (s)\n",
      "            if s_m:\n",
      "                s = s_m.groups()[0]\n",
      "\n",
      "\n",
      "    if s in invalid_strings:\n",
      "        return (None)\n",
      "\n",
      "    if s in valid_strings:\n",
      "        return (s)\n",
      "\n",
      "    f = to_number(s)\n",
      "    if f is not None:\n",
      "        return (f)\n",
      "\n",
      "    d = to_date(s)\n",
      "    if d is not None:\n",
      "        return (d)\n",
      "\n",
      "    return (s.strip().lower())\n",
      "\n",
      "\n",
      "def to_date (s):\n",
      "    try:\n",
      "        dt = dateutil.parser.parse (s)\n",
      "        if dt.replace(hour=0, minute=0, second=0, microsecond=0) == dt:\n",
      "            d = dt.date ()\n",
      "        else:\n",
      "            d = dt\n",
      "        return ( d )\n",
      "\n",
      "    except TypeError:\n",
      "        return None\n",
      "    except ValueError:\n",
      "        return None\n",
      "\n",
      "def to_number(s):\n",
      "    try:\n",
      "        return (float(s))\n",
      "    except ValueError:\n",
      "        return None\n",
      "\n",
      "def is_equal (val1,val2):\n",
      "    if val1 == val2:\n",
      "        return True\n",
      "    if to_date(val1) == to_date(val2):\n",
      "        return True\n",
      "\n",
      "    num1, num2 = to_number(val1), to_number(val2)\n",
      "    if not (num1 is not None and num2 is not None):\n",
      "        return False\n",
      "\n",
      "    if abs( (num1 - num2) / max (num1,num2) ) < 1e-6:\n",
      "        return True\n",
      "\n",
      "    return False\n",
      "\n",
      "\n",
      "# Should also keep track of the number of non-blank cells that were made blank.\n",
      "def SplitWaves (distribution_filename):\n",
      "    wave_files = {}\n",
      "    wave_rows = {}\n",
      "    \n",
      "    SplitWaves.header_cols = []\n",
      "    wave_col_num = None\n",
      "    ncols = None\n",
      "    rownum = 0\n",
      "\n",
      "\n",
      "    col_enums = {}\n",
      "    col_vals = {}\n",
      "    with open(distribution_filename, 'r', encoding='WINDOWS-1252') as csv_infile:\n",
      "        for line in csv_infile:\n",
      "            line = unidecode(line)\n",
      "            rownum += 1\n",
      "            cols = [val.strip() for val in line.split(\"\\t\")]\n",
      "\n",
      "\n",
      "            if ncols is None:\n",
      "                ncols = len(cols)\n",
      "# There are often rows with missing columns...\n",
      "#            elif ncols is not None and len(cols) != ncols:\n",
      "#                print (\"invalid row {}: columns ({}) don't match previous ({})\".format(rownum, len(cols), ncols))\n",
      "\n",
      "            if wave_col_num is None:\n",
      "                wave_col_num = cols.index('Wave')\n",
      "                SplitWaves.header_cols = list (cols)\n",
      "                SplitWaves.out_header_cols = []\n",
      "                for col in cols:\n",
      "                    if col not in COLUMN_FIXES or COLUMN_FIXES[col] is not None:\n",
      "                        SplitWaves.out_header_cols.append (col)\n",
      "                continue\n",
      "\n",
      "\n",
      "            if len(cols) <= wave_col_num:\n",
      "                print ('row {} has no wave column ({} columns)'.format(rownum, len(cols)))\n",
      "                continue\n",
      "\n",
      "            try:\n",
      "                wavenum = int (cols[wave_col_num])\n",
      "            except ValueError:\n",
      "                print ('non-integer wave \"{}\" in row {}'.format(cols[wave_col_num], rownum))\n",
      "                continue\n",
      "\n",
      "            if wavenum not in wave_files and wavenum in Config.valid_waves:\n",
      "                wave_fname = Config.wave_info (wavenum).raw_data_path()\n",
      "                try:\n",
      "                    os.unlink (wave_fname)\n",
      "                except:\n",
      "                    pass\n",
      "                print ('Creating {} for wave {} data.'.format (wave_fname,wavenum))\n",
      "                sys.stdout.flush()\n",
      "                wave_files[wavenum] = open (wave_fname,'w')\n",
      "                wave_files[wavenum].write ('\\t'.join(SplitWaves.out_header_cols)+\"\\n\")\n",
      "                wave_rows[wavenum] = 0\n",
      "            elif wavenum not in Config.valid_waves:\n",
      "                print ('invalid wave \"{}\" in row {}'.format(cols[wave_col_num], rownum))\n",
      "                continue\n",
      "\n",
      "            # Clean up non-numeric columns\n",
      "            colnum = -1\n",
      "            out_colnum = -1\n",
      "            out_cols = ['']*len(SplitWaves.out_header_cols)\n",
      "            for col in cols:\n",
      "                colnum += 1\n",
      "                colname = SplitWaves.header_cols [colnum]\n",
      "                if colname in COLUMN_FIXES and COLUMN_FIXES[colname] is None:\n",
      "                    continue\n",
      "\n",
      "                out_colnum += 1\n",
      "                col_val = validate(col, colname)\n",
      "                if type(col_val) is str:\n",
      "                    if colnum not in col_enums:\n",
      "                        col_enums[colnum] = {}\n",
      "                    if col_val not in col_enums[colnum]:\n",
      "                        col_enums[colnum][col_val] = str(len(col_enums[colnum]))\n",
      "#                        print ('values \"{}\" in column \"{}\" will become {}'.format(col,SplitWaves.header_cols[colnum],col_enums[colnum][col_val]))\n",
      "                    out_cols[out_colnum] = col_enums[colnum][col_val]\n",
      "                elif type(col_val) is float:\n",
      "#                    print (\"number {} => {}\".format(col,col_val))\n",
      "                    out_cols[out_colnum] = col # keep original string representation\n",
      "                    if colnum not in col_vals:\n",
      "                        col_vals[colnum] = {}\n",
      "                    if len(col_vals[colnum]) < 11 and str(col_val) not in col_vals[colnum]:\n",
      "                        col_vals[colnum][col_val] = str(len(col_vals[colnum]))                        \n",
      "                elif col_val is not None:\n",
      "                    out_cols[out_colnum] = str (col_val)\n",
      "\n",
      "            wave_files[wavenum].write ('\\t'.join(out_cols)+\"\\n\")\n",
      "            wave_rows[wavenum] += 1\n",
      "\n",
      "    for fileinfo in wave_files.values():\n",
      "        fileinfo.close()\n",
      "\n",
      "    # keeping it here to access later\n",
      "    SplitWaves.col_enums = col_enums\n",
      "    SplitWaves.col_vals = col_vals\n",
      "    \n",
      "    \n",
      "    return (wave_rows)"
     ],
     "language": "python",
     "metadata": {},
     "outputs": [],
     "prompt_number": 2
    },
    {
     "cell_type": "code",
     "collapsed": false,
     "input": [
      "def check_data_file_identity (data_file1, data_file2):\n",
      "\n",
      "    id_colnum1 = None\n",
      "    id_colnum2 = None\n",
      "    ncols1 = None\n",
      "    ncols2 = None\n",
      "    data1 = {}\n",
      "    data2 = {}\n",
      "    headers1 = []\n",
      "    headers2 = []\n",
      "    headers  = []\n",
      "\n",
      "    print (\"reading file1: '{}'\".format(data_file1))\n",
      "    with open(data_file1, 'r') as file1:\n",
      "        rownum = -1\n",
      "        mismatched_rows = 0\n",
      "        for line in file1:\n",
      "            rownum += 1\n",
      "            cols = [val.strip() for val in line.split(\"\\t\")]\n",
      "            if rownum == 0:\n",
      "                headers1 = list(cols)\n",
      "                ncols1 = len(cols)\n",
      "                id_colnum1 = headers1.index('id_individual')\n",
      "                continue\n",
      "\n",
      "            if len (cols) != ncols1:\n",
      "                raise Exception(\"row={} ncols={} ncol names={} in file1\".format (rownum,len(cols),ncols1))\n",
      "\n",
      "            data1[cols[id_colnum1]] = {k:v for k,v in zip(headers1,cols)}\n",
      "\n",
      "    print (\"reading file2: '{}'\".format(data_file2))\n",
      "    with open(data_file2, 'r') as file2:\n",
      "        rownum = -1\n",
      "        mismatched_rows = 0\n",
      "        for line in file2:\n",
      "            rownum += 1\n",
      "            cols = [val.strip() for val in line.split(\"\\t\")]\n",
      "            if rownum == 0:\n",
      "                headers2 = list(cols)\n",
      "                ncols2 = len(cols)\n",
      "                id_colnum2 = headers2.index('id_individual')\n",
      "                for header in headers2:\n",
      "                    if header not in headers1:\n",
      "                        print (\"'{}' missing from file1\".format (header))\n",
      "                    else:\n",
      "                        headers.append (header)\n",
      "                continue\n",
      "\n",
      "            if len (cols) != ncols2:\n",
      "                raise Exception(\"row={} ncols={} ncol names={} in file2\".format (rownum,len(cols),ncols2))\n",
      "\n",
      "            data2[cols[id_colnum2]] = {k:v for k,v in zip(headers2,cols)}\n",
      "\n",
      "    if len(data1) != len(data2):\n",
      "        raise Exception (\"rows mismatch: {} != {}\".format(len(data1), len(data2)))\n",
      "\n",
      "    for header in headers1:\n",
      "        if header not in headers2:\n",
      "            print (\"'{}' missing from file2\".format (header))\n",
      "       \n",
      "    for part_id in data1.keys():\n",
      "        if part_id not in data2:\n",
      "            raise Exception (\"participant ID {} not in file2\".format(part_id))\n",
      "\n",
      "        for header in headers:            \n",
      "            val1,val2 = data1[part_id][header],data2[part_id][header]\n",
      "\n",
      "            if not is_equal (val1,val2):\n",
      "                raise Exception (\"file1 '{}' != file2 '{}' for id_individual = {}, col {}\".format (\n",
      "                    val1,val2,part_id,header)\n",
      "                    )\n"
     ],
     "language": "python",
     "metadata": {},
     "outputs": [],
     "prompt_number": 14
    },
    {
     "cell_type": "code",
     "collapsed": false,
     "input": [
      "# Make sure any configuration changes are propagated through by starting over\n",
      "%run 'Functions.ipynb'\n",
      "# The distribution files are not in UTF8.  They should be re-encoded (assuming they were encoded with WINDOWS-1252):\n",
      "# iconv -f WINDOWS-1252 -t UTF-8 2014-08-26-Sardinia-TAB.txt > 2014-08-26-Sardinia-TAB-UTF8.txt\n",
      "Config.data_dist_base = '2014-08-26-Sardinia'\n",
      "distribution_filename = os.path.join (Config.data_dir(),Config.data_dist_base+'-TAB.txt')\n",
      "\n",
      "wave_rows = SplitWaves(distribution_filename)\n",
      "for wave in sorted(wave_rows):\n",
      "    print ('Wave {:2d}: {:5d} rows'.format(wave,wave_rows[wave]))\n"
     ],
     "language": "python",
     "metadata": {},
     "outputs": [
      {
       "output_type": "stream",
       "stream": "stdout",
       "text": [
        "Creating data/2014-08-26-Sardinia/2014-08-26-Sardinia-Wave1.tsv for wave 1 data.\n"
       ]
      },
      {
       "output_type": "stream",
       "stream": "stdout",
       "text": [
        "Creating data/2014-08-26-Sardinia/2014-08-26-Sardinia-Wave2.tsv for wave 2 data.\n"
       ]
      },
      {
       "output_type": "stream",
       "stream": "stdout",
       "text": [
        "Creating data/2014-08-26-Sardinia/2014-08-26-Sardinia-Wave3.tsv for wave 3 data.\n"
       ]
      },
      {
       "output_type": "stream",
       "stream": "stdout",
       "text": [
        "Creating data/2014-08-26-Sardinia/2014-08-26-Sardinia-Wave4.tsv for wave 4 data.\n"
       ]
      },
      {
       "output_type": "stream",
       "stream": "stdout",
       "text": [
        "Wave  1:  6165 rows\n",
        "Wave  2:  5256 rows\n",
        "Wave  3:  4842 rows\n",
        "Wave  4:  2497 rows\n"
       ]
      }
     ],
     "prompt_number": 4
    },
    {
     "cell_type": "code",
     "collapsed": false,
     "input": [
      "# Print out column names and the non-numeric values unaccounted for in the COLUMN_FIXES dict\n",
      "colnum = -1\n",
      "for colname in SplitWaves.header_cols:\n",
      "    colnum += 1\n",
      "    if colnum not in SplitWaves.col_enums:\n",
      "        continue\n",
      "    col_enum_by_val = {int(v):k for k, v in SplitWaves.col_enums[colnum].items()}\n",
      "    colvals = sorted( col_enum_by_val.keys() )\n",
      "    if colnum in SplitWaves.col_vals:\n",
      "        nvals = SplitWaves.col_vals[colnum]\n",
      "    else:\n",
      "        nvals = []\n",
      "    print ('\"{}\":'.format(SplitWaves.header_cols[colnum]),[col_enum_by_val[k] for k in colvals],nvals)"
     ],
     "language": "python",
     "metadata": {},
     "outputs": [],
     "prompt_number": 5
    },
    {
     "cell_type": "markdown",
     "metadata": {},
     "source": [
      "##Counts in 2014-08-26-Sardinia-TAB.txt\n",
      "    Wave  1:  6165 rows\n",
      "    Wave  2:  5256 rows\n",
      "    Wave  3:  4842 rows\n",
      "    Wave  4:  2497 rows"
     ]
    },
    {
     "cell_type": "code",
     "collapsed": false,
     "input": [
      "# Make sure any configuration changes are propagated through by starting over\n",
      "%run 'Functions.ipynb'\n",
      "\n",
      "Config.data_dist_base = '2013-12-18-Sardinia-CleanUp-Data'\n",
      "#Config.data_dist_base = '2014-08-26-Sardinia'\n",
      "\n",
      "distribution_filename = os.path.join (Config.data_dir(),Config.data_dist_base+'-TAB.txt')\n",
      "print ('Splitting data for distribution \"{}\" in file \"{}\"'.format (Config.data_dist_base, distribution_filename))\n",
      "\n",
      "wave_rows = SplitWaves(distribution_filename)\n",
      "for wave in sorted(wave_rows):\n",
      "    print ('Wave {:2d}: {:5d} rows'.format(wave,wave_rows[wave]))\n"
     ],
     "language": "python",
     "metadata": {},
     "outputs": [
      {
       "output_type": "stream",
       "stream": "stdout",
       "text": [
        "Splitting data for distribution \"2013-12-18-Sardinia-CleanUp-Data\" in file \"data/2013-12-18-Sardinia-CleanUp-Data/2013-12-18-Sardinia-CleanUp-Data-TAB.txt\"\n",
        "Creating data/2013-12-18-Sardinia-CleanUp-Data/2013-12-18-Sardinia-CleanUp-Data-Wave1.tsv for wave 1 data."
       ]
      },
      {
       "output_type": "stream",
       "stream": "stdout",
       "text": [
        "\n"
       ]
      },
      {
       "output_type": "stream",
       "stream": "stdout",
       "text": [
        "Creating data/2013-12-18-Sardinia-CleanUp-Data/2013-12-18-Sardinia-CleanUp-Data-Wave2.tsv for wave 2 data.\n"
       ]
      },
      {
       "output_type": "stream",
       "stream": "stdout",
       "text": [
        "Creating data/2013-12-18-Sardinia-CleanUp-Data/2013-12-18-Sardinia-CleanUp-Data-Wave3.tsv for wave 3 data.\n"
       ]
      },
      {
       "output_type": "stream",
       "stream": "stdout",
       "text": [
        "Creating data/2013-12-18-Sardinia-CleanUp-Data/2013-12-18-Sardinia-CleanUp-Data-Wave4.tsv for wave 4 data.\n"
       ]
      },
      {
       "output_type": "stream",
       "stream": "stdout",
       "text": [
        "invalid wave \"0\" in row 36\n",
        "invalid wave \"0\" in row 43\n",
        "invalid wave \"0\" in row 48\n",
        "invalid wave \"0\" in row 56\n",
        "invalid wave \"0\" in row 61\n",
        "invalid wave \"0\" in row 70"
       ]
      },
      {
       "output_type": "stream",
       "stream": "stdout",
       "text": [
        "\n",
        "invalid wave \"0\" in row 76\n",
        "invalid wave \"0\" in row 80\n",
        "invalid wave \"0\" in row 88\n",
        "invalid wave \"0\" in row 108"
       ]
      },
      {
       "output_type": "stream",
       "stream": "stdout",
       "text": [
        "\n",
        "invalid wave \"0\" in row 116\n",
        "invalid wave \"0\" in row 121\n",
        "invalid wave \"0\" in row 128\n",
        "non-integer wave \"\" in row 137"
       ]
      },
      {
       "output_type": "stream",
       "stream": "stdout",
       "text": [
        "\n",
        "invalid wave \"0\" in row 144\n",
        "invalid wave \"0\" in row 148\n",
        "invalid wave \"0\" in row 160\n",
        "invalid wave \"0\" in row 169"
       ]
      },
      {
       "output_type": "stream",
       "stream": "stdout",
       "text": [
        "\n",
        "invalid wave \"0\" in row 185\n",
        "invalid wave \"0\" in row 195\n",
        "invalid wave \"0\" in row 204"
       ]
      },
      {
       "output_type": "stream",
       "stream": "stdout",
       "text": [
        "\n",
        "invalid wave \"0\" in row 209\n",
        "invalid wave \"0\" in row 216\n",
        "invalid wave \"0\" in row 220\n",
        "invalid wave \"0\" in row 228\n",
        "invalid wave \"0\" in row 237"
       ]
      },
      {
       "output_type": "stream",
       "stream": "stdout",
       "text": [
        "\n",
        "invalid wave \"0\" in row 242\n",
        "invalid wave \"0\" in row 247\n",
        "non-integer wave \"\" in row 259\n",
        "invalid wave \"0\" in row 263\n",
        "invalid wave \"0\" in row 274"
       ]
      },
      {
       "output_type": "stream",
       "stream": "stdout",
       "text": [
        "\n",
        "invalid wave \"0\" in row 279\n",
        "invalid wave \"0\" in row 287\n",
        "invalid wave \"0\" in row 292\n",
        "invalid wave \"0\" in row 301\n",
        "invalid wave \"0\" in row 306"
       ]
      },
      {
       "output_type": "stream",
       "stream": "stdout",
       "text": [
        "\n",
        "invalid wave \"0\" in row 311\n",
        "invalid wave \"0\" in row 316\n",
        "invalid wave \"0\" in row 321\n",
        "invalid wave \"0\" in row 330\n",
        "invalid wave \"0\" in row 335"
       ]
      },
      {
       "output_type": "stream",
       "stream": "stdout",
       "text": [
        "\n",
        "invalid wave \"0\" in row 349\n",
        "invalid wave \"0\" in row 354\n",
        "invalid wave \"0\" in row 359\n",
        "invalid wave \"0\" in row 364"
       ]
      },
      {
       "output_type": "stream",
       "stream": "stdout",
       "text": [
        "\n",
        "invalid wave \"0\" in row 368\n",
        "invalid wave \"0\" in row 373\n",
        "invalid wave \"0\" in row 381\n",
        "invalid wave \"0\" in row 386\n",
        "invalid wave \"0\" in row 394"
       ]
      },
      {
       "output_type": "stream",
       "stream": "stdout",
       "text": [
        "\n",
        "invalid wave \"0\" in row 399\n",
        "invalid wave \"0\" in row 404\n",
        "invalid wave \"0\" in row 414\n",
        "invalid wave \"0\" in row 425"
       ]
      },
      {
       "output_type": "stream",
       "stream": "stdout",
       "text": [
        "\n",
        "invalid wave \"0\" in row 430\n",
        "invalid wave \"0\" in row 435\n",
        "invalid wave \"0\" in row 440\n",
        "invalid wave \"0\" in row 445\n",
        "invalid wave \"0\" in row 450\n",
        "invalid wave \"0\" in row 455"
       ]
      },
      {
       "output_type": "stream",
       "stream": "stdout",
       "text": [
        "\n",
        "invalid wave \"0\" in row 460\n",
        "invalid wave \"0\" in row 467\n",
        "invalid wave \"0\" in row 491"
       ]
      },
      {
       "output_type": "stream",
       "stream": "stdout",
       "text": [
        "\n",
        "invalid wave \"0\" in row 496\n",
        "invalid wave \"0\" in row 501\n",
        "invalid wave \"0\" in row 509\n",
        "invalid wave \"0\" in row 514\n",
        "invalid wave \"0\" in row 519\n",
        "invalid wave \"0\" in row 523"
       ]
      },
      {
       "output_type": "stream",
       "stream": "stdout",
       "text": [
        "\n",
        "invalid wave \"0\" in row 542\n",
        "invalid wave \"0\" in row 547\n",
        "invalid wave \"0\" in row 553"
       ]
      },
      {
       "output_type": "stream",
       "stream": "stdout",
       "text": [
        "\n",
        "invalid wave \"0\" in row 557\n",
        "invalid wave \"0\" in row 568\n",
        "invalid wave \"0\" in row 572\n",
        "invalid wave \"0\" in row 578\n",
        "invalid wave \"0\" in row 588"
       ]
      },
      {
       "output_type": "stream",
       "stream": "stdout",
       "text": [
        "\n",
        "invalid wave \"0\" in row 592\n",
        "invalid wave \"0\" in row 594\n",
        "invalid wave \"0\" in row 600\n",
        "invalid wave \"0\" in row 604\n",
        "invalid wave \"0\" in row 614\n",
        "invalid wave \"0\" in row 619"
       ]
      },
      {
       "output_type": "stream",
       "stream": "stdout",
       "text": [
        "\n",
        "invalid wave \"0\" in row 627\n",
        "invalid wave \"0\" in row 637\n",
        "invalid wave \"0\" in row 649"
       ]
      },
      {
       "output_type": "stream",
       "stream": "stdout",
       "text": [
        "\n",
        "invalid wave \"0\" in row 663\n",
        "invalid wave \"0\" in row 667\n",
        "invalid wave \"0\" in row 671\n",
        "invalid wave \"0\" in row 676\n",
        "invalid wave \"0\" in row 684"
       ]
      },
      {
       "output_type": "stream",
       "stream": "stdout",
       "text": [
        "\n",
        "invalid wave \"0\" in row 695\n",
        "invalid wave \"0\" in row 705\n",
        "invalid wave \"0\" in row 728"
       ]
      },
      {
       "output_type": "stream",
       "stream": "stdout",
       "text": [
        "\n",
        "invalid wave \"0\" in row 733\n",
        "invalid wave \"0\" in row 752\n",
        "invalid wave \"0\" in row 757"
       ]
      },
      {
       "output_type": "stream",
       "stream": "stdout",
       "text": [
        "\n",
        "invalid wave \"0\" in row 761\n",
        "invalid wave \"0\" in row 774\n",
        "invalid wave \"0\" in row 779\n",
        "invalid wave \"0\" in row 784\n",
        "invalid wave \"0\" in row 805"
       ]
      },
      {
       "output_type": "stream",
       "stream": "stdout",
       "text": [
        "\n",
        "invalid wave \"0\" in row 809\n",
        "invalid wave \"0\" in row 814\n",
        "invalid wave \"0\" in row 822\n",
        "invalid wave \"0\" in row 827\n",
        "invalid wave \"0\" in row 832\n",
        "invalid wave \"0\" in row 837"
       ]
      },
      {
       "output_type": "stream",
       "stream": "stdout",
       "text": [
        "\n",
        "invalid wave \"0\" in row 842\n",
        "invalid wave \"0\" in row 853\n",
        "invalid wave \"0\" in row 868"
       ]
      },
      {
       "output_type": "stream",
       "stream": "stdout",
       "text": [
        "\n",
        "invalid wave \"0\" in row 873\n",
        "invalid wave \"0\" in row 883\n",
        "non-integer wave \"\" in row 888\n",
        "invalid wave \"0\" in row 903"
       ]
      },
      {
       "output_type": "stream",
       "stream": "stdout",
       "text": [
        "\n",
        "invalid wave \"0\" in row 911\n",
        "invalid wave \"0\" in row 928\n",
        "invalid wave \"0\" in row 933"
       ]
      },
      {
       "output_type": "stream",
       "stream": "stdout",
       "text": [
        "\n",
        "invalid wave \"0\" in row 938\n",
        "invalid wave \"0\" in row 943\n",
        "invalid wave \"0\" in row 950\n",
        "invalid wave \"0\" in row 955\n",
        "invalid wave \"0\" in row 961\n",
        "invalid wave \"0\" in row 973"
       ]
      },
      {
       "output_type": "stream",
       "stream": "stdout",
       "text": [
        "\n",
        "invalid wave \"0\" in row 979\n",
        "invalid wave \"0\" in row 987\n",
        "invalid wave \"0\" in row 1003"
       ]
      },
      {
       "output_type": "stream",
       "stream": "stdout",
       "text": [
        "\n",
        "invalid wave \"0\" in row 1011\n",
        "invalid wave \"0\" in row 1016\n",
        "invalid wave \"0\" in row 1020\n",
        "invalid wave \"0\" in row 1032\n",
        "invalid wave \"0\" in row 1036"
       ]
      },
      {
       "output_type": "stream",
       "stream": "stdout",
       "text": [
        "\n",
        "invalid wave \"0\" in row 1040\n",
        "invalid wave \"0\" in row 1058\n",
        "invalid wave \"0\" in row 1065"
       ]
      },
      {
       "output_type": "stream",
       "stream": "stdout",
       "text": [
        "\n",
        "invalid wave \"0\" in row 1070\n",
        "invalid wave \"0\" in row 1075\n",
        "invalid wave \"0\" in row 1086\n",
        "invalid wave \"0\" in row 1091\n",
        "invalid wave \"0\" in row 1102"
       ]
      },
      {
       "output_type": "stream",
       "stream": "stdout",
       "text": [
        "\n",
        "invalid wave \"0\" in row 1107\n",
        "invalid wave \"0\" in row 1111\n",
        "invalid wave \"0\" in row 1116\n",
        "invalid wave \"0\" in row 1121\n",
        "invalid wave \"0\" in row 1133"
       ]
      },
      {
       "output_type": "stream",
       "stream": "stdout",
       "text": [
        "\n",
        "invalid wave \"0\" in row 1138\n",
        "invalid wave \"0\" in row 1143\n",
        "invalid wave \"0\" in row 1158\n",
        "invalid wave \"0\" in row 1163"
       ]
      },
      {
       "output_type": "stream",
       "stream": "stdout",
       "text": [
        "\n",
        "invalid wave \"0\" in row 1169\n",
        "invalid wave \"0\" in row 1174\n",
        "invalid wave \"0\" in row 1179\n",
        "invalid wave \"0\" in row 1191\n",
        "invalid wave \"0\" in row 1201"
       ]
      },
      {
       "output_type": "stream",
       "stream": "stdout",
       "text": [
        "\n",
        "invalid wave \"0\" in row 1205\n",
        "invalid wave \"0\" in row 1228"
       ]
      },
      {
       "output_type": "stream",
       "stream": "stdout",
       "text": [
        "\n",
        "invalid wave \"0\" in row 1238\n",
        "invalid wave \"0\" in row 1244\n",
        "invalid wave \"0\" in row 1254\n",
        "invalid wave \"0\" in row 1259"
       ]
      },
      {
       "output_type": "stream",
       "stream": "stdout",
       "text": [
        "\n",
        "invalid wave \"0\" in row 1264\n",
        "invalid wave \"0\" in row 1280\n",
        "invalid wave \"0\" in row 1290"
       ]
      },
      {
       "output_type": "stream",
       "stream": "stdout",
       "text": [
        "\n",
        "invalid wave \"0\" in row 1295\n",
        "invalid wave \"0\" in row 1300\n",
        "invalid wave \"0\" in row 1309\n",
        "invalid wave \"0\" in row 1314\n",
        "invalid wave \"0\" in row 1320"
       ]
      },
      {
       "output_type": "stream",
       "stream": "stdout",
       "text": [
        "\n",
        "invalid wave \"0\" in row 1325\n",
        "invalid wave \"0\" in row 1339\n",
        "invalid wave \"0\" in row 1350"
       ]
      },
      {
       "output_type": "stream",
       "stream": "stdout",
       "text": [
        "\n",
        "invalid wave \"0\" in row 1355\n",
        "invalid wave \"0\" in row 1360\n",
        "invalid wave \"0\" in row 1369\n",
        "invalid wave \"0\" in row 1374\n",
        "invalid wave \"0\" in row 1379"
       ]
      },
      {
       "output_type": "stream",
       "stream": "stdout",
       "text": [
        "\n",
        "invalid wave \"0\" in row 1384\n",
        "non-integer wave \"\" in row 1389\n",
        "invalid wave \"0\" in row 1393\n",
        "invalid wave \"0\" in row 1401\n",
        "invalid wave \"0\" in row 1406\n",
        "invalid wave \"0\" in row 1416"
       ]
      },
      {
       "output_type": "stream",
       "stream": "stdout",
       "text": [
        "\n",
        "invalid wave \"0\" in row 1420\n",
        "invalid wave \"0\" in row 1438\n",
        "invalid wave \"0\" in row 1445"
       ]
      },
      {
       "output_type": "stream",
       "stream": "stdout",
       "text": [
        "\n",
        "invalid wave \"0\" in row 1459\n",
        "non-integer wave \"\" in row 1468\n",
        "invalid wave \"0\" in row 1480"
       ]
      },
      {
       "output_type": "stream",
       "stream": "stdout",
       "text": [
        "\n",
        "invalid wave \"0\" in row 1484\n",
        "invalid wave \"0\" in row 1488\n",
        "invalid wave \"0\" in row 1496\n",
        "invalid wave \"0\" in row 1503\n",
        "non-integer wave \"\" in row 1508\n",
        "invalid wave \"0\" in row 1522"
       ]
      },
      {
       "output_type": "stream",
       "stream": "stdout",
       "text": [
        "\n",
        "invalid wave \"0\" in row 1530\n",
        "invalid wave \"0\" in row 1535\n",
        "invalid wave \"0\" in row 1540\n",
        "invalid wave \"0\" in row 1545\n",
        "invalid wave \"0\" in row 1553"
       ]
      },
      {
       "output_type": "stream",
       "stream": "stdout",
       "text": [
        "\n",
        "invalid wave \"0\" in row 1558\n",
        "invalid wave \"0\" in row 1571\n",
        "invalid wave \"0\" in row 1576\n",
        "invalid wave \"0\" in row 1581"
       ]
      },
      {
       "output_type": "stream",
       "stream": "stdout",
       "text": [
        "\n",
        "invalid wave \"0\" in row 1591\n",
        "invalid wave \"0\" in row 1596\n",
        "invalid wave \"0\" in row 1607\n",
        "invalid wave \"0\" in row 1615"
       ]
      },
      {
       "output_type": "stream",
       "stream": "stdout",
       "text": [
        "\n",
        "invalid wave \"0\" in row 1619\n",
        "invalid wave \"0\" in row 1629\n",
        "invalid wave \"0\" in row 1633\n",
        "invalid wave \"0\" in row 1637\n",
        "invalid wave \"0\" in row 1644"
       ]
      },
      {
       "output_type": "stream",
       "stream": "stdout",
       "text": [
        "\n",
        "non-integer wave \"\" in row 1650\n",
        "invalid wave \"0\" in row 1655\n",
        "invalid wave \"0\" in row 1659\n",
        "invalid wave \"0\" in row 1663\n",
        "invalid wave \"0\" in row 1668\n",
        "invalid wave \"0\" in row 1673\n",
        "invalid wave \"0\" in row 1681"
       ]
      },
      {
       "output_type": "stream",
       "stream": "stdout",
       "text": [
        "\n",
        "invalid wave \"0\" in row 1693\n",
        "invalid wave \"0\" in row 1710"
       ]
      },
      {
       "output_type": "stream",
       "stream": "stdout",
       "text": [
        "\n",
        "invalid wave \"0\" in row 1715\n",
        "invalid wave \"0\" in row 1722\n",
        "invalid wave \"0\" in row 1727\n",
        "invalid wave \"0\" in row 1735\n",
        "non-integer wave \"\" in row 1744"
       ]
      },
      {
       "output_type": "stream",
       "stream": "stdout",
       "text": [
        "\n",
        "invalid wave \"0\" in row 1749\n",
        "invalid wave \"0\" in row 1760\n",
        "invalid wave \"0\" in row 1770\n",
        "invalid wave \"0\" in row 1775"
       ]
      },
      {
       "output_type": "stream",
       "stream": "stdout",
       "text": [
        "\n",
        "invalid wave \"0\" in row 1779\n",
        "invalid wave \"0\" in row 1783\n",
        "invalid wave \"0\" in row 1788\n",
        "invalid wave \"0\" in row 1793\n",
        "invalid wave \"0\" in row 1800\n",
        "invalid wave \"0\" in row 1805\n",
        "invalid wave \"0\" in row 1812"
       ]
      },
      {
       "output_type": "stream",
       "stream": "stdout",
       "text": [
        "\n",
        "invalid wave \"0\" in row 1817\n",
        "invalid wave \"0\" in row 1826\n",
        "invalid wave \"0\" in row 1831\n",
        "invalid wave \"0\" in row 1836\n",
        "invalid wave \"0\" in row 1841"
       ]
      },
      {
       "output_type": "stream",
       "stream": "stdout",
       "text": [
        "\n",
        "invalid wave \"0\" in row 1849\n",
        "invalid wave \"0\" in row 1855\n",
        "invalid wave \"0\" in row 1864\n",
        "invalid wave \"0\" in row 1868\n",
        "invalid wave \"0\" in row 1876"
       ]
      },
      {
       "output_type": "stream",
       "stream": "stdout",
       "text": [
        "\n",
        "invalid wave \"0\" in row 1883\n",
        "invalid wave \"0\" in row 1891\n",
        "invalid wave \"0\" in row 1913"
       ]
      },
      {
       "output_type": "stream",
       "stream": "stdout",
       "text": [
        "\n",
        "invalid wave \"0\" in row 1918\n",
        "invalid wave \"0\" in row 1923\n",
        "invalid wave \"0\" in row 1931\n",
        "invalid wave \"0\" in row 1938\n",
        "invalid wave \"0\" in row 1943"
       ]
      },
      {
       "output_type": "stream",
       "stream": "stdout",
       "text": [
        "\n",
        "invalid wave \"0\" in row 1948\n",
        "invalid wave \"0\" in row 1974"
       ]
      },
      {
       "output_type": "stream",
       "stream": "stdout",
       "text": [
        "\n",
        "invalid wave \"0\" in row 1982\n",
        "invalid wave \"0\" in row 1986\n",
        "invalid wave \"0\" in row 1992\n",
        "invalid wave \"0\" in row 1996\n",
        "invalid wave \"0\" in row 2000\n",
        "invalid wave \"0\" in row 2004\n",
        "invalid wave \"0\" in row 2009"
       ]
      },
      {
       "output_type": "stream",
       "stream": "stdout",
       "text": [
        "\n",
        "invalid wave \"0\" in row 2014\n",
        "invalid wave \"0\" in row 2022\n",
        "invalid wave \"0\" in row 2027\n",
        "invalid wave \"0\" in row 2032\n",
        "invalid wave \"0\" in row 2041"
       ]
      },
      {
       "output_type": "stream",
       "stream": "stdout",
       "text": [
        "\n",
        "invalid wave \"0\" in row 2048\n",
        "invalid wave \"0\" in row 2052\n",
        "invalid wave \"0\" in row 2057\n",
        "invalid wave \"0\" in row 2066\n",
        "invalid wave \"0\" in row 2071"
       ]
      },
      {
       "output_type": "stream",
       "stream": "stdout",
       "text": [
        "\n",
        "invalid wave \"0\" in row 2085\n",
        "invalid wave \"0\" in row 2090\n",
        "invalid wave \"0\" in row 2095\n",
        "invalid wave \"0\" in row 2103"
       ]
      },
      {
       "output_type": "stream",
       "stream": "stdout",
       "text": [
        "\n",
        "invalid wave \"0\" in row 2108\n",
        "invalid wave \"0\" in row 2119\n",
        "invalid wave \"0\" in row 2131"
       ]
      },
      {
       "output_type": "stream",
       "stream": "stdout",
       "text": [
        "\n",
        "invalid wave \"0\" in row 2136\n",
        "invalid wave \"0\" in row 2142\n",
        "invalid wave \"0\" in row 2148\n",
        "invalid wave \"0\" in row 2152\n",
        "invalid wave \"0\" in row 2167"
       ]
      },
      {
       "output_type": "stream",
       "stream": "stdout",
       "text": [
        "\n",
        "invalid wave \"0\" in row 2172\n",
        "invalid wave \"0\" in row 2189\n",
        "invalid wave \"0\" in row 2197"
       ]
      },
      {
       "output_type": "stream",
       "stream": "stdout",
       "text": [
        "\n",
        "invalid wave \"0\" in row 2202\n",
        "invalid wave \"0\" in row 2207\n",
        "invalid wave \"0\" in row 2213\n",
        "invalid wave \"0\" in row 2221\n",
        "invalid wave \"0\" in row 2226"
       ]
      },
      {
       "output_type": "stream",
       "stream": "stdout",
       "text": [
        "\n",
        "invalid wave \"0\" in row 2231\n",
        "invalid wave \"0\" in row 2241\n",
        "invalid wave \"0\" in row 2246\n",
        "invalid wave \"0\" in row 2294"
       ]
      },
      {
       "output_type": "stream",
       "stream": "stdout",
       "text": [
        "\n",
        "non-integer wave \"\" in row 2300\n",
        "invalid wave \"0\" in row 2315\n",
        "invalid wave \"0\" in row 2320\n",
        "invalid wave \"0\" in row 2325"
       ]
      },
      {
       "output_type": "stream",
       "stream": "stdout",
       "text": [
        "\n",
        "invalid wave \"0\" in row 2340\n",
        "invalid wave \"0\" in row 2345\n",
        "invalid wave \"0\" in row 2350\n",
        "invalid wave \"0\" in row 2355"
       ]
      },
      {
       "output_type": "stream",
       "stream": "stdout",
       "text": [
        "\n",
        "invalid wave \"0\" in row 2360\n",
        "invalid wave \"0\" in row 2365\n",
        "invalid wave \"0\" in row 2372\n",
        "invalid wave \"0\" in row 2377\n",
        "invalid wave \"0\" in row 2382\n",
        "invalid wave \"0\" in row 2386"
       ]
      },
      {
       "output_type": "stream",
       "stream": "stdout",
       "text": [
        "\n",
        "invalid wave \"0\" in row 2390\n",
        "invalid wave \"0\" in row 2399\n",
        "invalid wave \"0\" in row 2406\n",
        "invalid wave \"0\" in row 2419"
       ]
      },
      {
       "output_type": "stream",
       "stream": "stdout",
       "text": [
        "\n",
        "invalid wave \"0\" in row 2424\n",
        "invalid wave \"0\" in row 2429\n",
        "invalid wave \"0\" in row 2434\n",
        "invalid wave \"0\" in row 2446\n",
        "invalid wave \"0\" in row 2451"
       ]
      },
      {
       "output_type": "stream",
       "stream": "stdout",
       "text": [
        "\n",
        "invalid wave \"0\" in row 2463\n",
        "invalid wave \"0\" in row 2468\n",
        "invalid wave \"0\" in row 2472\n",
        "invalid wave \"0\" in row 2477\n",
        "invalid wave \"0\" in row 2488"
       ]
      },
      {
       "output_type": "stream",
       "stream": "stdout",
       "text": [
        "\n",
        "invalid wave \"0\" in row 2520"
       ]
      },
      {
       "output_type": "stream",
       "stream": "stdout",
       "text": [
        "\n",
        "invalid wave \"0\" in row 2556"
       ]
      },
      {
       "output_type": "stream",
       "stream": "stdout",
       "text": [
        "\n",
        "invalid wave \"0\" in row 2566\n",
        "invalid wave \"0\" in row 2576\n",
        "invalid wave \"0\" in row 2585"
       ]
      },
      {
       "output_type": "stream",
       "stream": "stdout",
       "text": [
        "\n",
        "invalid wave \"0\" in row 2590\n",
        "invalid wave \"0\" in row 2597\n",
        "invalid wave \"0\" in row 2604\n",
        "invalid wave \"0\" in row 2613\n",
        "invalid wave \"0\" in row 2618"
       ]
      },
      {
       "output_type": "stream",
       "stream": "stdout",
       "text": [
        "\n",
        "invalid wave \"0\" in row 2636\n",
        "invalid wave \"0\" in row 2641\n",
        "invalid wave \"0\" in row 2658"
       ]
      },
      {
       "output_type": "stream",
       "stream": "stdout",
       "text": [
        "\n",
        "invalid wave \"0\" in row 2662\n",
        "invalid wave \"0\" in row 2667\n",
        "invalid wave \"0\" in row 2675\n",
        "non-integer wave \"\" in row 2680\n",
        "invalid wave \"0\" in row 2694"
       ]
      },
      {
       "output_type": "stream",
       "stream": "stdout",
       "text": [
        "\n",
        "invalid wave \"0\" in row 2713\n",
        "invalid wave \"0\" in row 2731"
       ]
      },
      {
       "output_type": "stream",
       "stream": "stdout",
       "text": [
        "\n",
        "invalid wave \"0\" in row 2742\n",
        "invalid wave \"0\" in row 2762"
       ]
      },
      {
       "output_type": "stream",
       "stream": "stdout",
       "text": [
        "\n",
        "invalid wave \"0\" in row 2767\n",
        "invalid wave \"0\" in row 2772\n",
        "invalid wave \"0\" in row 2782\n",
        "invalid wave \"0\" in row 2785\n",
        "invalid wave \"0\" in row 2792"
       ]
      },
      {
       "output_type": "stream",
       "stream": "stdout",
       "text": [
        "\n",
        "non-integer wave \"\" in row 2804\n",
        "invalid wave \"0\" in row 2808\n",
        "invalid wave \"0\" in row 2813\n",
        "invalid wave \"0\" in row 2825"
       ]
      },
      {
       "output_type": "stream",
       "stream": "stdout",
       "text": [
        "\n",
        "invalid wave \"0\" in row 2830\n",
        "invalid wave \"0\" in row 2838\n",
        "invalid wave \"0\" in row 2843\n",
        "invalid wave \"0\" in row 2848\n",
        "invalid wave \"0\" in row 2854\n",
        "invalid wave \"0\" in row 2871"
       ]
      },
      {
       "output_type": "stream",
       "stream": "stdout",
       "text": [
        "\n",
        "invalid wave \"0\" in row 2879\n",
        "invalid wave \"0\" in row 2884\n",
        "invalid wave \"0\" in row 2888\n",
        "invalid wave \"0\" in row 2893\n",
        "invalid wave \"0\" in row 2899\n",
        "invalid wave \"0\" in row 2903"
       ]
      },
      {
       "output_type": "stream",
       "stream": "stdout",
       "text": [
        "\n",
        "invalid wave \"0\" in row 2929"
       ]
      },
      {
       "output_type": "stream",
       "stream": "stdout",
       "text": [
        "\n",
        "invalid wave \"0\" in row 2960"
       ]
      },
      {
       "output_type": "stream",
       "stream": "stdout",
       "text": [
        "\n",
        "invalid wave \"0\" in row 2968\n",
        "invalid wave \"0\" in row 2973\n",
        "invalid wave \"0\" in row 2993"
       ]
      },
      {
       "output_type": "stream",
       "stream": "stdout",
       "text": [
        "\n",
        "invalid wave \"0\" in row 2998\n",
        "invalid wave \"0\" in row 3015\n",
        "invalid wave \"0\" in row 3020\n",
        "invalid wave \"0\" in row 3033"
       ]
      },
      {
       "output_type": "stream",
       "stream": "stdout",
       "text": [
        "\n",
        "invalid wave \"0\" in row 3037\n",
        "invalid wave \"0\" in row 3042\n",
        "non-integer wave \"\" in row 3047\n",
        "invalid wave \"0\" in row 3054\n",
        "invalid wave \"0\" in row 3062\n",
        "invalid wave \"0\" in row 3066"
       ]
      },
      {
       "output_type": "stream",
       "stream": "stdout",
       "text": [
        "\n",
        "invalid wave \"0\" in row 3071\n",
        "invalid wave \"0\" in row 3075\n",
        "invalid wave \"0\" in row 3079\n",
        "invalid wave \"0\" in row 3090\n",
        "invalid wave \"0\" in row 3095\n",
        "invalid wave \"0\" in row 3120"
       ]
      },
      {
       "output_type": "stream",
       "stream": "stdout",
       "text": [
        "\n",
        "invalid wave \"0\" in row 3128\n",
        "invalid wave \"0\" in row 3133\n",
        "invalid wave \"0\" in row 3141\n",
        "invalid wave \"0\" in row 3148\n",
        "invalid wave \"0\" in row 3161"
       ]
      },
      {
       "output_type": "stream",
       "stream": "stdout",
       "text": [
        "\n",
        "invalid wave \"0\" in row 3170\n",
        "invalid wave \"0\" in row 3175\n",
        "invalid wave \"0\" in row 3190"
       ]
      },
      {
       "output_type": "stream",
       "stream": "stdout",
       "text": [
        "\n",
        "invalid wave \"0\" in row 3195\n",
        "invalid wave \"0\" in row 3205\n",
        "invalid wave \"0\" in row 3209\n",
        "invalid wave \"0\" in row 3219"
       ]
      },
      {
       "output_type": "stream",
       "stream": "stdout",
       "text": [
        "\n",
        "invalid wave \"0\" in row 3230\n",
        "invalid wave \"0\" in row 3235\n",
        "invalid wave \"0\" in row 3240\n",
        "invalid wave \"0\" in row 3245\n",
        "invalid wave \"0\" in row 3252"
       ]
      },
      {
       "output_type": "stream",
       "stream": "stdout",
       "text": [
        "\n",
        "invalid wave \"0\" in row 3264\n",
        "invalid wave \"0\" in row 3269\n",
        "invalid wave \"0\" in row 3274\n",
        "invalid wave \"0\" in row 3282"
       ]
      },
      {
       "output_type": "stream",
       "stream": "stdout",
       "text": [
        "\n",
        "invalid wave \"0\" in row 3289\n",
        "invalid wave \"0\" in row 3294\n",
        "invalid wave \"0\" in row 3301\n",
        "invalid wave \"0\" in row 3306\n",
        "invalid wave \"0\" in row 3311"
       ]
      },
      {
       "output_type": "stream",
       "stream": "stdout",
       "text": [
        "\n",
        "invalid wave \"0\" in row 3331\n",
        "invalid wave \"0\" in row 3335\n",
        "invalid wave \"0\" in row 3339"
       ]
      },
      {
       "output_type": "stream",
       "stream": "stdout",
       "text": [
        "\n",
        "invalid wave \"0\" in row 3346\n",
        "invalid wave \"0\" in row 3351\n",
        "invalid wave \"0\" in row 3356\n",
        "non-integer wave \"\" in row 3362\n",
        "invalid wave \"0\" in row 3374"
       ]
      },
      {
       "output_type": "stream",
       "stream": "stdout",
       "text": [
        "\n",
        "invalid wave \"0\" in row 3381\n",
        "invalid wave \"0\" in row 3386\n",
        "invalid wave \"0\" in row 3391\n",
        "invalid wave \"0\" in row 3398\n",
        "invalid wave \"0\" in row 3403\n",
        "invalid wave \"0\" in row 3408"
       ]
      },
      {
       "output_type": "stream",
       "stream": "stdout",
       "text": [
        "\n",
        "invalid wave \"0\" in row 3417\n",
        "invalid wave \"0\" in row 3429\n",
        "invalid wave \"0\" in row 3455"
       ]
      },
      {
       "output_type": "stream",
       "stream": "stdout",
       "text": [
        "\n",
        "invalid wave \"0\" in row 3460\n",
        "invalid wave \"0\" in row 3465\n",
        "invalid wave \"0\" in row 3476\n",
        "invalid wave \"0\" in row 3481\n",
        "invalid wave \"0\" in row 3486"
       ]
      },
      {
       "output_type": "stream",
       "stream": "stdout",
       "text": [
        "\n",
        "invalid wave \"0\" in row 3494\n",
        "invalid wave \"0\" in row 3501\n",
        "invalid wave \"0\" in row 3506\n",
        "invalid wave \"0\" in row 3511\n",
        "invalid wave \"0\" in row 3515"
       ]
      },
      {
       "output_type": "stream",
       "stream": "stdout",
       "text": [
        "\n",
        "invalid wave \"0\" in row 3523\n",
        "invalid wave \"0\" in row 3538\n",
        "invalid wave \"0\" in row 3543\n",
        "invalid wave \"0\" in row 3548"
       ]
      },
      {
       "output_type": "stream",
       "stream": "stdout",
       "text": [
        "\n",
        "invalid wave \"0\" in row 3562\n",
        "invalid wave \"0\" in row 3569\n",
        "invalid wave \"0\" in row 3574\n",
        "invalid wave \"0\" in row 3582"
       ]
      },
      {
       "output_type": "stream",
       "stream": "stdout",
       "text": [
        "\n",
        "invalid wave \"0\" in row 3596\n",
        "invalid wave \"0\" in row 3605\n",
        "invalid wave \"0\" in row 3617"
       ]
      },
      {
       "output_type": "stream",
       "stream": "stdout",
       "text": [
        "\n",
        "invalid wave \"0\" in row 3626\n",
        "invalid wave \"0\" in row 3641\n",
        "invalid wave \"0\" in row 3652"
       ]
      },
      {
       "output_type": "stream",
       "stream": "stdout",
       "text": [
        "\n",
        "invalid wave \"0\" in row 3657\n",
        "invalid wave \"0\" in row 3662\n",
        "invalid wave \"0\" in row 3673\n",
        "invalid wave \"0\" in row 3678\n",
        "invalid wave \"0\" in row 3684"
       ]
      },
      {
       "output_type": "stream",
       "stream": "stdout",
       "text": [
        "\n",
        "invalid wave \"0\" in row 3689\n",
        "invalid wave \"0\" in row 3697\n",
        "invalid wave \"0\" in row 3702\n",
        "invalid wave \"0\" in row 3707\n",
        "invalid wave \"0\" in row 3712\n",
        "invalid wave \"0\" in row 3717"
       ]
      },
      {
       "output_type": "stream",
       "stream": "stdout",
       "text": [
        "\n",
        "invalid wave \"0\" in row 3722\n",
        "invalid wave \"0\" in row 3733\n",
        "invalid wave \"0\" in row 3737\n",
        "invalid wave \"0\" in row 3742\n",
        "invalid wave \"0\" in row 3754"
       ]
      },
      {
       "output_type": "stream",
       "stream": "stdout",
       "text": [
        "\n",
        "invalid wave \"0\" in row 3761\n",
        "invalid wave \"0\" in row 3766\n",
        "invalid wave \"0\" in row 3771\n",
        "invalid wave \"0\" in row 3776\n",
        "invalid wave \"0\" in row 3781\n",
        "invalid wave \"0\" in row 3787"
       ]
      },
      {
       "output_type": "stream",
       "stream": "stdout",
       "text": [
        "\n",
        "invalid wave \"0\" in row 3791\n",
        "invalid wave \"0\" in row 3795\n",
        "invalid wave \"0\" in row 3799\n",
        "invalid wave \"0\" in row 3804\n",
        "invalid wave \"0\" in row 3815\n",
        "invalid wave \"0\" in row 3821"
       ]
      },
      {
       "output_type": "stream",
       "stream": "stdout",
       "text": [
        "\n",
        "invalid wave \"0\" in row 3832\n",
        "invalid wave \"0\" in row 3851"
       ]
      },
      {
       "output_type": "stream",
       "stream": "stdout",
       "text": [
        "\n",
        "invalid wave \"0\" in row 3856\n",
        "invalid wave \"0\" in row 3861\n",
        "non-integer wave \"\" in row 3881"
       ]
      },
      {
       "output_type": "stream",
       "stream": "stdout",
       "text": [
        "\n",
        "invalid wave \"0\" in row 3891\n",
        "invalid wave \"0\" in row 3896\n",
        "invalid wave \"0\" in row 3906\n",
        "invalid wave \"0\" in row 3916"
       ]
      },
      {
       "output_type": "stream",
       "stream": "stdout",
       "text": [
        "\n",
        "invalid wave \"0\" in row 3923\n",
        "invalid wave \"0\" in row 3929\n",
        "invalid wave \"0\" in row 3934\n",
        "invalid wave \"0\" in row 3956"
       ]
      },
      {
       "output_type": "stream",
       "stream": "stdout",
       "text": [
        "\n",
        "invalid wave \"0\" in row 3969\n",
        "invalid wave \"0\" in row 3989"
       ]
      },
      {
       "output_type": "stream",
       "stream": "stdout",
       "text": [
        "\n",
        "invalid wave \"0\" in row 3999\n",
        "invalid wave \"0\" in row 4004\n",
        "invalid wave \"0\" in row 4009\n",
        "invalid wave \"0\" in row 4014\n",
        "invalid wave \"0\" in row 4019"
       ]
      },
      {
       "output_type": "stream",
       "stream": "stdout",
       "text": [
        "\n",
        "invalid wave \"0\" in row 4030\n",
        "invalid wave \"0\" in row 4043\n",
        "invalid wave \"0\" in row 4048"
       ]
      },
      {
       "output_type": "stream",
       "stream": "stdout",
       "text": [
        "\n",
        "invalid wave \"0\" in row 4053\n",
        "invalid wave \"0\" in row 4061\n",
        "invalid wave \"0\" in row 4069\n",
        "invalid wave \"0\" in row 4076\n",
        "invalid wave \"0\" in row 4096"
       ]
      },
      {
       "output_type": "stream",
       "stream": "stdout",
       "text": [
        "\n",
        "invalid wave \"0\" in row 4100\n",
        "invalid wave \"0\" in row 4104\n",
        "invalid wave \"0\" in row 4122\n",
        "invalid wave \"0\" in row 4127"
       ]
      },
      {
       "output_type": "stream",
       "stream": "stdout",
       "text": [
        "\n",
        "invalid wave \"0\" in row 4145\n",
        "invalid wave \"0\" in row 4157"
       ]
      },
      {
       "output_type": "stream",
       "stream": "stdout",
       "text": [
        "\n",
        "invalid wave \"0\" in row 4167\n",
        "invalid wave \"0\" in row 4212"
       ]
      },
      {
       "output_type": "stream",
       "stream": "stdout",
       "text": [
        "\n",
        "invalid wave \"0\" in row 4230\n",
        "invalid wave \"0\" in row 4235\n",
        "invalid wave \"0\" in row 4240"
       ]
      },
      {
       "output_type": "stream",
       "stream": "stdout",
       "text": [
        "\n",
        "non-integer wave \"\" in row 4248\n",
        "invalid wave \"0\" in row 4260\n",
        "invalid wave \"0\" in row 4265\n",
        "invalid wave \"0\" in row 4269"
       ]
      },
      {
       "output_type": "stream",
       "stream": "stdout",
       "text": [
        "\n",
        "invalid wave \"0\" in row 4303"
       ]
      },
      {
       "output_type": "stream",
       "stream": "stdout",
       "text": [
        "\n",
        "invalid wave \"0\" in row 4309\n",
        "invalid wave \"0\" in row 4321\n",
        "non-integer wave \"\" in row 4335"
       ]
      },
      {
       "output_type": "stream",
       "stream": "stdout",
       "text": [
        "\n",
        "invalid wave \"0\" in row 4346\n",
        "invalid wave \"0\" in row 4350\n",
        "invalid wave \"0\" in row 4361\n",
        "invalid wave \"0\" in row 4365"
       ]
      },
      {
       "output_type": "stream",
       "stream": "stdout",
       "text": [
        "\n",
        "invalid wave \"0\" in row 4370\n",
        "invalid wave \"0\" in row 4376\n",
        "invalid wave \"0\" in row 4381\n",
        "invalid wave \"0\" in row 4395"
       ]
      },
      {
       "output_type": "stream",
       "stream": "stdout",
       "text": [
        "\n",
        "invalid wave \"0\" in row 4457"
       ]
      },
      {
       "output_type": "stream",
       "stream": "stdout",
       "text": [
        "\n",
        "invalid wave \"0\" in row 4474\n",
        "invalid wave \"0\" in row 4481\n",
        "invalid wave \"0\" in row 4490"
       ]
      },
      {
       "output_type": "stream",
       "stream": "stdout",
       "text": [
        "\n",
        "invalid wave \"0\" in row 4510\n",
        "invalid wave \"0\" in row 4515\n",
        "invalid wave \"0\" in row 4523"
       ]
      },
      {
       "output_type": "stream",
       "stream": "stdout",
       "text": [
        "\n",
        "invalid wave \"0\" in row 4528\n",
        "non-integer wave \"\" in row 4541\n",
        "invalid wave \"0\" in row 4554"
       ]
      },
      {
       "output_type": "stream",
       "stream": "stdout",
       "text": [
        "\n",
        "invalid wave \"0\" in row 4559\n",
        "invalid wave \"0\" in row 4563\n",
        "non-integer wave \"\" in row 4568\n",
        "invalid wave \"0\" in row 4575\n",
        "invalid wave \"0\" in row 4585"
       ]
      },
      {
       "output_type": "stream",
       "stream": "stdout",
       "text": [
        "\n",
        "invalid wave \"0\" in row 4589\n",
        "invalid wave \"0\" in row 4596\n",
        "invalid wave \"0\" in row 4601\n",
        "invalid wave \"0\" in row 4631"
       ]
      },
      {
       "output_type": "stream",
       "stream": "stdout",
       "text": [
        "\n",
        "invalid wave \"0\" in row 4640\n",
        "invalid wave \"0\" in row 4645\n",
        "invalid wave \"0\" in row 4653\n",
        "invalid wave \"0\" in row 4658\n",
        "invalid wave \"0\" in row 4665"
       ]
      },
      {
       "output_type": "stream",
       "stream": "stdout",
       "text": [
        "\n",
        "invalid wave \"0\" in row 4673\n",
        "invalid wave \"0\" in row 4682\n",
        "invalid wave \"0\" in row 4691\n",
        "invalid wave \"0\" in row 4698"
       ]
      },
      {
       "output_type": "stream",
       "stream": "stdout",
       "text": [
        "\n",
        "invalid wave \"0\" in row 4703\n",
        "invalid wave \"0\" in row 4710\n",
        "invalid wave \"0\" in row 4734"
       ]
      },
      {
       "output_type": "stream",
       "stream": "stdout",
       "text": [
        "\n",
        "invalid wave \"0\" in row 4739\n",
        "invalid wave \"0\" in row 4751\n",
        "invalid wave \"0\" in row 4759\n",
        "invalid wave \"0\" in row 4764"
       ]
      },
      {
       "output_type": "stream",
       "stream": "stdout",
       "text": [
        "\n",
        "invalid wave \"0\" in row 4770\n",
        "invalid wave \"0\" in row 4777\n",
        "invalid wave \"0\" in row 4783\n",
        "invalid wave \"0\" in row 4788\n",
        "invalid wave \"0\" in row 4793"
       ]
      },
      {
       "output_type": "stream",
       "stream": "stdout",
       "text": [
        "\n",
        "invalid wave \"0\" in row 4797\n",
        "invalid wave \"0\" in row 4804\n",
        "invalid wave \"0\" in row 4812\n",
        "invalid wave \"0\" in row 4817\n",
        "invalid wave \"0\" in row 4836"
       ]
      },
      {
       "output_type": "stream",
       "stream": "stdout",
       "text": [
        "\n",
        "invalid wave \"0\" in row 4841\n",
        "non-integer wave \"\" in row 4853\n",
        "invalid wave \"0\" in row 4857\n",
        "invalid wave \"0\" in row 4861\n",
        "invalid wave \"0\" in row 4866"
       ]
      },
      {
       "output_type": "stream",
       "stream": "stdout",
       "text": [
        "\n",
        "invalid wave \"0\" in row 4870\n",
        "invalid wave \"0\" in row 4874\n",
        "invalid wave \"0\" in row 4881\n",
        "invalid wave \"0\" in row 4897"
       ]
      },
      {
       "output_type": "stream",
       "stream": "stdout",
       "text": [
        "\n",
        "invalid wave \"0\" in row 4907\n",
        "invalid wave \"0\" in row 4915\n",
        "invalid wave \"0\" in row 4924\n",
        "invalid wave \"0\" in row 4935"
       ]
      },
      {
       "output_type": "stream",
       "stream": "stdout",
       "text": [
        "\n",
        "non-integer wave \"\" in row 4943\n",
        "invalid wave \"0\" in row 4948\n",
        "invalid wave \"0\" in row 4953\n",
        "invalid wave \"0\" in row 4959\n",
        "invalid wave \"0\" in row 4968"
       ]
      },
      {
       "output_type": "stream",
       "stream": "stdout",
       "text": [
        "\n",
        "invalid wave \"0\" in row 4981\n",
        "invalid wave \"0\" in row 4993\n",
        "invalid wave \"0\" in row 4997"
       ]
      },
      {
       "output_type": "stream",
       "stream": "stdout",
       "text": [
        "\n",
        "invalid wave \"0\" in row 5021\n",
        "invalid wave \"0\" in row 5028"
       ]
      },
      {
       "output_type": "stream",
       "stream": "stdout",
       "text": [
        "\n",
        "invalid wave \"0\" in row 5040\n",
        "invalid wave \"0\" in row 5051\n",
        "invalid wave \"0\" in row 5056\n",
        "invalid wave \"0\" in row 5063"
       ]
      },
      {
       "output_type": "stream",
       "stream": "stdout",
       "text": [
        "\n",
        "invalid wave \"0\" in row 5068\n",
        "invalid wave \"0\" in row 5083\n",
        "invalid wave \"0\" in row 5098"
       ]
      },
      {
       "output_type": "stream",
       "stream": "stdout",
       "text": [
        "\n",
        "invalid wave \"0\" in row 5103\n",
        "invalid wave \"0\" in row 5113\n",
        "non-integer wave \"\" in row 5117\n",
        "invalid wave \"0\" in row 5119\n",
        "invalid wave \"0\" in row 5125\n",
        "invalid wave \"0\" in row 5130"
       ]
      },
      {
       "output_type": "stream",
       "stream": "stdout",
       "text": [
        "\n",
        "invalid wave \"0\" in row 5135\n",
        "invalid wave \"0\" in row 5146\n",
        "invalid wave \"0\" in row 5154\n",
        "invalid wave \"0\" in row 5159"
       ]
      },
      {
       "output_type": "stream",
       "stream": "stdout",
       "text": [
        "\n",
        "invalid wave \"0\" in row 5166\n",
        "invalid wave \"0\" in row 5174\n",
        "invalid wave \"0\" in row 5178\n",
        "non-integer wave \"\" in row 5194"
       ]
      },
      {
       "output_type": "stream",
       "stream": "stdout",
       "text": [
        "\n",
        "invalid wave \"0\" in row 5202\n",
        "invalid wave \"0\" in row 5207\n",
        "invalid wave \"0\" in row 5211\n",
        "invalid wave \"0\" in row 5219\n",
        "invalid wave \"0\" in row 5224"
       ]
      },
      {
       "output_type": "stream",
       "stream": "stdout",
       "text": [
        "\n",
        "invalid wave \"0\" in row 5229\n",
        "invalid wave \"0\" in row 5234\n",
        "invalid wave \"0\" in row 5256"
       ]
      },
      {
       "output_type": "stream",
       "stream": "stdout",
       "text": [
        "\n",
        "invalid wave \"0\" in row 5260\n",
        "invalid wave \"0\" in row 5265\n",
        "non-integer wave \"\" in row 5279\n",
        "invalid wave \"0\" in row 5285\n",
        "invalid wave \"0\" in row 5288"
       ]
      },
      {
       "output_type": "stream",
       "stream": "stdout",
       "text": [
        "\n",
        "invalid wave \"0\" in row 5293\n",
        "invalid wave \"0\" in row 5298\n",
        "invalid wave \"0\" in row 5303\n",
        "invalid wave \"0\" in row 5308\n",
        "invalid wave \"0\" in row 5321"
       ]
      },
      {
       "output_type": "stream",
       "stream": "stdout",
       "text": [
        "\n",
        "invalid wave \"0\" in row 5326\n",
        "invalid wave \"0\" in row 5331\n",
        "invalid wave \"0\" in row 5351"
       ]
      },
      {
       "output_type": "stream",
       "stream": "stdout",
       "text": [
        "\n",
        "invalid wave \"0\" in row 5357\n",
        "invalid wave \"0\" in row 5365\n",
        "invalid wave \"0\" in row 5373\n",
        "invalid wave \"0\" in row 5383"
       ]
      },
      {
       "output_type": "stream",
       "stream": "stdout",
       "text": [
        "\n",
        "invalid wave \"0\" in row 5393\n",
        "invalid wave \"0\" in row 5408\n",
        "invalid wave \"0\" in row 5414"
       ]
      },
      {
       "output_type": "stream",
       "stream": "stdout",
       "text": [
        "\n",
        "invalid wave \"0\" in row 5419\n",
        "invalid wave \"0\" in row 5426\n",
        "invalid wave \"0\" in row 5438\n",
        "invalid wave \"0\" in row 5451"
       ]
      },
      {
       "output_type": "stream",
       "stream": "stdout",
       "text": [
        "\n",
        "invalid wave \"0\" in row 5456\n",
        "invalid wave \"0\" in row 5464\n",
        "invalid wave \"0\" in row 5485"
       ]
      },
      {
       "output_type": "stream",
       "stream": "stdout",
       "text": [
        "\n",
        "invalid wave \"0\" in row 5497\n",
        "invalid wave \"0\" in row 5502\n",
        "invalid wave \"0\" in row 5507\n",
        "invalid wave \"0\" in row 5523"
       ]
      },
      {
       "output_type": "stream",
       "stream": "stdout",
       "text": [
        "\n",
        "invalid wave \"0\" in row 5533\n",
        "invalid wave \"0\" in row 5545\n",
        "invalid wave \"0\" in row 5557"
       ]
      },
      {
       "output_type": "stream",
       "stream": "stdout",
       "text": [
        "\n",
        "invalid wave \"0\" in row 5573\n",
        "invalid wave \"0\" in row 5580\n",
        "invalid wave \"0\" in row 5587"
       ]
      },
      {
       "output_type": "stream",
       "stream": "stdout",
       "text": [
        "\n",
        "invalid wave \"0\" in row 5591\n",
        "invalid wave \"0\" in row 5608\n",
        "invalid wave \"0\" in row 5613\n",
        "invalid wave \"0\" in row 5623"
       ]
      },
      {
       "output_type": "stream",
       "stream": "stdout",
       "text": [
        "\n",
        "invalid wave \"0\" in row 5628\n",
        "invalid wave \"0\" in row 5633\n",
        "invalid wave \"0\" in row 5638\n",
        "invalid wave \"0\" in row 5642\n",
        "invalid wave \"0\" in row 5647\n",
        "invalid wave \"0\" in row 5654"
       ]
      },
      {
       "output_type": "stream",
       "stream": "stdout",
       "text": [
        "\n",
        "invalid wave \"0\" in row 5663\n",
        "invalid wave \"0\" in row 5670\n",
        "invalid wave \"0\" in row 5675\n",
        "invalid wave \"0\" in row 5683"
       ]
      },
      {
       "output_type": "stream",
       "stream": "stdout",
       "text": [
        "\n",
        "invalid wave \"0\" in row 5699\n",
        "invalid wave \"0\" in row 5704\n",
        "invalid wave \"0\" in row 5709\n",
        "invalid wave \"0\" in row 5714"
       ]
      },
      {
       "output_type": "stream",
       "stream": "stdout",
       "text": [
        "\n",
        "invalid wave \"0\" in row 5723\n",
        "invalid wave \"0\" in row 5728\n",
        "invalid wave \"0\" in row 5733\n",
        "invalid wave \"0\" in row 5738\n",
        "invalid wave \"0\" in row 5743"
       ]
      },
      {
       "output_type": "stream",
       "stream": "stdout",
       "text": [
        "\n",
        "invalid wave \"0\" in row 5748\n",
        "invalid wave \"0\" in row 5760\n",
        "invalid wave \"0\" in row 5774"
       ]
      },
      {
       "output_type": "stream",
       "stream": "stdout",
       "text": [
        "\n",
        "invalid wave \"0\" in row 5784\n",
        "invalid wave \"0\" in row 5789\n",
        "invalid wave \"0\" in row 5800\n",
        "invalid wave \"0\" in row 5805"
       ]
      },
      {
       "output_type": "stream",
       "stream": "stdout",
       "text": [
        "\n",
        "invalid wave \"0\" in row 5861"
       ]
      },
      {
       "output_type": "stream",
       "stream": "stdout",
       "text": [
        "\n",
        "invalid wave \"0\" in row 5866\n",
        "invalid wave \"0\" in row 5887\n",
        "invalid wave \"0\" in row 5906"
       ]
      },
      {
       "output_type": "stream",
       "stream": "stdout",
       "text": [
        "\n",
        "non-integer wave \"\" in row 5910\n",
        "invalid wave \"0\" in row 5918\n",
        "invalid wave \"0\" in row 5923\n",
        "invalid wave \"0\" in row 5933\n",
        "invalid wave \"0\" in row 5939"
       ]
      },
      {
       "output_type": "stream",
       "stream": "stdout",
       "text": [
        "\n",
        "invalid wave \"0\" in row 5943\n",
        "invalid wave \"0\" in row 5948\n",
        "invalid wave \"0\" in row 5953\n",
        "non-integer wave \"\" in row 5967"
       ]
      },
      {
       "output_type": "stream",
       "stream": "stdout",
       "text": [
        "\n",
        "invalid wave \"0\" in row 5972\n",
        "invalid wave \"0\" in row 5983\n",
        "invalid wave \"0\" in row 5988\n",
        "invalid wave \"0\" in row 5997"
       ]
      },
      {
       "output_type": "stream",
       "stream": "stdout",
       "text": [
        "\n",
        "invalid wave \"0\" in row 6002\n",
        "invalid wave \"0\" in row 6007\n",
        "invalid wave \"0\" in row 6014\n",
        "invalid wave \"0\" in row 6019\n",
        "invalid wave \"0\" in row 6024\n",
        "invalid wave \"0\" in row 6033"
       ]
      },
      {
       "output_type": "stream",
       "stream": "stdout",
       "text": [
        "\n",
        "invalid wave \"0\" in row 6038\n",
        "invalid wave \"0\" in row 6043\n",
        "invalid wave \"0\" in row 6048\n",
        "invalid wave \"0\" in row 6053\n",
        "invalid wave \"0\" in row 6072"
       ]
      },
      {
       "output_type": "stream",
       "stream": "stdout",
       "text": [
        "\n",
        "invalid wave \"0\" in row 6088\n",
        "invalid wave \"0\" in row 6093\n",
        "invalid wave \"0\" in row 6098\n",
        "invalid wave \"0\" in row 6103"
       ]
      },
      {
       "output_type": "stream",
       "stream": "stdout",
       "text": [
        "\n",
        "invalid wave \"0\" in row 6107\n",
        "invalid wave \"0\" in row 6114\n",
        "invalid wave \"0\" in row 6122\n",
        "invalid wave \"0\" in row 6141"
       ]
      },
      {
       "output_type": "stream",
       "stream": "stdout",
       "text": [
        "\n",
        "invalid wave \"0\" in row 6146\n",
        "invalid wave \"0\" in row 6151\n",
        "invalid wave \"0\" in row 6158\n",
        "invalid wave \"0\" in row 6165\n",
        "invalid wave \"0\" in row 6174"
       ]
      },
      {
       "output_type": "stream",
       "stream": "stdout",
       "text": [
        "\n",
        "invalid wave \"0\" in row 6191\n",
        "invalid wave \"0\" in row 6195\n",
        "invalid wave \"0\" in row 6207"
       ]
      },
      {
       "output_type": "stream",
       "stream": "stdout",
       "text": [
        "\n",
        "invalid wave \"0\" in row 6214\n",
        "invalid wave \"0\" in row 6222\n",
        "invalid wave \"0\" in row 6227\n",
        "invalid wave \"0\" in row 6231\n",
        "invalid wave \"0\" in row 6239"
       ]
      },
      {
       "output_type": "stream",
       "stream": "stdout",
       "text": [
        "\n",
        "invalid wave \"0\" in row 6262"
       ]
      },
      {
       "output_type": "stream",
       "stream": "stdout",
       "text": [
        "\n",
        "invalid wave \"0\" in row 6267\n",
        "invalid wave \"0\" in row 6272\n",
        "invalid wave \"0\" in row 6299"
       ]
      },
      {
       "output_type": "stream",
       "stream": "stdout",
       "text": [
        "\n",
        "invalid wave \"0\" in row 6306\n",
        "invalid wave \"0\" in row 6311\n",
        "invalid wave \"0\" in row 6316\n",
        "invalid wave \"0\" in row 6321\n",
        "invalid wave \"0\" in row 6330"
       ]
      },
      {
       "output_type": "stream",
       "stream": "stdout",
       "text": [
        "\n",
        "invalid wave \"0\" in row 6335\n",
        "invalid wave \"0\" in row 6343\n",
        "invalid wave \"0\" in row 6348\n",
        "invalid wave \"0\" in row 6352\n",
        "invalid wave \"0\" in row 6369"
       ]
      },
      {
       "output_type": "stream",
       "stream": "stdout",
       "text": [
        "\n",
        "invalid wave \"0\" in row 6377\n",
        "invalid wave \"0\" in row 6384\n",
        "invalid wave \"0\" in row 6388\n",
        "invalid wave \"0\" in row 6397\n",
        "invalid wave \"0\" in row 6405"
       ]
      },
      {
       "output_type": "stream",
       "stream": "stdout",
       "text": [
        "\n",
        "invalid wave \"0\" in row 6423\n",
        "invalid wave \"0\" in row 6430\n",
        "invalid wave \"0\" in row 6437"
       ]
      },
      {
       "output_type": "stream",
       "stream": "stdout",
       "text": [
        "\n",
        "invalid wave \"0\" in row 6442\n",
        "invalid wave \"0\" in row 6447\n",
        "invalid wave \"0\" in row 6454\n",
        "invalid wave \"0\" in row 6460\n",
        "invalid wave \"0\" in row 6465\n",
        "invalid wave \"0\" in row 6471"
       ]
      },
      {
       "output_type": "stream",
       "stream": "stdout",
       "text": [
        "\n",
        "invalid wave \"0\" in row 6476\n",
        "non-integer wave \"\" in row 6484\n",
        "invalid wave \"0\" in row 6515"
       ]
      },
      {
       "output_type": "stream",
       "stream": "stdout",
       "text": [
        "\n",
        "invalid wave \"0\" in row 6522\n",
        "invalid wave \"0\" in row 6526\n",
        "invalid wave \"0\" in row 6532\n",
        "invalid wave \"0\" in row 6545"
       ]
      },
      {
       "output_type": "stream",
       "stream": "stdout",
       "text": [
        "\n",
        "invalid wave \"0\" in row 6550\n",
        "invalid wave \"0\" in row 6577"
       ]
      },
      {
       "output_type": "stream",
       "stream": "stdout",
       "text": [
        "\n",
        "invalid wave \"0\" in row 6597\n",
        "invalid wave \"0\" in row 6608"
       ]
      },
      {
       "output_type": "stream",
       "stream": "stdout",
       "text": [
        "\n",
        "invalid wave \"0\" in row 6614\n",
        "invalid wave \"0\" in row 6621\n",
        "invalid wave \"0\" in row 6626\n",
        "invalid wave \"0\" in row 6632\n",
        "invalid wave \"0\" in row 6642"
       ]
      },
      {
       "output_type": "stream",
       "stream": "stdout",
       "text": [
        "\n",
        "invalid wave \"0\" in row 6656\n",
        "invalid wave \"0\" in row 6663\n",
        "invalid wave \"0\" in row 6667\n",
        "invalid wave \"0\" in row 6672"
       ]
      },
      {
       "output_type": "stream",
       "stream": "stdout",
       "text": [
        "\n",
        "invalid wave \"0\" in row 6699"
       ]
      },
      {
       "output_type": "stream",
       "stream": "stdout",
       "text": [
        "\n",
        "invalid wave \"0\" in row 6704\n",
        "invalid wave \"0\" in row 6711\n",
        "invalid wave \"0\" in row 6716\n",
        "invalid wave \"0\" in row 6721\n",
        "invalid wave \"0\" in row 6725\n",
        "invalid wave \"0\" in row 6732"
       ]
      },
      {
       "output_type": "stream",
       "stream": "stdout",
       "text": [
        "\n",
        "invalid wave \"0\" in row 6737\n",
        "invalid wave \"0\" in row 6742\n",
        "invalid wave \"0\" in row 6754\n",
        "invalid wave \"0\" in row 6784"
       ]
      },
      {
       "output_type": "stream",
       "stream": "stdout",
       "text": [
        "\n",
        "invalid wave \"0\" in row 6788\n",
        "invalid wave \"0\" in row 6804\n",
        "invalid wave \"0\" in row 6834"
       ]
      },
      {
       "output_type": "stream",
       "stream": "stdout",
       "text": [
        "\n",
        "invalid wave \"0\" in row 6841\n",
        "invalid wave \"0\" in row 6845\n",
        "invalid wave \"0\" in row 6853\n",
        "invalid wave \"0\" in row 6862\n",
        "invalid wave \"0\" in row 6876"
       ]
      },
      {
       "output_type": "stream",
       "stream": "stdout",
       "text": [
        "\n",
        "invalid wave \"0\" in row 6880\n",
        "invalid wave \"0\" in row 6885\n",
        "invalid wave \"0\" in row 6899\n",
        "invalid wave \"0\" in row 6904\n",
        "invalid wave \"0\" in row 6914"
       ]
      },
      {
       "output_type": "stream",
       "stream": "stdout",
       "text": [
        "\n",
        "invalid wave \"0\" in row 6919\n",
        "invalid wave \"0\" in row 6924\n",
        "invalid wave \"0\" in row 6942\n",
        "non-integer wave \"\" in row 6948"
       ]
      },
      {
       "output_type": "stream",
       "stream": "stdout",
       "text": [
        "\n",
        "invalid wave \"0\" in row 6964\n",
        "invalid wave \"0\" in row 6969\n",
        "invalid wave \"0\" in row 7006"
       ]
      },
      {
       "output_type": "stream",
       "stream": "stdout",
       "text": [
        "\n",
        "invalid wave \"0\" in row 7011\n",
        "invalid wave \"0\" in row 7019\n",
        "invalid wave \"0\" in row 7023\n",
        "invalid wave \"0\" in row 7033\n",
        "invalid wave \"0\" in row 7044"
       ]
      },
      {
       "output_type": "stream",
       "stream": "stdout",
       "text": [
        "\n",
        "invalid wave \"0\" in row 7049\n",
        "invalid wave \"0\" in row 7070\n",
        "invalid wave \"0\" in row 7074"
       ]
      },
      {
       "output_type": "stream",
       "stream": "stdout",
       "text": [
        "\n",
        "invalid wave \"0\" in row 7079\n",
        "non-integer wave \"\" in row 7087\n",
        "invalid wave \"0\" in row 7091\n",
        "invalid wave \"0\" in row 7103"
       ]
      },
      {
       "output_type": "stream",
       "stream": "stdout",
       "text": [
        "\n",
        "invalid wave \"0\" in row 7109\n",
        "invalid wave \"0\" in row 7114\n",
        "invalid wave \"0\" in row 7124\n",
        "invalid wave \"0\" in row 7132"
       ]
      },
      {
       "output_type": "stream",
       "stream": "stdout",
       "text": [
        "\n",
        "invalid wave \"0\" in row 7142\n",
        "invalid wave \"0\" in row 7147\n",
        "invalid wave \"0\" in row 7154\n",
        "invalid wave \"0\" in row 7159\n",
        "invalid wave \"0\" in row 7164"
       ]
      },
      {
       "output_type": "stream",
       "stream": "stdout",
       "text": [
        "\n",
        "invalid wave \"0\" in row 7175\n",
        "invalid wave \"0\" in row 7179\n",
        "invalid wave \"0\" in row 7190\n",
        "invalid wave \"0\" in row 7195"
       ]
      },
      {
       "output_type": "stream",
       "stream": "stdout",
       "text": [
        "\n",
        "invalid wave \"0\" in row 7200\n",
        "invalid wave \"0\" in row 7205\n",
        "invalid wave \"0\" in row 7236"
       ]
      },
      {
       "output_type": "stream",
       "stream": "stdout",
       "text": [
        "\n",
        "invalid wave \"0\" in row 7242\n",
        "invalid wave \"0\" in row 7251\n",
        "invalid wave \"0\" in row 7256\n",
        "invalid wave \"0\" in row 7265"
       ]
      },
      {
       "output_type": "stream",
       "stream": "stdout",
       "text": [
        "\n",
        "invalid wave \"0\" in row 7274\n",
        "invalid wave \"0\" in row 7281\n",
        "invalid wave \"0\" in row 7291\n",
        "invalid wave \"0\" in row 7301"
       ]
      },
      {
       "output_type": "stream",
       "stream": "stdout",
       "text": [
        "\n",
        "invalid wave \"0\" in row 7306\n",
        "invalid wave \"0\" in row 7316\n",
        "invalid wave \"0\" in row 7326\n",
        "invalid wave \"0\" in row 7331"
       ]
      },
      {
       "output_type": "stream",
       "stream": "stdout",
       "text": [
        "\n",
        "invalid wave \"0\" in row 7345\n",
        "invalid wave \"0\" in row 7351\n",
        "invalid wave \"0\" in row 7355\n",
        "invalid wave \"0\" in row 7359"
       ]
      },
      {
       "output_type": "stream",
       "stream": "stdout",
       "text": [
        "\n",
        "invalid wave \"0\" in row 7370\n",
        "invalid wave \"0\" in row 7377\n",
        "invalid wave \"0\" in row 7399"
       ]
      },
      {
       "output_type": "stream",
       "stream": "stdout",
       "text": [
        "\n",
        "invalid wave \"0\" in row 7407\n",
        "invalid wave \"0\" in row 7413\n",
        "invalid wave \"0\" in row 7420\n",
        "non-integer wave \"\" in row 7425\n",
        "invalid wave \"0\" in row 7432"
       ]
      },
      {
       "output_type": "stream",
       "stream": "stdout",
       "text": [
        "\n",
        "invalid wave \"0\" in row 7440\n",
        "invalid wave \"0\" in row 7453\n",
        "invalid wave \"0\" in row 7458\n",
        "invalid wave \"0\" in row 7463"
       ]
      },
      {
       "output_type": "stream",
       "stream": "stdout",
       "text": [
        "\n",
        "invalid wave \"0\" in row 7478\n",
        "invalid wave \"0\" in row 7501"
       ]
      },
      {
       "output_type": "stream",
       "stream": "stdout",
       "text": [
        "\n",
        "invalid wave \"0\" in row 7512\n",
        "invalid wave \"0\" in row 7517\n",
        "invalid wave \"0\" in row 7522\n",
        "invalid wave \"0\" in row 7526\n",
        "invalid wave \"0\" in row 7530\n",
        "invalid wave \"0\" in row 7535"
       ]
      },
      {
       "output_type": "stream",
       "stream": "stdout",
       "text": [
        "\n",
        "invalid wave \"0\" in row 7543\n",
        "invalid wave \"0\" in row 7547\n",
        "invalid wave \"0\" in row 7554\n",
        "invalid wave \"0\" in row 7561\n",
        "invalid wave \"0\" in row 7576"
       ]
      },
      {
       "output_type": "stream",
       "stream": "stdout",
       "text": [
        "\n",
        "invalid wave \"0\" in row 7581\n",
        "invalid wave \"0\" in row 7585\n",
        "invalid wave \"0\" in row 7591\n",
        "invalid wave \"0\" in row 7596\n",
        "invalid wave \"0\" in row 7612"
       ]
      },
      {
       "output_type": "stream",
       "stream": "stdout",
       "text": [
        "\n",
        "invalid wave \"0\" in row 7617\n",
        "invalid wave \"0\" in row 7630\n",
        "invalid wave \"0\" in row 7641"
       ]
      },
      {
       "output_type": "stream",
       "stream": "stdout",
       "text": [
        "\n",
        "invalid wave \"0\" in row 7651\n",
        "invalid wave \"0\" in row 7658\n",
        "invalid wave \"0\" in row 7663\n",
        "invalid wave \"0\" in row 7678"
       ]
      },
      {
       "output_type": "stream",
       "stream": "stdout",
       "text": [
        "\n",
        "invalid wave \"0\" in row 7683\n",
        "invalid wave \"0\" in row 7688\n",
        "invalid wave \"0\" in row 7700\n",
        "invalid wave \"0\" in row 7705\n",
        "invalid wave \"0\" in row 7724"
       ]
      },
      {
       "output_type": "stream",
       "stream": "stdout",
       "text": [
        "\n",
        "invalid wave \"0\" in row 7735\n",
        "invalid wave \"0\" in row 7743\n",
        "invalid wave \"0\" in row 7748\n",
        "invalid wave \"0\" in row 7756"
       ]
      },
      {
       "output_type": "stream",
       "stream": "stdout",
       "text": [
        "\n",
        "invalid wave \"0\" in row 7768\n",
        "invalid wave \"0\" in row 7773\n",
        "invalid wave \"0\" in row 7778\n",
        "invalid wave \"0\" in row 7786"
       ]
      },
      {
       "output_type": "stream",
       "stream": "stdout",
       "text": [
        "\n",
        "invalid wave \"0\" in row 7794\n",
        "non-integer wave \"\" in row 7799\n",
        "invalid wave \"0\" in row 7805\n",
        "invalid wave \"0\" in row 7810\n",
        "invalid wave \"0\" in row 7815"
       ]
      },
      {
       "output_type": "stream",
       "stream": "stdout",
       "text": [
        "\n",
        "invalid wave \"0\" in row 7819\n",
        "invalid wave \"0\" in row 7833\n",
        "invalid wave \"0\" in row 7840\n",
        "invalid wave \"0\" in row 7844"
       ]
      },
      {
       "output_type": "stream",
       "stream": "stdout",
       "text": [
        "\n",
        "invalid wave \"0\" in row 7850\n",
        "invalid wave \"0\" in row 7855\n",
        "invalid wave \"0\" in row 7867\n",
        "invalid wave \"0\" in row 7872\n",
        "invalid wave \"0\" in row 7876"
       ]
      },
      {
       "output_type": "stream",
       "stream": "stdout",
       "text": [
        "\n",
        "invalid wave \"0\" in row 7881\n",
        "invalid wave \"0\" in row 7891\n",
        "invalid wave \"0\" in row 7900\n",
        "invalid wave \"0\" in row 7906"
       ]
      },
      {
       "output_type": "stream",
       "stream": "stdout",
       "text": [
        "\n",
        "invalid wave \"0\" in row 7911\n",
        "invalid wave \"0\" in row 7930\n",
        "invalid wave \"0\" in row 7938"
       ]
      },
      {
       "output_type": "stream",
       "stream": "stdout",
       "text": [
        "\n",
        "invalid wave \"0\" in row 7942\n",
        "invalid wave \"0\" in row 7952\n",
        "invalid wave \"0\" in row 7957\n",
        "invalid wave \"0\" in row 7962\n",
        "invalid wave \"0\" in row 7976"
       ]
      },
      {
       "output_type": "stream",
       "stream": "stdout",
       "text": [
        "\n",
        "invalid wave \"0\" in row 7981\n",
        "invalid wave \"0\" in row 8002"
       ]
      },
      {
       "output_type": "stream",
       "stream": "stdout",
       "text": [
        "\n",
        "invalid wave \"0\" in row 8019\n",
        "invalid wave \"0\" in row 8036"
       ]
      },
      {
       "output_type": "stream",
       "stream": "stdout",
       "text": [
        "\n",
        "invalid wave \"0\" in row 8043\n",
        "invalid wave \"0\" in row 8047\n",
        "invalid wave \"0\" in row 8051\n",
        "invalid wave \"0\" in row 8057\n",
        "invalid wave \"0\" in row 8062\n",
        "invalid wave \"0\" in row 8067"
       ]
      },
      {
       "output_type": "stream",
       "stream": "stdout",
       "text": [
        "\n",
        "invalid wave \"0\" in row 8080\n",
        "invalid wave \"0\" in row 8089\n",
        "invalid wave \"0\" in row 8093\n",
        "invalid wave \"0\" in row 8098"
       ]
      },
      {
       "output_type": "stream",
       "stream": "stdout",
       "text": [
        "\n",
        "invalid wave \"0\" in row 8109\n",
        "invalid wave \"0\" in row 8126"
       ]
      },
      {
       "output_type": "stream",
       "stream": "stdout",
       "text": [
        "\n",
        "invalid wave \"0\" in row 8131\n",
        "invalid wave \"0\" in row 8138\n",
        "invalid wave \"0\" in row 8143\n",
        "invalid wave \"0\" in row 8148\n",
        "invalid wave \"0\" in row 8154\n",
        "invalid wave \"0\" in row 8161"
       ]
      },
      {
       "output_type": "stream",
       "stream": "stdout",
       "text": [
        "\n",
        "invalid wave \"0\" in row 8171\n",
        "invalid wave \"0\" in row 8186\n",
        "invalid wave \"0\" in row 8203"
       ]
      },
      {
       "output_type": "stream",
       "stream": "stdout",
       "text": [
        "\n",
        "invalid wave \"0\" in row 8208\n",
        "invalid wave \"0\" in row 8212\n",
        "non-integer wave \"\" in row 8217\n",
        "invalid wave \"0\" in row 8222\n",
        "invalid wave \"0\" in row 8226\n",
        "invalid wave \"0\" in row 8233\n",
        "invalid wave \"0\" in row 8246"
       ]
      },
      {
       "output_type": "stream",
       "stream": "stdout",
       "text": [
        "\n",
        "invalid wave \"0\" in row 8257\n",
        "invalid wave \"0\" in row 8265\n",
        "invalid wave \"0\" in row 8269\n",
        "invalid wave \"0\" in row 8286"
       ]
      },
      {
       "output_type": "stream",
       "stream": "stdout",
       "text": [
        "\n",
        "invalid wave \"0\" in row 8309\n",
        "invalid wave \"0\" in row 8316"
       ]
      },
      {
       "output_type": "stream",
       "stream": "stdout",
       "text": [
        "\n",
        "invalid wave \"0\" in row 8323\n",
        "invalid wave \"0\" in row 8334\n",
        "invalid wave \"0\" in row 8338\n",
        "invalid wave \"0\" in row 8351"
       ]
      },
      {
       "output_type": "stream",
       "stream": "stdout",
       "text": [
        "\n",
        "invalid wave \"0\" in row 8368\n",
        "invalid wave \"0\" in row 8378"
       ]
      },
      {
       "output_type": "stream",
       "stream": "stdout",
       "text": [
        "\n",
        "invalid wave \"0\" in row 8383\n",
        "invalid wave \"0\" in row 8396\n",
        "invalid wave \"0\" in row 8403\n",
        "invalid wave \"0\" in row 8421"
       ]
      },
      {
       "output_type": "stream",
       "stream": "stdout",
       "text": [
        "\n",
        "invalid wave \"0\" in row 8431\n",
        "invalid wave \"0\" in row 8440\n",
        "invalid wave \"0\" in row 8454"
       ]
      },
      {
       "output_type": "stream",
       "stream": "stdout",
       "text": [
        "\n",
        "invalid wave \"0\" in row 8459\n",
        "invalid wave \"0\" in row 8498"
       ]
      },
      {
       "output_type": "stream",
       "stream": "stdout",
       "text": [
        "\n",
        "invalid wave \"0\" in row 8521\n",
        "invalid wave \"0\" in row 8537"
       ]
      },
      {
       "output_type": "stream",
       "stream": "stdout",
       "text": [
        "\n",
        "invalid wave \"0\" in row 8551\n",
        "invalid wave \"0\" in row 8556\n",
        "invalid wave \"0\" in row 8573"
       ]
      },
      {
       "output_type": "stream",
       "stream": "stdout",
       "text": [
        "\n",
        "invalid wave \"0\" in row 8583\n",
        "invalid wave \"0\" in row 8591\n",
        "invalid wave \"0\" in row 8604"
       ]
      },
      {
       "output_type": "stream",
       "stream": "stdout",
       "text": [
        "\n",
        "invalid wave \"0\" in row 8610\n",
        "invalid wave \"0\" in row 8616\n",
        "invalid wave \"0\" in row 8631"
       ]
      },
      {
       "output_type": "stream",
       "stream": "stdout",
       "text": [
        "\n",
        "invalid wave \"0\" in row 8645\n",
        "invalid wave \"0\" in row 8651\n",
        "invalid wave \"0\" in row 8656\n",
        "invalid wave \"0\" in row 8660"
       ]
      },
      {
       "output_type": "stream",
       "stream": "stdout",
       "text": [
        "\n",
        "invalid wave \"0\" in row 8674\n",
        "invalid wave \"0\" in row 8681\n",
        "invalid wave \"0\" in row 8720"
       ]
      },
      {
       "output_type": "stream",
       "stream": "stdout",
       "text": [
        "\n",
        "invalid wave \"0\" in row 8725\n",
        "invalid wave \"0\" in row 8729\n",
        "invalid wave \"0\" in row 8732\n",
        "invalid wave \"0\" in row 8736\n",
        "invalid wave \"0\" in row 8743\n",
        "invalid wave \"0\" in row 8767"
       ]
      },
      {
       "output_type": "stream",
       "stream": "stdout",
       "text": [
        "\n",
        "non-integer wave \"\" in row 8772\n",
        "invalid wave \"0\" in row 8781\n",
        "invalid wave \"0\" in row 8794"
       ]
      },
      {
       "output_type": "stream",
       "stream": "stdout",
       "text": [
        "\n",
        "invalid wave \"0\" in row 8804\n",
        "invalid wave \"0\" in row 8808\n",
        "invalid wave \"0\" in row 8813\n",
        "invalid wave \"0\" in row 8820\n",
        "invalid wave \"0\" in row 8825"
       ]
      },
      {
       "output_type": "stream",
       "stream": "stdout",
       "text": [
        "\n",
        "invalid wave \"0\" in row 8839\n",
        "invalid wave \"0\" in row 8843\n",
        "invalid wave \"0\" in row 8850\n",
        "invalid wave \"0\" in row 8855"
       ]
      },
      {
       "output_type": "stream",
       "stream": "stdout",
       "text": [
        "\n",
        "invalid wave \"0\" in row 8873\n",
        "invalid wave \"0\" in row 8892"
       ]
      },
      {
       "output_type": "stream",
       "stream": "stdout",
       "text": [
        "\n",
        "invalid wave \"0\" in row 8902\n",
        "invalid wave \"0\" in row 8921"
       ]
      },
      {
       "output_type": "stream",
       "stream": "stdout",
       "text": [
        "\n",
        "invalid wave \"0\" in row 8928\n",
        "invalid wave \"0\" in row 8933\n",
        "invalid wave \"0\" in row 8938\n",
        "invalid wave \"0\" in row 8950"
       ]
      },
      {
       "output_type": "stream",
       "stream": "stdout",
       "text": [
        "\n",
        "invalid wave \"0\" in row 8955\n",
        "invalid wave \"0\" in row 8963\n",
        "invalid wave \"0\" in row 8968\n",
        "invalid wave \"0\" in row 8982"
       ]
      },
      {
       "output_type": "stream",
       "stream": "stdout",
       "text": [
        "\n",
        "invalid wave \"0\" in row 8987\n",
        "non-integer wave \"\" in row 8995\n",
        "invalid wave \"0\" in row 9000\n",
        "invalid wave \"0\" in row 9006\n",
        "invalid wave \"0\" in row 9013"
       ]
      },
      {
       "output_type": "stream",
       "stream": "stdout",
       "text": [
        "\n",
        "invalid wave \"0\" in row 9021\n",
        "invalid wave \"0\" in row 9027\n",
        "invalid wave \"0\" in row 9038\n",
        "invalid wave \"0\" in row 9043"
       ]
      },
      {
       "output_type": "stream",
       "stream": "stdout",
       "text": [
        "\n",
        "invalid wave \"0\" in row 9049\n",
        "invalid wave \"0\" in row 9062\n",
        "invalid wave \"0\" in row 9066\n",
        "invalid wave \"0\" in row 9070\n",
        "invalid wave \"0\" in row 9077"
       ]
      },
      {
       "output_type": "stream",
       "stream": "stdout",
       "text": [
        "\n",
        "invalid wave \"0\" in row 9101\n",
        "invalid wave \"0\" in row 9107"
       ]
      },
      {
       "output_type": "stream",
       "stream": "stdout",
       "text": [
        "\n",
        "invalid wave \"0\" in row 9116\n",
        "invalid wave \"0\" in row 9121\n",
        "invalid wave \"0\" in row 9128\n",
        "invalid wave \"0\" in row 9132\n",
        "invalid wave \"0\" in row 9136\n",
        "invalid wave \"0\" in row 9141"
       ]
      },
      {
       "output_type": "stream",
       "stream": "stdout",
       "text": [
        "\n",
        "invalid wave \"0\" in row 9146\n",
        "invalid wave \"0\" in row 9174"
       ]
      },
      {
       "output_type": "stream",
       "stream": "stdout",
       "text": [
        "\n",
        "invalid wave \"0\" in row 9183\n",
        "invalid wave \"0\" in row 9191\n",
        "invalid wave \"0\" in row 9212"
       ]
      },
      {
       "output_type": "stream",
       "stream": "stdout",
       "text": [
        "\n",
        "invalid wave \"0\" in row 9220\n",
        "invalid wave \"0\" in row 9229\n",
        "invalid wave \"0\" in row 9234\n",
        "invalid wave \"0\" in row 9239\n",
        "invalid wave \"0\" in row 9251"
       ]
      },
      {
       "output_type": "stream",
       "stream": "stdout",
       "text": [
        "\n",
        "invalid wave \"0\" in row 9257\n",
        "invalid wave \"0\" in row 9263\n",
        "invalid wave \"0\" in row 9267\n",
        "invalid wave \"0\" in row 9275\n",
        "invalid wave \"0\" in row 9282"
       ]
      },
      {
       "output_type": "stream",
       "stream": "stdout",
       "text": [
        "\n",
        "non-integer wave \"\" in row 9287\n",
        "invalid wave \"0\" in row 9291\n",
        "invalid wave \"0\" in row 9302\n",
        "invalid wave \"0\" in row 9307\n",
        "invalid wave \"0\" in row 9316"
       ]
      },
      {
       "output_type": "stream",
       "stream": "stdout",
       "text": [
        "\n",
        "invalid wave \"0\" in row 9320\n",
        "non-integer wave \"\" in row 9326\n",
        "invalid wave \"0\" in row 9331\n",
        "invalid wave \"0\" in row 9345"
       ]
      },
      {
       "output_type": "stream",
       "stream": "stdout",
       "text": [
        "\n",
        "invalid wave \"0\" in row 9350\n",
        "invalid wave \"0\" in row 9364\n",
        "invalid wave \"0\" in row 9368\n",
        "invalid wave \"0\" in row 9375"
       ]
      },
      {
       "output_type": "stream",
       "stream": "stdout",
       "text": [
        "\n",
        "invalid wave \"0\" in row 9384\n",
        "invalid wave \"0\" in row 9395\n",
        "invalid wave \"0\" in row 9399\n",
        "non-integer wave \"\" in row 9425"
       ]
      },
      {
       "output_type": "stream",
       "stream": "stdout",
       "text": [
        "\n",
        "invalid wave \"0\" in row 9430\n",
        "invalid wave \"0\" in row 9448\n",
        "invalid wave \"0\" in row 9455"
       ]
      },
      {
       "output_type": "stream",
       "stream": "stdout",
       "text": [
        "\n",
        "invalid wave \"0\" in row 9477\n",
        "invalid wave \"0\" in row 9481"
       ]
      },
      {
       "output_type": "stream",
       "stream": "stdout",
       "text": [
        "\n",
        "invalid wave \"0\" in row 9487\n",
        "invalid wave \"0\" in row 9494\n",
        "invalid wave \"0\" in row 9502\n",
        "invalid wave \"0\" in row 9507\n",
        "invalid wave \"0\" in row 9515"
       ]
      },
      {
       "output_type": "stream",
       "stream": "stdout",
       "text": [
        "\n",
        "invalid wave \"0\" in row 9519\n",
        "invalid wave \"0\" in row 9524\n",
        "invalid wave \"0\" in row 9529\n",
        "invalid wave \"0\" in row 9544"
       ]
      },
      {
       "output_type": "stream",
       "stream": "stdout",
       "text": [
        "\n",
        "invalid wave \"0\" in row 9562\n",
        "invalid wave \"0\" in row 9575"
       ]
      },
      {
       "output_type": "stream",
       "stream": "stdout",
       "text": [
        "\n",
        "invalid wave \"0\" in row 9579\n",
        "invalid wave \"0\" in row 9583\n",
        "invalid wave \"0\" in row 9586\n",
        "invalid wave \"0\" in row 9595\n",
        "invalid wave \"0\" in row 9600\n",
        "non-integer wave \"\" in row 9609"
       ]
      },
      {
       "output_type": "stream",
       "stream": "stdout",
       "text": [
        "\n",
        "invalid wave \"0\" in row 9633\n",
        "invalid wave \"0\" in row 9638"
       ]
      },
      {
       "output_type": "stream",
       "stream": "stdout",
       "text": [
        "\n",
        "invalid wave \"0\" in row 9646\n",
        "invalid wave \"0\" in row 9650\n",
        "invalid wave \"0\" in row 9655\n",
        "invalid wave \"0\" in row 9661\n",
        "invalid wave \"0\" in row 9666\n",
        "invalid wave \"0\" in row 9671"
       ]
      },
      {
       "output_type": "stream",
       "stream": "stdout",
       "text": [
        "\n",
        "invalid wave \"0\" in row 9682\n",
        "invalid wave \"0\" in row 9687\n",
        "non-integer wave \"\" in row 9695\n",
        "invalid wave \"0\" in row 9700"
       ]
      },
      {
       "output_type": "stream",
       "stream": "stdout",
       "text": [
        "\n",
        "invalid wave \"0\" in row 9707\n",
        "invalid wave \"0\" in row 9725\n",
        "invalid wave \"0\" in row 9729"
       ]
      },
      {
       "output_type": "stream",
       "stream": "stdout",
       "text": [
        "\n",
        "invalid wave \"0\" in row 9732\n",
        "invalid wave \"0\" in row 9736\n",
        "invalid wave \"0\" in row 9741\n",
        "invalid wave \"0\" in row 9746\n",
        "invalid wave \"0\" in row 9751\n",
        "invalid wave \"0\" in row 9765"
       ]
      },
      {
       "output_type": "stream",
       "stream": "stdout",
       "text": [
        "\n",
        "invalid wave \"0\" in row 9796"
       ]
      },
      {
       "output_type": "stream",
       "stream": "stdout",
       "text": [
        "\n",
        "invalid wave \"0\" in row 9801\n",
        "invalid wave \"0\" in row 9808\n",
        "invalid wave \"0\" in row 9814\n",
        "invalid wave \"0\" in row 9837"
       ]
      },
      {
       "output_type": "stream",
       "stream": "stdout",
       "text": [
        "\n",
        "invalid wave \"0\" in row 9842\n",
        "invalid wave \"0\" in row 9851\n",
        "invalid wave \"0\" in row 9866"
       ]
      },
      {
       "output_type": "stream",
       "stream": "stdout",
       "text": [
        "\n",
        "invalid wave \"0\" in row 9871\n",
        "invalid wave \"0\" in row 9878\n",
        "invalid wave \"0\" in row 9882\n",
        "invalid wave \"0\" in row 9890\n",
        "invalid wave \"0\" in row 9898"
       ]
      },
      {
       "output_type": "stream",
       "stream": "stdout",
       "text": [
        "\n",
        "invalid wave \"0\" in row 9912\n",
        "invalid wave \"0\" in row 9925\n",
        "invalid wave \"0\" in row 9930"
       ]
      },
      {
       "output_type": "stream",
       "stream": "stdout",
       "text": [
        "\n",
        "invalid wave \"0\" in row 9935\n",
        "invalid wave \"0\" in row 9965"
       ]
      },
      {
       "output_type": "stream",
       "stream": "stdout",
       "text": [
        "\n",
        "invalid wave \"0\" in row 9970\n",
        "invalid wave \"0\" in row 9974\n",
        "invalid wave \"0\" in row 9979\n",
        "invalid wave \"0\" in row 10002"
       ]
      },
      {
       "output_type": "stream",
       "stream": "stdout",
       "text": [
        "\n",
        "non-integer wave \"\" in row 10007\n",
        "non-integer wave \"\" in row 10012\n",
        "invalid wave \"0\" in row 10016\n",
        "invalid wave \"0\" in row 10021\n",
        "invalid wave \"0\" in row 10029\n",
        "invalid wave \"0\" in row 10034"
       ]
      },
      {
       "output_type": "stream",
       "stream": "stdout",
       "text": [
        "\n",
        "non-integer wave \"\" in row 10039\n",
        "invalid wave \"0\" in row 10048\n",
        "invalid wave \"0\" in row 10052\n",
        "invalid wave \"0\" in row 10061\n",
        "invalid wave \"0\" in row 10066"
       ]
      },
      {
       "output_type": "stream",
       "stream": "stdout",
       "text": [
        "\n",
        "invalid wave \"0\" in row 10073\n",
        "invalid wave \"0\" in row 10078\n",
        "invalid wave \"0\" in row 10092\n",
        "invalid wave \"0\" in row 10096"
       ]
      },
      {
       "output_type": "stream",
       "stream": "stdout",
       "text": [
        "\n",
        "invalid wave \"0\" in row 10103\n",
        "invalid wave \"0\" in row 10108\n",
        "invalid wave \"0\" in row 10124"
       ]
      },
      {
       "output_type": "stream",
       "stream": "stdout",
       "text": [
        "\n",
        "invalid wave \"0\" in row 10131\n",
        "invalid wave \"0\" in row 10136\n",
        "invalid wave \"0\" in row 10143\n",
        "invalid wave \"0\" in row 10148\n",
        "invalid wave \"0\" in row 10153\n",
        "invalid wave \"0\" in row 10158"
       ]
      },
      {
       "output_type": "stream",
       "stream": "stdout",
       "text": [
        "\n",
        "invalid wave \"0\" in row 10164\n",
        "invalid wave \"0\" in row 10173\n",
        "invalid wave \"0\" in row 10182\n",
        "invalid wave \"0\" in row 10190"
       ]
      },
      {
       "output_type": "stream",
       "stream": "stdout",
       "text": [
        "\n",
        "invalid wave \"0\" in row 10198\n",
        "invalid wave \"0\" in row 10208\n",
        "invalid wave \"0\" in row 10222"
       ]
      },
      {
       "output_type": "stream",
       "stream": "stdout",
       "text": [
        "\n",
        "invalid wave \"0\" in row 10227\n",
        "invalid wave \"0\" in row 10232\n",
        "invalid wave \"0\" in row 10242\n",
        "invalid wave \"0\" in row 10247\n",
        "non-integer wave \"\" in row 10252"
       ]
      },
      {
       "output_type": "stream",
       "stream": "stdout",
       "text": [
        "\n",
        "invalid wave \"0\" in row 10272\n",
        "invalid wave \"0\" in row 10276\n",
        "invalid wave \"0\" in row 10285"
       ]
      },
      {
       "output_type": "stream",
       "stream": "stdout",
       "text": [
        "\n",
        "invalid wave \"0\" in row 10290\n",
        "invalid wave \"0\" in row 10294\n",
        "invalid wave \"0\" in row 10298\n",
        "invalid wave \"0\" in row 10305\n",
        "invalid wave \"0\" in row 10312\n",
        "invalid wave \"0\" in row 10318"
       ]
      },
      {
       "output_type": "stream",
       "stream": "stdout",
       "text": [
        "\n",
        "invalid wave \"0\" in row 10323\n",
        "invalid wave \"0\" in row 10328\n",
        "invalid wave \"0\" in row 10332\n",
        "invalid wave \"0\" in row 10337\n",
        "invalid wave \"0\" in row 10350"
       ]
      },
      {
       "output_type": "stream",
       "stream": "stdout",
       "text": [
        "\n",
        "invalid wave \"0\" in row 10369\n",
        "invalid wave \"0\" in row 10375\n",
        "invalid wave \"0\" in row 10380"
       ]
      },
      {
       "output_type": "stream",
       "stream": "stdout",
       "text": [
        "\n",
        "invalid wave \"0\" in row 10385\n",
        "invalid wave \"0\" in row 10390\n",
        "invalid wave \"0\" in row 10396\n",
        "invalid wave \"0\" in row 10400\n",
        "invalid wave \"0\" in row 10419"
       ]
      },
      {
       "output_type": "stream",
       "stream": "stdout",
       "text": [
        "\n",
        "invalid wave \"0\" in row 10424\n",
        "invalid wave \"0\" in row 10429\n",
        "invalid wave \"0\" in row 10434\n",
        "invalid wave \"0\" in row 10445\n",
        "invalid wave \"0\" in row 10452"
       ]
      },
      {
       "output_type": "stream",
       "stream": "stdout",
       "text": [
        "\n",
        "invalid wave \"0\" in row 10456\n",
        "invalid wave \"0\" in row 10461\n",
        "invalid wave \"0\" in row 10476\n",
        "invalid wave \"0\" in row 10480\n",
        "invalid wave \"0\" in row 10485"
       ]
      },
      {
       "output_type": "stream",
       "stream": "stdout",
       "text": [
        "\n",
        "invalid wave \"0\" in row 10496\n",
        "invalid wave \"0\" in row 10501\n",
        "invalid wave \"0\" in row 10512"
       ]
      },
      {
       "output_type": "stream",
       "stream": "stdout",
       "text": [
        "\n",
        "invalid wave \"0\" in row 10556"
       ]
      },
      {
       "output_type": "stream",
       "stream": "stdout",
       "text": [
        "\n",
        "invalid wave \"0\" in row 10561\n",
        "invalid wave \"0\" in row 10566\n",
        "invalid wave \"0\" in row 10579\n",
        "non-integer wave \"\" in row 10584\n",
        "invalid wave \"0\" in row 10588"
       ]
      },
      {
       "output_type": "stream",
       "stream": "stdout",
       "text": [
        "\n",
        "invalid wave \"0\" in row 10593\n",
        "invalid wave \"0\" in row 10607\n",
        "invalid wave \"0\" in row 10616"
       ]
      },
      {
       "output_type": "stream",
       "stream": "stdout",
       "text": [
        "\n",
        "non-integer wave \"\" in row 10620\n",
        "invalid wave \"0\" in row 10631\n",
        "invalid wave \"0\" in row 10635\n",
        "invalid wave \"0\" in row 10639\n",
        "invalid wave \"0\" in row 10643\n",
        "invalid wave \"0\" in row 10650"
       ]
      },
      {
       "output_type": "stream",
       "stream": "stdout",
       "text": [
        "\n",
        "invalid wave \"0\" in row 10670\n",
        "invalid wave \"0\" in row 10675\n",
        "invalid wave \"0\" in row 10721"
       ]
      },
      {
       "output_type": "stream",
       "stream": "stdout",
       "text": [
        "\n",
        "invalid wave \"0\" in row 10730\n",
        "invalid wave \"0\" in row 10735\n",
        "invalid wave \"0\" in row 10740\n",
        "invalid wave \"0\" in row 10749\n",
        "invalid wave \"0\" in row 10752"
       ]
      },
      {
       "output_type": "stream",
       "stream": "stdout",
       "text": [
        "\n",
        "invalid wave \"0\" in row 10756\n",
        "invalid wave \"0\" in row 10760\n",
        "invalid wave \"0\" in row 10778\n",
        "invalid wave \"0\" in row 10783"
       ]
      },
      {
       "output_type": "stream",
       "stream": "stdout",
       "text": [
        "\n",
        "invalid wave \"0\" in row 10791\n",
        "invalid wave \"0\" in row 10796\n",
        "invalid wave \"0\" in row 10805\n",
        "invalid wave \"0\" in row 10810\n",
        "invalid wave \"0\" in row 10817"
       ]
      },
      {
       "output_type": "stream",
       "stream": "stdout",
       "text": [
        "\n",
        "non-integer wave \"\" in row 10822\n",
        "invalid wave \"0\" in row 10826\n",
        "invalid wave \"0\" in row 10840\n",
        "invalid wave \"0\" in row 10858"
       ]
      },
      {
       "output_type": "stream",
       "stream": "stdout",
       "text": [
        "\n",
        "invalid wave \"0\" in row 10865\n",
        "invalid wave \"0\" in row 10880\n",
        "invalid wave \"0\" in row 10892"
       ]
      },
      {
       "output_type": "stream",
       "stream": "stdout",
       "text": [
        "\n",
        "invalid wave \"0\" in row 10897\n",
        "invalid wave \"0\" in row 10911\n",
        "invalid wave \"0\" in row 10917\n",
        "invalid wave \"0\" in row 10922"
       ]
      },
      {
       "output_type": "stream",
       "stream": "stdout",
       "text": [
        "\n",
        "invalid wave \"0\" in row 10942\n",
        "invalid wave \"0\" in row 10959"
       ]
      },
      {
       "output_type": "stream",
       "stream": "stdout",
       "text": [
        "\n",
        "invalid wave \"0\" in row 10970\n",
        "invalid wave \"0\" in row 10975\n",
        "invalid wave \"0\" in row 10980\n",
        "invalid wave \"0\" in row 10992"
       ]
      },
      {
       "output_type": "stream",
       "stream": "stdout",
       "text": [
        "\n",
        "invalid wave \"0\" in row 11000\n",
        "non-integer wave \"\" in row 11005\n",
        "invalid wave \"0\" in row 11012\n",
        "invalid wave \"0\" in row 11017\n",
        "invalid wave \"0\" in row 11022"
       ]
      },
      {
       "output_type": "stream",
       "stream": "stdout",
       "text": [
        "\n",
        "invalid wave \"0\" in row 11027\n",
        "invalid wave \"0\" in row 11035\n",
        "invalid wave \"0\" in row 11040\n",
        "invalid wave \"0\" in row 11065"
       ]
      },
      {
       "output_type": "stream",
       "stream": "stdout",
       "text": [
        "\n",
        "non-integer wave \"\" in row 11071\n",
        "invalid wave \"0\" in row 11076\n",
        "invalid wave \"0\" in row 11087\n",
        "invalid wave \"0\" in row 11091\n",
        "invalid wave \"0\" in row 11115"
       ]
      },
      {
       "output_type": "stream",
       "stream": "stdout",
       "text": [
        "\n",
        "invalid wave \"0\" in row 11122\n",
        "invalid wave \"0\" in row 11127\n",
        "invalid wave \"0\" in row 11136\n",
        "invalid wave \"0\" in row 11152"
       ]
      },
      {
       "output_type": "stream",
       "stream": "stdout",
       "text": [
        "\n",
        "invalid wave \"0\" in row 11158\n",
        "invalid wave \"0\" in row 11166\n",
        "invalid wave \"0\" in row 11171\n",
        "invalid wave \"0\" in row 11176\n",
        "invalid wave \"0\" in row 11181"
       ]
      },
      {
       "output_type": "stream",
       "stream": "stdout",
       "text": [
        "\n",
        "invalid wave \"0\" in row 11192\n",
        "invalid wave \"0\" in row 11197\n",
        "invalid wave \"0\" in row 11206\n",
        "invalid wave \"0\" in row 11214"
       ]
      },
      {
       "output_type": "stream",
       "stream": "stdout",
       "text": [
        "\n",
        "invalid wave \"0\" in row 11219\n",
        "invalid wave \"0\" in row 11224\n",
        "non-integer wave \"\" in row 11238\n",
        "invalid wave \"0\" in row 11243"
       ]
      },
      {
       "output_type": "stream",
       "stream": "stdout",
       "text": [
        "\n",
        "invalid wave \"0\" in row 11253\n",
        "invalid wave \"0\" in row 11258\n",
        "invalid wave \"0\" in row 11267\n",
        "non-integer wave \"\" in row 11271\n",
        "invalid wave \"0\" in row 11278"
       ]
      },
      {
       "output_type": "stream",
       "stream": "stdout",
       "text": [
        "\n",
        "invalid wave \"0\" in row 11283\n",
        "invalid wave \"0\" in row 11293\n",
        "invalid wave \"0\" in row 11298\n",
        "invalid wave \"0\" in row 11305\n",
        "invalid wave \"0\" in row 11309"
       ]
      },
      {
       "output_type": "stream",
       "stream": "stdout",
       "text": [
        "\n",
        "invalid wave \"0\" in row 11317\n",
        "invalid wave \"0\" in row 11322\n",
        "invalid wave \"0\" in row 11327\n",
        "invalid wave \"0\" in row 11332\n",
        "invalid wave \"0\" in row 11356"
       ]
      },
      {
       "output_type": "stream",
       "stream": "stdout",
       "text": [
        "\n",
        "invalid wave \"0\" in row 11361\n",
        "invalid wave \"0\" in row 11368\n",
        "invalid wave \"0\" in row 11375\n",
        "invalid wave \"0\" in row 11390"
       ]
      },
      {
       "output_type": "stream",
       "stream": "stdout",
       "text": [
        "\n",
        "invalid wave \"0\" in row 11397\n",
        "invalid wave \"0\" in row 11402\n",
        "invalid wave \"0\" in row 11436"
       ]
      },
      {
       "output_type": "stream",
       "stream": "stdout",
       "text": [
        "\n",
        "invalid wave \"0\" in row 11441\n",
        "invalid wave \"0\" in row 11467"
       ]
      },
      {
       "output_type": "stream",
       "stream": "stdout",
       "text": [
        "\n",
        "invalid wave \"0\" in row 11472\n",
        "invalid wave \"0\" in row 11480\n",
        "invalid wave \"0\" in row 11492\n",
        "invalid wave \"0\" in row 11496"
       ]
      },
      {
       "output_type": "stream",
       "stream": "stdout",
       "text": [
        "\n",
        "invalid wave \"0\" in row 11506\n",
        "invalid wave \"0\" in row 11513\n",
        "invalid wave \"0\" in row 11526"
       ]
      },
      {
       "output_type": "stream",
       "stream": "stdout",
       "text": [
        "\n",
        "invalid wave \"0\" in row 11531\n",
        "invalid wave \"0\" in row 11538\n",
        "invalid wave \"0\" in row 11551\n",
        "invalid wave \"0\" in row 11566"
       ]
      },
      {
       "output_type": "stream",
       "stream": "stdout",
       "text": [
        "\n",
        "invalid wave \"0\" in row 11570\n",
        "invalid wave \"0\" in row 11580\n",
        "invalid wave \"0\" in row 11585\n",
        "invalid wave \"0\" in row 11589\n",
        "invalid wave \"0\" in row 11595\n",
        "invalid wave \"0\" in row 11603"
       ]
      },
      {
       "output_type": "stream",
       "stream": "stdout",
       "text": [
        "\n",
        "invalid wave \"0\" in row 11611\n",
        "invalid wave \"0\" in row 11615\n",
        "invalid wave \"0\" in row 11620\n",
        "invalid wave \"0\" in row 11624\n",
        "invalid wave \"0\" in row 11630\n",
        "invalid wave \"0\" in row 11634"
       ]
      },
      {
       "output_type": "stream",
       "stream": "stdout",
       "text": [
        "\n",
        "invalid wave \"0\" in row 11652\n",
        "invalid wave \"0\" in row 11662"
       ]
      },
      {
       "output_type": "stream",
       "stream": "stdout",
       "text": [
        "\n",
        "invalid wave \"0\" in row 11670\n",
        "invalid wave \"0\" in row 11675\n",
        "invalid wave \"0\" in row 11699"
       ]
      },
      {
       "output_type": "stream",
       "stream": "stdout",
       "text": [
        "\n",
        "invalid wave \"0\" in row 11710\n",
        "invalid wave \"0\" in row 11734"
       ]
      },
      {
       "output_type": "stream",
       "stream": "stdout",
       "text": [
        "\n",
        "invalid wave \"0\" in row 11741\n",
        "invalid wave \"0\" in row 11746\n",
        "invalid wave \"0\" in row 11757\n",
        "invalid wave \"0\" in row 11773"
       ]
      },
      {
       "output_type": "stream",
       "stream": "stdout",
       "text": [
        "\n",
        "invalid wave \"0\" in row 11777\n",
        "invalid wave \"0\" in row 11781\n",
        "invalid wave \"0\" in row 11791\n",
        "invalid wave \"0\" in row 11795\n",
        "non-integer wave \"\" in row 11799\n",
        "invalid wave \"0\" in row 11804"
       ]
      },
      {
       "output_type": "stream",
       "stream": "stdout",
       "text": [
        "\n",
        "invalid wave \"0\" in row 11810\n",
        "invalid wave \"0\" in row 11816\n",
        "invalid wave \"0\" in row 11824\n",
        "invalid wave \"0\" in row 11847"
       ]
      },
      {
       "output_type": "stream",
       "stream": "stdout",
       "text": [
        "\n",
        "invalid wave \"0\" in row 11863\n",
        "invalid wave \"0\" in row 11880"
       ]
      },
      {
       "output_type": "stream",
       "stream": "stdout",
       "text": [
        "\n",
        "invalid wave \"0\" in row 11885\n",
        "invalid wave \"0\" in row 11903\n",
        "invalid wave \"0\" in row 11908"
       ]
      },
      {
       "output_type": "stream",
       "stream": "stdout",
       "text": [
        "\n",
        "invalid wave \"0\" in row 11915\n",
        "invalid wave \"0\" in row 11932\n",
        "invalid wave \"0\" in row 11937"
       ]
      },
      {
       "output_type": "stream",
       "stream": "stdout",
       "text": [
        "\n",
        "invalid wave \"0\" in row 11942\n",
        "invalid wave \"0\" in row 11947\n",
        "invalid wave \"0\" in row 11959\n",
        "invalid wave \"0\" in row 11964\n",
        "invalid wave \"0\" in row 11976"
       ]
      },
      {
       "output_type": "stream",
       "stream": "stdout",
       "text": [
        "\n",
        "non-integer wave \"\" in row 11985\n",
        "invalid wave \"0\" in row 11997\n",
        "invalid wave \"0\" in row 12001\n",
        "invalid wave \"0\" in row 12008"
       ]
      },
      {
       "output_type": "stream",
       "stream": "stdout",
       "text": [
        "\n",
        "invalid wave \"0\" in row 12015\n",
        "invalid wave \"0\" in row 12019\n",
        "invalid wave \"0\" in row 12029\n",
        "non-integer wave \"\" in row 12034\n",
        "invalid wave \"0\" in row 12042"
       ]
      },
      {
       "output_type": "stream",
       "stream": "stdout",
       "text": [
        "\n",
        "invalid wave \"0\" in row 12053\n",
        "invalid wave \"0\" in row 12058\n",
        "invalid wave \"0\" in row 12068\n",
        "invalid wave \"0\" in row 12073"
       ]
      },
      {
       "output_type": "stream",
       "stream": "stdout",
       "text": [
        "\n",
        "invalid wave \"0\" in row 12078\n",
        "non-integer wave \"\" in row 12083\n",
        "invalid wave \"0\" in row 12089\n",
        "invalid wave \"0\" in row 12093\n",
        "non-integer wave \"\" in row 12097\n",
        "invalid wave \"0\" in row 12101\n",
        "invalid wave \"0\" in row 12106"
       ]
      },
      {
       "output_type": "stream",
       "stream": "stdout",
       "text": [
        "\n",
        "invalid wave \"0\" in row 12112\n",
        "invalid wave \"0\" in row 12118\n",
        "invalid wave \"0\" in row 12125\n",
        "invalid wave \"0\" in row 12129\n",
        "invalid wave \"0\" in row 12140"
       ]
      },
      {
       "output_type": "stream",
       "stream": "stdout",
       "text": [
        "\n",
        "invalid wave \"0\" in row 12145\n",
        "invalid wave \"0\" in row 12150\n",
        "invalid wave \"0\" in row 12167\n",
        "invalid wave \"0\" in row 12178"
       ]
      },
      {
       "output_type": "stream",
       "stream": "stdout",
       "text": [
        "\n",
        "invalid wave \"0\" in row 12188\n",
        "invalid wave \"0\" in row 12195\n",
        "invalid wave \"0\" in row 12208"
       ]
      },
      {
       "output_type": "stream",
       "stream": "stdout",
       "text": [
        "\n",
        "invalid wave \"0\" in row 12213\n",
        "invalid wave \"0\" in row 12218\n",
        "invalid wave \"0\" in row 12249"
       ]
      },
      {
       "output_type": "stream",
       "stream": "stdout",
       "text": [
        "\n",
        "invalid wave \"0\" in row 12263\n",
        "invalid wave \"0\" in row 12269\n",
        "invalid wave \"0\" in row 12285"
       ]
      },
      {
       "output_type": "stream",
       "stream": "stdout",
       "text": [
        "\n",
        "invalid wave \"0\" in row 12293\n",
        "invalid wave \"0\" in row 12302\n",
        "invalid wave \"0\" in row 12307\n",
        "invalid wave \"0\" in row 12315"
       ]
      },
      {
       "output_type": "stream",
       "stream": "stdout",
       "text": [
        "\n",
        "invalid wave \"0\" in row 12329\n",
        "non-integer wave \"\" in row 12333\n",
        "invalid wave \"0\" in row 12337\n",
        "invalid wave \"0\" in row 12342\n",
        "invalid wave \"0\" in row 12347"
       ]
      },
      {
       "output_type": "stream",
       "stream": "stdout",
       "text": [
        "\n",
        "invalid wave \"0\" in row 12355\n",
        "invalid wave \"0\" in row 12382"
       ]
      },
      {
       "output_type": "stream",
       "stream": "stdout",
       "text": [
        "\n",
        "invalid wave \"0\" in row 12392\n",
        "invalid wave \"0\" in row 12397\n",
        "invalid wave \"0\" in row 12404\n",
        "invalid wave \"0\" in row 12417"
       ]
      },
      {
       "output_type": "stream",
       "stream": "stdout",
       "text": [
        "\n",
        "invalid wave \"0\" in row 12430\n",
        "invalid wave \"0\" in row 12437\n",
        "invalid wave \"0\" in row 12443\n",
        "invalid wave \"0\" in row 12448"
       ]
      },
      {
       "output_type": "stream",
       "stream": "stdout",
       "text": [
        "\n",
        "invalid wave \"0\" in row 12453\n",
        "invalid wave \"0\" in row 12466\n",
        "invalid wave \"0\" in row 12479"
       ]
      },
      {
       "output_type": "stream",
       "stream": "stdout",
       "text": [
        "\n",
        "invalid wave \"0\" in row 12487\n",
        "invalid wave \"0\" in row 12495\n",
        "invalid wave \"0\" in row 12513"
       ]
      },
      {
       "output_type": "stream",
       "stream": "stdout",
       "text": [
        "\n",
        "invalid wave \"0\" in row 12524\n",
        "non-integer wave \"\" in row 12529\n",
        "invalid wave \"0\" in row 12534\n",
        "invalid wave \"0\" in row 12552"
       ]
      },
      {
       "output_type": "stream",
       "stream": "stdout",
       "text": [
        "\n",
        "invalid wave \"0\" in row 12560\n",
        "invalid wave \"0\" in row 12565\n",
        "invalid wave \"0\" in row 12580"
       ]
      },
      {
       "output_type": "stream",
       "stream": "stdout",
       "text": [
        "\n",
        "invalid wave \"0\" in row 12586\n",
        "invalid wave \"0\" in row 12609"
       ]
      },
      {
       "output_type": "stream",
       "stream": "stdout",
       "text": [
        "\n",
        "invalid wave \"0\" in row 12613\n",
        "invalid wave \"0\" in row 12634\n",
        "invalid wave \"0\" in row 12639"
       ]
      },
      {
       "output_type": "stream",
       "stream": "stdout",
       "text": [
        "\n",
        "invalid wave \"0\" in row 12644\n",
        "invalid wave \"0\" in row 12649\n",
        "non-integer wave \"\" in row 12665\n",
        "invalid wave \"0\" in row 12671"
       ]
      },
      {
       "output_type": "stream",
       "stream": "stdout",
       "text": [
        "\n",
        "non-integer wave \"\" in row 12691\n",
        "invalid wave \"0\" in row 12702"
       ]
      },
      {
       "output_type": "stream",
       "stream": "stdout",
       "text": [
        "\n",
        "invalid wave \"0\" in row 12744"
       ]
      },
      {
       "output_type": "stream",
       "stream": "stdout",
       "text": [
        "\n",
        "invalid wave \"0\" in row 12770"
       ]
      },
      {
       "output_type": "stream",
       "stream": "stdout",
       "text": [
        "\n",
        "invalid wave \"0\" in row 12777\n",
        "invalid wave \"0\" in row 12782\n",
        "invalid wave \"0\" in row 12786\n",
        "invalid wave \"0\" in row 12792\n",
        "invalid wave \"0\" in row 12806"
       ]
      },
      {
       "output_type": "stream",
       "stream": "stdout",
       "text": [
        "\n",
        "invalid wave \"0\" in row 12811\n",
        "invalid wave \"0\" in row 12818\n",
        "invalid wave \"0\" in row 12823\n",
        "invalid wave \"0\" in row 12830\n",
        "invalid wave \"0\" in row 12840"
       ]
      },
      {
       "output_type": "stream",
       "stream": "stdout",
       "text": [
        "\n",
        "invalid wave \"0\" in row 12845\n",
        "invalid wave \"0\" in row 12850\n",
        "invalid wave \"0\" in row 12855\n",
        "invalid wave \"0\" in row 12866\n",
        "invalid wave \"0\" in row 12871"
       ]
      },
      {
       "output_type": "stream",
       "stream": "stdout",
       "text": [
        "\n",
        "invalid wave \"0\" in row 12877\n",
        "invalid wave \"0\" in row 12902"
       ]
      },
      {
       "output_type": "stream",
       "stream": "stdout",
       "text": [
        "\n",
        "invalid wave \"0\" in row 12906\n",
        "invalid wave \"0\" in row 12942"
       ]
      },
      {
       "output_type": "stream",
       "stream": "stdout",
       "text": [
        "\n",
        "invalid wave \"0\" in row 12963\n",
        "invalid wave \"0\" in row 12968"
       ]
      },
      {
       "output_type": "stream",
       "stream": "stdout",
       "text": [
        "\n",
        "invalid wave \"0\" in row 12977\n",
        "invalid wave \"0\" in row 12982\n",
        "invalid wave \"0\" in row 12989\n",
        "non-integer wave \"\" in row 13007"
       ]
      },
      {
       "output_type": "stream",
       "stream": "stdout",
       "text": [
        "\n",
        "invalid wave \"0\" in row 13015\n",
        "invalid wave \"0\" in row 13018\n",
        "invalid wave \"0\" in row 13031\n",
        "invalid wave \"0\" in row 13035\n",
        "invalid wave \"0\" in row 13045"
       ]
      },
      {
       "output_type": "stream",
       "stream": "stdout",
       "text": [
        "\n",
        "invalid wave \"0\" in row 13051\n",
        "invalid wave \"0\" in row 13064\n",
        "invalid wave \"0\" in row 13068\n",
        "non-integer wave \"\" in row 13072\n",
        "invalid wave \"0\" in row 13077"
       ]
      },
      {
       "output_type": "stream",
       "stream": "stdout",
       "text": [
        "\n",
        "invalid wave \"0\" in row 13081\n",
        "invalid wave \"0\" in row 13089\n",
        "invalid wave \"0\" in row 13094\n",
        "invalid wave \"0\" in row 13101\n",
        "invalid wave \"0\" in row 13106\n",
        "invalid wave \"0\" in row 13110"
       ]
      },
      {
       "output_type": "stream",
       "stream": "stdout",
       "text": [
        "\n",
        "invalid wave \"0\" in row 13116\n",
        "invalid wave \"0\" in row 13135\n",
        "invalid wave \"0\" in row 13155"
       ]
      },
      {
       "output_type": "stream",
       "stream": "stdout",
       "text": [
        "\n",
        "invalid wave \"0\" in row 13166\n",
        "invalid wave \"0\" in row 13171\n",
        "invalid wave \"0\" in row 13176\n",
        "invalid wave \"0\" in row 13183\n",
        "invalid wave \"0\" in row 13189"
       ]
      },
      {
       "output_type": "stream",
       "stream": "stdout",
       "text": [
        "\n",
        "invalid wave \"0\" in row 13193\n",
        "invalid wave \"0\" in row 13198\n",
        "invalid wave \"0\" in row 13206\n",
        "invalid wave \"0\" in row 13210\n",
        "invalid wave \"0\" in row 13214\n",
        "invalid wave \"0\" in row 13220\n",
        "invalid wave \"0\" in row 13238"
       ]
      },
      {
       "output_type": "stream",
       "stream": "stdout",
       "text": [
        "\n",
        "invalid wave \"0\" in row 13242\n",
        "invalid wave \"0\" in row 13250\n",
        "invalid wave \"0\" in row 13265\n",
        "invalid wave \"0\" in row 13285"
       ]
      },
      {
       "output_type": "stream",
       "stream": "stdout",
       "text": [
        "\n",
        "invalid wave \"0\" in row 13301\n",
        "invalid wave \"0\" in row 13309\n",
        "invalid wave \"0\" in row 13328"
       ]
      },
      {
       "output_type": "stream",
       "stream": "stdout",
       "text": [
        "\n",
        "invalid wave \"0\" in row 13333\n",
        "invalid wave \"0\" in row 13349\n",
        "invalid wave \"0\" in row 13368"
       ]
      },
      {
       "output_type": "stream",
       "stream": "stdout",
       "text": [
        "\n",
        "invalid wave \"0\" in row 13372\n",
        "invalid wave \"0\" in row 13377\n",
        "invalid wave \"0\" in row 13387\n",
        "invalid wave \"0\" in row 13392\n",
        "non-integer wave \"\" in row 13397\n",
        "invalid wave \"0\" in row 13401"
       ]
      },
      {
       "output_type": "stream",
       "stream": "stdout",
       "text": [
        "\n",
        "invalid wave \"0\" in row 13405\n",
        "non-integer wave \"\" in row 13429"
       ]
      },
      {
       "output_type": "stream",
       "stream": "stdout",
       "text": [
        "\n",
        "invalid wave \"0\" in row 13434\n",
        "invalid wave \"0\" in row 13439\n",
        "invalid wave \"0\" in row 13450\n",
        "invalid wave \"0\" in row 13469"
       ]
      },
      {
       "output_type": "stream",
       "stream": "stdout",
       "text": [
        "\n",
        "invalid wave \"0\" in row 13474\n",
        "invalid wave \"0\" in row 13490\n",
        "invalid wave \"0\" in row 13496"
       ]
      },
      {
       "output_type": "stream",
       "stream": "stdout",
       "text": [
        "\n",
        "invalid wave \"0\" in row 13501\n",
        "invalid wave \"0\" in row 13517\n",
        "invalid wave \"0\" in row 13524"
       ]
      },
      {
       "output_type": "stream",
       "stream": "stdout",
       "text": [
        "\n",
        "invalid wave \"0\" in row 13529\n",
        "invalid wave \"0\" in row 13533\n",
        "invalid wave \"0\" in row 13540\n",
        "invalid wave \"0\" in row 13546\n",
        "invalid wave \"0\" in row 13553"
       ]
      },
      {
       "output_type": "stream",
       "stream": "stdout",
       "text": [
        "\n",
        "invalid wave \"0\" in row 13562\n",
        "invalid wave \"0\" in row 13566\n",
        "invalid wave \"0\" in row 13570\n",
        "invalid wave \"0\" in row 13576\n",
        "invalid wave \"0\" in row 13587"
       ]
      },
      {
       "output_type": "stream",
       "stream": "stdout",
       "text": [
        "\n",
        "invalid wave \"0\" in row 13592\n",
        "invalid wave \"0\" in row 13597\n",
        "invalid wave \"0\" in row 13601\n",
        "invalid wave \"0\" in row 13607\n",
        "invalid wave \"0\" in row 13614\n",
        "invalid wave \"0\" in row 13619"
       ]
      },
      {
       "output_type": "stream",
       "stream": "stdout",
       "text": [
        "\n",
        "invalid wave \"0\" in row 13626\n",
        "invalid wave \"0\" in row 13630\n",
        "invalid wave \"0\" in row 13635\n",
        "invalid wave \"0\" in row 13639\n",
        "invalid wave \"0\" in row 13648\n",
        "invalid wave \"0\" in row 13653"
       ]
      },
      {
       "output_type": "stream",
       "stream": "stdout",
       "text": [
        "\n",
        "invalid wave \"0\" in row 13681"
       ]
      },
      {
       "output_type": "stream",
       "stream": "stdout",
       "text": [
        "\n",
        "invalid wave \"0\" in row 13686\n",
        "invalid wave \"0\" in row 13691\n",
        "non-integer wave \"\" in row 13698\n",
        "invalid wave \"0\" in row 13703\n",
        "invalid wave \"0\" in row 13715"
       ]
      },
      {
       "output_type": "stream",
       "stream": "stdout",
       "text": [
        "\n",
        "invalid wave \"0\" in row 13723\n",
        "invalid wave \"0\" in row 13729\n",
        "invalid wave \"0\" in row 13734\n",
        "invalid wave \"0\" in row 13745"
       ]
      },
      {
       "output_type": "stream",
       "stream": "stdout",
       "text": [
        "\n",
        "invalid wave \"0\" in row 13756\n",
        "invalid wave \"0\" in row 13767\n",
        "non-integer wave \"\" in row 13771\n",
        "invalid wave \"0\" in row 13785"
       ]
      },
      {
       "output_type": "stream",
       "stream": "stdout",
       "text": [
        "\n",
        "invalid wave \"0\" in row 13790\n",
        "invalid wave \"0\" in row 13795\n",
        "invalid wave \"0\" in row 13825"
       ]
      },
      {
       "output_type": "stream",
       "stream": "stdout",
       "text": [
        "\n",
        "invalid wave \"0\" in row 13843\n",
        "invalid wave \"0\" in row 13848\n",
        "invalid wave \"0\" in row 13857"
       ]
      },
      {
       "output_type": "stream",
       "stream": "stdout",
       "text": [
        "\n",
        "invalid wave \"0\" in row 13861\n",
        "invalid wave \"0\" in row 13867\n",
        "invalid wave \"0\" in row 13871\n",
        "invalid wave \"0\" in row 13876\n",
        "non-integer wave \"\" in row 13884\n",
        "invalid wave \"0\" in row 13892"
       ]
      },
      {
       "output_type": "stream",
       "stream": "stdout",
       "text": [
        "\n",
        "invalid wave \"0\" in row 13907\n",
        "invalid wave \"0\" in row 13914\n",
        "invalid wave \"0\" in row 13940"
       ]
      },
      {
       "output_type": "stream",
       "stream": "stdout",
       "text": [
        "\n",
        "invalid wave \"0\" in row 13945\n",
        "invalid wave \"0\" in row 13949\n",
        "invalid wave \"0\" in row 13964\n",
        "invalid wave \"0\" in row 13970"
       ]
      },
      {
       "output_type": "stream",
       "stream": "stdout",
       "text": [
        "\n",
        "invalid wave \"0\" in row 13975\n",
        "invalid wave \"0\" in row 14009"
       ]
      },
      {
       "output_type": "stream",
       "stream": "stdout",
       "text": [
        "\n",
        "invalid wave \"0\" in row 14016\n",
        "invalid wave \"0\" in row 14030\n",
        "invalid wave \"0\" in row 14035\n",
        "invalid wave \"0\" in row 14042"
       ]
      },
      {
       "output_type": "stream",
       "stream": "stdout",
       "text": [
        "\n",
        "non-integer wave \"\" in row 14047\n",
        "invalid wave \"0\" in row 14052\n",
        "invalid wave \"0\" in row 14059\n",
        "invalid wave \"0\" in row 14064\n",
        "invalid wave \"0\" in row 14071\n",
        "invalid wave \"0\" in row 14079"
       ]
      },
      {
       "output_type": "stream",
       "stream": "stdout",
       "text": [
        "\n",
        "invalid wave \"0\" in row 14087\n",
        "invalid wave \"0\" in row 14093\n",
        "invalid wave \"0\" in row 14097\n",
        "invalid wave \"0\" in row 14101\n",
        "invalid wave \"0\" in row 14105\n",
        "invalid wave \"0\" in row 14110"
       ]
      },
      {
       "output_type": "stream",
       "stream": "stdout",
       "text": [
        "\n",
        "invalid wave \"0\" in row 14118\n",
        "invalid wave \"0\" in row 14128\n",
        "invalid wave \"0\" in row 14140"
       ]
      },
      {
       "output_type": "stream",
       "stream": "stdout",
       "text": [
        "\n",
        "invalid wave \"0\" in row 14145\n",
        "invalid wave \"0\" in row 14154\n",
        "invalid wave \"0\" in row 14161\n",
        "invalid wave \"0\" in row 14166\n",
        "invalid wave \"0\" in row 14171"
       ]
      },
      {
       "output_type": "stream",
       "stream": "stdout",
       "text": [
        "\n",
        "invalid wave \"0\" in row 14176\n",
        "non-integer wave \"\" in row 14188\n",
        "invalid wave \"0\" in row 14192\n",
        "invalid wave \"0\" in row 14199\n",
        "non-integer wave \"\" in row 14213"
       ]
      },
      {
       "output_type": "stream",
       "stream": "stdout",
       "text": [
        "\n",
        "invalid wave \"0\" in row 14224\n",
        "non-integer wave \"\" in row 14240\n",
        "invalid wave \"0\" in row 14244"
       ]
      },
      {
       "output_type": "stream",
       "stream": "stdout",
       "text": [
        "\n",
        "invalid wave \"0\" in row 14259\n",
        "invalid wave \"0\" in row 14263\n",
        "invalid wave \"0\" in row 14268\n",
        "non-integer wave \"\" in row 14272\n",
        "invalid wave \"0\" in row 14276"
       ]
      },
      {
       "output_type": "stream",
       "stream": "stdout",
       "text": [
        "\n",
        "invalid wave \"0\" in row 14281\n",
        "invalid wave \"0\" in row 14286\n",
        "invalid wave \"0\" in row 14291\n",
        "invalid wave \"0\" in row 14299\n",
        "invalid wave \"0\" in row 14317"
       ]
      },
      {
       "output_type": "stream",
       "stream": "stdout",
       "text": [
        "\n",
        "invalid wave \"0\" in row 14321\n",
        "invalid wave \"0\" in row 14325\n",
        "invalid wave \"0\" in row 14330\n",
        "invalid wave \"0\" in row 14335\n",
        "invalid wave \"0\" in row 14340\n",
        "invalid wave \"0\" in row 14352"
       ]
      },
      {
       "output_type": "stream",
       "stream": "stdout",
       "text": [
        "\n",
        "invalid wave \"0\" in row 14360\n",
        "invalid wave \"0\" in row 14396"
       ]
      },
      {
       "output_type": "stream",
       "stream": "stdout",
       "text": [
        "\n",
        "invalid wave \"0\" in row 14401\n",
        "invalid wave \"0\" in row 14405\n",
        "invalid wave \"0\" in row 14431"
       ]
      },
      {
       "output_type": "stream",
       "stream": "stdout",
       "text": [
        "\n",
        "invalid wave \"0\" in row 14446\n",
        "invalid wave \"0\" in row 14493"
       ]
      },
      {
       "output_type": "stream",
       "stream": "stdout",
       "text": [
        "\n",
        "invalid wave \"0\" in row 14497\n",
        "invalid wave \"0\" in row 14501\n",
        "invalid wave \"0\" in row 14511\n",
        "invalid wave \"0\" in row 14516\n",
        "non-integer wave \"\" in row 14530"
       ]
      },
      {
       "output_type": "stream",
       "stream": "stdout",
       "text": [
        "\n",
        "invalid wave \"0\" in row 14545\n",
        "invalid wave \"0\" in row 14553\n",
        "invalid wave \"0\" in row 14561"
       ]
      },
      {
       "output_type": "stream",
       "stream": "stdout",
       "text": [
        "\n",
        "non-integer wave \"\" in row 14573\n",
        "invalid wave \"0\" in row 14578\n",
        "invalid wave \"0\" in row 14583\n",
        "invalid wave \"0\" in row 14591"
       ]
      },
      {
       "output_type": "stream",
       "stream": "stdout",
       "text": [
        "\n",
        "invalid wave \"0\" in row 14596\n",
        "invalid wave \"0\" in row 14600\n",
        "invalid wave \"0\" in row 14605\n",
        "invalid wave \"0\" in row 14615\n",
        "invalid wave \"0\" in row 14623"
       ]
      },
      {
       "output_type": "stream",
       "stream": "stdout",
       "text": [
        "\n",
        "invalid wave \"0\" in row 14638\n",
        "invalid wave \"0\" in row 14647\n",
        "invalid wave \"0\" in row 14650\n",
        "invalid wave \"0\" in row 14664"
       ]
      },
      {
       "output_type": "stream",
       "stream": "stdout",
       "text": [
        "\n",
        "invalid wave \"0\" in row 14675\n",
        "invalid wave \"0\" in row 14680\n",
        "invalid wave \"0\" in row 14694"
       ]
      },
      {
       "output_type": "stream",
       "stream": "stdout",
       "text": [
        "\n",
        "invalid wave \"0\" in row 14714\n",
        "invalid wave \"0\" in row 14737"
       ]
      },
      {
       "output_type": "stream",
       "stream": "stdout",
       "text": [
        "\n",
        "invalid wave \"0\" in row 14742\n",
        "invalid wave \"0\" in row 14746\n",
        "invalid wave \"0\" in row 14750\n",
        "invalid wave \"0\" in row 14754\n",
        "invalid wave \"0\" in row 14762\n",
        "invalid wave \"0\" in row 14773"
       ]
      },
      {
       "output_type": "stream",
       "stream": "stdout",
       "text": [
        "\n",
        "invalid wave \"0\" in row 14787\n",
        "invalid wave \"0\" in row 14801"
       ]
      },
      {
       "output_type": "stream",
       "stream": "stdout",
       "text": [
        "\n",
        "invalid wave \"0\" in row 14810\n",
        "invalid wave \"0\" in row 14839"
       ]
      },
      {
       "output_type": "stream",
       "stream": "stdout",
       "text": [
        "\n",
        "invalid wave \"0\" in row 14845\n",
        "invalid wave \"0\" in row 14851\n",
        "invalid wave \"0\" in row 14886"
       ]
      },
      {
       "output_type": "stream",
       "stream": "stdout",
       "text": [
        "\n",
        "invalid wave \"0\" in row 14889\n",
        "invalid wave \"0\" in row 14897\n",
        "invalid wave \"0\" in row 14903\n",
        "invalid wave \"0\" in row 14908\n",
        "invalid wave \"0\" in row 14934"
       ]
      },
      {
       "output_type": "stream",
       "stream": "stdout",
       "text": [
        "\n",
        "invalid wave \"0\" in row 14941\n",
        "invalid wave \"0\" in row 14946\n",
        "invalid wave \"0\" in row 14950\n",
        "invalid wave \"0\" in row 14956\n",
        "invalid wave \"0\" in row 14961\n",
        "invalid wave \"0\" in row 14972"
       ]
      },
      {
       "output_type": "stream",
       "stream": "stdout",
       "text": [
        "\n",
        "invalid wave \"0\" in row 14992\n",
        "invalid wave \"0\" in row 14996\n",
        "invalid wave \"0\" in row 15000\n",
        "invalid wave \"0\" in row 15005"
       ]
      },
      {
       "output_type": "stream",
       "stream": "stdout",
       "text": [
        "\n",
        "invalid wave \"0\" in row 15013\n",
        "invalid wave \"0\" in row 15020\n",
        "invalid wave \"0\" in row 15027\n",
        "invalid wave \"0\" in row 15032\n",
        "invalid wave \"0\" in row 15036"
       ]
      },
      {
       "output_type": "stream",
       "stream": "stdout",
       "text": [
        "\n",
        "invalid wave \"0\" in row 15042\n",
        "invalid wave \"0\" in row 15052\n",
        "invalid wave \"0\" in row 15068"
       ]
      },
      {
       "output_type": "stream",
       "stream": "stdout",
       "text": [
        "\n",
        "invalid wave \"0\" in row 15078\n",
        "invalid wave \"0\" in row 15091\n",
        "invalid wave \"0\" in row 15099"
       ]
      },
      {
       "output_type": "stream",
       "stream": "stdout",
       "text": [
        "\n",
        "invalid wave \"0\" in row 15106\n",
        "invalid wave \"0\" in row 15110\n",
        "invalid wave \"0\" in row 15115\n",
        "invalid wave \"0\" in row 15119\n",
        "invalid wave \"0\" in row 15137"
       ]
      },
      {
       "output_type": "stream",
       "stream": "stdout",
       "text": [
        "\n",
        "invalid wave \"0\" in row 15141\n",
        "invalid wave \"0\" in row 15146\n",
        "invalid wave \"0\" in row 15152\n",
        "invalid wave \"0\" in row 15165\n",
        "invalid wave \"0\" in row 15173"
       ]
      },
      {
       "output_type": "stream",
       "stream": "stdout",
       "text": [
        "\n",
        "invalid wave \"0\" in row 15186\n",
        "invalid wave \"0\" in row 15202"
       ]
      },
      {
       "output_type": "stream",
       "stream": "stdout",
       "text": [
        "\n",
        "invalid wave \"0\" in row 15221\n",
        "invalid wave \"0\" in row 15240"
       ]
      },
      {
       "output_type": "stream",
       "stream": "stdout",
       "text": [
        "\n",
        "invalid wave \"0\" in row 15250\n",
        "invalid wave \"0\" in row 15254\n",
        "invalid wave \"0\" in row 15264\n",
        "invalid wave \"0\" in row 15268\n",
        "invalid wave \"0\" in row 15272"
       ]
      },
      {
       "output_type": "stream",
       "stream": "stdout",
       "text": [
        "\n",
        "invalid wave \"0\" in row 15284\n",
        "invalid wave \"0\" in row 15325"
       ]
      },
      {
       "output_type": "stream",
       "stream": "stdout",
       "text": [
        "\n",
        "invalid wave \"0\" in row 15332\n",
        "invalid wave \"0\" in row 15344\n",
        "invalid wave \"0\" in row 15349\n",
        "invalid wave \"0\" in row 15360"
       ]
      },
      {
       "output_type": "stream",
       "stream": "stdout",
       "text": [
        "\n",
        "invalid wave \"0\" in row 15367\n",
        "invalid wave \"0\" in row 15373\n",
        "invalid wave \"0\" in row 15378\n",
        "invalid wave \"0\" in row 15405"
       ]
      },
      {
       "output_type": "stream",
       "stream": "stdout",
       "text": [
        "\n",
        "invalid wave \"0\" in row 15434"
       ]
      },
      {
       "output_type": "stream",
       "stream": "stdout",
       "text": [
        "\n",
        "invalid wave \"0\" in row 15447\n",
        "invalid wave \"0\" in row 15459\n",
        "invalid wave \"0\" in row 15469"
       ]
      },
      {
       "output_type": "stream",
       "stream": "stdout",
       "text": [
        "\n",
        "invalid wave \"0\" in row 15500"
       ]
      },
      {
       "output_type": "stream",
       "stream": "stdout",
       "text": [
        "\n",
        "invalid wave \"0\" in row 15505\n",
        "invalid wave \"0\" in row 15510\n",
        "invalid wave \"0\" in row 15515\n",
        "invalid wave \"0\" in row 15520\n",
        "invalid wave \"0\" in row 15528\n",
        "invalid wave \"0\" in row 15533"
       ]
      },
      {
       "output_type": "stream",
       "stream": "stdout",
       "text": [
        "\n",
        "invalid wave \"0\" in row 15547\n",
        "invalid wave \"0\" in row 15551\n",
        "invalid wave \"0\" in row 15569"
       ]
      },
      {
       "output_type": "stream",
       "stream": "stdout",
       "text": [
        "\n",
        "invalid wave \"0\" in row 15574\n",
        "invalid wave \"0\" in row 15652"
       ]
      },
      {
       "output_type": "stream",
       "stream": "stdout",
       "text": [
        "\n",
        "invalid wave \"0\" in row 15657\n",
        "invalid wave \"0\" in row 15677\n",
        "invalid wave \"0\" in row 15683"
       ]
      },
      {
       "output_type": "stream",
       "stream": "stdout",
       "text": [
        "\n",
        "invalid wave \"0\" in row 15688\n",
        "non-integer wave \"\" in row 15702\n",
        "invalid wave \"0\" in row 15706\n",
        "invalid wave \"0\" in row 15713"
       ]
      },
      {
       "output_type": "stream",
       "stream": "stdout",
       "text": [
        "\n",
        "invalid wave \"0\" in row 15728\n",
        "invalid wave \"0\" in row 15733\n",
        "invalid wave \"0\" in row 15738\n",
        "invalid wave \"0\" in row 15749"
       ]
      },
      {
       "output_type": "stream",
       "stream": "stdout",
       "text": [
        "\n",
        "invalid wave \"0\" in row 15755\n",
        "non-integer wave \"\" in row 15760\n",
        "invalid wave \"0\" in row 15765\n",
        "invalid wave \"0\" in row 15770\n",
        "invalid wave \"0\" in row 15775\n",
        "invalid wave \"0\" in row 15780"
       ]
      },
      {
       "output_type": "stream",
       "stream": "stdout",
       "text": [
        "\n",
        "invalid wave \"0\" in row 15785\n",
        "invalid wave \"0\" in row 15789\n",
        "invalid wave \"0\" in row 15806\n",
        "invalid wave \"0\" in row 15819"
       ]
      },
      {
       "output_type": "stream",
       "stream": "stdout",
       "text": [
        "\n",
        "invalid wave \"0\" in row 15826\n",
        "invalid wave \"0\" in row 15830\n",
        "invalid wave \"0\" in row 15835\n",
        "invalid wave \"0\" in row 15843\n",
        "invalid wave \"0\" in row 15852"
       ]
      },
      {
       "output_type": "stream",
       "stream": "stdout",
       "text": [
        "\n",
        "invalid wave \"0\" in row 15863\n",
        "invalid wave \"0\" in row 15868\n",
        "invalid wave \"0\" in row 15874\n",
        "invalid wave \"0\" in row 15884"
       ]
      },
      {
       "output_type": "stream",
       "stream": "stdout",
       "text": [
        "\n",
        "invalid wave \"0\" in row 15888\n",
        "invalid wave \"0\" in row 15903\n",
        "invalid wave \"0\" in row 15916"
       ]
      },
      {
       "output_type": "stream",
       "stream": "stdout",
       "text": [
        "\n",
        "invalid wave \"0\" in row 15921\n",
        "invalid wave \"0\" in row 15938\n",
        "invalid wave \"0\" in row 15943\n",
        "invalid wave \"0\" in row 15948"
       ]
      },
      {
       "output_type": "stream",
       "stream": "stdout",
       "text": [
        "\n",
        "invalid wave \"0\" in row 15953\n",
        "invalid wave \"0\" in row 15961\n",
        "invalid wave \"0\" in row 15989"
       ]
      },
      {
       "output_type": "stream",
       "stream": "stdout",
       "text": [
        "\n",
        "invalid wave \"0\" in row 15993\n",
        "invalid wave \"0\" in row 16000\n",
        "invalid wave \"0\" in row 16010\n",
        "invalid wave \"0\" in row 16018"
       ]
      },
      {
       "output_type": "stream",
       "stream": "stdout",
       "text": [
        "\n",
        "invalid wave \"0\" in row 16024\n",
        "invalid wave \"0\" in row 16029\n",
        "invalid wave \"0\" in row 16034\n",
        "invalid wave \"0\" in row 16038\n",
        "invalid wave \"0\" in row 16059"
       ]
      },
      {
       "output_type": "stream",
       "stream": "stdout",
       "text": [
        "\n",
        "invalid wave \"0\" in row 16089"
       ]
      },
      {
       "output_type": "stream",
       "stream": "stdout",
       "text": [
        "\n",
        "invalid wave \"0\" in row 16093\n",
        "invalid wave \"0\" in row 16100\n",
        "invalid wave \"0\" in row 16123"
       ]
      },
      {
       "output_type": "stream",
       "stream": "stdout",
       "text": [
        "\n",
        "invalid wave \"0\" in row 16130\n",
        "invalid wave \"0\" in row 16136\n",
        "non-integer wave \"\" in row 16157"
       ]
      },
      {
       "output_type": "stream",
       "stream": "stdout",
       "text": [
        "\n",
        "invalid wave \"0\" in row 16161\n",
        "invalid wave \"0\" in row 16180\n",
        "invalid wave \"0\" in row 16192"
       ]
      },
      {
       "output_type": "stream",
       "stream": "stdout",
       "text": [
        "\n",
        "invalid wave \"0\" in row 16203\n",
        "invalid wave \"0\" in row 16215\n",
        "invalid wave \"0\" in row 16222"
       ]
      },
      {
       "output_type": "stream",
       "stream": "stdout",
       "text": [
        "\n",
        "non-integer wave \"\" in row 16232\n",
        "invalid wave \"0\" in row 16236\n",
        "invalid wave \"0\" in row 16240\n",
        "invalid wave \"0\" in row 16244\n",
        "invalid wave \"0\" in row 16249\n",
        "invalid wave \"0\" in row 16264"
       ]
      },
      {
       "output_type": "stream",
       "stream": "stdout",
       "text": [
        "\n",
        "invalid wave \"0\" in row 16268\n",
        "invalid wave \"0\" in row 16272\n",
        "invalid wave \"0\" in row 16279\n",
        "invalid wave \"0\" in row 16296"
       ]
      },
      {
       "output_type": "stream",
       "stream": "stdout",
       "text": [
        "\n",
        "invalid wave \"0\" in row 16305\n",
        "non-integer wave \"\" in row 16311\n",
        "invalid wave \"0\" in row 16316\n",
        "invalid wave \"0\" in row 16321\n",
        "invalid wave \"0\" in row 16325\n",
        "invalid wave \"0\" in row 16329"
       ]
      },
      {
       "output_type": "stream",
       "stream": "stdout",
       "text": [
        "\n",
        "non-integer wave \"\" in row 16333\n",
        "invalid wave \"0\" in row 16338\n",
        "invalid wave \"0\" in row 16353\n",
        "invalid wave \"0\" in row 16371"
       ]
      },
      {
       "output_type": "stream",
       "stream": "stdout",
       "text": [
        "\n",
        "invalid wave \"0\" in row 16377\n",
        "invalid wave \"0\" in row 16384\n",
        "invalid wave \"0\" in row 16401"
       ]
      },
      {
       "output_type": "stream",
       "stream": "stdout",
       "text": [
        "\n",
        "invalid wave \"0\" in row 16410\n",
        "invalid wave \"0\" in row 16423\n",
        "invalid wave \"0\" in row 16429"
       ]
      },
      {
       "output_type": "stream",
       "stream": "stdout",
       "text": [
        "\n",
        "invalid wave \"0\" in row 16433\n",
        "invalid wave \"0\" in row 16437\n",
        "invalid wave \"0\" in row 16448\n",
        "invalid wave \"0\" in row 16477"
       ]
      },
      {
       "output_type": "stream",
       "stream": "stdout",
       "text": [
        "\n",
        "invalid wave \"0\" in row 16500\n",
        "invalid wave \"0\" in row 16508"
       ]
      },
      {
       "output_type": "stream",
       "stream": "stdout",
       "text": [
        "\n",
        "invalid wave \"0\" in row 16515\n",
        "invalid wave \"0\" in row 16520\n",
        "invalid wave \"0\" in row 16531\n",
        "invalid wave \"0\" in row 16538"
       ]
      },
      {
       "output_type": "stream",
       "stream": "stdout",
       "text": [
        "\n",
        "invalid wave \"0\" in row 16549\n",
        "invalid wave \"0\" in row 16556\n",
        "invalid wave \"0\" in row 16561\n",
        "non-integer wave \"\" in row 16565\n",
        "non-integer wave \"\" in row 16574"
       ]
      },
      {
       "output_type": "stream",
       "stream": "stdout",
       "text": [
        "\n",
        "non-integer wave \"\" in row 16578\n",
        "invalid wave \"0\" in row 16585\n",
        "invalid wave \"0\" in row 16608"
       ]
      },
      {
       "output_type": "stream",
       "stream": "stdout",
       "text": [
        "\n",
        "invalid wave \"0\" in row 16660"
       ]
      },
      {
       "output_type": "stream",
       "stream": "stdout",
       "text": [
        "\n",
        "non-integer wave \"\" in row 16665\n",
        "invalid wave \"0\" in row 16669\n",
        "invalid wave \"0\" in row 16680\n",
        "invalid wave \"0\" in row 16690"
       ]
      },
      {
       "output_type": "stream",
       "stream": "stdout",
       "text": [
        "\n",
        "invalid wave \"0\" in row 16701\n",
        "invalid wave \"0\" in row 16705\n",
        "invalid wave \"0\" in row 16716\n",
        "invalid wave \"0\" in row 16722"
       ]
      },
      {
       "output_type": "stream",
       "stream": "stdout",
       "text": [
        "\n",
        "invalid wave \"0\" in row 16730\n",
        "invalid wave \"0\" in row 16736\n",
        "invalid wave \"0\" in row 16747"
       ]
      },
      {
       "output_type": "stream",
       "stream": "stdout",
       "text": [
        "\n",
        "invalid wave \"0\" in row 16764\n",
        "invalid wave \"0\" in row 16772\n",
        "invalid wave \"0\" in row 16778"
       ]
      },
      {
       "output_type": "stream",
       "stream": "stdout",
       "text": [
        "\n",
        "invalid wave \"0\" in row 16799\n",
        "invalid wave \"0\" in row 16806"
       ]
      },
      {
       "output_type": "stream",
       "stream": "stdout",
       "text": [
        "\n",
        "invalid wave \"0\" in row 16811\n",
        "invalid wave \"0\" in row 16820\n",
        "invalid wave \"0\" in row 16845"
       ]
      },
      {
       "output_type": "stream",
       "stream": "stdout",
       "text": [
        "\n",
        "invalid wave \"0\" in row 16856\n",
        "invalid wave \"0\" in row 16860\n",
        "invalid wave \"0\" in row 16866\n",
        "invalid wave \"0\" in row 16871\n",
        "non-integer wave \"\" in row 16876"
       ]
      },
      {
       "output_type": "stream",
       "stream": "stdout",
       "text": [
        "\n",
        "invalid wave \"0\" in row 16896\n",
        "invalid wave \"0\" in row 16904"
       ]
      },
      {
       "output_type": "stream",
       "stream": "stdout",
       "text": [
        "\n",
        "invalid wave \"0\" in row 16912\n",
        "invalid wave \"0\" in row 16916\n",
        "invalid wave \"0\" in row 16923\n",
        "invalid wave \"0\" in row 16941"
       ]
      },
      {
       "output_type": "stream",
       "stream": "stdout",
       "text": [
        "\n",
        "invalid wave \"0\" in row 16964\n",
        "invalid wave \"0\" in row 16968"
       ]
      },
      {
       "output_type": "stream",
       "stream": "stdout",
       "text": [
        "\n",
        "invalid wave \"0\" in row 16977\n",
        "invalid wave \"0\" in row 16998"
       ]
      },
      {
       "output_type": "stream",
       "stream": "stdout",
       "text": [
        "\n",
        "invalid wave \"0\" in row 17018\n",
        "invalid wave \"0\" in row 17028"
       ]
      },
      {
       "output_type": "stream",
       "stream": "stdout",
       "text": [
        "\n",
        "invalid wave \"0\" in row 17033\n",
        "invalid wave \"0\" in row 17043\n",
        "invalid wave \"0\" in row 17048\n",
        "invalid wave \"0\" in row 17062"
       ]
      },
      {
       "output_type": "stream",
       "stream": "stdout",
       "text": [
        "\n",
        "invalid wave \"0\" in row 17083\n",
        "invalid wave \"0\" in row 17087\n",
        "non-integer wave \"\" in row 17092"
       ]
      },
      {
       "output_type": "stream",
       "stream": "stdout",
       "text": [
        "\n",
        "invalid wave \"0\" in row 17120"
       ]
      },
      {
       "output_type": "stream",
       "stream": "stdout",
       "text": [
        "\n",
        "invalid wave \"0\" in row 17172"
       ]
      },
      {
       "output_type": "stream",
       "stream": "stdout",
       "text": [
        "\n",
        "non-integer wave \"\" in row 17194\n",
        "invalid wave \"0\" in row 17218"
       ]
      },
      {
       "output_type": "stream",
       "stream": "stdout",
       "text": [
        "\n",
        "invalid wave \"0\" in row 17275"
       ]
      },
      {
       "output_type": "stream",
       "stream": "stdout",
       "text": [
        "\n",
        "invalid wave \"0\" in row 17283\n",
        "invalid wave \"0\" in row 17288\n",
        "invalid wave \"0\" in row 17296\n",
        "invalid wave \"0\" in row 17301\n",
        "invalid wave \"0\" in row 17305"
       ]
      },
      {
       "output_type": "stream",
       "stream": "stdout",
       "text": [
        "\n",
        "invalid wave \"0\" in row 17317\n",
        "invalid wave \"0\" in row 17321\n",
        "invalid wave \"0\" in row 17325\n",
        "invalid wave \"0\" in row 17329\n",
        "invalid wave \"0\" in row 17341"
       ]
      },
      {
       "output_type": "stream",
       "stream": "stdout",
       "text": [
        "\n",
        "invalid wave \"0\" in row 17345\n",
        "invalid wave \"0\" in row 17349\n",
        "invalid wave \"0\" in row 17373"
       ]
      },
      {
       "output_type": "stream",
       "stream": "stdout",
       "text": [
        "\n",
        "invalid wave \"0\" in row 17378\n",
        "invalid wave \"0\" in row 17391\n",
        "invalid wave \"0\" in row 17398\n",
        "invalid wave \"0\" in row 17421"
       ]
      },
      {
       "output_type": "stream",
       "stream": "stdout",
       "text": [
        "\n",
        "invalid wave \"0\" in row 17425\n",
        "invalid wave \"0\" in row 17461"
       ]
      },
      {
       "output_type": "stream",
       "stream": "stdout",
       "text": [
        "\n",
        "invalid wave \"0\" in row 17466\n",
        "invalid wave \"0\" in row 17471\n",
        "invalid wave \"0\" in row 17507"
       ]
      },
      {
       "output_type": "stream",
       "stream": "stdout",
       "text": [
        "\n",
        "invalid wave \"0\" in row 17573"
       ]
      },
      {
       "output_type": "stream",
       "stream": "stdout",
       "text": [
        "\n",
        "invalid wave \"0\" in row 17586\n",
        "invalid wave \"0\" in row 17603"
       ]
      },
      {
       "output_type": "stream",
       "stream": "stdout",
       "text": [
        "\n",
        "invalid wave \"0\" in row 17630"
       ]
      },
      {
       "output_type": "stream",
       "stream": "stdout",
       "text": [
        "\n",
        "invalid wave \"0\" in row 17648\n",
        "invalid wave \"0\" in row 17673"
       ]
      },
      {
       "output_type": "stream",
       "stream": "stdout",
       "text": [
        "\n",
        "invalid wave \"0\" in row 17698\n",
        "non-integer wave \"\" in row 17726"
       ]
      },
      {
       "output_type": "stream",
       "stream": "stdout",
       "text": [
        "\n",
        "invalid wave \"0\" in row 17734\n",
        "invalid wave \"0\" in row 17741\n",
        "invalid wave \"0\" in row 17760"
       ]
      },
      {
       "output_type": "stream",
       "stream": "stdout",
       "text": [
        "\n",
        "invalid wave \"0\" in row 17772\n",
        "invalid wave \"0\" in row 17816"
       ]
      },
      {
       "output_type": "stream",
       "stream": "stdout",
       "text": [
        "\n",
        "invalid wave \"0\" in row 17820\n",
        "non-integer wave \"\" in row 17914"
       ]
      },
      {
       "output_type": "stream",
       "stream": "stdout",
       "text": [
        "\n",
        "invalid wave \"0\" in row 17921\n",
        "invalid wave \"0\" in row 17925\n",
        "invalid wave \"0\" in row 17931\n",
        "invalid wave \"0\" in row 17949"
       ]
      },
      {
       "output_type": "stream",
       "stream": "stdout",
       "text": [
        "\n",
        "invalid wave \"0\" in row 17968\n",
        "invalid wave \"0\" in row 17998"
       ]
      },
      {
       "output_type": "stream",
       "stream": "stdout",
       "text": [
        "\n",
        "invalid wave \"0\" in row 18010\n",
        "invalid wave \"0\" in row 18031"
       ]
      },
      {
       "output_type": "stream",
       "stream": "stdout",
       "text": [
        "\n",
        "non-integer wave \"\" in row 18054\n",
        "invalid wave \"0\" in row 18058"
       ]
      },
      {
       "output_type": "stream",
       "stream": "stdout",
       "text": [
        "\n",
        "invalid wave \"0\" in row 18062\n",
        "invalid wave \"0\" in row 18139"
       ]
      },
      {
       "output_type": "stream",
       "stream": "stdout",
       "text": [
        "\n",
        "invalid wave \"0\" in row 18200"
       ]
      },
      {
       "output_type": "stream",
       "stream": "stdout",
       "text": [
        "\n",
        "invalid wave \"0\" in row 18204\n",
        "invalid wave \"0\" in row 18208\n",
        "invalid wave \"0\" in row 18212\n",
        "invalid wave \"0\" in row 18230"
       ]
      },
      {
       "output_type": "stream",
       "stream": "stdout",
       "text": [
        "\n",
        "invalid wave \"0\" in row 18234\n",
        "invalid wave \"0\" in row 18275"
       ]
      },
      {
       "output_type": "stream",
       "stream": "stdout",
       "text": [
        "\n",
        "invalid wave \"0\" in row 18279\n",
        "invalid wave \"0\" in row 18460"
       ]
      },
      {
       "output_type": "stream",
       "stream": "stdout",
       "text": [
        "\n",
        "invalid wave \"0\" in row 18464\n",
        "invalid wave \"0\" in row 18572"
       ]
      },
      {
       "output_type": "stream",
       "stream": "stdout",
       "text": [
        "\n",
        "invalid wave \"0\" in row 18576\n",
        "invalid wave \"0\" in row 18590\n",
        "invalid wave \"0\" in row 18622"
       ]
      },
      {
       "output_type": "stream",
       "stream": "stdout",
       "text": [
        "\n",
        "invalid wave \"0\" in row 18626\n",
        "invalid wave \"0\" in row 18633\n",
        "invalid wave \"0\" in row 18637\n",
        "invalid wave \"0\" in row 18657"
       ]
      },
      {
       "output_type": "stream",
       "stream": "stdout",
       "text": [
        "\n",
        "invalid wave \"0\" in row 18662\n",
        "invalid wave \"0\" in row 18707"
       ]
      },
      {
       "output_type": "stream",
       "stream": "stdout",
       "text": [
        "\n",
        "invalid wave \"0\" in row 18714\n",
        "invalid wave \"0\" in row 18721\n",
        "invalid wave \"0\" in row 18729\n",
        "invalid wave \"0\" in row 18742"
       ]
      },
      {
       "output_type": "stream",
       "stream": "stdout",
       "text": [
        "\n",
        "invalid wave \"0\" in row 18746\n",
        "invalid wave \"0\" in row 18750\n",
        "invalid wave \"0\" in row 18754\n",
        "invalid wave \"0\" in row 18770\n",
        "invalid wave \"0\" in row 18774"
       ]
      },
      {
       "output_type": "stream",
       "stream": "stdout",
       "text": [
        "\n",
        "invalid wave \"0\" in row 18783\n",
        "invalid wave \"0\" in row 18854"
       ]
      },
      {
       "output_type": "stream",
       "stream": "stdout",
       "text": [
        "\n",
        "invalid wave \"0\" in row 19200"
       ]
      },
      {
       "output_type": "stream",
       "stream": "stdout",
       "text": [
        "\n",
        "invalid wave \"0\" in row 19219\n",
        "invalid wave \"0\" in row 19348"
       ]
      },
      {
       "output_type": "stream",
       "stream": "stdout",
       "text": [
        "\n",
        "invalid wave \"0\" in row 19356\n",
        "invalid wave \"0\" in row 19400"
       ]
      },
      {
       "output_type": "stream",
       "stream": "stdout",
       "text": [
        "\n",
        "invalid wave \"0\" in row 19483"
       ]
      },
      {
       "output_type": "stream",
       "stream": "stdout",
       "text": [
        "\n",
        "invalid wave \"0\" in row 19722"
       ]
      },
      {
       "output_type": "stream",
       "stream": "stdout",
       "text": [
        "\n",
        "invalid wave \"0\" in row 19726\n",
        "invalid wave \"0\" in row 19730\n",
        "invalid wave \"0\" in row 19734\n",
        "invalid wave \"0\" in row 19927"
       ]
      },
      {
       "output_type": "stream",
       "stream": "stdout",
       "text": [
        "\n",
        "Wave  1:  6165 rows"
       ]
      },
      {
       "output_type": "stream",
       "stream": "stdout",
       "text": [
        "\n",
        "Wave  2:  5339 rows\n",
        "Wave  3:  4844 rows\n",
        "Wave  4:  1703 rows\n"
       ]
      }
     ],
     "prompt_number": 6
    },
    {
     "cell_type": "code",
     "collapsed": false,
     "input": [
      "# Print out column names and the non-numeric values unaccounted for in the COLUMN_FIXES dict\n",
      "colnum = -1\n",
      "for colname in SplitWaves.header_cols:\n",
      "    colnum += 1\n",
      "    if colnum not in SplitWaves.col_enums:\n",
      "        continue\n",
      "    col_enum_by_val = {int(v):k for k, v in SplitWaves.col_enums[colnum].items()}\n",
      "    colvals = sorted( col_enum_by_val.keys() )\n",
      "    if colnum in SplitWaves.col_vals:\n",
      "        nvals = SplitWaves.col_vals[colnum]\n",
      "    else:\n",
      "        nvals = []\n",
      "    print ('\"{}\":'.format(SplitWaves.header_cols[colnum]),[col_enum_by_val[k] for k in colvals],nvals)"
     ],
     "language": "python",
     "metadata": {},
     "outputs": [],
     "prompt_number": 7
    },
    {
     "cell_type": "markdown",
     "metadata": {},
     "source": [
      "##Counts in 2013-12-18-Sardinia-CleanUp-Data-TAB.txt\n",
      "    Wave  1:  6165 rows\n",
      "    Wave  2:  5339 rows\n",
      "    Wave  3:  4844 rows\n",
      "    Wave  4:  1703 rows"
     ]
    },
    {
     "cell_type": "code",
     "collapsed": false,
     "input": [
      "# Make sure any configuration changes are propagated through by starting over\n",
      "%run 'Functions.ipynb'\n",
      "\n",
      "Config.data_dist_base = '2013-01-18-Sardinia'\n",
      "#Config.data_dist_base = '2013-12-18-Sardinia-CleanUp-Data'\n",
      "#Config.data_dist_base = '2014-08-26-Sardinia'\n",
      "\n",
      "distribution_filename = os.path.join (Config.data_dir(),Config.data_dist_base+'-TAB.txt')\n",
      "print ('Splitting data for distribution \"{}\" in file \"{}\"'.format (Config.data_dist_base, distribution_filename))\n",
      "\n",
      "wave_rows = SplitWaves(distribution_filename)\n",
      "for wave in sorted(wave_rows):\n",
      "    print ('Wave {:2d}: {:5d} rows'.format(wave,wave_rows[wave]))\n",
      "\n",
      "print ('Columns with unaccounted-for text:')\n",
      "# Print out column names and the non-numeric values unaccounted for in the COLUMN_FIXES dict\n",
      "colnum = -1\n",
      "for colname in SplitWaves.header_cols:\n",
      "    colnum += 1\n",
      "    if colnum not in SplitWaves.col_enums:\n",
      "        continue\n",
      "    col_enum_by_val = {int(v):k for k, v in SplitWaves.col_enums[colnum].items()}\n",
      "    colvals = sorted( col_enum_by_val.keys() )\n",
      "    if colnum in SplitWaves.col_vals:\n",
      "        nvals = SplitWaves.col_vals[colnum]\n",
      "    else:\n",
      "        nvals = []\n",
      "    print ('\"{}\":'.format(SplitWaves.header_cols[colnum]),[col_enum_by_val[k] for k in colvals],nvals)"
     ],
     "language": "python",
     "metadata": {},
     "outputs": [
      {
       "output_type": "stream",
       "stream": "stdout",
       "text": [
        "Splitting data for distribution \"2013-01-18-Sardinia\" in file \"data/2013-01-18-Sardinia/2013-01-18-Sardinia-TAB.txt\"\n",
        "Creating data/2013-01-18-Sardinia/2013-01-18-Sardinia-Wave1.tsv for wave 1 data.\n"
       ]
      },
      {
       "output_type": "stream",
       "stream": "stdout",
       "text": [
        "Creating data/2013-01-18-Sardinia/2013-01-18-Sardinia-Wave2.tsv for wave 2 data.\n"
       ]
      },
      {
       "output_type": "stream",
       "stream": "stdout",
       "text": [
        "Creating data/2013-01-18-Sardinia/2013-01-18-Sardinia-Wave3.tsv for wave 3 data.\n"
       ]
      },
      {
       "output_type": "stream",
       "stream": "stdout",
       "text": [
        "Creating data/2013-01-18-Sardinia/2013-01-18-Sardinia-Wave4.tsv for wave 4 data.\n"
       ]
      },
      {
       "output_type": "stream",
       "stream": "stdout",
       "text": [
        "non-integer wave \"\" in row 4480\n",
        "Wave  1:  6165 rows"
       ]
      },
      {
       "output_type": "stream",
       "stream": "stdout",
       "text": [
        "\n",
        "Wave  2:  5256 rows\n",
        "Wave  3:  4842 rows\n",
        "Wave  4:  1703 rows\n",
        "Columns with unaccounted-for text:\n"
       ]
      }
     ],
     "prompt_number": 8
    },
    {
     "cell_type": "markdown",
     "metadata": {},
     "source": [
      "##Counts in data/2013-01-18-Sardinia/2013-01-18-Sardinia-TAB.txt\n",
      "    Wave  1:  6165 rows\n",
      "    Wave  2:  5256 rows\n",
      "    Wave  3:  4842 rows\n",
      "    Wave  4:  1703 rows"
     ]
    },
    {
     "cell_type": "code",
     "collapsed": false,
     "input": [
      "# Compare newWave?.tsv with data/2013-01-18-Sardinia/2013-01-18-Sardinia-Wave?.tsv\n",
      "data_file1 = 'data/2013-12-18-Sardinia-CleanUp-Data/2013-12-18-Sardinia-CleanUp-Data-Wave1.tsv'\n",
      "data_file2 = 'data/2013-01-18-Sardinia/newWave1.tsv'\n",
      "check_data_file_identity (data_file1, data_file2)\n"
     ],
     "language": "python",
     "metadata": {},
     "outputs": [
      {
       "output_type": "stream",
       "stream": "stdout",
       "text": [
        "reading file1: 'data/2013-12-18-Sardinia-CleanUp-Data/2013-12-18-Sardinia-CleanUp-Data-Wave1.tsv'\n",
        "reading file2: 'data/2013-01-18-Sardinia/newWave1.tsv'"
       ]
      },
      {
       "output_type": "stream",
       "stream": "stdout",
       "text": [
        "\n",
        "'ecgNote' missing from file1\n",
        "'holtPercsis1' missing from file1\n",
        "'holtPercdia1' missing from file1\n",
        "'holtPercsis11' missing from file1\n",
        "'holtPercdia11' missing from file1\n",
        "'holtPercsis21' missing from file1\n",
        "'holtPercdia21' missing from file1\n",
        "'Subject_ID[4%]' missing from file1\n",
        "'Subject_ID[38%]' missing from file1\n",
        "'Subject_ID[66%]' missing from file1\n",
        "'holtPercsissup' missing from file2"
       ]
      },
      {
       "output_type": "stream",
       "stream": "stdout",
       "text": [
        "\n",
        "'holtPercdiasup' missing from file2\n",
        "'holtPercsis1sup' missing from file2\n",
        "'holtPercdia1sup' missing from file2\n",
        "'holtPercsis2sup' missing from file2\n",
        "'holtPercdia2sup' missing from file2\n"
       ]
      }
     ],
     "prompt_number": 15
    },
    {
     "cell_type": "code",
     "collapsed": false,
     "input": [
      "# Compare newWave2.tsv with data/2013-01-18-Sardinia/2013-01-18-Sardinia-Wave2.tsv\n",
      "data_file1 = 'data/2013-12-18-Sardinia-CleanUp-Data/2013-12-18-Sardinia-CleanUp-Data-Wave2.tsv'\n",
      "data_file2 = 'data/2013-01-18-Sardinia/newWave2.tsv'\n",
      "check_data_file_identity (data_file1, data_file2)\n"
     ],
     "language": "python",
     "metadata": {},
     "outputs": [
      {
       "output_type": "stream",
       "stream": "stdout",
       "text": [
        "reading file1: 'data/2013-12-18-Sardinia-CleanUp-Data/2013-12-18-Sardinia-CleanUp-Data-Wave2.tsv'\n",
        "reading file2: 'data/2013-01-18-Sardinia/newWave2.tsv'"
       ]
      },
      {
       "output_type": "stream",
       "stream": "stdout",
       "text": [
        "\n",
        "'ecgNote' missing from file1\n",
        "'holtPercsis1' missing from file1\n",
        "'holtPercdia1' missing from file1\n",
        "'holtPercsis11' missing from file1\n",
        "'holtPercdia11' missing from file1\n",
        "'holtPercsis21' missing from file1\n",
        "'holtPercdia21' missing from file1\n",
        "'Subject_ID[4%]' missing from file1\n",
        "'Subject_ID[38%]' missing from file1\n",
        "'Subject_ID[66%]' missing from file1\n",
        "'holtPercsissup' missing from file2"
       ]
      },
      {
       "output_type": "stream",
       "stream": "stdout",
       "text": [
        "\n",
        "'holtPercdiasup' missing from file2\n",
        "'holtPercsis1sup' missing from file2\n",
        "'holtPercdia1sup' missing from file2\n",
        "'holtPercsis2sup' missing from file2\n",
        "'holtPercdia2sup' missing from file2\n"
       ]
      }
     ],
     "prompt_number": 16
    },
    {
     "cell_type": "code",
     "collapsed": false,
     "input": [
      "# Compare newWave3.tsv with data/2013-01-18-Sardinia/2013-01-18-Sardinia-Wave3.tsv\n",
      "data_file1 = 'data/2013-12-18-Sardinia-CleanUp-Data/2013-12-18-Sardinia-CleanUp-Data-Wave3.tsv'\n",
      "data_file2 = 'data/2013-01-18-Sardinia/newWave3.tsv'\n",
      "check_data_file_identity (data_file1, data_file2)\n"
     ],
     "language": "python",
     "metadata": {},
     "outputs": [
      {
       "output_type": "stream",
       "stream": "stdout",
       "text": [
        "reading file1: 'data/2013-12-18-Sardinia-CleanUp-Data/2013-12-18-Sardinia-CleanUp-Data-Wave3.tsv'\n",
        "reading file2: 'data/2013-01-18-Sardinia/newWave3.tsv'"
       ]
      },
      {
       "output_type": "stream",
       "stream": "stdout",
       "text": [
        "\n",
        "'ecgNote' missing from file1\n",
        "'holtPercsis1' missing from file1\n",
        "'holtPercdia1' missing from file1\n",
        "'holtPercsis11' missing from file1\n",
        "'holtPercdia11' missing from file1\n",
        "'holtPercsis21' missing from file1\n",
        "'holtPercdia21' missing from file1\n",
        "'Subject_ID[4%]' missing from file1\n",
        "'Subject_ID[38%]' missing from file1\n",
        "'Subject_ID[66%]' missing from file1\n",
        "'holtPercsissup' missing from file2"
       ]
      },
      {
       "output_type": "stream",
       "stream": "stdout",
       "text": [
        "\n",
        "'holtPercdiasup' missing from file2\n",
        "'holtPercsis1sup' missing from file2\n",
        "'holtPercdia1sup' missing from file2\n",
        "'holtPercsis2sup' missing from file2\n",
        "'holtPercdia2sup' missing from file2\n"
       ]
      }
     ],
     "prompt_number": 19
    },
    {
     "cell_type": "markdown",
     "metadata": {},
     "source": [
      "# Derivation of newWave1, newWave2, newWave3:\n",
      "The **`SplitWaves()`** function in this notebook reproduces these three files from the **`2013-01-18-Sardinia-TAB.txt`** file in the data distribution **`2013-12-18-Sardinia-CleanUp-Data`**"
     ]
    },
    {
     "cell_type": "markdown",
     "metadata": {},
     "source": [
      "#Survey of distribution file contents"
     ]
    },
    {
     "cell_type": "code",
     "collapsed": false,
     "input": [
      "%run 'Functions.ipynb'\n",
      "Config.data_dist_base = '2013-01-18-Sardinia'\n",
      "\n",
      "for wavenum in range (1,4):\n",
      "    wd = Config.wave_data(wavenum)\n",
      "    print (wd.data_matrix.shape)\n"
     ],
     "language": "python",
     "metadata": {},
     "outputs": [
      {
       "output_type": "stream",
       "stream": "stdout",
       "text": [
        "reading data from  data/2013-01-18-Sardinia/2013-01-18-Sardinia-Wave1.tsv\n",
        "(5576, 324)"
       ]
      },
      {
       "output_type": "stream",
       "stream": "stdout",
       "text": [
        "\n",
        "reading data from  data/2013-01-18-Sardinia/2013-01-18-Sardinia-Wave2.tsv\n",
        "(4561, 327)"
       ]
      },
      {
       "output_type": "stream",
       "stream": "stdout",
       "text": [
        "\n",
        "reading data from  data/2013-01-18-Sardinia/2013-01-18-Sardinia-Wave3.tsv\n",
        "(2904, 437)"
       ]
      },
      {
       "output_type": "stream",
       "stream": "stdout",
       "text": [
        "\n"
       ]
      }
     ],
     "prompt_number": 33
    },
    {
     "cell_type": "code",
     "collapsed": false,
     "input": [
      "%run 'Functions.ipynb'\n",
      "Config.data_dist_base = '2013-12-18-Sardinia-CleanUp-Data'\n",
      "\n",
      "for wavenum in range (1,4):\n",
      "    wd = Config.wave_data(wavenum)\n",
      "    print (wd.data_matrix.shape)\n"
     ],
     "language": "python",
     "metadata": {},
     "outputs": [
      {
       "output_type": "stream",
       "stream": "stdout",
       "text": [
        "reading data from  data/2013-12-18-Sardinia-CleanUp-Data/2013-12-18-Sardinia-CleanUp-Data-Wave1.tsv\n",
        "(4817, 150)"
       ]
      },
      {
       "output_type": "stream",
       "stream": "stdout",
       "text": [
        "\n",
        "reading data from  data/2013-12-18-Sardinia-CleanUp-Data/2013-12-18-Sardinia-CleanUp-Data-Wave2.tsv\n",
        "(4527, 164)"
       ]
      },
      {
       "output_type": "stream",
       "stream": "stdout",
       "text": [
        "\n",
        "reading data from  data/2013-12-18-Sardinia-CleanUp-Data/2013-12-18-Sardinia-CleanUp-Data-Wave3.tsv\n",
        "(2410, 122)"
       ]
      },
      {
       "output_type": "stream",
       "stream": "stdout",
       "text": [
        "\n"
       ]
      }
     ],
     "prompt_number": 34
    },
    {
     "cell_type": "code",
     "collapsed": false,
     "input": [
      "%run 'Functions.ipynb'\n",
      "Config.data_dist_base = '2014-08-26-Sardinia'\n",
      "\n",
      "for wavenum in range (1,4):\n",
      "    wd = Config.wave_data(wavenum)\n",
      "    print (wd.data_matrix.shape)\n"
     ],
     "language": "python",
     "metadata": {},
     "outputs": [
      {
       "output_type": "stream",
       "stream": "stdout",
       "text": [
        "reading data from  data/2014-08-26-Sardinia/2014-08-26-Sardinia-Wave1.tsv\n",
        "(5560, 324)"
       ]
      },
      {
       "output_type": "stream",
       "stream": "stdout",
       "text": [
        "\n",
        "reading data from  data/2014-08-26-Sardinia/2014-08-26-Sardinia-Wave2.tsv\n",
        "(4561, 327)"
       ]
      },
      {
       "output_type": "stream",
       "stream": "stdout",
       "text": [
        "\n",
        "reading data from  data/2014-08-26-Sardinia/2014-08-26-Sardinia-Wave3.tsv\n",
        "(2911, 437)"
       ]
      },
      {
       "output_type": "stream",
       "stream": "stdout",
       "text": [
        "\n"
       ]
      }
     ],
     "prompt_number": 35
    },
    {
     "cell_type": "markdown",
     "metadata": {},
     "source": [
      "# Participants and clean data_matrix.shape in distribution files\n",
      "|Distribution File                        | wave 1| wave 2| wave 3| wave 4|\n",
      "|-----------------------------------------|-------|-------|-------|-------|\n",
      "|2013-01-18-Sardinia-TAB.txt              |  6165 (5576, 324)|  5256 (4561, 327)|  4842 (2904, 437)| 1703  |\n",
      "|2013-12-18-Sardinia-CleanUp-Data-TAB.txt |  6165 (4817, 150)|  5339 (4527, 164)|  4844 (2410, 122)| 1703  |\n",
      "|2014-08-26-Sardinia-TAB.txt              |  6165 (5560, 324)|  5256 (4561, 327)|  4842 (2911, 437)| 2497  |\n",
      "\n"
     ]
    },
    {
     "cell_type": "code",
     "collapsed": false,
     "input": [],
     "language": "python",
     "metadata": {},
     "outputs": []
    }
   ],
   "metadata": {}
  }
 ]
}