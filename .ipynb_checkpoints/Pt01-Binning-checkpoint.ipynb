{
 "metadata": {
  "name": "",
  "signature": "sha256:e0c68e2a94096598ffcf3faf659158f69db5e1dc2511d77691645cd952b93084"
 },
 "nbformat": 3,
 "nbformat_minor": 0,
 "worksheets": [
  {
   "cells": [
    {
     "cell_type": "markdown",
     "metadata": {},
     "source": [
      "This notebook contains experiments on finding the optimal bin (age group) size and age range (youngest to oldest to include) with the Wave 1 data. It also contains the experiments to find the best cleaning functions for each wave. Much of the information gained from these experiments were applied (with some changes) to Wave 2 and Wave 3 data because of their similarities."
     ]
    },
    {
     "cell_type": "heading",
     "level": 1,
     "metadata": {},
     "source": [
      "Reading Data"
     ]
    },
    {
     "cell_type": "code",
     "collapsed": false,
     "input": [
      "import pandas as pd\n",
      "import numpy as np\n",
      "import pylab as pl"
     ],
     "language": "python",
     "metadata": {},
     "outputs": []
    },
    {
     "cell_type": "code",
     "collapsed": false,
     "input": [
      "x = pd.read_csv('newWave1.csv', na_values=[]) # Reading Wave 1"
     ],
     "language": "python",
     "metadata": {},
     "outputs": []
    },
    {
     "cell_type": "code",
     "collapsed": false,
     "input": [
      "x2 = pd.read_csv('newWave2.csv', na_values =[]) # Reading Wave 2"
     ],
     "language": "python",
     "metadata": {},
     "outputs": []
    },
    {
     "cell_type": "code",
     "collapsed": false,
     "input": [
      "x3 = pd.read_csv('newWave3.csv', na_values =[]) # Reading Wave 3"
     ],
     "language": "python",
     "metadata": {},
     "outputs": []
    },
    {
     "cell_type": "code",
     "collapsed": false,
     "input": [
      "# Plots features by number of samples with data for that feature (ascending order)\n",
      "ser = x.count()\n",
      "ser.sort(ascending=False)\n",
      "\n",
      "ax = ser.plot(ser.plot(title='Non-NaN Values By Feature in W1'))\n",
      "\n",
      "ax.set_xlabel(\"Features\")\n",
      "\n",
      "ax.set_ylabel(\"Number of Non-NaN Values\")\n"
     ],
     "language": "python",
     "metadata": {},
     "outputs": []
    },
    {
     "cell_type": "code",
     "collapsed": false,
     "input": [
      "# old cleaning function\n",
      "def clean(x3):\n",
      "    print (\"TO DROP NaNs Wave1\")\n",
      "    print (x3.shape)\n",
      "    x3 = x3.dropna(axis=1, how='all')\n",
      "    print (x3.shape)\n",
      "    x3 = x3.dropna(how='all')\n",
      "    print (x3.shape)\n",
      "    y3, z3 = x3.shape\n",
      "    x3 = x3.dropna(axis=1, thresh=(y3/3))\n",
      "    print (x3.shape)\n",
      "    y3, z3 = x3.shape\n",
      "    x3 = x3.dropna(thresh=(z3/2))\n",
      "    print (x3.shape)\n",
      "    y3, z3 = x3.shape\n",
      "    x3 = x3.dropna(axis=1, thresh=(y3*2/3))\n",
      "    print (x3.shape)\n",
      "    y3, z3 = x3.shape\n",
      "    x3 = x3.dropna(thresh=(z3*3/4))\n",
      "    print (x3.shape)\n",
      "    y3, z3 = x3.shape\n",
      "    x3 = x3.dropna(axis=1, thresh=(y3*4/5))\n",
      "    print (x3.shape)\n",
      "    y3, z3 = x3.shape\n",
      "    x3 = x3.dropna(thresh=(z3*4/5))\n",
      "    print (x3.shape)\n",
      "    y3, z3 = x3.shape\n",
      "    x3 = x3.dropna(axis=1, thresh=(y3*9/10))\n",
      "    print (x3.shape)\n",
      "    y3, z3 = x3.shape\n",
      "    x3 = x3.dropna(how='any')\n",
      "    print (x3.shape)\n",
      "    return (x3)\n",
      "x = clean(x)"
     ],
     "language": "python",
     "metadata": {},
     "outputs": []
    },
    {
     "cell_type": "heading",
     "level": 1,
     "metadata": {},
     "source": [
      "Clearing NaNs"
     ]
    },
    {
     "cell_type": "code",
     "collapsed": false,
     "input": [
      "# old cleaning function\n",
      "print (\"TO DROP NaNs\")\n",
      "print (x.shape)\n",
      "x = x.dropna(axis=1, how='all')\n",
      "print (x.shape)\n",
      "x.dropna(how='all')\n",
      "print (x.shape)\n",
      "x = x.dropna(axis=1, thresh=2500)\n",
      "print (x.shape)\n",
      "x = x.dropna(thresh=50)\n",
      "print (x.shape)\n",
      "x = x.dropna(axis=1, thresh=5000)\n",
      "print (x.shape)\n",
      "x = x.dropna(thresh=120)\n",
      "print (x.shape)\n",
      "x = x.dropna(axis=1, thresh=5100)\n",
      "print (x.shape)\n",
      "x = x.dropna(how='any')\n",
      "print (x.shape)\n"
     ],
     "language": "python",
     "metadata": {},
     "outputs": []
    },
    {
     "cell_type": "code",
     "collapsed": false,
     "input": [
      "# old cleaning function (prototype of current function)\n",
      "def read (file_name, what_to_prioritize):\n",
      "    x = pd.read_csv(file_name, na_values=[])\n",
      "    x = x.dropna(axis=1, how='all')\n",
      "    x = x.dropna(how='all')\n",
      "    x = x[pd.notnull(x['pwv'])]\n",
      "    x = x[pd.notnull(x['exmBMI'])]\n",
      "    x = x[pd.notnull(x['exmBPsys_jbs'])]\n",
      "    x = x[pd.notnull(x['exmWaist'])]\n",
      "    x = x[pd.notnull(x['labsColesterolo'])]\n",
      "    threshold_num = 0.05\n",
      "    if what_to_prioritize is 'features':\n",
      "        for i in range (47):\n",
      "            x = x.dropna(thresh=(x.shape[1]*threshold_num))\n",
      "            x = x.dropna(axis=1, thresh=(x.shape[0]*threshold_num))\n",
      "            threshold_num += 0.02\n",
      "        x = x.dropna(how='any')\n",
      "    elif what_to_prioritize is 'samples':\n",
      "        for i in range (47):\n",
      "            x = x.dropna(axis=1, thresh=(x.shape[0]*threshold_num))\n",
      "            x = x.dropna(thresh=(x.shape[1]*threshold_num))\n",
      "            threshold_num += 0.02\n",
      "        x = x.dropna(axis=1, how='any')\n",
      "    else:\n",
      "        return(\"Need to specify what to prioritize: 'features' or 'samples'\")\n",
      "    print (x.shape)\n",
      "    return (x)"
     ],
     "language": "python",
     "metadata": {},
     "outputs": []
    },
    {
     "cell_type": "code",
     "collapsed": false,
     "input": [
      "# old cleaning function for wave 3\n",
      "def read_w3 (file_name, what_to_prioritize):\n",
      "    x = pd.read_csv(file_name, na_values=[])\n",
      "    x = x.dropna(axis=1, how='all')\n",
      "    x = x.dropna(how='all')\n",
      "    x = x[pd.notnull(x['pwv'])]\n",
      "    x = x[pd.notnull(x['exmBMI'])]\n",
      "    x = x[pd.notnull(x['exmBPsys_jbs'])]\n",
      "    x = x[pd.notnull(x['exmWaist'])]\n",
      "    #x = x[pd.notnull(x['labsColesterolo'])]\n",
      "    threshold_num = 0.05\n",
      "    if what_to_prioritize is 'features':\n",
      "        for i in range (47):\n",
      "            x = x.dropna(thresh=(x.shape[1]*threshold_num))\n",
      "            x = x.dropna(axis=1, thresh=(x.shape[0]*threshold_num))\n",
      "            threshold_num += 0.02\n",
      "        x = x.dropna(how='any')\n",
      "    elif what_to_prioritize is 'samples':\n",
      "        for i in range (47):\n",
      "            x = x.dropna(axis=1, thresh=(x.shape[0]*threshold_num))\n",
      "            x = x.dropna(thresh=(x.shape[1]*threshold_num))\n",
      "            threshold_num += 0.02\n",
      "        x = x.dropna(axis=1, how='any')\n",
      "    else:\n",
      "        return(\"Need to specify what to prioritize: 'features' or 'samples'\")\n",
      "    print (x.shape)\n",
      "    return (x)"
     ],
     "language": "python",
     "metadata": {},
     "outputs": []
    },
    {
     "cell_type": "code",
     "collapsed": false,
     "input": [
      "# THIS GROUP OF CELLS WERE USED TO EXPERIMENT WITH THE DIFFERENT CLEANING FUNCTIONS\n",
      "x2 = read('newWave2.csv', 'features')"
     ],
     "language": "python",
     "metadata": {},
     "outputs": []
    },
    {
     "cell_type": "code",
     "collapsed": false,
     "input": [
      "#better wave 2 (5016, 148) -> (4378, 154) w/ pwv -> (4378, 154) w/ all above\n",
      "x2 = read('newWave2.csv', 'samples')"
     ],
     "language": "python",
     "metadata": {},
     "outputs": []
    },
    {
     "cell_type": "code",
     "collapsed": false,
     "input": [
      "#better wave 1 (4817, 160) -> (4817, 160) w/ pwv -> (4817, 160) w/ all above\n",
      "x = read('newWave1.csv', 'features')"
     ],
     "language": "python",
     "metadata": {},
     "outputs": []
    },
    {
     "cell_type": "code",
     "collapsed": false,
     "input": [
      "read('newWave1.csv', 'samples')"
     ],
     "language": "python",
     "metadata": {},
     "outputs": []
    },
    {
     "cell_type": "code",
     "collapsed": false,
     "input": [
      "x3 = read('newWave3.csv', 'features')"
     ],
     "language": "python",
     "metadata": {},
     "outputs": []
    },
    {
     "cell_type": "code",
     "collapsed": false,
     "input": [
      "# better wave 3 (3206, 119) -> (2410, 130) w/ pwv -> (2410, 130) w/ all above\n",
      "x3 = read_w3('newWave3.csv', 'samples')"
     ],
     "language": "python",
     "metadata": {},
     "outputs": []
    },
    {
     "cell_type": "code",
     "collapsed": false,
     "input": [
      "# old cleaning function\n",
      "x2 = pd.read_csv('newWave2.csv', na_values =[])\n",
      "print (\"TO DROP NaNs Wave2\")\n",
      "print (x2.shape)\n",
      "x2 = x2.dropna(axis=1, how='all')\n",
      "print (x2.shape)\n",
      "x2 = x2.dropna(how='all')\n",
      "x2 = x2[pd.notnull(x2['exmBMI'])]\n",
      "x2 = x2[pd.notnull(x2['exmBPsys_jbs'])]\n",
      "x2 = x2[pd.notnull(x2['exmWaist'])]\n",
      "x2 = x2[pd.notnull(x2['labsColesterolo'])]\n",
      "x2 = x2[pd.notnull(x2['vasPSV'])]\n",
      "x2 = x2[pd.notnull(x2['vasIMT'])]\n",
      "print (x2.shape)\n",
      "y2, z2 = x2.shape\n",
      "x2 = x2.dropna(axis=1, thresh=(y2/3))\n",
      "print (x2.shape)\n",
      "y2, z2 = x2.shape\n",
      "x2 = x2.dropna(thresh=(z2/2))\n",
      "print (x2.shape)\n",
      "y2, z2 = x2.shape\n",
      "x2 = x2.dropna(axis=1, thresh=(y2/2))\n",
      "print (x2.shape)\n",
      "y2, z2 = x2.shape\n",
      "x2 = x2.dropna(thresh=((z2/5)*4))\n",
      "print (x2.shape)\n",
      "y2, z2 = x2.shape\n",
      "x2 = x2.dropna(axis=1, thresh=(y2/10)*9)\n",
      "y2, z2 = x2.shape\n",
      "print (x2.shape)\n",
      "x2 = x2.dropna(thresh=(z2/10)*9)\n",
      "print (x2.shape)\n",
      "y2, z2 = x2.shape\n",
      "x2 = x2.dropna(axis=1, thresh=(y2/100)*99)\n",
      "y2, z2 = x2.shape\n",
      "print (x2.shape)\n",
      "x2 = x2.dropna(how='any')\n",
      "print (x2.shape)"
     ],
     "language": "python",
     "metadata": {},
     "outputs": []
    },
    {
     "cell_type": "code",
     "collapsed": false,
     "input": [
      "# printing out the feature columns to examine sparsity of the feature\n",
      "'''x2 = x2[pd.notnull(x2['exmBMI'])]\n",
      "x2 = x2[pd.notnull(x2['exmBPsys_jbs'])]\n",
      "x2 = x2[pd.notnull(x2['exmWaist'])]\n",
      "x2 = x2[pd.notnull(x2['labsColesterolo'])]\n",
      "x2 = x2[pd.notnull(x2['vasPSV'])]\n",
      "x2 = x2[pd.notnull(x2['vasIMT'])]'''\n",
      "\n",
      "print(x2.exmBMI)\n",
      "print(x2.exmBPsys_jbs)\n",
      "print(x2.exmWaist)\n",
      "print(x2.labsColesterolo)\n",
      "print(x2.vasPSV)\n",
      "print(x2.vasIMT)"
     ],
     "language": "python",
     "metadata": {},
     "outputs": []
    },
    {
     "cell_type": "code",
     "collapsed": false,
     "input": [
      "# old cleaning function\n",
      "print (\"TO DROP NaNs Wave3\")\n",
      "print (x3.shape)\n",
      "x3 = x3.dropna(axis=1, how='all')\n",
      "print (x3.shape)\n",
      "x3 = x3.dropna(how='all')\n",
      "print (x3.shape)\n",
      "y3, z3 = x3.shape\n",
      "x3 = x3.dropna(axis=1, thresh=(y3/3))\n",
      "print (x3.shape)\n",
      "y3, z3 = x3.shape\n",
      "x3 = x3.dropna(thresh=(z3/2))\n",
      "print (x3.shape)\n",
      "y3, z3 = x3.shape\n",
      "x3 = x3.dropna(axis=1, thresh=(y3*2/3))\n",
      "print (x3.shape)\n",
      "y3, z3 = x3.shape\n",
      "x3 = x3.dropna(thresh=(z3*3/4))\n",
      "print (x3.shape)\n",
      "y3, z3 = x3.shape\n",
      "x3 = x3.dropna(axis=1, thresh=(y3*9/10))\n",
      "print (x3.shape)\n",
      "y3, z3 = x3.shape\n",
      "x3 = x3.dropna(thresh=(z3*4/5))\n",
      "print (x3.shape)\n",
      "y3, z3 = x3.shape\n",
      "x3 = x3.dropna(axis=1, thresh=(y3*9/10))\n",
      "print (x3.shape)\n",
      "y3, z3 = x3.shape\n",
      "x3 = x3.dropna(how='any')\n",
      "print (x3.shape)"
     ],
     "language": "python",
     "metadata": {},
     "outputs": []
    },
    {
     "cell_type": "heading",
     "level": 1,
     "metadata": {},
     "source": [
      "Determining Bin Size"
     ]
    },
    {
     "cell_type": "heading",
     "level": 3,
     "metadata": {},
     "source": [
      "Wave 1"
     ]
    },
    {
     "cell_type": "markdown",
     "metadata": {},
     "source": [
      "Prints the bin counts for each experiment\n",
      "\"range (14,100,2)\" means 14 up to but not including 100 years old grouped by 2 year intervals"
     ]
    },
    {
     "cell_type": "code",
     "collapsed": false,
     "input": [
      "print (\"BY TWOS\")\n",
      "print (\"range (14,100,2):\")\n",
      "bins = range (14,100,2)\n",
      "counts,bins = np.histogram(x.Age.as_matrix(),bins=bins)\n",
      "print (counts)\n",
      "print (bins)\n",
      "print (\"range (13,100,2):\")\n",
      "bins = range (13,100,2)\n",
      "counts,bins = np.histogram(x.Age.as_matrix(),bins=bins)\n",
      "print (counts)\n",
      "print (bins)\n",
      "print (\"range (15,100,2):\")\n",
      "bins = range (15,100,2)\n",
      "counts,bins = np.histogram(x.Age.as_matrix(),bins=bins)\n",
      "print (counts)\n",
      "print (bins)"
     ],
     "language": "python",
     "metadata": {},
     "outputs": []
    },
    {
     "cell_type": "code",
     "collapsed": false,
     "input": [
      "print \"BY THREES\"\n",
      "print \"range (14,100,3):\"\n",
      "bins = range (14,100,3)\n",
      "counts,bins = np.histogram(x.Age.as_matrix(),bins=bins)\n",
      "print counts\n",
      "print bins\n",
      "print \"range (13,100,3):\"\n",
      "bins = range (13,100,3)\n",
      "counts,bins = np.histogram(x.Age.as_matrix(),bins=bins)\n",
      "print counts\n",
      "print bins\n",
      "print \"range (15,100,3):\"\n",
      "bins = range (15,100,3)\n",
      "counts,bins = np.histogram(x.Age.as_matrix(),bins=bins)\n",
      "print counts\n",
      "print bins"
     ],
     "language": "python",
     "metadata": {},
     "outputs": []
    },
    {
     "cell_type": "code",
     "collapsed": false,
     "input": [
      "print (\"BY FOURS\")\n",
      "print (\"range (14,100,4):\")\n",
      "bins = range (14,100,4)\n",
      "counts,bins = np.histogram(x.Age.as_matrix(),bins=bins)\n",
      "print (counts)\n",
      "print (bins)\n",
      "print (\"range (13,100,4):\")\n",
      "bins = range (13,100,4)\n",
      "counts,bins = np.histogram(x.Age.as_matrix(),bins=bins)\n",
      "print (counts)\n",
      "print (bins)\n",
      "print (\"range (15,100,4):\")\n",
      "bins = range (15,100,4)\n",
      "counts,bins = np.histogram(x.Age.as_matrix(),bins=bins)\n",
      "print (counts)\n",
      "print (bins)\n",
      "print (\"range (12,100,4):\")\n",
      "bins = range (12,100,4)\n",
      "counts,bins = np.histogram(x.Age.as_matrix(),bins=bins)\n",
      "print (counts)\n",
      "print (bins)\n",
      "print (\"range (16,100,4):\")\n",
      "bins = range (16,100,4)\n",
      "counts,bins = np.histogram(x.Age.as_matrix(),bins=bins)\n",
      "print (counts)\n",
      "print (bins)"
     ],
     "language": "python",
     "metadata": {},
     "outputs": []
    },
    {
     "cell_type": "code",
     "collapsed": false,
     "input": [
      "print (\"BY FIVES\")\n",
      "print (\"range (13,100,5):\")\n",
      "bins = range (13,100,5)\n",
      "counts,bins = np.histogram(x.Age.as_matrix(),bins=bins)\n",
      "print (counts)\n",
      "print (bins)\n",
      "\n",
      "print (\"range (14,100,5):\")\n",
      "bins = range (14,100,5)\n",
      "counts,bins = np.histogram(x.Age.as_matrix(),bins=bins)\n",
      "print (counts)\n",
      "print (bins)\n",
      "print (\"range (15,100,5):\")\n",
      "bins = range (15,100,5)\n",
      "counts,bins = np.histogram(x.Age.as_matrix(),bins=bins)\n",
      "print (counts)\n",
      "print (bins)\n",
      "print (\"range (12,100,5):\")\n",
      "bins = range (12,100,5)\n",
      "counts,bins = np.histogram(x.Age.as_matrix(),bins=bins)\n",
      "print (counts)\n",
      "print (bins)\n",
      "print (\"range (16,100,5):\")\n",
      "bins = range (15,100,5)\n",
      "counts,bins = np.histogram(x.Age.as_matrix(),bins=bins)\n",
      "print (counts)\n",
      "print (bins)\n",
      "# Using range (13,100,5) for Wave 1\n",
      "print (\"\")\n",
      "print (\"***Using range ((13,100,5) for Wave 1***\")\n",
      "bins = range (13,100,5)\n",
      "counts,bins = np.histogram(x.Age.as_matrix(),bins=bins)\n",
      "print (counts)\n",
      "print (sum(counts))\n",
      "print (bins)\n",
      "pl.figure()\n",
      "pl.hist(x.Age, bins=bins)\n",
      "pl.title('Distribution of Samples by Age Bins')\n",
      "pl.xlabel('Age')\n",
      "pl.ylabel('Number of Samples')\n",
      "#pl.savefig('/home/suned/GRAPHS/Age_Bins.pdf', format='pdf', dpi=150)\n",
      "pl.show()\n",
      "# Using range (13,100,5) for Wave 1"
     ],
     "language": "python",
     "metadata": {},
     "outputs": []
    },
    {
     "cell_type": "code",
     "collapsed": false,
     "input": [
      "print \"BY SIXES\"\n",
      "print \"range (14,100,6):\"\n",
      "bins = range (14,100,6)\n",
      "counts,bins = np.histogram(x.Age.as_matrix(),bins=bins)\n",
      "print counts\n",
      "print bins\n",
      "print \"range (13,100,6):\"\n",
      "bins = range (13,100,6)\n",
      "counts,bins = np.histogram(x.Age.as_matrix(),bins=bins)\n",
      "print counts\n",
      "print bins\n",
      "print \"range (15,100,6):\"\n",
      "bins = range (15,100,6)\n",
      "counts,bins = np.histogram(x.Age.as_matrix(),bins=bins)\n",
      "print counts\n",
      "print bins"
     ],
     "language": "python",
     "metadata": {},
     "outputs": []
    },
    {
     "cell_type": "code",
     "collapsed": false,
     "input": [
      "print \"BY SEVENS\"\n",
      "print \"range (14,100,7):\"\n",
      "bins = range (14,100,7)\n",
      "counts,bins = np.histogram(x.Age.as_matrix(),bins=bins)\n",
      "print counts\n",
      "print bins\n",
      "print \"range (13,100,7):\"\n",
      "bins = range (13,100,7)\n",
      "counts,bins = np.histogram(x.Age.as_matrix(),bins=bins)\n",
      "print counts\n",
      "print bins\n",
      "print \"range (15,100,7):\"\n",
      "bins = range (15,100,7)\n",
      "counts,bins = np.histogram(x.Age.as_matrix(),bins=bins)\n",
      "print counts\n",
      "print bins"
     ],
     "language": "python",
     "metadata": {},
     "outputs": []
    },
    {
     "cell_type": "code",
     "collapsed": false,
     "input": [
      "print \"BY EIGHTS\"\n",
      "print \"range (14,100,8):\"\n",
      "bins = range (14,100,8)\n",
      "counts,bins = np.histogram(x.Age.as_matrix(),bins=bins)\n",
      "print counts\n",
      "print bins\n",
      "print \"range (13,100,8):\"\n",
      "bins = range (13,100,8)\n",
      "counts,bins = np.histogram(x.Age.as_matrix(),bins=bins)\n",
      "print counts\n",
      "print bins\n",
      "print \"range (15,100,8):\"\n",
      "bins = range (15,100,8)\n",
      "counts,bins = np.histogram(x.Age.as_matrix(),bins=bins)\n",
      "print counts\n",
      "print bins"
     ],
     "language": "python",
     "metadata": {},
     "outputs": []
    },
    {
     "cell_type": "code",
     "collapsed": false,
     "input": [
      "print \"BY NINES\"\n",
      "print \"range (14,100,9):\"\n",
      "bins = range (14,100,9)\n",
      "counts,bins = np.histogram(x.Age.as_matrix(),bins=bins)\n",
      "print counts\n",
      "print bins\n",
      "print \"range (13,100,9):\"\n",
      "bins = range (13,100,9)\n",
      "counts,bins = np.histogram(x.Age.as_matrix(),bins=bins)\n",
      "print counts\n",
      "print bins\n",
      "print \"range (15,100,9):\"\n",
      "bins = range (15,100,9)\n",
      "counts,bins = np.histogram(x.Age.as_matrix(),bins=bins)\n",
      "print counts\n",
      "print bins"
     ],
     "language": "python",
     "metadata": {},
     "outputs": []
    },
    {
     "cell_type": "code",
     "collapsed": false,
     "input": [
      "print \"BY TENS\"\n",
      "print \"range (14,100,10):\"\n",
      "bins = range (14,100,10)\n",
      "counts,bins = np.histogram(x.Age.as_matrix(),bins=bins)\n",
      "print counts\n",
      "print bins\n",
      "print \"range (13,100,10):\"\n",
      "bins = range (13,100,10)\n",
      "counts,bins = np.histogram(x.Age.as_matrix(),bins=bins)\n",
      "print counts\n",
      "print bins\n",
      "print \"range (15,100,10):\"\n",
      "bins = range (15,100,10)\n",
      "counts,bins = np.histogram(x.Age.as_matrix(),bins=bins)\n",
      "print counts\n",
      "print bins"
     ],
     "language": "python",
     "metadata": {},
     "outputs": []
    },
    {
     "cell_type": "heading",
     "level": 3,
     "metadata": {},
     "source": [
      "Wave 2"
     ]
    },
    {
     "cell_type": "code",
     "collapsed": false,
     "input": [
      "print (\"BY THREES\")\n",
      "print (\"range (18,100,3):\") # 75 yrs, 1843 sample (19 classes)\n",
      "bins = range (18,100,3)\n",
      "counts,bins = np.histogram(x2.Age.as_matrix(),bins=bins)\n",
      "print (counts)\n",
      "print (bins)\n",
      "print (\"range (17,100,3):\" )\n",
      "bins = range (17,100,3)\n",
      "counts,bins = np.histogram(x2.Age.as_matrix(),bins=bins)\n",
      "print (counts)\n",
      "print (bins)\n",
      "print (\"range (19,100,3):\")\n",
      "bins = range (19,100,3)\n",
      "counts,bins = np.histogram(x2.Age.as_matrix(),bins=bins)\n",
      "print (counts)\n",
      "print (bins)"
     ],
     "language": "python",
     "metadata": {},
     "outputs": []
    },
    {
     "cell_type": "code",
     "collapsed": false,
     "input": [
      "print \"BY FOURS\"\n",
      "print \"range (18,100,4):\"\n",
      "bins = range (18,100,4)\n",
      "counts,bins = np.histogram(x2.Age.as_matrix(),bins=bins)\n",
      "print counts\n",
      "print bins\n",
      "print \"range (17,100,4):\"\n",
      "bins = range (17,100,4)\n",
      "counts,bins = np.histogram(x2.Age.as_matrix(),bins=bins)\n",
      "print counts\n",
      "print bins\n",
      "print \"range (19,100,4):\"\n",
      "bins = range (19,100,4)\n",
      "counts,bins = np.histogram(x2.Age.as_matrix(),bins=bins)\n",
      "print counts\n",
      "print bins\n",
      "print \"range (16,100,4):\"\n",
      "bins = range (16,100,4)\n",
      "counts,bins = np.histogram(x2.Age.as_matrix(),bins=bins)\n",
      "print counts\n",
      "print bins\n",
      "print \"range (20,100,4):\"\n",
      "bins = range (20,100,4)\n",
      "counts,bins = np.histogram(x2.Age.as_matrix(),bins=bins)\n",
      "print counts\n",
      "print bins"
     ],
     "language": "python",
     "metadata": {},
     "outputs": []
    },
    {
     "cell_type": "code",
     "collapsed": false,
     "input": [
      "print (\"BY FIVES\")\n",
      "print (\"range (18,100,5):\") # 78 yrs, 12 classes, 1536 samples\n",
      "bins = range (18,100,5)\n",
      "counts,bins = np.histogram(x2.Age.as_matrix(),bins=bins)\n",
      "print (counts)\n",
      "print (bins)\n",
      "print (\"range (17,100,5):\")\n",
      "bins = range (17,100,5)\n",
      "counts,bins = np.histogram(x2.Age.as_matrix(),bins=bins)\n",
      "print (counts)\n",
      "print (bins)\n",
      "print (\"range (16,100,5):\")\n",
      "bins = range (16,100,5)\n",
      "counts,bins = np.histogram(x2.Age.as_matrix(),bins=bins)\n",
      "print (counts)\n",
      "print (bins)\n",
      "print (\"range (19,100,5):\")\n",
      "bins = range (19,100,5)\n",
      "counts,bins = np.histogram(x2.Age.as_matrix(),bins=bins)\n",
      "print (counts)\n",
      "print (bins)\n",
      "print (\"range (20,100,5):\") # 80 yrs, 12 classes, 1152 samples\n",
      "bins = range (20,100,5)\n",
      "counts,bins = np.histogram(x2.Age.as_matrix(),bins=bins)\n",
      "print (counts)\n",
      "print (bins)"
     ],
     "language": "python",
     "metadata": {},
     "outputs": []
    },
    {
     "cell_type": "code",
     "collapsed": false,
     "input": [
      "print \"BY SIXES\"\n",
      "print \"range (18,100,6):\"\n",
      "bins = range (18,100,6)\n",
      "counts,bins = np.histogram(x2.Age.as_matrix(),bins=bins)\n",
      "print counts\n",
      "print bins\n",
      "print \"range (19,100,6):\"\n",
      "bins = range (19,100,6)\n",
      "counts,bins = np.histogram(x2.Age.as_matrix(),bins=bins)\n",
      "print counts\n",
      "print bins\n",
      "print \"range (17,100,6):\"\n",
      "bins = range (17,100,6)\n",
      "counts,bins = np.histogram(x2.Age.as_matrix(),bins=bins)\n",
      "print counts\n",
      "print bins\n",
      "print \"range (16,100,6):\"\n",
      "bins = range (16,100,6)\n",
      "counts,bins = np.histogram(x2.Age.as_matrix(),bins=bins)\n",
      "print counts\n",
      "print bins\n",
      "print \"range (15,100,6):\" # 81 yrs, 10 classes, 1030 samples\n",
      "bins = range (15,100,6)\n",
      "counts,bins = np.histogram(x2.Age.as_matrix(),bins=bins)\n",
      "print counts\n",
      "print bins"
     ],
     "language": "python",
     "metadata": {},
     "outputs": []
    },
    {
     "cell_type": "heading",
     "level": 3,
     "metadata": {},
     "source": [
      "Wave 3"
     ]
    },
    {
     "cell_type": "code",
     "collapsed": false,
     "input": [
      "print (\"BY THREES\")\n",
      "print (\"range (18,100,3):\")\n",
      "bins = range (18,100,3)\n",
      "counts,bins = np.histogram(x3.Age.as_matrix(),bins=bins)\n",
      "print (counts)\n",
      "print (bins)\n",
      "print (\"range (17,100,3):\")\n",
      "bins = range (17,100,3)\n",
      "counts,bins = np.histogram(x3.Age.as_matrix(),bins=bins)\n",
      "print (counts)\n",
      "print (bins)\n",
      "print (\"range (19,100,3):\")\n",
      "bins = range (19,100,3)\n",
      "counts,bins = np.histogram(x3.Age.as_matrix(),bins=bins)\n",
      "print (counts)\n",
      "print (bins)"
     ],
     "language": "python",
     "metadata": {},
     "outputs": []
    },
    {
     "cell_type": "code",
     "collapsed": false,
     "input": [
      "print \"BY FOURS\"\n",
      "print \"range (18,100,4):\"\n",
      "bins = range (18,100,4)\n",
      "counts,bins = np.histogram(x3.Age.as_matrix(),bins=bins)\n",
      "print counts\n",
      "print bins\n",
      "print \"range (17,100,4):\"\n",
      "bins = range (17,100,4)\n",
      "counts,bins = np.histogram(x3.Age.as_matrix(),bins=bins)\n",
      "print counts\n",
      "print bins\n",
      "print \"range (19,100,4):\"\n",
      "bins = range (19,100,4)\n",
      "counts,bins = np.histogram(x3.Age.as_matrix(),bins=bins)\n",
      "print counts\n",
      "print bins\n",
      "print \"range (16,100,4):\"\n",
      "bins = range (16,100,4)\n",
      "counts,bins = np.histogram(x3.Age.as_matrix(),bins=bins)\n",
      "print counts\n",
      "print bins\n",
      "print \"range (20,100,4):\"\n",
      "bins = range (20,100,4)\n",
      "counts,bins = np.histogram(x3.Age.as_matrix(),bins=bins)\n",
      "print counts\n",
      "print bins"
     ],
     "language": "python",
     "metadata": {},
     "outputs": []
    },
    {
     "cell_type": "code",
     "collapsed": false,
     "input": [
      "print (\"BY FIVES\")\n",
      "print (\"range (18,100,5):\" )\n",
      "bins = range (18,100,5)\n",
      "counts,bins = np.histogram(x3.Age.as_matrix(),bins=bins)\n",
      "print (counts)\n",
      "print (bins)\n",
      "print (\"range (17,100,5):\")\n",
      "bins = range (17,100,5)\n",
      "counts,bins = np.histogram(x3.Age.as_matrix(),bins=bins)\n",
      "print (counts)\n",
      "print (bins)\n",
      "print (\"range (16,100,5):\")\n",
      "bins = range (16,100,5)\n",
      "counts,bins = np.histogram(x3.Age.as_matrix(),bins=bins)\n",
      "print (counts)\n",
      "print (bins)\n",
      "print (\"range (19,100,5):\")\n",
      "bins = range (19,100,5)\n",
      "counts,bins = np.histogram(x3.Age.as_matrix(),bins=bins)\n",
      "print (counts)\n",
      "print (bins)\n",
      "print (\"range (20,100,5):\") # 80 yrs, 12 classes, 1368 samples\n",
      "bins = range (20,100,5)\n",
      "counts,bins = np.histogram(x3.Age.as_matrix(),bins=bins)\n",
      "print (counts)\n",
      "print (bins)"
     ],
     "language": "python",
     "metadata": {},
     "outputs": []
    },
    {
     "cell_type": "code",
     "collapsed": false,
     "input": [
      "print \"BY SIXES\"\n",
      "print \"range (18,100,6):\"\n",
      "bins = range (18,100,6)\n",
      "counts,bins = np.histogram(x3.Age.as_matrix(),bins=bins)\n",
      "print counts\n",
      "print bins\n",
      "print \"range (19,100,6):\"\n",
      "bins = range (19,100,6)\n",
      "counts,bins = np.histogram(x3.Age.as_matrix(),bins=bins)\n",
      "print counts\n",
      "print bins\n",
      "print \"range (17,100,6):\"\n",
      "bins = range (17,100,6)\n",
      "counts,bins = np.histogram(x3.Age.as_matrix(),bins=bins)\n",
      "print counts\n",
      "print bins\n",
      "print \"range (16,100,6):\"\n",
      "bins = range (16,100,6)\n",
      "counts,bins = np.histogram(x3.Age.as_matrix(),bins=bins)\n",
      "print counts\n",
      "print bins\n",
      "print \"range (15,100,6):\" \n",
      "bins = range (15,100,6)\n",
      "counts,bins = np.histogram(x3.Age.as_matrix(),bins=bins)\n",
      "print counts\n",
      "print bins"
     ],
     "language": "python",
     "metadata": {},
     "outputs": []
    },
    {
     "cell_type": "heading",
     "level": 1,
     "metadata": {},
     "source": [
      "Binning Data With Views"
     ]
    },
    {
     "cell_type": "code",
     "collapsed": false,
     "input": [
      "# using numpy views to bin the data into groups based off of the optimal binning strategy\n",
      "views=[]\n",
      "index=0\n",
      "for i in range (0,len(counts)):\n",
      "    views.append ([counts[i],index,index+counts[i]])\n",
      "    index = index+counts[i]\n",
      "    \n",
      "views.pop()\n",
      "print views"
     ],
     "language": "python",
     "metadata": {},
     "outputs": []
    },
    {
     "cell_type": "code",
     "collapsed": false,
     "input": [
      "# old function for binning\n",
      "def bin_data(start, end, size, data_matrix, age_col):\n",
      "    bins = range (start, end, size)\n",
      "    counts,bins = np.histogram(age_col,bins=bins)\n",
      "    views=[]\n",
      "    index=0\n",
      "    for i in range (0,len(counts)):\n",
      "        views.append (data_matrix[index : index+counts[i],:])\n",
      "        index = index+counts[i]\n",
      "    views.pop()\n",
      "    return (views)\n",
      "y = x.as_matrix()\n",
      "age = x.Age.as_matrix()\n",
      "view_list = bin_data(13,85,5,y,age)\n",
      "view_list[3]\n",
      "#checked data to spreadsheet and everything matches still"
     ],
     "language": "python",
     "metadata": {},
     "outputs": []
    },
    {
     "cell_type": "heading",
     "level": 1,
     "metadata": {},
     "source": [
      "Splitting Train and Test For Each View"
     ]
    },
    {
     "cell_type": "code",
     "collapsed": false,
     "input": [
      "# old function for train test split\n",
      "def train_test(train_amount, test_amount, views):\n",
      "    cut_data = []\n",
      "    for view in views:\n",
      "        random = np.random.permutation(view)\n",
      "        cut_data.append(random[:train_amount+test_amount,:])\n",
      "    from sklearn.cross_validation import train_test_split\n",
      "    train = []\n",
      "    test = []\n",
      "    for item in cut_data:\n",
      "        train_unit, test_unit = train_test_split(item, test_size=22) #test is fixed but train varies\n",
      "        train.append([train_unit])\n",
      "        test.append([test_unit])\n",
      "    train_data = np.vstack(train)\n",
      "    test_data = np.vstack(test)\n",
      "    return (train_data,test_data)\n",
      "    "
     ],
     "language": "python",
     "metadata": {},
     "outputs": []
    },
    {
     "cell_type": "code",
     "collapsed": false,
     "input": [
      "# Better Function (old function)\n",
      "def b(train_amount, test_amount, views):\n",
      "    train = []\n",
      "    test = []\n",
      "    for view in views:\n",
      "        random = np.random.permutation(view)\n",
      "        train.append(random[:train_amount, :])\n",
      "        test.append(random[train_amount:train_amount+test_amount, :])\n",
      "    return (train, test) "
     ],
     "language": "python",
     "metadata": {},
     "outputs": []
    },
    {
     "cell_type": "heading",
     "level": 1,
     "metadata": {},
     "source": [
      "Checking Data with Original Source"
     ]
    },
    {
     "cell_type": "markdown",
     "metadata": {},
     "source": [
      "The work in this section was done to \"double check\" the validity of our functions in that they retained the charateristics of the data and achieved their purpose. We validated that there was no bias introduced and the data is clean. "
     ]
    },
    {
     "cell_type": "code",
     "collapsed": false,
     "input": [
      "# Class contains variables and attributes of data\n",
      "class SardiNIA (object):\n",
      "    def __init__ (self):\n",
      "        # wave is an integer\n",
      "        self.wave = None\n",
      "        self.visit = []\n",
      "        self.data_matrix = []\n",
      "        self.data_class_views = []\n",
      "        self.class_vals = []\n",
      "        self.col_names = []\n",
      "        self.occupation = []\n",
      "        self.education = []\n",
      "        self.marital_status = []\n",
      "        \n",
      "        self.ages = []\n",
      "        self.id_sir = []\n",
      "        self.id_mad = []\n",
      "        self.id_ind = []\n",
      "        self.pwv_dates = []\n",
      "        self.visit_dates = []\n",
      "        self.neo_dates = []\n",
      "        \n",
      "        self.data_matrix_age = []\n",
      "        self.col_names_age = []\n",
      "        self.data_class_views_age = []\n",
      "        self.class_vals_age = []\n",
      "        self.train_classed = []\n",
      "        self.test_classed = []\n",
      "        self.train = []\n",
      "        self.test = []\n",
      "        self.train_data = []\n",
      "        self.train_labels = []\n",
      "        self.test_data = []\n",
      "        self.test_labels = []\n",
      "        self.train_classed2 = []\n",
      "        self.test_classed2 = []\n",
      "        self.train_classed_data = []\n",
      "        self.train_classed_labels = []\n",
      "        self.test_classed_data = []\n",
      "        self.test_classed_labels = []\n",
      "        self.train_view_data = []\n",
      "        self.train_view_labels = []\n",
      "        self.test_view_data = []\n",
      "        self.test_view_labels = []"
     ],
     "language": "python",
     "metadata": {},
     "outputs": []
    },
    {
     "cell_type": "code",
     "collapsed": false,
     "input": [
      "def read_data(file_name):\n",
      "    x = pd.read_csv(file_name, na_values=[])\n",
      "    x = x.dropna(axis=1, how='all')\n",
      "    x = x.dropna(how='all')\n",
      "    x = x.dropna(axis=1, thresh=2500)\n",
      "    x = x.dropna(thresh=50)\n",
      "    x = x.dropna(axis=1, thresh=5000)\n",
      "    x = x.dropna(thresh=120)\n",
      "    x = x.dropna(axis=1, thresh=5500)\n",
      "    x = x.dropna(how='any')\n",
      "    return x"
     ],
     "language": "python",
     "metadata": {},
     "outputs": []
    },
    {
     "cell_type": "code",
     "collapsed": false,
     "input": [
      "def clean_convert(df):\n",
      "    df = df.drop('Age',1)\n",
      "    df = df.drop('id_sir',1)\n",
      "    df = df.drop('id_mad',1)\n",
      "    df = df.drop('id_individual',1)\n",
      "    df = df.drop('pwvDate',1)\n",
      "    df = df.drop('FirstVisitDate',1)\n",
      "    df = df.as_matrix()\n",
      "    return df"
     ],
     "language": "python",
     "metadata": {},
     "outputs": []
    },
    {
     "cell_type": "code",
     "collapsed": false,
     "input": [
      "def bin_data(start, end, size, data_matrix, age_col):\n",
      "    bins = range (start, end+size, size)\n",
      "    counts,bins = np.histogram(age_col,bins=bins)\n",
      "    views=[]\n",
      "    index=0\n",
      "    for i in range (0,len(counts)):\n",
      "        views.append (data_matrix[index : index+counts[i],:])\n",
      "        index = index+counts[i]\n",
      "    views.pop()\n",
      "    # initialize the class_values array (center of each bin)\n",
      "    class_vals = [x+(size/2.0) for x in range(start, end, size)]\n",
      "    class_vals.pop()\n",
      "    return (views, class_vals)"
     ],
     "language": "python",
     "metadata": {},
     "outputs": []
    },
    {
     "cell_type": "code",
     "collapsed": false,
     "input": [
      "def init_SardiNIA(filename, bin_st, bin_end, bin_size):\n",
      "    df = read_data (filename)\n",
      "    sd = SardiNIA()\n",
      "    sd.col_names =  df.columns.values\n",
      "    sd.ages = df.Age.values\n",
      "    sd.data_matrix = clean_convert(df)\n",
      "    # store rest of the \"interesting\" columns\n",
      "    # get rid of extra columns in data_matrix\n",
      "    sd.data_class_views, sd.class_vals = bin_data (bin_st, bin_end, bin_size, sd.data_matrix, sd.ages)\n",
      "    sd.id_sir = df.id_sir.as_matrix()\n",
      "    sd.id_mad = df.id_mad.as_matrix()\n",
      "    sd.id_ind = df.id_individual.as_matrix()\n",
      "    sd.pwv_dates = df.pwvDate.as_matrix()\n",
      "    sd.visit_dates = df.FirstVisitDate.as_matrix()\n",
      "    return (sd)"
     ],
     "language": "python",
     "metadata": {},
     "outputs": []
    },
    {
     "cell_type": "code",
     "collapsed": false,
     "input": [
      "def init_SardiNIA_1():\n",
      "    sd = init_SardiNIA('newWave1.csv', 13, 79, 5)\n",
      "    return (sd)"
     ],
     "language": "python",
     "metadata": {},
     "outputs": []
    },
    {
     "cell_type": "code",
     "collapsed": false,
     "input": [
      "sd = init_SardiNIA_1()"
     ],
     "language": "python",
     "metadata": {},
     "outputs": []
    },
    {
     "cell_type": "code",
     "collapsed": false,
     "input": [],
     "language": "python",
     "metadata": {},
     "outputs": []
    },
    {
     "cell_type": "code",
     "collapsed": false,
     "input": [
      "print sd.col_names\n",
      "#matches source data"
     ],
     "language": "python",
     "metadata": {},
     "outputs": []
    },
    {
     "cell_type": "code",
     "collapsed": false,
     "input": [
      "print sd.data_matrix\n",
      "#matches source data"
     ],
     "language": "python",
     "metadata": {},
     "outputs": []
    },
    {
     "cell_type": "code",
     "collapsed": false,
     "input": [
      "print sd.ages.shape #check\n",
      "print sd.ages #check\n",
      "#matches source data"
     ],
     "language": "python",
     "metadata": {},
     "outputs": []
    },
    {
     "cell_type": "code",
     "collapsed": false,
     "input": [
      "print sd.class_vals #check\n",
      "print len(sd.data_class_views) #check\n",
      "print sd.data_class_views #check\n",
      "#matches source data"
     ],
     "language": "python",
     "metadata": {},
     "outputs": []
    },
    {
     "cell_type": "code",
     "collapsed": false,
     "input": [
      "print sd.id_mad #check\n",
      "print sd.id_ind #check\n",
      "#matches source data"
     ],
     "language": "python",
     "metadata": {},
     "outputs": []
    },
    {
     "cell_type": "code",
     "collapsed": false,
     "input": [
      "print sd.visit_dates #check\n",
      "print sd.pwv_dates #check\n",
      "#matches source data"
     ],
     "language": "python",
     "metadata": {},
     "outputs": []
    },
    {
     "cell_type": "markdown",
     "metadata": {},
     "source": [
      "#Checking feature indexes and participant ID integrity"
     ]
    },
    {
     "cell_type": "code",
     "collapsed": false,
     "input": [
      "%run 'Functions.ipynb'\n",
      "\n",
      "def find_feature_values (wave_num, feature_idxs, feature_name, participant_idx):\n",
      "    wi = Config.wave_info (wave_num)\n",
      "    wd = Config.wave_data (wave_num)\n",
      "\n",
      "    participant_id = int (wd.data_matrix[participant_idx,wd.id_col_idx])\n",
      "    value = wd.data_matrix[participant_idx,feature_idxs[feature_name]+2]\n",
      "    print ('{} feature index={}'.format(feature_name,feature_idxs[feature_name]))\n",
      "    print ('participant index = {}, id = {}'.format(participant_idx,participant_id))\n",
      "    print ('value = {}'.format(value))\n",
      "    for split_num in range (20):\n",
      "        split = Split()\n",
      "        split.load_wave_train_test_RS (wave_num, split_num)\n",
      "        if participant_id in split.train_id:\n",
      "            idx = np.where(split.train_id == participant_id)[0][0]\n",
      "            value = split.train_set[idx,feature_idxs[feature_name]]\n",
      "            print ('in split {} train_set @ {} = {}'.format(split_num,idx,value))\n",
      "        if participant_id in split.test_id:\n",
      "            idx = np.where(split.test_id == participant_id)[0][0]\n",
      "            value = split.test_set[idx,feature_idxs[feature_name]]\n",
      "            print ('in split {} test_set  @ {} = {}'.format(split_num,idx,value))\n",
      "    print()\n",
      "\n",
      "wave_num = 2\n",
      "feature_idxs = {}\n",
      "col_idx = 0\n",
      "col_names = Config.wave_data (wave_num).col_names\n",
      "for col_idx in range (2,len(col_names)):\n",
      "    feature_idxs[col_names[col_idx]] = col_idx-2\n",
      "# Add a non-existent feature to ignore to get the baseline\n",
      "feature_idxs['NONE'] = None\n",
      "\n",
      "#feature_name = 'MMSE29Language_08'\n",
      "feature_name = 'labsTrigliceridi'\n",
      "participant_idx = 50\n",
      "find_feature_values (wave_num, feature_idxs, feature_name, participant_idx)\n",
      "\n",
      "find_feature_values (wave_num, feature_idxs, 'labsTransferrina', 63)\n"
     ],
     "language": "python",
     "metadata": {},
     "outputs": []
    },
    {
     "cell_type": "heading",
     "level": 1,
     "metadata": {},
     "source": [
      "Graphs"
     ]
    },
    {
     "cell_type": "markdown",
     "metadata": {},
     "source": [
      "This section is outdated. It includes the first attempts at graphing the Fisher and Pearson scores for a quick comparison of features and the layout of the data."
     ]
    },
    {
     "cell_type": "code",
     "collapsed": false,
     "input": [
      "# FISHER SCORE GRAPH\n",
      "\n",
      "import numpy as np\n",
      "import matplotlib.pyplot as plt\n",
      "\n",
      "y = fw.fisher_values\n",
      "\n",
      "\n",
      "ind = np.arange(len(sd.col_names))  # the x locations for the groups\n",
      "width = 0.35       # the width of the bars\n",
      "\n",
      "fig, ax = plt.subplots()\n",
      "rects1 = ax.bar(ind, y, width, color='r')\n",
      "\n",
      "\n",
      "ax.set_ylabel('Fisher Scores')\n",
      "ax.set_xlabel('Feature Index')\n",
      "ax.set_title('Fisher Scores By Feature')\n",
      "\n",
      "plt.show()"
     ],
     "language": "python",
     "metadata": {},
     "outputs": []
    },
    {
     "cell_type": "code",
     "collapsed": false,
     "input": [
      "#PEARSON GRAPH\n",
      "import numpy as np\n",
      "import matplotlib.pyplot as plt\n",
      "\n",
      "y = pw.values\n",
      "\n",
      "\n",
      "ind = np.arange(len(sd.col_names))  # the x locations for the groups\n",
      "width = 0.35       # the width of the bars\n",
      "\n",
      "fig, ax = plt.subplots()\n",
      "rects1 = ax.bar(ind, y, width, color='r')\n",
      "\n",
      "\n",
      "ax.set_ylabel('Pearson Scores')\n",
      "ax.set_xlabel('Feature Index')\n",
      "ax.set_title('Pearson Scores By Feature')\n",
      "\n",
      "plt.show()"
     ],
     "language": "python",
     "metadata": {},
     "outputs": []
    }
   ],
   "metadata": {}
  }
 ]
}