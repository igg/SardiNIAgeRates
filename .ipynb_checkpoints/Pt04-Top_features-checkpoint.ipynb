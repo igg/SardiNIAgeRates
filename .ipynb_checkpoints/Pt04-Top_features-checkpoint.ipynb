{
 "metadata": {
  "name": "",
  "signature": "sha256:f672c098b8319c29e44542a9277dd4489b3dba86259cf88fa6a61d8bc1054c52"
 },
 "nbformat": 3,
 "nbformat_minor": 0,
 "worksheets": [
  {
   "cells": [
    {
     "cell_type": "heading",
     "level": 2,
     "metadata": {},
     "source": [
      "OLD (Outdated experiments for top performing features)"
     ]
    },
    {
     "cell_type": "code",
     "collapsed": false,
     "input": [
      "%run 'Functions.ipynb'"
     ],
     "language": "python",
     "metadata": {},
     "outputs": [
      {
       "output_type": "stream",
       "stream": "stderr",
       "text": [
        "/usr/local/lib/python3.4/site-packages/pandas/io/excel.py:626: UserWarning: Installed openpyxl is not supported at this time. Use >=1.6.1 and <2.0.0.\n",
        "  .format(openpyxl_compat.start_ver, openpyxl_compat.stop_ver))\n"
       ]
      }
     ],
     "prompt_number": 1
    },
    {
     "cell_type": "code",
     "collapsed": false,
     "input": [
      "raw_data = read_data ('newWave1.csv')\n",
      "ages = raw_data.Age.values\n",
      "data_matrix, col_names, age_col_idx, id_col_idx = clean_convert(raw_data)\n",
      "data_class_views, class_vals = bin_data (13, 79, 5, data_matrix, ages)"
     ],
     "language": "python",
     "metadata": {},
     "outputs": [],
     "prompt_number": 2
    },
    {
     "cell_type": "code",
     "collapsed": false,
     "input": [
      "fisher_vals = []\n",
      "pearson_vals = []\n",
      "mrmr_vals = []\n",
      "for i in range(100):\n",
      "    split = Split()\n",
      "    split_filename_base = \"sard_w1_split_100tr_11te\"\n",
      "    in_name = split_filename_base+\"_s{0:03d}.pickle\".format(i)\n",
      "    split.read(os.path.join(split_filename_base,in_name))\n",
      "    fisher_val = Fisher(split)\n",
      "    pearson_val = Pearson(split)\n",
      "    mrmr_val = read_mrmr(split_filename_base,i)\n",
      "    fisher_vals.append(fisher_val)\n",
      "    pearson_vals.append(pearson_val)\n",
      "    mrmr_vals.append(mrmr_val)\n",
      "fisher_weights = np.mean(np.vstack(fisher_vals), axis=0)\n",
      "pearson_weights = np.mean(np.vstack(pearson_vals), axis=0)\n",
      "mrmr_weights = np.mean(np.vstack(mrmr_vals), axis=0)"
     ],
     "language": "python",
     "metadata": {},
     "outputs": [],
     "prompt_number": 39
    },
    {
     "cell_type": "code",
     "collapsed": false,
     "input": [
      "fisher_features, fisher_scores = Top_Features(col_names, fisher_weights, 15)\n",
      "pearson_features, pearson_scores = Top_Features(col_names, pearson_weights, 20)\n",
      "mrmr_features, mrmr_scores = Top_Features(col_names, mrmr_weights, 20)"
     ],
     "language": "python",
     "metadata": {},
     "outputs": [],
     "prompt_number": 44
    },
    {
     "cell_type": "code",
     "collapsed": false,
     "input": [
      "# Created graph in an excel window to manually ensure that no error was made\n",
      "print (fisher_features)\n",
      "print (fisher_scores)\n",
      "print (pearson_features)\n",
      "print (pearson_scores)\n",
      "print (mrmr_features)\n",
      "print (mrmr_scores)"
     ],
     "language": "python",
     "metadata": {},
     "outputs": [
      {
       "output_type": "stream",
       "stream": "stdout",
       "text": [
        "['rxCatAlfa_blockers' 'pwvQual' 'vasDiaDiam' 'vasIMT' 'ecgDextrocardia'\n",
        " 'vasPSV' 'exmWeight' 'exmBPsys_jbs' 'exmHip' 'labsCreatinina' 'e4' 'vasAT'\n",
        " 'vasSysDiam' 'vasEDV' 'e']\n",
        "[ 1.51189822  1.34597166  0.90628942  0.88127613  0.56106126  0.55621605\n",
        "  0.50820398  0.46259938  0.46192195  0.39919081  0.35473088  0.3509192\n",
        "  0.33824171  0.30662298  0.2759658 ]\n",
        "['rxCatAlfa_blockers' 'pwvQual' 'vasDiaDiam' 'ecgDextrocardia' 'vasPSV'\n",
        " 'vasIMT' 'exmWeight' 'exmHip' 'exmBPsys_jbs' 'vasAT' 'vasSysDiam' 'e4'\n",
        " 'labsCreatinina' 'e6' 'e' 'rxAspirin1' 'vasEDV' 'n4' 'rxNitroglycerin' 'o']\n",
        "[ 0.06046052  0.05909101  0.04711148  0.03551893  0.03527833  0.03415279\n",
        "  0.03382996  0.0310721   0.02862677  0.02601896  0.02471113  0.02386601\n",
        "  0.02277416  0.0201369   0.01986859  0.01685248  0.01644796  0.01559467\n",
        "  0.01551815  0.01550112]\n",
        "['pwvQual' 'rxCatAlfa_blockers' 'vasDiaDiam' 'vasIMT' 'exmBPsys_jbs'\n",
        " 'labsCreatinina' 'vasPSV' 'ecgDextrocardia' 'exmHip' 'exmWeight' 'e4'\n",
        " 'vasEDV' 'rxAspirin1' 'e' 'labsG6PD' 'vasSysDiam' 'vasAT'\n",
        " 'rxNitroglycerin' 'rxFANS1' 'assayMCP1']\n",
        "[ 0.47789  0.22732  0.22078  0.19295  0.12463  0.12424  0.12324  0.12108\n",
        "  0.11702  0.11272  0.11056  0.10589  0.09629  0.09055  0.08605  0.08335\n",
        "  0.07997  0.07428  0.07344  0.06966]\n"
       ]
      }
     ],
     "prompt_number": 45
    },
    {
     "cell_type": "heading",
     "level": 2,
     "metadata": {},
     "source": [
      "NEW (Updated experiments for top features)"
     ]
    },
    {
     "cell_type": "code",
     "collapsed": false,
     "input": [
      "%run 'Functions.ipynb'"
     ],
     "language": "python",
     "metadata": {},
     "outputs": [],
     "prompt_number": 85
    },
    {
     "cell_type": "code",
     "collapsed": false,
     "input": [
      "# Creates a dictionary of the feature names and scores for Fisher, Pearson, and mRMR\n",
      "w1_w2_feat_dict = Filter_Features (100)"
     ],
     "language": "python",
     "metadata": {},
     "outputs": []
    },
    {
     "cell_type": "code",
     "collapsed": false,
     "input": [
      "# Separates dictionary values into lists for feature selection by wave\n",
      "w1_fisher = []\n",
      "w2_fisher = []\n",
      "w1_pearson = []\n",
      "w2_pearson = []\n",
      "w1_mrmr = []\n",
      "w2_mrmr = []\n",
      "feat_col_names = []\n",
      "\n",
      "for feat_name in w1_w2_feat_dict:\n",
      "    if len(w1_w2_feat_dict[feat_name])>1:\n",
      "        feat_col_names.append(feat_name)\n",
      "        w1_fisher.append(w1_w2_feat_dict[feat_name]['wave1']['F'])\n",
      "        w2_fisher.append(w1_w2_feat_dict[feat_name]['wave2']['F'])\n",
      "        w1_pearson.append(w1_w2_feat_dict[feat_name]['wave1']['P'])\n",
      "        w2_pearson.append(w1_w2_feat_dict[feat_name]['wave2']['P'])\n",
      "        w1_mrmr.append(w1_w2_feat_dict[feat_name]['wave1']['M'])\n",
      "        w2_mrmr.append(w1_w2_feat_dict[feat_name]['wave2']['M'])"
     ],
     "language": "python",
     "metadata": {},
     "outputs": [],
     "prompt_number": 5
    },
    {
     "cell_type": "code",
     "collapsed": false,
     "input": [
      "# Testing to see if scores are comparable for randomly selected features across Wave 1 and 2\n",
      "print (w1_mrmr[87])\n",
      "print (w2_mrmr[87])\n",
      "print (w1_mrmr[48])\n",
      "print (w2_mrmr[48])\n",
      "print (w1_mrmr[28])\n",
      "print (w2_mrmr[28])"
     ],
     "language": "python",
     "metadata": {},
     "outputs": [
      {
       "output_type": "stream",
       "stream": "stdout",
       "text": [
        "[0.016459999999999989]\n",
        "[0.021709999999999976]\n",
        "[0.010300000000000005]\n",
        "[0.0076200000000000052]\n",
        "[0.03301999999999998]\n",
        "[0.032829999999999984]\n"
       ]
      }
     ],
     "prompt_number": 9
    },
    {
     "cell_type": "code",
     "collapsed": false,
     "input": [
      "# Concatenating the lists\n",
      "w1_fisher = np.concatenate(w1_fisher)\n",
      "w2_fisher = np.concatenate(w2_fisher)\n",
      "w1_pearson = np.concatenate(w1_pearson)\n",
      "w2_pearson = np.concatenate(w2_pearson)\n",
      "w1_mrmr = np.concatenate(w1_mrmr)\n",
      "w2_mrmr = np.concatenate(w2_mrmr)"
     ],
     "language": "python",
     "metadata": {},
     "outputs": [],
     "prompt_number": 100
    },
    {
     "cell_type": "code",
     "collapsed": false,
     "input": [
      "# Creating a normalized score so that Fisher, Pearson, mRMR scores are comparable\n",
      "combined_fisher = np.add(w1_fisher,w2_fisher)\n",
      "combined_pearson = np.add(w1_pearson,w2_pearson)\n",
      "combined_mrmr = np.add(w1_mrmr,w2_mrmr)\n",
      "scores_list = []\n",
      "scores_list.append(Normalize_Feature_Scores(combined_fisher))\n",
      "scores_list.append(Normalize_Feature_Scores(combined_pearson))\n",
      "scores_list.append(Normalize_Feature_Scores(combined_mrmr))\n",
      "combined_scores = np.sum(np.vstack(scores_list), axis=0)"
     ],
     "language": "python",
     "metadata": {},
     "outputs": [],
     "prompt_number": 101
    },
    {
     "cell_type": "code",
     "collapsed": false,
     "input": [
      "# Reversing the lists in order of normalized scores (descending)\n",
      "sorted_w1_fish = [w1_fisher for (combined_scores,w1_fisher) in sorted(zip(combined_scores,w1_fisher))]\n",
      "sorted_w2_fish = [w2_fisher for (combined_scores,w2_fisher) in sorted(zip(combined_scores,w2_fisher))]\n",
      "sorted_w1_pear = [w1_pearson for (combined_scores,w1_pearson) in sorted(zip(combined_scores,w1_pearson))]\n",
      "sorted_w2_pear = [w2_pearson for (combined_scores,w2_pearson) in sorted(zip(combined_scores,w2_pearson))]\n",
      "sorted_w1_mrmr = [w1_mrmr for (combined_scores,w1_mrmr) in sorted(zip(combined_scores,w1_mrmr))]\n",
      "sorted_w2_mrmr = [w2_mrmr for (combined_scores,w2_mrmr) in sorted(zip(combined_scores,w2_mrmr))]\n",
      "# Sorting feature names list the same way as the normalized scores (descending)\n",
      "sorted_cols = [feat_col_names for (combined_scores,feat_col_names) in sorted(zip(combined_scores,feat_col_names))]\n",
      "\n",
      "# Matrix for top features\n",
      "top_feat_array = np.vstack([sorted_w1_fish, sorted_w2_fish, sorted_w1_pear, sorted_w2_pear, sorted_w1_mrmr, sorted_w2_mrmr])\n"
     ],
     "language": "python",
     "metadata": {},
     "outputs": [],
     "prompt_number": 111
    },
    {
     "cell_type": "code",
     "collapsed": false,
     "input": [
      "# Saving ordered lists as csv's\n",
      "np.savetxt('top_features_w1_fish.csv', sorted_w1_fish, delimiter=',')\n",
      "np.savetxt('top_features_w2_fish.csv', sorted_w2_fish, delimiter=',')\n",
      "np.savetxt('top_features_w1_pear.csv', sorted_w1_pear, delimiter=',')\n",
      "np.savetxt('top_features_w2_pear.csv', sorted_w2_pear, delimiter=',')\n",
      "np.savetxt('top_features_w1_mrmr.csv', sorted_w1_mrmr, delimiter=',')\n",
      "np.savetxt('top_features_w2_mrmr.csv', sorted_w2_mrmr, delimiter=',')\n",
      "np.savetxt('top_features_names_w1_w2.csv', sorted_cols, delimiter=',',fmt=\"%s\")"
     ],
     "language": "python",
     "metadata": {},
     "outputs": [],
     "prompt_number": 115
    },
    {
     "cell_type": "code",
     "collapsed": false,
     "input": [
      "np.savetxt('combined_features.csv', scores_list, delimiter=',')"
     ],
     "language": "python",
     "metadata": {},
     "outputs": [],
     "prompt_number": 117
    },
    {
     "cell_type": "code",
     "collapsed": false,
     "input": [
      "%run 'Functions.ipynb'"
     ],
     "language": "python",
     "metadata": {},
     "outputs": [],
     "prompt_number": 4
    },
    {
     "cell_type": "code",
     "collapsed": false,
     "input": [
      "# SAME procedure as ABOVE except with Wave 1, 2, and 3 data\n",
      "w1_w2_w3_feat_dict = Filter_Features (100)"
     ],
     "language": "python",
     "metadata": {},
     "outputs": [
      {
       "output_type": "stream",
       "stream": "stdout",
       "text": [
        "148\n",
        "162"
       ]
      },
      {
       "output_type": "stream",
       "stream": "stdout",
       "text": [
        "\n",
        "162"
       ]
      },
      {
       "output_type": "stream",
       "stream": "stdout",
       "text": [
        "\n",
        "120"
       ]
      },
      {
       "output_type": "stream",
       "stream": "stdout",
       "text": [
        "\n"
       ]
      }
     ],
     "prompt_number": 5
    },
    {
     "cell_type": "code",
     "collapsed": false,
     "input": [
      "w1_fisher = []\n",
      "w2_fisher = []\n",
      "w3_fisher = []\n",
      "w1_pearson = []\n",
      "w2_pearson = []\n",
      "w3_pearson = []\n",
      "w1_mrmr = []\n",
      "w2_mrmr = []\n",
      "w3_mrmr = []\n",
      "feat_col_names = []\n",
      "\n",
      "for feat_name in w1_w2_w3_feat_dict:\n",
      "    if len(w1_w2_w3_feat_dict[feat_name])>2:\n",
      "        feat_col_names.append(feat_name)\n",
      "        w1_fisher.append(w1_w2_w3_feat_dict[feat_name]['wave1']['F'])\n",
      "        w2_fisher.append(w1_w2_w3_feat_dict[feat_name]['wave2']['F'])\n",
      "        w3_fisher.append(w1_w2_w3_feat_dict[feat_name]['wave3']['F'])\n",
      "        w1_pearson.append(w1_w2_w3_feat_dict[feat_name]['wave1']['P'])\n",
      "        w2_pearson.append(w1_w2_w3_feat_dict[feat_name]['wave2']['P'])\n",
      "        w3_pearson.append(w1_w2_w3_feat_dict[feat_name]['wave3']['P'])\n",
      "        w1_mrmr.append(w1_w2_w3_feat_dict[feat_name]['wave1']['M'])\n",
      "        w2_mrmr.append(w1_w2_w3_feat_dict[feat_name]['wave2']['M'])\n",
      "        w3_mrmr.append(w1_w2_w3_feat_dict[feat_name]['wave3']['M'])\n"
     ],
     "language": "python",
     "metadata": {},
     "outputs": [],
     "prompt_number": 7
    },
    {
     "cell_type": "code",
     "collapsed": false,
     "input": [
      "w1_fisher = np.concatenate(w1_fisher)\n",
      "w2_fisher = np.concatenate(w2_fisher)\n",
      "w3_fisher = np.concatenate(w3_fisher)\n",
      "w1_pearson = np.concatenate(w1_pearson)\n",
      "w2_pearson = np.concatenate(w2_pearson)\n",
      "w3_pearson = np.concatenate(w3_pearson)\n",
      "w1_mrmr = np.concatenate(w1_mrmr)\n",
      "w2_mrmr = np.concatenate(w2_mrmr)\n",
      "w3_mrmr = np.concatenate(w3_mrmr)"
     ],
     "language": "python",
     "metadata": {},
     "outputs": [],
     "prompt_number": 8
    },
    {
     "cell_type": "code",
     "collapsed": false,
     "input": [
      "combined_fisher = np.add(w1_fisher, w2_fisher, w3_fisher)\n",
      "combined_pearson = np.add(w1_pearson, w2_pearson, w3_pearson)\n",
      "combined_mrmr = np.add(w1_mrmr, w2_mrmr, w3_mrmr)\n",
      "scores_list = []\n",
      "scores_list.append(Normalize_Feature_Scores(combined_fisher))\n",
      "scores_list.append(Normalize_Feature_Scores(combined_pearson))\n",
      "scores_list.append(Normalize_Feature_Scores(combined_mrmr))\n",
      "combined_scores = np.sum(np.vstack(scores_list), axis=0)"
     ],
     "language": "python",
     "metadata": {},
     "outputs": [],
     "prompt_number": 9
    },
    {
     "cell_type": "code",
     "collapsed": false,
     "input": [
      "sorted_w1_fish = [w1_fisher for (combined_scores,w1_fisher) in sorted(zip(combined_scores,w1_fisher))]\n",
      "sorted_w2_fish = [w2_fisher for (combined_scores,w2_fisher) in sorted(zip(combined_scores,w2_fisher))]\n",
      "sorted_w3_fish = [w3_fisher for (combined_scores,w3_fisher) in sorted(zip(combined_scores,w3_fisher))]\n",
      "\n",
      "sorted_w1_pear = [w1_pearson for (combined_scores,w1_pearson) in sorted(zip(combined_scores,w1_pearson))]\n",
      "sorted_w2_pear = [w2_pearson for (combined_scores,w2_pearson) in sorted(zip(combined_scores,w2_pearson))]\n",
      "sorted_w3_pear = [w3_pearson for (combined_scores,w3_pearson) in sorted(zip(combined_scores,w3_pearson))]\n",
      "\n",
      "sorted_w1_mrmr = [w1_mrmr for (combined_scores,w1_mrmr) in sorted(zip(combined_scores,w1_mrmr))]\n",
      "sorted_w2_mrmr = [w2_mrmr for (combined_scores,w2_mrmr) in sorted(zip(combined_scores,w2_mrmr))]\n",
      "sorted_w3_mrmr = [w3_mrmr for (combined_scores,w3_mrmr) in sorted(zip(combined_scores,w3_mrmr))]\n",
      "\n",
      "sorted_cols = [feat_col_names for (combined_scores,feat_col_names) in sorted(zip(combined_scores,feat_col_names))]\n",
      "\n",
      "top_feat_array = np.vstack([sorted_w1_fish, sorted_w2_fish, sorted_w3_fish, sorted_w1_pear, sorted_w2_pear, sorted_w3_pear, sorted_w1_mrmr, sorted_w2_mrmr, sorted_w3_mrmr])\n"
     ],
     "language": "python",
     "metadata": {},
     "outputs": [],
     "prompt_number": 10
    },
    {
     "cell_type": "code",
     "collapsed": false,
     "input": [
      "# list of sorted features with worst to best features (ascending)\n",
      "print (sorted_cols)"
     ],
     "language": "python",
     "metadata": {},
     "outputs": [
      {
       "output_type": "stream",
       "stream": "stdout",
       "text": [
        "['Sex', 'ecgFibrillation', 'ecgPacemaker', 'ecgRhythm', 'ecgBAV3', 'ecgMobitz2', 'ecgMobitz1', 'ecgP3', 'ecgDextrocardia', 'ecgWPW', 'labsPercBA', 'labsHB', 'ecgP10', 'labsRBC', 'labsEO_COUNT', 'rxCatBiguanidi', 'rxCatInsulin', 'labsNE_COUNT', 'ecgBBD', 'labsBA_COUNT', 'labsMO_COUNT', 'rxCatAntiplatelet_anticoagulants', 'labsHtc', 'labsMCH', 'rxCatSulf_Hypoglicemic', 'ecgBBS', 'labsPercEO', 'labsWBC', 'rxCatSulf_biguanidi', 'ecgHR', 'rxFANS1', 'ecgSokolow', 'labsMCHC', 'labsInsulinemia', 'rxCatAlfa_blockers', 'ecgDM', 'rxCatCV_drugs', 'rxCatNitrates', 'labsPercMO', 'labsPercNE', 'rxCatBeta_blockers', 'labsCreatinina', 'labsPLT', 'rxCatAntidiabetic', 'labsPercLY', 'rxNitroglycerin', 'labsALT', 'labsMCV', 'rxAspirin1', 'ecgBAV1', 'rxCatAt1_blockers', 'labsLY_COUNT', 'labsAST', 'ecgQTC', 'rxCatLipidlowering', 'rxCatCCB', 'labsTrigliceridi', 'ecgEAS', 'rxCatAngCEI', 'labsGammaGT', 'labsAcidourico', 'exmWeight', 'ecgPR', 'rxCatAspirin', 'rxCatDiuretics', 'exmHip', 'exmHeight', 'labsGlicemia', 'rxOtherMeds', 'rxCatAntihipertensive', 'rxHyperTension1', 'labsColesterolo', 'exmWaist', 'exmBPdia_jbs', 'exmBMI', 'exmBPsys_jbs']\n"
       ]
      }
     ],
     "prompt_number": 11
    },
    {
     "cell_type": "code",
     "collapsed": false,
     "input": [
      "np.savetxt('top_features_w1_fish.csv', sorted_w1_fish, delimiter=',')\n",
      "np.savetxt('top_features_w2_fish.csv', sorted_w2_fish, delimiter=',')\n",
      "np.savetxt('top_features_w3_fish.csv', sorted_w3_fish, delimiter=',')\n",
      "\n",
      "np.savetxt('top_features_w1_pear.csv', sorted_w1_pear, delimiter=',')\n",
      "np.savetxt('top_features_w2_pear.csv', sorted_w2_pear, delimiter=',')\n",
      "np.savetxt('top_features_w3_pear.csv', sorted_w3_pear, delimiter=',')\n",
      "\n",
      "np.savetxt('top_features_w1_mrmr.csv', sorted_w1_mrmr, delimiter=',')\n",
      "np.savetxt('top_features_w2_mrmr.csv', sorted_w2_mrmr, delimiter=',')\n",
      "np.savetxt('top_features_w3_mrmr.csv', sorted_w3_mrmr, delimiter=',')\n",
      "\n",
      "np.savetxt('top_features_names_w1_w2.csv', sorted_cols, delimiter=',',fmt=\"%s\")"
     ],
     "language": "python",
     "metadata": {},
     "outputs": []
    },
    {
     "cell_type": "code",
     "collapsed": false,
     "input": [
      "np.savetxt('combined_features.csv', scores_list, delimiter=',')"
     ],
     "language": "python",
     "metadata": {},
     "outputs": []
    },
    {
     "cell_type": "code",
     "collapsed": false,
     "input": [
      "raw_data = read_data ('newWave1.csv')\n",
      "ages = raw_data.Age.values\n",
      "data_matrix, col_names, age_col_idx, id_col_idx = clean_convert(raw_data)\n",
      "data_class_views, class_vals = bin_data (13, 79, 5, data_matrix, ages)"
     ],
     "language": "python",
     "metadata": {},
     "outputs": []
    },
    {
     "cell_type": "heading",
     "level": 2,
     "metadata": {},
     "source": [
      "Male and Female"
     ]
    },
    {
     "cell_type": "markdown",
     "metadata": {},
     "source": [
      "The point of these experiments were to see if there were any substantial differences between the top features for each gender individually. The results show that the majority of features were similar with no outstanding differences. We follow a different procedure with only looking at Fisher scores, which, to an extent, are representative of the normalized feature scores."
     ]
    },
    {
     "cell_type": "heading",
     "level": 5,
     "metadata": {},
     "source": [
      "Male"
     ]
    },
    {
     "cell_type": "code",
     "collapsed": false,
     "input": [
      "%run 'Functions.ipynb'\n",
      "raw_data = read_data ('newWave1_male1.csv')\n",
      "ages = raw_data.Age.values\n",
      "raw_data = raw_data.drop('Sex', 1)\n",
      "data_matrix, col_names, age_col_idx, id_col_idx = clean_convert(raw_data)\n",
      "data_class_views, class_vals = bin_data (13, 79, 5, data_matrix, ages)"
     ],
     "language": "python",
     "metadata": {},
     "outputs": [],
     "prompt_number": 8
    },
    {
     "cell_type": "code",
     "collapsed": false,
     "input": [
      "# Making a list of fisher scores\n",
      "fisher_scores = []\n",
      "\n",
      "for i in range(10):\n",
      "    # Read splits from files\n",
      "    split = Split()\n",
      "    split.train_test(45, 5, data_class_views, class_vals, age_col_idx, id_col_idx)\n",
      "    fisher_scores.append(Fisher(split))\n",
      "\n",
      "feat_scores = np.mean(np.vstack(fisher_scores), axis=0)"
     ],
     "language": "python",
     "metadata": {},
     "outputs": [],
     "prompt_number": 9
    },
    {
     "cell_type": "code",
     "collapsed": false,
     "input": [
      "# Checking the lengths of scores and feature names\n",
      "# len(col_names) is at first 2 units longer because of 'age' and 'id', but is the same when these two unscored features are removed.\n",
      "print(len(feat_scores))\n",
      "print(len(col_names))\n",
      "col_names = np.delete(col_names, [age_col_idx, id_col_idx])\n",
      "print(len(col_names))"
     ],
     "language": "python",
     "metadata": {},
     "outputs": [
      {
       "output_type": "stream",
       "stream": "stdout",
       "text": [
        "150\n",
        "152\n",
        "150\n"
       ]
      }
     ],
     "prompt_number": 10
    },
    {
     "cell_type": "code",
     "collapsed": false,
     "input": [
      "# Features are ordered by score and the curve (descending) is plotted\n",
      "ranked_features = [col_names for (feat_scores,col_names) in sorted(zip(feat_scores,col_names), reverse=True)]\n",
      "ranked_scores = sorted(feat_scores, reverse=True)\n",
      "scored_features = np.vstack([ranked_features, ranked_scores])\n",
      "pl.plot(ranked_scores)\n",
      "pl.show()"
     ],
     "language": "python",
     "metadata": {},
     "outputs": [
      {
       "metadata": {},
       "output_type": "display_data",
       "png": "[encoded data removed]",
       "text": [
        "<matplotlib.figure.Figure at 0x7fac89442b38>"
       ]
      }
     ],
     "prompt_number": 22
    },
    {
     "cell_type": "code",
     "collapsed": false,
     "input": [
      "# Top features MALES (descending - best first)\n",
      "print (ranked_features)"
     ],
     "language": "python",
     "metadata": {},
     "outputs": [
      {
       "output_type": "stream",
       "stream": "stdout",
       "text": [
        "['vasPSV', 'pwv', 'vasIMT', 'exmWaist', 'form', 'vasEDV', 'labsColesterolo', 'exmBPdia_jbs', 'exmBPsys_jbs', 'exmBMI', 'vasvti', 'exmHeight', 'vasDiaDiam', 'e5', 'vasIP', 'rxOtherMeds', 'a', 'rxHyperTension1', 'a2', 'vasSDratio', 'exmWeight', 'ecgPR', 'c3', 'o1', 'rxCatAntihipertensive', 'o', 'o6', 'exmHip', 'vasSysDiam', 'c6', 'ecgBAV1', 'a4', 'c', 'labsFibrinogeno', 'n5', 'labsVES', 'labsCRP', 'o5', 'o4', 'labsGlicemia', 'e', 'assayIL6', 'ecgQTC', 'a5', 'labsFt4', 'labsPotassiemia', 'e6', 'labsAcidourico', 'labsTrigliceridi', 'c1', 'a6', 'rxCatCCB', 'c5', 'rxCatDiuretics', 'a1', 'labsHDL', 'labsAzotemia', 'ecgEAS', 'rxCatAspirin', 'labsMCV', 'face', 'rxCatAngCEI', 'o3', 'labsTSH', 'na', 'rxCatLipidlowering', 'labsALT', 'labsRBC', 'labsGammaGT', 'labsCreatinina', 'rxCatAt1_blockers', 'assayhsCRP', 'n3', 'e4', 'a3', 'rxCatAntidiabetic', 'n6', 'assayLeptin', 'labsHtc', 'ecgSokolow', 'ecgHR', 'labsPCR', 'e2', 'assayAdip', 'ecgBBS', 'labsLY_COUNT', 'pwvQual', 'n2', 'rxCatSulf_Hypoglicemic', 'ecgDM', 'labsMCH', 'pa', 'labsHB', 'vasAT', 'rxCatCV_drugs', 'labsMCHC', 'rxAspirin1', 'rxCatBeta_blockers', 'e3', 'e1', 'o2', 'rxCatSulf_biguanidi', 'n', 'labsPercLY', 'labsMO_COUNT', 'labsSodiemia', 'labsSideremia', 'labsTransferrina', 'labsHBF', 'labsInsulinemia', 'labsPercNE', 'c2', 'labsWBC', 'c4', 'labsPercMO', 'n4', 'labsAST', 'labsBA_COUNT', 'ecgBBD', 'labsPLT', 'rxCatNitrates', 'SardinianOrigin', 'rxNitroglycerin', 'rxCatAlfa_blockers', 'ecgP10', 'rxFANS1', 'assayMCP1', 'labsPercBA', 'labsG6PD', 'rxCatAntiplatelet_anticoagulants', 'labsEO_COUNT', 'swls', 'labsPercEO', 'labsBilirubinad', 'ecgWPW', 'labsBilirubinat', 'labsNE_COUNT', 'n1', 'labsAtg_OS.wave.', 'labsHBA2', 'rxCatInsulin', 'rxCatBiguanidi', 'ecgBAV3', 'ecgDextrocardia', 'ecgP3', 'ecgMobitz1', 'ecgRhythm', 'ecgPacemaker', 'ecgMobitz2', 'ecgFibrillation']\n"
       ]
      }
     ],
     "prompt_number": 23
    },
    {
     "cell_type": "heading",
     "level": 5,
     "metadata": {},
     "source": [
      "Female"
     ]
    },
    {
     "cell_type": "code",
     "collapsed": false,
     "input": [
      "# Same procedure is run for the FEMALES\n",
      "%run 'Functions.ipynb'\n",
      "raw_data = read_data ('newWave1_female0.csv')\n",
      "ages = raw_data.Age.values\n",
      "raw_data = raw_data.drop('Sex', 1)\n",
      "data_matrix, col_names, age_col_idx, id_col_idx = clean_convert(raw_data)\n",
      "data_class_views, class_vals = bin_data (13, 79, 5, data_matrix, ages)"
     ],
     "language": "python",
     "metadata": {},
     "outputs": [],
     "prompt_number": 24
    },
    {
     "cell_type": "code",
     "collapsed": false,
     "input": [
      "fisher_scores = []\n",
      "\n",
      "for i in range(10):\n",
      "    # Read splits from files\n",
      "    split = Split()\n",
      "    split.train_test(45, 5, data_class_views, class_vals, age_col_idx, id_col_idx)\n",
      "    fisher_scores.append(Fisher(split))\n",
      "\n",
      "feat_scores = np.mean(np.vstack(fisher_scores), axis=0)"
     ],
     "language": "python",
     "metadata": {},
     "outputs": [],
     "prompt_number": 25
    },
    {
     "cell_type": "code",
     "collapsed": false,
     "input": [
      "print(len(feat_scores))\n",
      "print(len(col_names))\n",
      "col_names = np.delete(col_names, [age_col_idx, id_col_idx])\n",
      "print(len(col_names))"
     ],
     "language": "python",
     "metadata": {},
     "outputs": [
      {
       "output_type": "stream",
       "stream": "stdout",
       "text": [
        "148\n",
        "150\n",
        "148\n"
       ]
      }
     ],
     "prompt_number": 26
    },
    {
     "cell_type": "code",
     "collapsed": false,
     "input": [
      "ranked_features = [col_names for (feat_scores,col_names) in sorted(zip(feat_scores,col_names), reverse=True)]\n",
      "ranked_scores = sorted(feat_scores, reverse=True)\n",
      "scored_features = np.vstack([ranked_features, ranked_scores])\n",
      "pl.plot(ranked_scores)\n",
      "pl.show()"
     ],
     "language": "python",
     "metadata": {},
     "outputs": [
      {
       "metadata": {},
       "output_type": "display_data",
       "png": "[encoded data removed]",
       "text": [
        "<matplotlib.figure.Figure at 0x7fac96344128>"
       ]
      }
     ],
     "prompt_number": 27
    },
    {
     "cell_type": "code",
     "collapsed": false,
     "input": [
      "# Note that female features performed very similarly to male features. It seems that feature value is not greatly affected by\n",
      "# gender.\n",
      "print (ranked_features)"
     ],
     "language": "python",
     "metadata": {},
     "outputs": [
      {
       "output_type": "stream",
       "stream": "stdout",
       "text": [
        "['pwv', 'vasPSV', 'form', 'vasIMT', 'exmBPsys_jbs', 'exmWaist', 'exmBMI', 'vasEDV', 'exmBPdia_jbs', 'vasDiaDiam', 'e5', 'exmHeight', 'o', 'labsColesterolo', 'vasIP', 'o1', 'vasSysDiam', 'vasvti', 'labsAzotemia', 'a4', 'o6', 'n5', 'exmHip', 'exmWeight', 'rxHyperTension1', 'labsGlicemia', 'rxCatAntihipertensive', 'o5', 'labsAcidourico', 'a', 'e6', 'e', 'vasSDratio', 'rxOtherMeds', 'c3', 'labsFibrinogeno', 'o3', 'c6', 'vasAT', 'c', 'labsTrigliceridi', 'e2', 'a5', 'o4', 'a2', 'face', 'rxCatDiuretics', 'ecgPR', 'labsAST', 'ecgQTC', 'c5', 'labsGammaGT', 'labsLY_COUNT', 'labsHtc', 'labsVES', 'o2', 'rxCatAngCEI', 'rxCatAspirin', 'labsPotassiemia', 'assayMCP1', 'labsALT', 'rxCatCCB', 'labsSodiemia', 'assayIL6', 'assayLeptin', 'labsPercLY', 'labsTransferrina', 'a6', 'labsWBC', 'labsHB', 'rxNitroglycerin', 'ecgEAS', 'a1', 'ecgDM', 'c1', 'rxCatLipidlowering', 'labsPercNE', 'labsPLT', 'labsHDL', 'c2', 'assayAdip', 'e3', 'n', 'n3', 'labsNE_COUNT', 'rxCatCV_drugs', 'pwvQual', 'rxCatNitrates', 'na', 'rxCatAt1_blockers', 'labsFt4', 'rxCatAntidiabetic', 'rxCatAntiplatelet_anticoagulants', 'pa', 'n2', 'labsMO_COUNT', 'labsSideremia', 'assayhsCRP', 'labsCreatinina', 'labsMCV', 'ecgSokolow', 'rxCatAlfa_blockers', 'n6', 'n4', 'rxFANS1', 'labsBilirubinad', 'rxCatBeta_blockers', 'e4', 'labsPercEO', 'labsMCHC', 'labsBilirubinat', 'c4', 'rxAspirin1', 'rxCatSulf_biguanidi', 'SardinianOrigin', 'labsPercMO', 'ecgBBS', 'labsG6PD', 'rxCatSulf_Hypoglicemic', 'labsHBF', 'labsPCR', 'ecgHR', 'ecgBAV1', 'labsMCH', 'labsRBC', 'labsEO_COUNT', 'n1', 'labsInsulinemia', 'labsHBA2', 'labsTSH', 'ecgBBD', 'rxCatInsulin', 'labsBA_COUNT', 'a3', 'labsPercBA', 'e1', 'swls', 'ecgP3', 'ecgP10', 'ecgDextrocardia', 'rxCatBiguanidi', 'ecgWPW', 'ecgMobitz1', 'ecgRhythm', 'ecgPacemaker', 'ecgMobitz2', 'ecgFibrillation', 'ecgBAV3']\n"
       ]
      }
     ],
     "prompt_number": 28
    },
    {
     "cell_type": "code",
     "collapsed": false,
     "input": [],
     "language": "python",
     "metadata": {},
     "outputs": []
    }
   ],
   "metadata": {}
  }
 ]
}