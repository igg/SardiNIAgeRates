{
 "metadata": {
  "name": "",
  "signature": "sha256:21447b1ce37dd82b1bc99788eab74c00ca2a45115d7ea89bd3b16fe351ddddd8"
 },
 "nbformat": 3,
 "nbformat_minor": 0,
 "worksheets": [
  {
   "cells": [
    {
     "cell_type": "heading",
     "level": 1,
     "metadata": {},
     "source": [
      "Reading Data"
     ]
    },
    {
     "cell_type": "code",
     "collapsed": false,
     "input": [
      "import pandas as pd\n",
      "import numpy as np\n",
      "import pylab as pl"
     ],
     "language": "python",
     "metadata": {},
     "outputs": [
      {
       "output_type": "stream",
       "stream": "stderr",
       "text": [
        "/usr/local/lib/python3.4/site-packages/pandas/io/excel.py:626: UserWarning: Installed openpyxl is not supported at this time. Use >=1.6.1 and <2.0.0.\n",
        "  .format(openpyxl_compat.start_ver, openpyxl_compat.stop_ver))\n"
       ]
      }
     ],
     "prompt_number": 1
    },
    {
     "cell_type": "code",
     "collapsed": false,
     "input": [
      "x = pd.read_csv('newWave1.csv', na_values=[])"
     ],
     "language": "python",
     "metadata": {},
     "outputs": [],
     "prompt_number": 42
    },
    {
     "cell_type": "code",
     "collapsed": false,
     "input": [
      "x2 = pd.read_csv('newWave2.csv', na_values =[])"
     ],
     "language": "python",
     "metadata": {},
     "outputs": [],
     "prompt_number": 180
    },
    {
     "cell_type": "code",
     "collapsed": false,
     "input": [
      "x3 = pd.read_csv('newWave3.csv', na_values =[])"
     ],
     "language": "python",
     "metadata": {},
     "outputs": [],
     "prompt_number": 24
    },
    {
     "cell_type": "code",
     "collapsed": false,
     "input": [
      "ser = x.count()\n",
      "ser.sort(ascending=False)\n",
      "\n",
      "ax = ser.plot(ser.plot(title='Non-NaN Values By Feature in W1'))\n",
      "\n",
      "ax.set_xlabel(\"Features\")\n",
      "\n",
      "ax.set_ylabel(\"Number of Non-NaN Values\")\n"
     ],
     "language": "python",
     "metadata": {},
     "outputs": [
      {
       "metadata": {},
       "output_type": "pyout",
       "prompt_number": 16,
       "text": [
        "<matplotlib.text.Text at 0x7f46cdc48ef0>"
       ]
      },
      {
       "metadata": {},
       "output_type": "display_data",
       "png": "[encoded data removed]",
       "text": [
        "<matplotlib.figure.Figure at 0x7f46cdbe67b8>"
       ]
      }
     ],
     "prompt_number": 16
    },
    {
     "cell_type": "code",
     "collapsed": false,
     "input": [
      "def clean(x3):\n",
      "    print (\"TO DROP NaNs Wave1\")\n",
      "    print (x3.shape)\n",
      "    x3 = x3.dropna(axis=1, how='all')\n",
      "    print (x3.shape)\n",
      "    x3 = x3.dropna(how='all')\n",
      "    print (x3.shape)\n",
      "    y3, z3 = x3.shape\n",
      "    x3 = x3.dropna(axis=1, thresh=(y3/3))\n",
      "    print (x3.shape)\n",
      "    y3, z3 = x3.shape\n",
      "    x3 = x3.dropna(thresh=(z3/2))\n",
      "    print (x3.shape)\n",
      "    y3, z3 = x3.shape\n",
      "    x3 = x3.dropna(axis=1, thresh=(y3*2/3))\n",
      "    print (x3.shape)\n",
      "    y3, z3 = x3.shape\n",
      "    x3 = x3.dropna(thresh=(z3*3/4))\n",
      "    print (x3.shape)\n",
      "    y3, z3 = x3.shape\n",
      "    x3 = x3.dropna(axis=1, thresh=(y3*4/5))\n",
      "    print (x3.shape)\n",
      "    y3, z3 = x3.shape\n",
      "    x3 = x3.dropna(thresh=(z3*4/5))\n",
      "    print (x3.shape)\n",
      "    y3, z3 = x3.shape\n",
      "    x3 = x3.dropna(axis=1, thresh=(y3*9/10))\n",
      "    print (x3.shape)\n",
      "    y3, z3 = x3.shape\n",
      "    x3 = x3.dropna(how='any')\n",
      "    print (x3.shape)\n",
      "    return (x3)\n",
      "x = clean(x)"
     ],
     "language": "python",
     "metadata": {},
     "outputs": [
      {
       "output_type": "stream",
       "stream": "stdout",
       "text": [
        "TO DROP NaNs Wave1\n",
        "(6165, 730)\n",
        "(6165, 183)"
       ]
      },
      {
       "output_type": "stream",
       "stream": "stdout",
       "text": [
        "\n",
        "(6165, 183)"
       ]
      },
      {
       "output_type": "stream",
       "stream": "stdout",
       "text": [
        "\n",
        "(6165, 168)"
       ]
      },
      {
       "output_type": "stream",
       "stream": "stdout",
       "text": [
        "\n",
        "(6162, 168)"
       ]
      },
      {
       "output_type": "stream",
       "stream": "stdout",
       "text": [
        "\n",
        "(6162, 165)"
       ]
      },
      {
       "output_type": "stream",
       "stream": "stdout",
       "text": [
        "\n",
        "(5990, 165)"
       ]
      },
      {
       "output_type": "stream",
       "stream": "stdout",
       "text": [
        "\n",
        "(5990, 164)"
       ]
      },
      {
       "output_type": "stream",
       "stream": "stdout",
       "text": [
        "\n",
        "(5660, 164)"
       ]
      },
      {
       "output_type": "stream",
       "stream": "stdout",
       "text": [
        "\n",
        "(5660, 161)"
       ]
      },
      {
       "output_type": "stream",
       "stream": "stdout",
       "text": [
        "\n",
        "(4638, 161)"
       ]
      },
      {
       "output_type": "stream",
       "stream": "stdout",
       "text": [
        "\n"
       ]
      }
     ],
     "prompt_number": 23
    },
    {
     "cell_type": "code",
     "collapsed": false,
     "input": [
      "x.columns"
     ],
     "language": "python",
     "metadata": {},
     "outputs": [
      {
       "metadata": {},
       "output_type": "pyout",
       "prompt_number": 20,
       "text": [
        "Index(['id_individual', 'id_sir', 'id_mad', 'Wave', 'Visit', 'Age', 'Sex', 'Education', 'Occupation', 'MaritalStatus', 'SardinianOrigin', 'FirstVisitDate', 'labsRBC', 'labsHB', 'labsMCV', 'labsMCH', 'labsWBC', 'labsPercNE', 'labsPercLY', 'labsPercMO', 'labsPercEO', 'labsPercBA', 'labsPLT', 'labsHBF', 'labsHBA2', 'labsG6PD', 'labsGlicemia', 'labsAzotemia', 'labsALT', 'labsAST', 'labsGammaGT', 'labsFibrinogeno', 'labsSideremia', 'labsTransferrina', 'labsBilirubinad', 'labsBilirubinat', 'labsAcidourico', 'labsSodiemia', 'labsPotassiemia', 'labsVES', 'labsTSH', 'labsFt4', 'labsMCHC', 'labsHtc', 'labsMO_COUNT', 'labsEO_COUNT', 'labsBA_COUNT', 'labsLY_COUNT', 'labsNE_COUNT', 'labsCreatinina', 'labsColesterolo', 'labsHDL', 'labsTrigliceridi', 'exmHeight', 'exmWeight', 'exmWaist', 'exmHip', 'exmBMI', 'ecgHR', 'ecgQTC', 'ecgFibrillation', 'ecgRhythm', 'ecgDM', 'ecgP10', 'ecgP3', 'ecgPR', 'ecgSokolow', 'ecgEAS', 'ecgBBD', 'ecgBBS', 'ecgBAV1', 'ecgMobitz1', 'ecgMobitz2', 'ecgBAV3', 'ecgWPW', 'ecgPacemaker', 'ecgDextrocardia', 'exmBPsys_jbs', 'exmBPdia_jbs', 'rxAspirin1', 'rxHyperTension1', 'rxNitroglycerin', 'rxOtherMeds', 'rxFANS1', 'rxCatAntihipertensive', 'rxCatLipidlowering', 'rxCatAntidiabetic', 'rxCatAspirin', 'rxCatAntiplatelet_anticoagulants', 'rxCatCV_drugs', 'rxCatNitrates', 'rxCatInsulin', 'rxCatSulf_Hypoglicemic', 'rxCatBiguanidi', 'rxCatSulf_biguanidi', 'rxCatAngCEI', 'rxCatCCB', 'rxCatBeta_blockers', 'rxCatDiuretics', 'rxCatAt1_blockers', ...], dtype='object')"
       ]
      }
     ],
     "prompt_number": 20
    },
    {
     "cell_type": "heading",
     "level": 1,
     "metadata": {},
     "source": [
      "Clearing NaNs"
     ]
    },
    {
     "cell_type": "code",
     "collapsed": false,
     "input": [
      "print (\"TO DROP NaNs\")\n",
      "print (x.shape)\n",
      "x = x.dropna(axis=1, how='all')\n",
      "print (x.shape)\n",
      "x.dropna(how='all')\n",
      "print (x.shape)\n",
      "x = x.dropna(axis=1, thresh=2500)\n",
      "print (x.shape)\n",
      "x = x.dropna(thresh=50)\n",
      "print (x.shape)\n",
      "x = x.dropna(axis=1, thresh=5000)\n",
      "print (x.shape)\n",
      "x = x.dropna(thresh=120)\n",
      "print (x.shape)\n",
      "x = x.dropna(axis=1, thresh=5100)\n",
      "print (x.shape)\n",
      "x = x.dropna(how='any')\n",
      "print (x.shape)\n"
     ],
     "language": "python",
     "metadata": {},
     "outputs": [
      {
       "output_type": "stream",
       "stream": "stdout",
       "text": [
        "TO DROP NaNs\n",
        "(6165, 730)\n",
        "(6165, 730)"
       ]
      },
      {
       "output_type": "stream",
       "stream": "stdout",
       "text": [
        "\n",
        "(6165, 730)"
       ]
      },
      {
       "output_type": "stream",
       "stream": "stdout",
       "text": [
        "\n",
        "(6165, 730)"
       ]
      },
      {
       "output_type": "stream",
       "stream": "stdout",
       "text": [
        "\n",
        "(6165, 730)"
       ]
      },
      {
       "output_type": "stream",
       "stream": "stdout",
       "text": [
        "\n",
        "(6165, 730)"
       ]
      },
      {
       "output_type": "stream",
       "stream": "stdout",
       "text": [
        "\n",
        "(6165, 730)"
       ]
      },
      {
       "output_type": "stream",
       "stream": "stdout",
       "text": [
        "\n",
        "(6165, 730)"
       ]
      },
      {
       "output_type": "stream",
       "stream": "stdout",
       "text": [
        "\n",
        "(6165, 730)"
       ]
      },
      {
       "output_type": "stream",
       "stream": "stdout",
       "text": [
        "\n"
       ]
      }
     ],
     "prompt_number": 43
    },
    {
     "cell_type": "code",
     "collapsed": false,
     "input": [
      "num = 0.05\n",
      "for i in range(47):\n",
      "    num+=0.02\n",
      "print (num)"
     ],
     "language": "python",
     "metadata": {},
     "outputs": [
      {
       "output_type": "stream",
       "stream": "stdout",
       "text": [
        "0.9900000000000005\n"
       ]
      }
     ],
     "prompt_number": 60
    },
    {
     "cell_type": "code",
     "collapsed": false,
     "input": [
      "def read (file_name, what_to_prioritize):\n",
      "    x = pd.read_csv(file_name, na_values=[])\n",
      "    x = x.dropna(axis=1, how='all')\n",
      "    x = x.dropna(how='all')\n",
      "    x = x[pd.notnull(x['pwv'])]\n",
      "    x = x[pd.notnull(x['exmBMI'])]\n",
      "    x = x[pd.notnull(x['exmBPsys_jbs'])]\n",
      "    x = x[pd.notnull(x['exmWaist'])]\n",
      "    x = x[pd.notnull(x['labsColesterolo'])]\n",
      "    threshold_num = 0.05\n",
      "    if what_to_prioritize is 'features':\n",
      "        for i in range (47):\n",
      "            x = x.dropna(thresh=(x.shape[1]*threshold_num))\n",
      "            x = x.dropna(axis=1, thresh=(x.shape[0]*threshold_num))\n",
      "            threshold_num += 0.02\n",
      "        x = x.dropna(how='any')\n",
      "    elif what_to_prioritize is 'samples':\n",
      "        for i in range (47):\n",
      "            x = x.dropna(axis=1, thresh=(x.shape[0]*threshold_num))\n",
      "            x = x.dropna(thresh=(x.shape[1]*threshold_num))\n",
      "            threshold_num += 0.02\n",
      "        x = x.dropna(axis=1, how='any')\n",
      "    else:\n",
      "        return(\"Need to specify what to prioritize: 'features' or 'samples'\")\n",
      "    print (x.shape)\n",
      "    return (x)"
     ],
     "language": "python",
     "metadata": {},
     "outputs": [],
     "prompt_number": 173
    },
    {
     "cell_type": "code",
     "collapsed": false,
     "input": [
      "def read_w3 (file_name, what_to_prioritize):\n",
      "    x = pd.read_csv(file_name, na_values=[])\n",
      "    x = x.dropna(axis=1, how='all')\n",
      "    x = x.dropna(how='all')\n",
      "    x = x[pd.notnull(x['pwv'])]\n",
      "    x = x[pd.notnull(x['exmBMI'])]\n",
      "    x = x[pd.notnull(x['exmBPsys_jbs'])]\n",
      "    x = x[pd.notnull(x['exmWaist'])]\n",
      "    #x = x[pd.notnull(x['labsColesterolo'])]\n",
      "    threshold_num = 0.05\n",
      "    if what_to_prioritize is 'features':\n",
      "        for i in range (47):\n",
      "            x = x.dropna(thresh=(x.shape[1]*threshold_num))\n",
      "            x = x.dropna(axis=1, thresh=(x.shape[0]*threshold_num))\n",
      "            threshold_num += 0.02\n",
      "        x = x.dropna(how='any')\n",
      "    elif what_to_prioritize is 'samples':\n",
      "        for i in range (47):\n",
      "            x = x.dropna(axis=1, thresh=(x.shape[0]*threshold_num))\n",
      "            x = x.dropna(thresh=(x.shape[1]*threshold_num))\n",
      "            threshold_num += 0.02\n",
      "        x = x.dropna(axis=1, how='any')\n",
      "    else:\n",
      "        return(\"Need to specify what to prioritize: 'features' or 'samples'\")\n",
      "    print (x.shape)\n",
      "    return (x)"
     ],
     "language": "python",
     "metadata": {},
     "outputs": [],
     "prompt_number": 211
    },
    {
     "cell_type": "code",
     "collapsed": false,
     "input": [
      "x2 = read('newWave2.csv', 'features')"
     ],
     "language": "python",
     "metadata": {},
     "outputs": [
      {
       "output_type": "stream",
       "stream": "stdout",
       "text": [
        "(3604, 184)\n"
       ]
      }
     ],
     "prompt_number": 91
    },
    {
     "cell_type": "code",
     "collapsed": false,
     "input": [
      "#better wave 2 (5016, 148) -> (4378, 154) w/ pwv -> (4378, 154) w/ all above\n",
      "x2 = read('newWave2.csv', 'samples')"
     ],
     "language": "python",
     "metadata": {},
     "outputs": [
      {
       "output_type": "stream",
       "stream": "stdout",
       "text": [
        "(4378, 154)\n"
       ]
      }
     ],
     "prompt_number": 176
    },
    {
     "cell_type": "code",
     "collapsed": false,
     "input": [
      "#better wave 1 (4817, 160) -> (4817, 160) w/ pwv -> (4817, 160) w/ all above\n",
      "x = read('newWave1.csv', 'features')"
     ],
     "language": "python",
     "metadata": {},
     "outputs": [
      {
       "output_type": "stream",
       "stream": "stdout",
       "text": [
        "(4817, 160)\n"
       ]
      }
     ],
     "prompt_number": 177
    },
    {
     "cell_type": "code",
     "collapsed": false,
     "input": [
      "read('newWave1.csv', 'samples')"
     ],
     "language": "python",
     "metadata": {},
     "outputs": [
      {
       "metadata": {},
       "output_type": "pyout",
       "prompt_number": 77,
       "text": [
        "(5493, 119)"
       ]
      }
     ],
     "prompt_number": 77
    },
    {
     "cell_type": "code",
     "collapsed": false,
     "input": [
      "x3 = read('newWave3.csv', 'features')"
     ],
     "language": "python",
     "metadata": {},
     "outputs": [
      {
       "output_type": "stream",
       "stream": "stdout",
       "text": [
        "(1488, 251)\n"
       ]
      }
     ],
     "prompt_number": 179
    },
    {
     "cell_type": "code",
     "collapsed": false,
     "input": [
      "# better wave 3 (3206, 119) -> (2410, 130) w/ pwv -> (2410, 130) w/ all above\n",
      "x3 = read_w3('newWave3.csv', 'samples')"
     ],
     "language": "python",
     "metadata": {},
     "outputs": [
      {
       "output_type": "stream",
       "stream": "stdout",
       "text": [
        "(2410, 130)\n"
       ]
      }
     ],
     "prompt_number": 213
    },
    {
     "cell_type": "code",
     "collapsed": false,
     "input": [
      "x2 = pd.read_csv('newWave2.csv', na_values =[])\n",
      "print (\"TO DROP NaNs Wave2\")\n",
      "print (x2.shape)\n",
      "x2 = x2.dropna(axis=1, how='all')\n",
      "print (x2.shape)\n",
      "x2 = x2.dropna(how='all')\n",
      "x2 = x2[pd.notnull(x2['exmBMI'])]\n",
      "x2 = x2[pd.notnull(x2['exmBPsys_jbs'])]\n",
      "x2 = x2[pd.notnull(x2['exmWaist'])]\n",
      "x2 = x2[pd.notnull(x2['labsColesterolo'])]\n",
      "x2 = x2[pd.notnull(x2['vasPSV'])]\n",
      "x2 = x2[pd.notnull(x2['vasIMT'])]\n",
      "print (x2.shape)\n",
      "y2, z2 = x2.shape\n",
      "x2 = x2.dropna(axis=1, thresh=(y2/3))\n",
      "print (x2.shape)\n",
      "y2, z2 = x2.shape\n",
      "x2 = x2.dropna(thresh=(z2/2))\n",
      "print (x2.shape)\n",
      "y2, z2 = x2.shape\n",
      "x2 = x2.dropna(axis=1, thresh=(y2/2))\n",
      "print (x2.shape)\n",
      "y2, z2 = x2.shape\n",
      "x2 = x2.dropna(thresh=((z2/5)*4))\n",
      "print (x2.shape)\n",
      "y2, z2 = x2.shape\n",
      "x2 = x2.dropna(axis=1, thresh=(y2/10)*9)\n",
      "y2, z2 = x2.shape\n",
      "print (x2.shape)\n",
      "x2 = x2.dropna(thresh=(z2/10)*9)\n",
      "print (x2.shape)\n",
      "y2, z2 = x2.shape\n",
      "x2 = x2.dropna(axis=1, thresh=(y2/100)*99)\n",
      "y2, z2 = x2.shape\n",
      "print (x2.shape)\n",
      "x2 = x2.dropna(how='any')\n",
      "print (x2.shape)"
     ],
     "language": "python",
     "metadata": {},
     "outputs": [
      {
       "output_type": "stream",
       "stream": "stdout",
       "text": [
        "TO DROP NaNs Wave2\n",
        "(5339, 730)\n",
        "(5339, 274)"
       ]
      },
      {
       "output_type": "stream",
       "stream": "stdout",
       "text": [
        "\n",
        "(4789, 274)"
       ]
      },
      {
       "output_type": "stream",
       "stream": "stdout",
       "text": [
        "\n",
        "(4789, 210)"
       ]
      },
      {
       "output_type": "stream",
       "stream": "stdout",
       "text": [
        "\n",
        "(4789, 210)"
       ]
      },
      {
       "output_type": "stream",
       "stream": "stdout",
       "text": [
        "\n",
        "(4789, 207)"
       ]
      },
      {
       "output_type": "stream",
       "stream": "stdout",
       "text": [
        "\n",
        "(4789, 207)"
       ]
      },
      {
       "output_type": "stream",
       "stream": "stdout",
       "text": [
        "\n",
        "(4789, 191)"
       ]
      },
      {
       "output_type": "stream",
       "stream": "stdout",
       "text": [
        "\n",
        "(4769, 191)"
       ]
      },
      {
       "output_type": "stream",
       "stream": "stdout",
       "text": [
        "\n",
        "(4769, 173)"
       ]
      },
      {
       "output_type": "stream",
       "stream": "stdout",
       "text": [
        "\n",
        "(4527, 173)"
       ]
      },
      {
       "output_type": "stream",
       "stream": "stdout",
       "text": [
        "\n"
       ]
      }
     ],
     "prompt_number": 209
    },
    {
     "cell_type": "code",
     "collapsed": false,
     "input": [
      "'''x2 = x2[pd.notnull(x2['exmBMI'])]\n",
      "x2 = x2[pd.notnull(x2['exmBPsys_jbs'])]\n",
      "x2 = x2[pd.notnull(x2['exmWaist'])]\n",
      "x2 = x2[pd.notnull(x2['labsColesterolo'])]\n",
      "x2 = x2[pd.notnull(x2['vasPSV'])]\n",
      "x2 = x2[pd.notnull(x2['vasIMT'])]'''\n",
      "\n",
      "print(x2.exmBMI)\n",
      "print(x2.exmBPsys_jbs)\n",
      "print(x2.exmWaist)\n",
      "print(x2.labsColesterolo)\n",
      "print(x2.vasPSV)\n",
      "print(x2.vasIMT)"
     ],
     "language": "python",
     "metadata": {},
     "outputs": [
      {
       "output_type": "stream",
       "stream": "stdout",
       "text": [
        "0     20.8\n",
        "1     21.8\n",
        "2     19.2\n",
        "3     21.9\n",
        "4     19.8\n",
        "5     22.3\n",
        "6     20.3\n",
        "7     19.6\n",
        "8     21.7\n",
        "11    20.8\n",
        "12    20.9\n",
        "13    23.9\n",
        "15    23.2\n",
        "16    24.6\n",
        "17    17.6\n",
        "...\n",
        "5183    27.9\n",
        "5184    23.1\n",
        "5185    27.1\n",
        "5190    32.0\n",
        "5191    25.6\n",
        "5192    32.1\n",
        "5193    27.1\n",
        "5194    28.1\n",
        "5195    23.2\n",
        "5196    25.5\n",
        "5197    31.4\n",
        "5198    26.7\n",
        "5199    28.1\n",
        "5200    32.8\n",
        "5208    21.0\n",
        "Name: exmBMI, Length: 4845, dtype: float64\n",
        "0     112\n",
        "1     100\n",
        "2     119\n",
        "3      96\n",
        "4     107\n",
        "5     119\n",
        "6      92\n",
        "7     108\n",
        "8     132\n",
        "11    101\n",
        "12    119\n",
        "13    126\n",
        "15    109\n",
        "16     88\n",
        "17    109\n",
        "...\n",
        "5183    159.0\n",
        "5184    132.0\n",
        "5185    153.0\n",
        "5190    113.0\n",
        "5191    134.5\n",
        "5192    139.0\n",
        "5193    127.0\n",
        "5194    153.0\n",
        "5195    155.0\n",
        "5196    140.0\n",
        "5197    112.0\n",
        "5198    202.5\n",
        "5199    153.0\n",
        "5200    139.0\n",
        "5208    143.0\n",
        "Name: exmBPsys_jbs, Length: 4845, dtype: float64\n",
        "0     67\n",
        "1     77\n",
        "2     67\n",
        "3     86\n",
        "4     70\n",
        "5     72\n",
        "6     77\n",
        "7     67\n",
        "8     85\n",
        "11    81\n",
        "12    76\n",
        "13    71\n",
        "15    79\n",
        "16    88\n",
        "17    65\n",
        "...\n",
        "5183     83\n",
        "5184     93\n",
        "5185     94\n",
        "5190    100\n",
        "5191     87\n",
        "5192    101\n",
        "5193     88\n",
        "5194     93\n",
        "5195     90\n",
        "5196     89\n",
        "5197    101\n",
        "5198     79\n",
        "5199     89\n",
        "5200     98\n",
        "5208     84\n",
        "Name: exmWaist, Length: 4845, dtype: float64\n",
        "0     194.06\n",
        "1     169.91\n",
        "2     170.86\n",
        "3     130.81\n",
        "4     166.55\n",
        "5     208.66\n",
        "6     191.47\n",
        "7     191.23\n",
        "8     169.13\n",
        "11    160.67\n",
        "12    134.00\n",
        "13    156.54\n",
        "15    148.25\n",
        "16    203.45\n",
        "17    157.66\n",
        "...\n",
        "5183    186.15\n",
        "5184    238.00\n",
        "5185    195.36\n",
        "5190    157.06\n",
        "5191    233.77\n",
        "5192    157.37\n",
        "5193    205.30\n",
        "5194    188.79\n",
        "5195    243.54\n",
        "5196    214.65\n",
        "5197    167.36\n",
        "5198    252.30\n",
        "5199    206.46\n",
        "5200    208.22\n",
        "5208    229.39\n",
        "Name: labsColesterolo, Length: 4845, dtype: float64\n"
       ]
      },
      {
       "ename": "AttributeError",
       "evalue": "'DataFrame' object has no attribute 'vasPSV'",
       "output_type": "pyerr",
       "traceback": [
        "\u001b[1;31m---------------------------------------------------------------------------\u001b[0m\n\u001b[1;31mAttributeError\u001b[0m                            Traceback (most recent call last)",
        "\u001b[1;32m<ipython-input-192-a7c81fce4cca>\u001b[0m in \u001b[0;36m<module>\u001b[1;34m()\u001b[0m\n\u001b[0;32m     10\u001b[0m \u001b[0mprint\u001b[0m\u001b[1;33m(\u001b[0m\u001b[0mx2\u001b[0m\u001b[1;33m.\u001b[0m\u001b[0mexmWaist\u001b[0m\u001b[1;33m)\u001b[0m\u001b[1;33m\u001b[0m\u001b[0m\n\u001b[0;32m     11\u001b[0m \u001b[0mprint\u001b[0m\u001b[1;33m(\u001b[0m\u001b[0mx2\u001b[0m\u001b[1;33m.\u001b[0m\u001b[0mlabsColesterolo\u001b[0m\u001b[1;33m)\u001b[0m\u001b[1;33m\u001b[0m\u001b[0m\n\u001b[1;32m---> 12\u001b[1;33m \u001b[0mprint\u001b[0m\u001b[1;33m(\u001b[0m\u001b[0mx2\u001b[0m\u001b[1;33m.\u001b[0m\u001b[0mvasPSV\u001b[0m\u001b[1;33m)\u001b[0m\u001b[1;33m\u001b[0m\u001b[0m\n\u001b[0m\u001b[0;32m     13\u001b[0m \u001b[0mprint\u001b[0m\u001b[1;33m(\u001b[0m\u001b[0mx2\u001b[0m\u001b[1;33m.\u001b[0m\u001b[0mvasIMT\u001b[0m\u001b[1;33m)\u001b[0m\u001b[1;33m\u001b[0m\u001b[0m\n",
        "\u001b[1;32m/usr/local/lib/python3.4/site-packages/pandas/core/generic.py\u001b[0m in \u001b[0;36m__getattr__\u001b[1;34m(self, name)\u001b[0m\n\u001b[0;32m   1841\u001b[0m                 \u001b[1;32mreturn\u001b[0m \u001b[0mself\u001b[0m\u001b[1;33m[\u001b[0m\u001b[0mname\u001b[0m\u001b[1;33m]\u001b[0m\u001b[1;33m\u001b[0m\u001b[0m\n\u001b[0;32m   1842\u001b[0m             raise AttributeError(\"'%s' object has no attribute '%s'\" %\n\u001b[1;32m-> 1843\u001b[1;33m                                  (type(self).__name__, name))\n\u001b[0m\u001b[0;32m   1844\u001b[0m \u001b[1;33m\u001b[0m\u001b[0m\n\u001b[0;32m   1845\u001b[0m     \u001b[1;32mdef\u001b[0m \u001b[0m__setattr__\u001b[0m\u001b[1;33m(\u001b[0m\u001b[0mself\u001b[0m\u001b[1;33m,\u001b[0m \u001b[0mname\u001b[0m\u001b[1;33m,\u001b[0m \u001b[0mvalue\u001b[0m\u001b[1;33m)\u001b[0m\u001b[1;33m:\u001b[0m\u001b[1;33m\u001b[0m\u001b[0m\n",
        "\u001b[1;31mAttributeError\u001b[0m: 'DataFrame' object has no attribute 'vasPSV'"
       ]
      }
     ],
     "prompt_number": 192
    },
    {
     "cell_type": "code",
     "collapsed": false,
     "input": [
      "print (\"TO DROP NaNs Wave3\")\n",
      "print (x3.shape)\n",
      "x3 = x3.dropna(axis=1, how='all')\n",
      "print (x3.shape)\n",
      "x3 = x3.dropna(how='all')\n",
      "print (x3.shape)\n",
      "y3, z3 = x3.shape\n",
      "x3 = x3.dropna(axis=1, thresh=(y3/3))\n",
      "print (x3.shape)\n",
      "y3, z3 = x3.shape\n",
      "x3 = x3.dropna(thresh=(z3/2))\n",
      "print (x3.shape)\n",
      "y3, z3 = x3.shape\n",
      "x3 = x3.dropna(axis=1, thresh=(y3*2/3))\n",
      "print (x3.shape)\n",
      "y3, z3 = x3.shape\n",
      "x3 = x3.dropna(thresh=(z3*3/4))\n",
      "print (x3.shape)\n",
      "y3, z3 = x3.shape\n",
      "x3 = x3.dropna(axis=1, thresh=(y3*9/10))\n",
      "print (x3.shape)\n",
      "y3, z3 = x3.shape\n",
      "x3 = x3.dropna(thresh=(z3*4/5))\n",
      "print (x3.shape)\n",
      "y3, z3 = x3.shape\n",
      "x3 = x3.dropna(axis=1, thresh=(y3*9/10))\n",
      "print (x3.shape)\n",
      "y3, z3 = x3.shape\n",
      "x3 = x3.dropna(how='any')\n",
      "print (x3.shape)"
     ],
     "language": "python",
     "metadata": {},
     "outputs": [
      {
       "output_type": "stream",
       "stream": "stdout",
       "text": [
        "TO DROP NaNs Wave3\n",
        "(4844, 730)\n",
        "(4844, 632)"
       ]
      },
      {
       "output_type": "stream",
       "stream": "stdout",
       "text": [
        "\n",
        "(4844, 632)"
       ]
      },
      {
       "output_type": "stream",
       "stream": "stdout",
       "text": [
        "\n",
        "(4844, 472)"
       ]
      },
      {
       "output_type": "stream",
       "stream": "stdout",
       "text": [
        "\n",
        "(4755, 472)"
       ]
      },
      {
       "output_type": "stream",
       "stream": "stdout",
       "text": [
        "\n",
        "(4755, 260)"
       ]
      },
      {
       "output_type": "stream",
       "stream": "stdout",
       "text": [
        "\n",
        "(3575, 260)"
       ]
      },
      {
       "output_type": "stream",
       "stream": "stdout",
       "text": [
        "\n",
        "(3575, 224)"
       ]
      },
      {
       "output_type": "stream",
       "stream": "stdout",
       "text": [
        "\n",
        "(3561, 224)"
       ]
      },
      {
       "output_type": "stream",
       "stream": "stdout",
       "text": [
        "\n",
        "(3561, 224)"
       ]
      },
      {
       "output_type": "stream",
       "stream": "stdout",
       "text": [
        "\n",
        "(1896, 224)"
       ]
      },
      {
       "output_type": "stream",
       "stream": "stdout",
       "text": [
        "\n"
       ]
      }
     ],
     "prompt_number": 91
    },
    {
     "cell_type": "heading",
     "level": 1,
     "metadata": {},
     "source": [
      "Determining Bin Size"
     ]
    },
    {
     "cell_type": "heading",
     "level": 3,
     "metadata": {},
     "source": [
      "Wave 1"
     ]
    },
    {
     "cell_type": "code",
     "collapsed": false,
     "input": [
      "print (\"BY TWOS\")\n",
      "print (\"range (14,100,2):\")\n",
      "bins = range (14,100,2)\n",
      "counts,bins = np.histogram(x.Age.as_matrix(),bins=bins)\n",
      "print (counts)\n",
      "print (bins)\n",
      "print (\"range (13,100,2):\")\n",
      "bins = range (13,100,2)\n",
      "counts,bins = np.histogram(x.Age.as_matrix(),bins=bins)\n",
      "print (counts)\n",
      "print (bins)\n",
      "print (\"range (15,100,2):\")\n",
      "bins = range (15,100,2)\n",
      "counts,bins = np.histogram(x.Age.as_matrix(),bins=bins)\n",
      "print (counts)\n",
      "print (bins)"
     ],
     "language": "python",
     "metadata": {},
     "outputs": [
      {
       "output_type": "stream",
       "stream": "stdout",
       "text": [
        "BY TWOS\n",
        "range (14,100,2):\n",
        "[181 133 138 136 157 192 198 194 204 173 219 223 201 190 190 176 186 167\n",
        " 158 158 128 136 141 136 112 104 110  87  82  61  57  28  24  15   6   6\n",
        "   6   1   1   2   0   0]\n",
        "[14 16 18 20 22 24 26 28 30 32 34 36 38 40 42 44 46 48 50 52 54 56 58 60 62\n",
        " 64 66 68 70 72 74 76 78 80 82 84 86 88 90 92 94 96 98]\n",
        "range (13,100,2):\n",
        "[111 141 127 141 146 163 213 197 195 187 189 231 198 202 192 189 181 175\n",
        " 164 159 142 118 156 138 113 102 112 100  88  73  64  36  22  22  13   5\n",
        "   5   3   2   0   2   0   0]\n",
        "[13 15 17 19 21 23 25 27 29 31 33 35 37 39 41 43 45 47 49 51 53 55 57 59 61\n",
        " 63 65 67 69 71 73 75 77 79 81 83 85 87 89 91 93 95 97 99]\n",
        "range (15,100,2):\n",
        "[141 127 141 146 163 213 197 195 187 189 231 198 202 192 189 181 175 164\n",
        " 159 142 118 156 138 113 102 112 100  88  73  64  36  22  22  13   5   5\n",
        "   3   2   0   2   0   0]\n",
        "[15 17 19 21 23 25 27 29 31 33 35 37 39 41 43 45 47 49 51 53 55 57 59 61 63\n",
        " 65 67 69 71 73 75 77 79 81 83 85 87 89 91 93 95 97 99]\n"
       ]
      }
     ],
     "prompt_number": 188
    },
    {
     "cell_type": "code",
     "collapsed": false,
     "input": [
      "print \"BY THREES\"\n",
      "print \"range (14,100,3):\"\n",
      "bins = range (14,100,3)\n",
      "counts,bins = np.histogram(x.Age.as_matrix(),bins=bins)\n",
      "print counts\n",
      "print bins\n",
      "print \"range (13,100,3):\"\n",
      "bins = range (13,100,3)\n",
      "counts,bins = np.histogram(x.Age.as_matrix(),bins=bins)\n",
      "print counts\n",
      "print bins\n",
      "print \"range (15,100,3):\"\n",
      "bins = range (15,100,3)\n",
      "counts,bins = np.histogram(x.Age.as_matrix(),bins=bins)\n",
      "print counts\n",
      "print bins"
     ],
     "language": "python",
     "metadata": {},
     "outputs": [
      {
       "output_type": "stream",
       "stream": "stdout",
       "text": [
        "BY THREES\n",
        "range (14,100,3):\n",
        "[200 184 199 259 288 279 271 334 288 285 268 253 239 199 212 196 151 172\n",
        " 125 101  70  37  19   7   6   1   2   0]\n",
        "[14 17 20 23 26 29 32 35 38 41 44 47 50 53 56 59 62 65 68 71 74 77 80 83 86\n",
        " 89 92 95 98]\n",
        "range (13,100,3):\n",
        "[136 179 194 229 294 285 261 332 303 279 268 269 233 226 193 214 169 154\n",
        " 144 113  84  36  29  10   8   1   2   0]\n",
        "[13 16 19 22 25 28 31 34 37 40 43 46 49 52 55 58 61 64 67 70 73 76 79 82 85\n",
        " 88 91 94 97]\n",
        "range (15,100,3):\n",
        "[175 190 211 287 270 279 298 311 295 280 263 248 230 184 216 186 161 150\n",
        " 125  97  47  31  13   9   3   1   2   0]"
       ]
      },
      {
       "output_type": "stream",
       "stream": "stdout",
       "text": [
        "\n",
        "[15 18 21 24 27 30 33 36 39 42 45 48 51 54 57 60 63 66 69 72 75 78 81 84 87\n",
        " 90 93 96 99]\n"
       ]
      }
     ],
     "prompt_number": 93
    },
    {
     "cell_type": "code",
     "collapsed": false,
     "input": [
      "print (\"BY FOURS\")\n",
      "print (\"range (14,100,4):\")\n",
      "bins = range (14,100,4)\n",
      "counts,bins = np.histogram(x.Age.as_matrix(),bins=bins)\n",
      "print (counts)\n",
      "print (bins)\n",
      "print (\"range (13,100,4):\")\n",
      "bins = range (13,100,4)\n",
      "counts,bins = np.histogram(x.Age.as_matrix(),bins=bins)\n",
      "print (counts)\n",
      "print (bins)\n",
      "print (\"range (15,100,4):\")\n",
      "bins = range (15,100,4)\n",
      "counts,bins = np.histogram(x.Age.as_matrix(),bins=bins)\n",
      "print (counts)\n",
      "print (bins)\n",
      "print (\"range (12,100,4):\")\n",
      "bins = range (12,100,4)\n",
      "counts,bins = np.histogram(x.Age.as_matrix(),bins=bins)\n",
      "print (counts)\n",
      "print (bins)\n",
      "print (\"range (16,100,4):\")\n",
      "bins = range (16,100,4)\n",
      "counts,bins = np.histogram(x.Age.as_matrix(),bins=bins)\n",
      "print (counts)\n",
      "print (bins)"
     ],
     "language": "python",
     "metadata": {},
     "outputs": [
      {
       "output_type": "stream",
       "stream": "stdout",
       "text": [
        "BY FOURS\n",
        "range (14,100,4):\n",
        "[314 274 349 392 377 442 391 366 353 316 264 277 216 197 143  85  39  12\n",
        "   7   3   0]\n",
        "[14 18 22 26 30 34 38 42 46 50 54 58 62 66 70 74 78 82 86 90 94 98]\n",
        "range (13,100,4):\n",
        "[252 268 309 410 382 420 400 381 356 323 260 294 215 212 161 100  44  18\n",
        "   8   2   2]\n",
        "[13 17 21 25 29 33 37 41 45 49 53 57 61 65 69 73 77 81 85 89 93 97]\n",
        "range (15,100,4):\n",
        "[268 287 376 392 376 429 394 370 339 301 274 251 214 188 137  58  35  10\n",
        "   5   2   0]\n",
        "[15 19 23 27 31 35 39 43 47 51 55 59 63 67 71 75 79 83 87 91 95 99]\n",
        "range (12,100,4):\n",
        "[181 271 293 390 398 392 424 380 362 325 286 277 248 214 169 118  52  21\n",
        "  12   2   2]\n",
        "[12 16 20 24 28 32 36 40 44 48 52 56 60 64 68 72 76 80 84 88 92 96]\n",
        "range (16,100,4):\n",
        "[271 293 390 398 392 424 380 362 325 286 277 248 214 169 118  52  21  12\n",
        "   2   2]\n",
        "[16 20 24 28 32 36 40 44 48 52 56 60 64 68 72 76 80 84 88 92 96]\n"
       ]
      }
     ],
     "prompt_number": 199
    },
    {
     "cell_type": "code",
     "collapsed": false,
     "input": [
      "print (\"BY FIVES\")\n",
      "print (\"range (13,100,5):\")\n",
      "bins = range (13,100,5)\n",
      "counts,bins = np.histogram(x.Age.as_matrix(),bins=bins)\n",
      "print (counts)\n",
      "print (bins)\n",
      "\n",
      "print (\"range (14,100,5):\")\n",
      "bins = range (14,100,5)\n",
      "counts,bins = np.histogram(x.Age.as_matrix(),bins=bins)\n",
      "print (counts)\n",
      "print (bins)\n",
      "print (\"range (15,100,5):\")\n",
      "bins = range (15,100,5)\n",
      "counts,bins = np.histogram(x.Age.as_matrix(),bins=bins)\n",
      "print (counts)\n",
      "print (bins)\n",
      "print (\"range (12,100,5):\")\n",
      "bins = range (12,100,5)\n",
      "counts,bins = np.histogram(x.Age.as_matrix(),bins=bins)\n",
      "print (counts)\n",
      "print (bins)\n",
      "print (\"range (16,100,5):\")\n",
      "bins = range (15,100,5)\n",
      "counts,bins = np.histogram(x.Age.as_matrix(),bins=bins)\n",
      "print (counts)\n",
      "print (bins)\n",
      "# Using range (13,100,5) for Wave 1\n",
      "print (\"\")\n",
      "print (\"***Using range ((13,100,5) for Wave 1***\")\n",
      "bins = range (13,100,5)\n",
      "counts,bins = np.histogram(x.Age.as_matrix(),bins=bins)\n",
      "print (counts)\n",
      "print (sum(counts))\n",
      "print (bins)\n",
      "pl.figure()\n",
      "pl.hist(x.Age, bins=bins)\n",
      "pl.title('Distribution of Samples by Age Bins')\n",
      "pl.xlabel('Age')\n",
      "pl.ylabel('Number of Samples')\n",
      "#pl.savefig('/home/suned/GRAPHS/Age_Bins.pdf', format='pdf', dpi=150)\n",
      "pl.show()\n",
      "# Using range (13,100,5) for Wave 1"
     ],
     "language": "python",
     "metadata": {},
     "outputs": [
      {
       "output_type": "stream",
       "stream": "stdout",
       "text": [
        "BY FIVES\n",
        "range (13,100,5):\n",
        "[314 352 469 486 527 485 458 410 337 330 273 202 113  44  13   2   2]\n",
        "[13 18 23 28 33 38 43 48 53 58 63 68 73 78 83 88 93 98]\n",
        "range (14,100,5):\n",
        "[379 366 494 467 533 490 449 396 343 310 255 189  94  36  12   4   0]\n",
        "[14 19 24 29 34 39 44 49 54 59 64 69 74 79 84 89 94 99]\n",
        "range (15,100,5):\n",
        "[341 377 500 481 539 473 436 385 336 291 258 179  73  25   9   3]\n",
        "[15 20 25 30 35 40 45 50 55 60 65 70 75 80 85 90 95]\n",
        "range (12,100,5):\n",
        "[252 336 454 491 508 498 464 413 345 354 267 228 133  52  15   5   2]\n",
        "[12 17 22 27 32 37 42 47 52 57 62 67 72 77 82 87 92 97]\n",
        "range (16,100,5):\n",
        "[341 377 500 481 539 473 436 385 336 291 258 179  73  25   9   3]\n",
        "[15 20 25 30 35 40 45 50 55 60 65 70 75 80 85 90 95]\n",
        "\n",
        "***Using range ((13,100,5) for Wave 1***\n",
        "[314 352 469 486 527 485 458 410 337 330 273 202 113  44  13   2   2]\n",
        "4817\n",
        "[13 18 23 28 33 38 43 48 53 58 63 68 73 78 83 88 93 98]\n"
       ]
      },
      {
       "metadata": {},
       "output_type": "display_data",
       "png": "[encoded data removed]",
       "text": [
        "<matplotlib.figure.Figure at 0x7f7f704a39b0>"
       ]
      }
     ],
     "prompt_number": 200
    },
    {
     "cell_type": "code",
     "collapsed": false,
     "input": [
      "print \"BY SIXES\"\n",
      "print \"range (14,100,6):\"\n",
      "bins = range (14,100,6)\n",
      "counts,bins = np.histogram(x.Age.as_matrix(),bins=bins)\n",
      "print counts\n",
      "print bins\n",
      "print \"range (13,100,6):\"\n",
      "bins = range (13,100,6)\n",
      "counts,bins = np.histogram(x.Age.as_matrix(),bins=bins)\n",
      "print counts\n",
      "print bins\n",
      "print \"range (15,100,6):\"\n",
      "bins = range (15,100,6)\n",
      "counts,bins = np.histogram(x.Age.as_matrix(),bins=bins)\n",
      "print counts\n",
      "print bins"
     ],
     "language": "python",
     "metadata": {},
     "outputs": [
      {
       "output_type": "stream",
       "stream": "stdout",
       "text": [
        "BY SIXES\n",
        "range (14,100,6):\n",
        "[384 458 567 605 573 521 438 408 323 226 107  26   7   2]\n",
        "[14 20 26 32 38 44 50 56 62 68 74 80 86 92 98]\n",
        "range (13,100,6):\n",
        "[315 423 579 593 582 537 459 407 323 257 120  39   9   2]\n",
        "[13 19 25 31 37 43 49 55 61 67 73 79 85 91 97]\n",
        "range (15,100,6):\n",
        "[365 498 549 609 575 511 414 402 311 222  78  22   4   2]"
       ]
      },
      {
       "output_type": "stream",
       "stream": "stdout",
       "text": [
        "\n",
        "[15 21 27 33 39 45 51 57 63 69 75 81 87 93 99]\n"
       ]
      }
     ],
     "prompt_number": 96
    },
    {
     "cell_type": "code",
     "collapsed": false,
     "input": [
      "print \"BY SEVENS\"\n",
      "print \"range (14,100,7):\"\n",
      "bins = range (14,100,7)\n",
      "counts,bins = np.histogram(x.Age.as_matrix(),bins=bins)\n",
      "print counts\n",
      "print bins\n",
      "print \"range (13,100,7):\"\n",
      "bins = range (13,100,7)\n",
      "counts,bins = np.histogram(x.Age.as_matrix(),bins=bins)\n",
      "print counts\n",
      "print bins\n",
      "print \"range (15,100,7):\"\n",
      "bins = range (15,100,7)\n",
      "counts,bins = np.histogram(x.Age.as_matrix(),bins=bins)\n",
      "print counts\n",
      "print bins"
     ],
     "language": "python",
     "metadata": {},
     "outputs": [
      {
       "output_type": "stream",
       "stream": "stdout",
       "text": [
        "BY SEVENS\n",
        "range (14,100,7):\n",
        "[448 584 648 719 630 517 460 356 211  57  13   2]\n",
        "[14 21 28 35 42 49 56 63 70 77 84 91 98]\n",
        "range (13,100,7):\n",
        "[384 562 632 724 640 546 466 363 242  70  13   3]\n",
        "[13 20 27 34 41 48 55 62 69 76 83 90 97]\n",
        "range (15,100,7):\n",
        "[426 621 663 699 616 496 460 338 184  48   9   2]"
       ]
      },
      {
       "output_type": "stream",
       "stream": "stdout",
       "text": [
        "\n",
        "[15 22 29 36 43 50 57 64 71 78 85 92 99]\n"
       ]
      }
     ],
     "prompt_number": 97
    },
    {
     "cell_type": "code",
     "collapsed": false,
     "input": [
      "print \"BY EIGHTS\"\n",
      "print \"range (14,100,8):\"\n",
      "bins = range (14,100,8)\n",
      "counts,bins = np.histogram(x.Age.as_matrix(),bins=bins)\n",
      "print counts\n",
      "print bins\n",
      "print \"range (13,100,8):\"\n",
      "bins = range (13,100,8)\n",
      "counts,bins = np.histogram(x.Age.as_matrix(),bins=bins)\n",
      "print counts\n",
      "print bins\n",
      "print \"range (15,100,8):\"\n",
      "bins = range (15,100,8)\n",
      "counts,bins = np.histogram(x.Age.as_matrix(),bins=bins)\n",
      "print counts\n",
      "print bins"
     ],
     "language": "python",
     "metadata": {},
     "outputs": [
      {
       "output_type": "stream",
       "stream": "stdout",
       "text": [
        "BY EIGHTS\n",
        "range (14,100,8):\n",
        "[509 707 798 746 660 534 408 224  50   9]\n",
        "[14 22 30 38 46 54 62 70 78 86 94]\n",
        "range (13,100,8):\n",
        "[448 682 780 769 668 548 422 256  61   9]\n",
        "[13 21 29 37 45 53 61 69 77 85 93]"
       ]
      },
      {
       "output_type": "stream",
       "stream": "stdout",
       "text": [
        "\n",
        "range (15,100,8):\n",
        "[500 734 787 751 633 518 396 193  44   6]\n",
        "[15 23 31 39 47 55 63 71 79 87 95]\n"
       ]
      }
     ],
     "prompt_number": 98
    },
    {
     "cell_type": "code",
     "collapsed": false,
     "input": [
      "print \"BY NINES\"\n",
      "print \"range (14,100,9):\"\n",
      "bins = range (14,100,9)\n",
      "counts,bins = np.histogram(x.Age.as_matrix(),bins=bins)\n",
      "print counts\n",
      "print bins\n",
      "print \"range (13,100,9):\"\n",
      "bins = range (13,100,9)\n",
      "counts,bins = np.histogram(x.Age.as_matrix(),bins=bins)\n",
      "print counts\n",
      "print bins\n",
      "print \"range (15,100,9):\"\n",
      "bins = range (15,100,9)\n",
      "counts,bins = np.histogram(x.Age.as_matrix(),bins=bins)\n",
      "print counts\n",
      "print bins"
     ],
     "language": "python",
     "metadata": {},
     "outputs": [
      {
       "output_type": "stream",
       "stream": "stdout",
       "text": [
        "BY NINES\n",
        "range (14,100,9):\n",
        "[583 826 893 806 650 519 296  63   9]\n",
        "[14 23 32 41 50 59 68 77 86 95]\n",
        "range (13,100,9):\n",
        "[509 808 896 816 652 537 341  75  11]\n",
        "[13 22 31 40 49 58 67 76 85 94]\n",
        "range (15,100,9):\n",
        "[576 836 904 791 630 497 269  53   6]\n",
        "[15 24 33 42 51 60 69 78 87 96]"
       ]
      },
      {
       "output_type": "stream",
       "stream": "stdout",
       "text": [
        "\n"
       ]
      }
     ],
     "prompt_number": 99
    },
    {
     "cell_type": "code",
     "collapsed": false,
     "input": [
      "print \"BY TENS\"\n",
      "print \"range (14,100,10):\"\n",
      "bins = range (14,100,10)\n",
      "counts,bins = np.histogram(x.Age.as_matrix(),bins=bins)\n",
      "print counts\n",
      "print bins\n",
      "print \"range (13,100,10):\"\n",
      "bins = range (13,100,10)\n",
      "counts,bins = np.histogram(x.Age.as_matrix(),bins=bins)\n",
      "print counts\n",
      "print bins\n",
      "print \"range (15,100,10):\"\n",
      "bins = range (15,100,10)\n",
      "counts,bins = np.histogram(x.Age.as_matrix(),bins=bins)\n",
      "print counts\n",
      "print bins"
     ],
     "language": "python",
     "metadata": {},
     "outputs": [
      {
       "output_type": "stream",
       "stream": "stdout",
       "text": [
        "BY TENS\n",
        "range (14,100,10):\n",
        "[ 659  919 1009  833  644  439  127   15]\n",
        "[14 24 34 44 54 64 74 84 94]\n",
        "range (13,100,10):\n",
        "[583 912 997 855 659 469 154  14]"
       ]
      },
      {
       "output_type": "stream",
       "stream": "stdout",
       "text": [
        "\n",
        "[13 23 33 43 53 63 73 83 93]\n",
        "range (15,100,10):\n",
        "[655 942 999 809 617 434  95  11]\n",
        "[15 25 35 45 55 65 75 85 95]\n"
       ]
      }
     ],
     "prompt_number": 100
    },
    {
     "cell_type": "heading",
     "level": 3,
     "metadata": {},
     "source": [
      "Wave 2"
     ]
    },
    {
     "cell_type": "code",
     "collapsed": false,
     "input": [
      "print (\"BY THREES\")\n",
      "print (\"range (18,100,3):\") # 75 yrs, 1843 sample (19 classes)\n",
      "bins = range (18,100,3)\n",
      "counts,bins = np.histogram(x2.Age.as_matrix(),bins=bins)\n",
      "print (counts)\n",
      "print (bins)\n",
      "print (\"range (17,100,3):\" )\n",
      "bins = range (17,100,3)\n",
      "counts,bins = np.histogram(x2.Age.as_matrix(),bins=bins)\n",
      "print (counts)\n",
      "print (bins)\n",
      "print (\"range (19,100,3):\")\n",
      "bins = range (19,100,3)\n",
      "counts,bins = np.histogram(x2.Age.as_matrix(),bins=bins)\n",
      "print (counts)\n",
      "print (bins)"
     ],
     "language": "python",
     "metadata": {},
     "outputs": [
      {
       "output_type": "stream",
       "stream": "stdout",
       "text": [
        "BY THREES\n",
        "range (18,100,3):\n",
        "[228 173 193 263 261 266 281 298 298 270 262 242 247 203 217 189 159 151\n",
        " 126  92  52  30  16   7   0   0   1]\n",
        "[18 21 24 27 30 33 36 39 42 45 48 51 54 57 60 63 66 69 72 75 78 81 84 87 90\n",
        " 93 96 99]\n",
        "range (17,100,3):\n",
        "[164 184 175 256 259 264 261 315 293 275 272 247 248 212 208 198 165 167\n",
        " 123 106  72  33  18  10   1   0   0]\n",
        "[17 20 23 26 29 32 35 38 41 44 47 50 53 56 59 62 65 68 71 74 77 80 83 86 89\n",
        " 92 95 98]\n",
        "range (19,100,3):\n",
        "[182 180 212 274 250 267 299 309 288 265 248 248 242 191 210 184 155 140\n",
        " 123  80  37  27  14   1   0   0]\n",
        "[19 22 25 28 31 34 37 40 43 46 49 52 55 58 61 64 67 70 73 76 79 82 85 88 91\n",
        " 94 97]\n"
       ]
      }
     ],
     "prompt_number": 195
    },
    {
     "cell_type": "code",
     "collapsed": false,
     "input": [
      "print \"BY FOURS\"\n",
      "print \"range (18,100,4):\"\n",
      "bins = range (18,100,4)\n",
      "counts,bins = np.histogram(x2.Age.as_matrix(),bins=bins)\n",
      "print counts\n",
      "print bins\n",
      "print \"range (17,100,4):\"\n",
      "bins = range (17,100,4)\n",
      "counts,bins = np.histogram(x2.Age.as_matrix(),bins=bins)\n",
      "print counts\n",
      "print bins\n",
      "print \"range (19,100,4):\"\n",
      "bins = range (19,100,4)\n",
      "counts,bins = np.histogram(x2.Age.as_matrix(),bins=bins)\n",
      "print counts\n",
      "print bins\n",
      "print \"range (16,100,4):\"\n",
      "bins = range (16,100,4)\n",
      "counts,bins = np.histogram(x2.Age.as_matrix(),bins=bins)\n",
      "print counts\n",
      "print bins\n",
      "print \"range (20,100,4):\"\n",
      "bins = range (20,100,4)\n",
      "counts,bins = np.histogram(x2.Age.as_matrix(),bins=bins)\n",
      "print counts\n",
      "print bins"
     ],
     "language": "python",
     "metadata": {},
     "outputs": [
      {
       "output_type": "stream",
       "stream": "stdout",
       "text": [
        "BY FOURS\n",
        "range (18,100,4):\n",
        "[215 199 275 282 320 338 329 277 239 247 216 203 162 146  94  50  21   7\n",
        "   0   0]\n",
        "[18 22 26 30 34 38 42 46 50 54 58 62 66 70 74 78 82 86 90 94 98]\n",
        "range (17,100,4):\n",
        "[182 182 263 279 303 351 318 293 246 246 215 214 175 149 106  63  28   8\n",
        "   1   0]\n",
        "[17 21 25 29 33 37 41 45 49 53 57 61 65 69 73 77 81 85 89 93 97]\n",
        "range (19,100,4):\n",
        "[186 213 286 300 313 345 304 259 254 235 216 194 167 129  83  38  15   4\n",
        "   0   1]"
       ]
      },
      {
       "output_type": "stream",
       "stream": "stdout",
       "text": [
        "\n",
        "[19 23 27 31 35 39 43 47 51 55 59 63 67 71 75 79 83 87 91 95 99]\n",
        "range (16,100,4):\n",
        "[132 182 227 297 301 323 339 299 250 260 212 221 178 164 124  69  29  14\n",
        "   1   0]\n",
        "[16 20 24 28 32 36 40 44 48 52 56 60 64 68 72 76 80 84 88 92 96]\n",
        "range (20,100,4):\n",
        "[182 227 297 301 323 339 299 250 260 212 221 178 164 124  69  29  14   1\n",
        "   0]\n",
        "[20 24 28 32 36 40 44 48 52 56 60 64 68 72 76 80 84 88 92 96]"
       ]
      },
      {
       "output_type": "stream",
       "stream": "stdout",
       "text": [
        "\n"
       ]
      }
     ],
     "prompt_number": 102
    },
    {
     "cell_type": "code",
     "collapsed": false,
     "input": [
      "print (\"BY FIVES\")\n",
      "print (\"range (18,100,5):\") # 78 yrs, 12 classes, 1536 samples\n",
      "bins = range (18,100,5)\n",
      "counts,bins = np.histogram(x2.Age.as_matrix(),bins=bins)\n",
      "print (counts)\n",
      "print (bins)\n",
      "print (\"range (17,100,5):\")\n",
      "bins = range (17,100,5)\n",
      "counts,bins = np.histogram(x2.Age.as_matrix(),bins=bins)\n",
      "print (counts)\n",
      "print (bins)\n",
      "print (\"range (16,100,5):\")\n",
      "bins = range (16,100,5)\n",
      "counts,bins = np.histogram(x2.Age.as_matrix(),bins=bins)\n",
      "print (counts)\n",
      "print (bins)\n",
      "print (\"range (19,100,5):\")\n",
      "bins = range (19,100,5)\n",
      "counts,bins = np.histogram(x2.Age.as_matrix(),bins=bins)\n",
      "print (counts)\n",
      "print (bins)\n",
      "print (\"range (20,100,5):\") # 80 yrs, 12 classes, 1152 samples\n",
      "bins = range (20,100,5)\n",
      "counts,bins = np.histogram(x2.Age.as_matrix(),bins=bins)\n",
      "print (counts)\n",
      "print (bins)"
     ],
     "language": "python",
     "metadata": {},
     "outputs": [
      {
       "output_type": "stream",
       "stream": "stdout",
       "text": [
        "BY FIVES\n",
        "range (18,100,5):\n",
        "[346 326 446 443 510 460 432 399 340 292 248 177  76  28   1   0]\n",
        "[18 23 28 33 38 43 48 53 58 63 68 73 78 83 88 93 98]\n",
        "range (17,100,5):\n",
        "[282 314 442 427 500 481 428 410 349 316 254 189  92  35   7   0]\n",
        "[17 22 27 32 37 42 47 52 57 62 67 72 77 82 87 92 97]\n",
        "range (16,100,5):\n",
        "[230 293 425 438 492 483 434 418 342 338 270 204 106  42  11   0]\n",
        "[16 21 26 31 36 41 46 51 56 61 66 71 76 81 86 91 96]\n",
        "range (19,100,5):\n",
        "[303 376 419 469 504 455 411 388 340 287 234 161  56  22   1   1]\n",
        "[19 24 29 34 39 44 49 54 59 64 69 74 79 84 89 94 99]\n",
        "range (20,100,5):\n",
        "[298 397 443 462 499 455 404 365 344 273 225 135  47  15   0]\n",
        "[20 25 30 35 40 45 50 55 60 65 70 75 80 85 90 95]\n"
       ]
      }
     ],
     "prompt_number": 196
    },
    {
     "cell_type": "code",
     "collapsed": false,
     "input": [
      "print \"BY SIXES\"\n",
      "print \"range (18,100,6):\"\n",
      "bins = range (18,100,6)\n",
      "counts,bins = np.histogram(x2.Age.as_matrix(),bins=bins)\n",
      "print counts\n",
      "print bins\n",
      "print \"range (19,100,6):\"\n",
      "bins = range (19,100,6)\n",
      "counts,bins = np.histogram(x2.Age.as_matrix(),bins=bins)\n",
      "print counts\n",
      "print bins\n",
      "print \"range (17,100,6):\"\n",
      "bins = range (17,100,6)\n",
      "counts,bins = np.histogram(x2.Age.as_matrix(),bins=bins)\n",
      "print counts\n",
      "print bins\n",
      "print \"range (16,100,6):\"\n",
      "bins = range (16,100,6)\n",
      "counts,bins = np.histogram(x2.Age.as_matrix(),bins=bins)\n",
      "print counts\n",
      "print bins\n",
      "print \"range (15,100,6):\" # 81 yrs, 10 classes, 1030 samples\n",
      "bins = range (15,100,6)\n",
      "counts,bins = np.histogram(x2.Age.as_matrix(),bins=bins)\n",
      "print counts\n",
      "print bins"
     ],
     "language": "python",
     "metadata": {},
     "outputs": [
      {
       "ename": "SyntaxError",
       "evalue": "Missing parentheses in call to 'print' (<ipython-input-197-05dabc28582f>, line 1)",
       "output_type": "pyerr",
       "traceback": [
        "\u001b[1;36m  File \u001b[1;32m\"<ipython-input-197-05dabc28582f>\"\u001b[1;36m, line \u001b[1;32m1\u001b[0m\n\u001b[1;33m    print \"BY SIXES\"\u001b[0m\n\u001b[1;37m                   ^\u001b[0m\n\u001b[1;31mSyntaxError\u001b[0m\u001b[1;31m:\u001b[0m Missing parentheses in call to 'print'\n"
       ]
      }
     ],
     "prompt_number": 197
    },
    {
     "cell_type": "heading",
     "level": 3,
     "metadata": {},
     "source": [
      "Wave 3"
     ]
    },
    {
     "cell_type": "code",
     "collapsed": false,
     "input": [
      "print (\"BY THREES\")\n",
      "print (\"range (18,100,3):\")\n",
      "bins = range (18,100,3)\n",
      "counts,bins = np.histogram(x3.Age.as_matrix(),bins=bins)\n",
      "print (counts)\n",
      "print (bins)\n",
      "print (\"range (17,100,3):\")\n",
      "bins = range (17,100,3)\n",
      "counts,bins = np.histogram(x3.Age.as_matrix(),bins=bins)\n",
      "print (counts)\n",
      "print (bins)\n",
      "print (\"range (19,100,3):\")\n",
      "bins = range (19,100,3)\n",
      "counts,bins = np.histogram(x3.Age.as_matrix(),bins=bins)\n",
      "print (counts)\n",
      "print (bins)"
     ],
     "language": "python",
     "metadata": {},
     "outputs": [
      {
       "output_type": "stream",
       "stream": "stdout",
       "text": [
        "BY THREES\n",
        "range (18,100,3):\n",
        "[  0  39  44  61  65  93  93 104 122 113  97 101  98  88  68  78  82  50\n",
        "  39  26  16   7   1   3   0   0   0]\n",
        "[18 21 24 27 30 33 36 39 42 45 48 51 54 57 60 63 66 69 72 75 78 81 84 87 90\n",
        " 93 96 99]\n",
        "range (17,100,3):\n",
        "[  0  21  49  51  65  82  92 100 115 122 106  98  94 100  69  73  82  64\n",
        "  39  32  20   8   3   3   0   0   0]\n",
        "[17 20 23 26 29 32 35 38 41 44 47 50 53 56 59 62 65 68 71 74 77 80 83 86 89\n",
        " 92 95 98]\n",
        "range (19,100,3):\n",
        "[ 10  47  46  61  75  84 105 110 109 125  88 108  94  82  64  88  64  49\n",
        "  35  25  10   6   3   0   0   0]\n",
        "[19 22 25 28 31 34 37 40 43 46 49 52 55 58 61 64 67 70 73 76 79 82 85 88 91\n",
        " 94 97]\n"
       ]
      }
     ],
     "prompt_number": 201
    },
    {
     "cell_type": "code",
     "collapsed": false,
     "input": [
      "print \"BY FOURS\"\n",
      "print \"range (18,100,4):\"\n",
      "bins = range (18,100,4)\n",
      "counts,bins = np.histogram(x3.Age.as_matrix(),bins=bins)\n",
      "print counts\n",
      "print bins\n",
      "print \"range (17,100,4):\"\n",
      "bins = range (17,100,4)\n",
      "counts,bins = np.histogram(x3.Age.as_matrix(),bins=bins)\n",
      "print counts\n",
      "print bins\n",
      "print \"range (19,100,4):\"\n",
      "bins = range (19,100,4)\n",
      "counts,bins = np.histogram(x3.Age.as_matrix(),bins=bins)\n",
      "print counts\n",
      "print bins\n",
      "print \"range (16,100,4):\"\n",
      "bins = range (16,100,4)\n",
      "counts,bins = np.histogram(x3.Age.as_matrix(),bins=bins)\n",
      "print counts\n",
      "print bins\n",
      "print \"range (20,100,4):\"\n",
      "bins = range (20,100,4)\n",
      "counts,bins = np.histogram(x3.Age.as_matrix(),bins=bins)\n",
      "print counts\n",
      "print bins"
     ],
     "language": "python",
     "metadata": {},
     "outputs": [
      {
       "output_type": "stream",
       "stream": "stdout",
       "text": [
        "BY FOURS\n",
        "range (18,100,4):\n",
        "[ 18  86 114 139 163 185 194 203 173 166 122 107 107  60  32  18   4   4\n",
        "   1   0]\n",
        "[18 22 26 30 34 38 42 46 50 54 58 62 66 70 74 78 82 86 90 94 98]\n",
        "range (17,100,4):\n",
        "[  0  84  99 130 164 179 214 187 176 171 136 104 108  74  42  15   8   4\n",
        "   1   0]\n",
        "[17 21 25 29 33 37 41 45 49 53 57 61 65 69 73 77 81 85 89 93 97]\n",
        "range (19,100,4):\n",
        "[ 35  97 114 151 172 188 207 175 187 156 107 110  99  52  24  15   3   4\n",
        "   0   0]"
       ]
      },
      {
       "output_type": "stream",
       "stream": "stdout",
       "text": [
        "\n",
        "[19 23 27 31 35 39 43 47 51 55 59 63 67 71 75 79 83 87 91 95 99]\n",
        "range (16,100,4):\n",
        "[  0  58 102 120 162 174 200 194 167 186 145 106 113  85  46  21  11   5\n",
        "   1   0]\n",
        "[16 20 24 28 32 36 40 44 48 52 56 60 64 68 72 76 80 84 88 92 96]\n",
        "range (20,100,4):\n",
        "[ 58 102 120 162 174 200 194 167 186 145 106 113  85  46  21  11   5   1\n",
        "   0]"
       ]
      },
      {
       "output_type": "stream",
       "stream": "stdout",
       "text": [
        "\n",
        "[20 24 28 32 36 40 44 48 52 56 60 64 68 72 76 80 84 88 92 96]\n"
       ]
      }
     ],
     "prompt_number": 106
    },
    {
     "cell_type": "code",
     "collapsed": false,
     "input": [
      "print (\"BY FIVES\")\n",
      "print (\"range (18,100,5):\" )\n",
      "bins = range (18,100,5)\n",
      "counts,bins = np.histogram(x3.Age.as_matrix(),bins=bins)\n",
      "print (counts)\n",
      "print (bins)\n",
      "print (\"range (17,100,5):\")\n",
      "bins = range (17,100,5)\n",
      "counts,bins = np.histogram(x3.Age.as_matrix(),bins=bins)\n",
      "print (counts)\n",
      "print (bins)\n",
      "print (\"range (16,100,5):\")\n",
      "bins = range (16,100,5)\n",
      "counts,bins = np.histogram(x3.Age.as_matrix(),bins=bins)\n",
      "print (counts)\n",
      "print (bins)\n",
      "print (\"range (19,100,5):\")\n",
      "bins = range (19,100,5)\n",
      "counts,bins = np.histogram(x3.Age.as_matrix(),bins=bins)\n",
      "print (counts)\n",
      "print (bins)\n",
      "print (\"range (20,100,5):\") # 80 yrs, 12 classes, 1368 samples\n",
      "bins = range (20,100,5)\n",
      "counts,bins = np.histogram(x3.Age.as_matrix(),bins=bins)\n",
      "print (counts)\n",
      "print (bins)"
     ],
     "language": "python",
     "metadata": {},
     "outputs": [
      {
       "output_type": "stream",
       "stream": "stdout",
       "text": [
        "BY FIVES\n",
        "range (18,100,5):\n",
        "[ 41 135 178 234 269 296 251 250 221 203 155 107  54  13   3   0]\n",
        "[18 23 28 33 38 43 48 53 58 63 68 73 78 83 88 93 98]\n",
        "range (17,100,5):\n",
        "[ 25 123 163 222 259 313 242 250 233 207 167 122  58  20   6   0]\n",
        "[17 22 27 32 37 42 47 52 57 62 67 72 77 82 87 92 97]\n",
        "range (16,100,5):\n",
        "[  4 115 153 224 241 294 270 242 252 193 194 121  74  24   8   1]\n",
        "[16 21 26 31 36 41 46 51 56 61 66 71 76 81 86 91 96]\n",
        "range (19,100,5):\n",
        "[ 67 138 199 231 284 289 244 253 204 207 140 100  41  12   1   0]\n",
        "[19 24 29 34 39 44 49 54 59 64 69 74 79 84 89 94 99]\n",
        "range (20,100,5):\n",
        "[ 95 146 203 246 291 276 243 249 201 191 134  90  34   8   1]\n",
        "[20 25 30 35 40 45 50 55 60 65 70 75 80 85 90 95]\n"
       ]
      }
     ],
     "prompt_number": 214
    },
    {
     "cell_type": "code",
     "collapsed": false,
     "input": [
      "print \"BY SIXES\"\n",
      "print \"range (18,100,6):\"\n",
      "bins = range (18,100,6)\n",
      "counts,bins = np.histogram(x3.Age.as_matrix(),bins=bins)\n",
      "print counts\n",
      "print bins\n",
      "print \"range (19,100,6):\"\n",
      "bins = range (19,100,6)\n",
      "counts,bins = np.histogram(x3.Age.as_matrix(),bins=bins)\n",
      "print counts\n",
      "print bins\n",
      "print \"range (17,100,6):\"\n",
      "bins = range (17,100,6)\n",
      "counts,bins = np.histogram(x3.Age.as_matrix(),bins=bins)\n",
      "print counts\n",
      "print bins\n",
      "print \"range (16,100,6):\"\n",
      "bins = range (16,100,6)\n",
      "counts,bins = np.histogram(x3.Age.as_matrix(),bins=bins)\n",
      "print counts\n",
      "print bins\n",
      "print \"range (15,100,6):\" \n",
      "bins = range (15,100,6)\n",
      "counts,bins = np.histogram(x3.Age.as_matrix(),bins=bins)\n",
      "print counts\n",
      "print bins"
     ],
     "language": "python",
     "metadata": {},
     "outputs": [
      {
       "output_type": "stream",
       "stream": "stdout",
       "text": [
        "BY SIXES\n",
        "range (18,100,6):\n",
        "[ 58 160 224 263 305 265 233 162 142  57  21   5   1]\n",
        "[18 24 30 36 42 48 54 60 66 72 78 84 90 96]\n",
        "range (19,100,6):\n",
        "[ 84 162 231 280 300 269 214 159 127  48  17   5   0]"
       ]
      },
      {
       "output_type": "stream",
       "stream": "stdout",
       "text": [
        "\n",
        "[19 25 31 37 43 49 55 61 67 73 79 85 91 97]\n",
        "range (17,100,6):\n",
        "[ 35 148 214 259 308 269 249 162 154  70  21   6   1]\n",
        "[17 23 29 35 41 47 53 59 65 71 77 83 89 95]\n",
        "range (16,100,6):\n",
        "[ 18 142 197 259 283 278 264 173 163  81  29   8   1]"
       ]
      },
      {
       "output_type": "stream",
       "stream": "stdout",
       "text": [
        "\n",
        "[16 22 28 34 40 46 52 58 64 70 76 82 88 94]\n",
        "range (15,100,6):\n",
        "[  0 132 181 256 301 269 265 185 163  98  33   9   4   0]\n",
        "[15 21 27 33 39 45 51 57 63 69 75 81 87 93 99]\n"
       ]
      }
     ],
     "prompt_number": 108
    },
    {
     "cell_type": "heading",
     "level": 1,
     "metadata": {},
     "source": [
      "Binning Data With Views"
     ]
    },
    {
     "cell_type": "code",
     "collapsed": false,
     "input": [
      "views=[]\n",
      "index=0\n",
      "for i in range (0,len(counts)):\n",
      "    views.append ([counts[i],index,index+counts[i]])\n",
      "    index = index+counts[i]\n",
      "    \n",
      "views.pop()\n",
      "print views"
     ],
     "language": "python",
     "metadata": {},
     "outputs": [
      {
       "output_type": "stream",
       "stream": "stdout",
       "text": [
        "[[0, 0, 0], [132, 0, 132], [181, 132, 313], [256, 313, 569], [301, 569, 870], [269, 870, 1139], [265, 1139, 1404], [185, 1404, 1589], [163, 1589, 1752], [98, 1752, 1850], [33, 1850, 1883], [9, 1883, 1892], [4, 1892, 1896]]\n"
       ]
      }
     ],
     "prompt_number": 109
    },
    {
     "cell_type": "code",
     "collapsed": false,
     "input": [
      "def bin_data(start, end, size, data_matrix, age_col):\n",
      "    bins = range (start, end, size)\n",
      "    counts,bins = np.histogram(age_col,bins=bins)\n",
      "    views=[]\n",
      "    index=0\n",
      "    for i in range (0,len(counts)):\n",
      "        views.append (data_matrix[index : index+counts[i],:])\n",
      "        index = index+counts[i]\n",
      "    views.pop()\n",
      "    return (views)\n",
      "y = x.as_matrix()\n",
      "age = x.Age.as_matrix()\n",
      "view_list = bin_data(13,85,5,y,age)\n",
      "view_list[3]\n",
      "#checked data to spreadsheet and everything matches still"
     ],
     "language": "python",
     "metadata": {},
     "outputs": [
      {
       "metadata": {},
       "output_type": "pyout",
       "prompt_number": 110,
       "text": [
        "array([[  2.14000000e+03,   2.13700000e+03,   2.13800000e+03, ...,\n",
        "          9.00000000e+00,   5.00000000e+00,   2.60000000e+01],\n",
        "       [  3.42300000e+03,   8.76200000e+03,   3.41800000e+03, ...,\n",
        "          1.30000000e+01,   6.00000000e+00,   2.70000000e+01],\n",
        "       [  4.58200000e+03,   4.57900000e+03,   4.58100000e+03, ...,\n",
        "          1.10000000e+01,   5.00000000e+00,   1.90000000e+01],\n",
        "       ..., \n",
        "       [  7.71200000e+03,   4.80500000e+03,   4.80600000e+03, ...,\n",
        "          1.30000000e+01,   5.00000000e+00,   3.00000000e+01],\n",
        "       [  1.88130000e+04,   1.88160000e+04,   1.88150000e+04, ...,\n",
        "          1.10000000e+01,   5.00000000e+00,   3.10000000e+01],\n",
        "       [  3.48420000e+04,   2.79190000e+04,   3.48410000e+04, ...,\n",
        "          1.10000000e+01,   1.40000000e+01,   1.50000000e+01]])"
       ]
      }
     ],
     "prompt_number": 110
    },
    {
     "cell_type": "heading",
     "level": 1,
     "metadata": {},
     "source": [
      "Splitting Train and Test For Each View"
     ]
    },
    {
     "cell_type": "code",
     "collapsed": false,
     "input": [
      "def train_test(train_amount, test_amount, views):\n",
      "    cut_data = []\n",
      "    for view in views:\n",
      "        random = np.random.permutation(view)\n",
      "        cut_data.append(random[:train_amount+test_amount,:])\n",
      "    from sklearn.cross_validation import train_test_split\n",
      "    train = []\n",
      "    test = []\n",
      "    for item in cut_data:\n",
      "        train_unit, test_unit = train_test_split(item, test_size=22) #test is fixed but train varies\n",
      "        train.append([train_unit])\n",
      "        test.append([test_unit])\n",
      "    train_data = np.vstack(train)\n",
      "    test_data = np.vstack(test)\n",
      "    return (train_data,test_data)\n",
      "    "
     ],
     "language": "python",
     "metadata": {},
     "outputs": [],
     "prompt_number": 111
    },
    {
     "cell_type": "code",
     "collapsed": false,
     "input": [
      "# Better Function\n",
      "def b(train_amount, test_amount, views):\n",
      "    train = []\n",
      "    test = []\n",
      "    for view in views:\n",
      "        random = np.random.permutation(view)\n",
      "        train.append(random[:train_amount, :])\n",
      "        test.append(random[train_amount:train_amount+test_amount, :])\n",
      "    return (train, test) "
     ],
     "language": "python",
     "metadata": {},
     "outputs": [],
     "prompt_number": 112
    },
    {
     "cell_type": "heading",
     "level": 1,
     "metadata": {},
     "source": [
      "Checking Data with Original Source"
     ]
    },
    {
     "cell_type": "code",
     "collapsed": false,
     "input": [
      "# Class contains variables and attributes of data\n",
      "class SardiNIA (object):\n",
      "    def __init__ (self):\n",
      "        # wave is an integer\n",
      "        self.wave = None\n",
      "        self.visit = []\n",
      "        self.data_matrix = []\n",
      "        self.data_class_views = []\n",
      "        self.class_vals = []\n",
      "        self.col_names = []\n",
      "        self.occupation = []\n",
      "        self.education = []\n",
      "        self.marital_status = []\n",
      "        \n",
      "        self.ages = []\n",
      "        self.id_sir = []\n",
      "        self.id_mad = []\n",
      "        self.id_ind = []\n",
      "        self.pwv_dates = []\n",
      "        self.visit_dates = []\n",
      "        self.neo_dates = []\n",
      "        \n",
      "        self.data_matrix_age = []\n",
      "        self.col_names_age = []\n",
      "        self.data_class_views_age = []\n",
      "        self.class_vals_age = []\n",
      "        self.train_classed = []\n",
      "        self.test_classed = []\n",
      "        self.train = []\n",
      "        self.test = []\n",
      "        self.train_data = []\n",
      "        self.train_labels = []\n",
      "        self.test_data = []\n",
      "        self.test_labels = []\n",
      "        self.train_classed2 = []\n",
      "        self.test_classed2 = []\n",
      "        self.train_classed_data = []\n",
      "        self.train_classed_labels = []\n",
      "        self.test_classed_data = []\n",
      "        self.test_classed_labels = []\n",
      "        self.train_view_data = []\n",
      "        self.train_view_labels = []\n",
      "        self.test_view_data = []\n",
      "        self.test_view_labels = []"
     ],
     "language": "python",
     "metadata": {},
     "outputs": [],
     "prompt_number": 113
    },
    {
     "cell_type": "code",
     "collapsed": false,
     "input": [
      "def read_data(file_name):\n",
      "    x = pd.read_csv(file_name, na_values=[])\n",
      "    x = x.dropna(axis=1, how='all')\n",
      "    x = x.dropna(how='all')\n",
      "    x = x.dropna(axis=1, thresh=2500)\n",
      "    x = x.dropna(thresh=50)\n",
      "    x = x.dropna(axis=1, thresh=5000)\n",
      "    x = x.dropna(thresh=120)\n",
      "    x = x.dropna(axis=1, thresh=5500)\n",
      "    x = x.dropna(how='any')\n",
      "    return x"
     ],
     "language": "python",
     "metadata": {},
     "outputs": [],
     "prompt_number": 114
    },
    {
     "cell_type": "code",
     "collapsed": false,
     "input": [
      "def clean_convert(df):\n",
      "    df = df.drop('Age',1)\n",
      "    df = df.drop('id_sir',1)\n",
      "    df = df.drop('id_mad',1)\n",
      "    df = df.drop('id_individual',1)\n",
      "    df = df.drop('pwvDate',1)\n",
      "    df = df.drop('FirstVisitDate',1)\n",
      "    df = df.as_matrix()\n",
      "    return df"
     ],
     "language": "python",
     "metadata": {},
     "outputs": [],
     "prompt_number": 115
    },
    {
     "cell_type": "code",
     "collapsed": false,
     "input": [
      "def bin_data(start, end, size, data_matrix, age_col):\n",
      "    bins = range (start, end+size, size)\n",
      "    counts,bins = np.histogram(age_col,bins=bins)\n",
      "    views=[]\n",
      "    index=0\n",
      "    for i in range (0,len(counts)):\n",
      "        views.append (data_matrix[index : index+counts[i],:])\n",
      "        index = index+counts[i]\n",
      "    views.pop()\n",
      "    # initialize the class_values array (center of each bin)\n",
      "    class_vals = [x+(size/2.0) for x in range(start, end, size)]\n",
      "    class_vals.pop()\n",
      "    return (views, class_vals)"
     ],
     "language": "python",
     "metadata": {},
     "outputs": [],
     "prompt_number": 116
    },
    {
     "cell_type": "code",
     "collapsed": false,
     "input": [
      "def init_SardiNIA(filename, bin_st, bin_end, bin_size):\n",
      "    df = read_data (filename)\n",
      "    sd = SardiNIA()\n",
      "    sd.col_names =  df.columns.values\n",
      "    sd.ages = df.Age.values\n",
      "    sd.data_matrix = clean_convert(df)\n",
      "    # store rest of the \"interesting\" columns\n",
      "    # get rid of extra columns in data_matrix\n",
      "    sd.data_class_views, sd.class_vals = bin_data (bin_st, bin_end, bin_size, sd.data_matrix, sd.ages)\n",
      "    sd.id_sir = df.id_sir.as_matrix()\n",
      "    sd.id_mad = df.id_mad.as_matrix()\n",
      "    sd.id_ind = df.id_individual.as_matrix()\n",
      "    sd.pwv_dates = df.pwvDate.as_matrix()\n",
      "    sd.visit_dates = df.FirstVisitDate.as_matrix()\n",
      "    return (sd)"
     ],
     "language": "python",
     "metadata": {},
     "outputs": [],
     "prompt_number": 117
    },
    {
     "cell_type": "code",
     "collapsed": false,
     "input": [
      "def init_SardiNIA_1():\n",
      "    sd = init_SardiNIA('newWave1.csv', 13, 79, 5)\n",
      "    return (sd)"
     ],
     "language": "python",
     "metadata": {},
     "outputs": [],
     "prompt_number": 118
    },
    {
     "cell_type": "code",
     "collapsed": false,
     "input": [
      "sd = init_SardiNIA_1()"
     ],
     "language": "python",
     "metadata": {},
     "outputs": [],
     "prompt_number": 119
    },
    {
     "cell_type": "code",
     "collapsed": false,
     "input": [],
     "language": "python",
     "metadata": {},
     "outputs": [],
     "prompt_number": 119
    },
    {
     "cell_type": "code",
     "collapsed": false,
     "input": [
      "print sd.col_names\n",
      "#matches source data"
     ],
     "language": "python",
     "metadata": {},
     "outputs": [
      {
       "output_type": "stream",
       "stream": "stdout",
       "text": [
        "['id_individual' 'id_sir' 'id_mad' 'Wave' 'Visit' 'Age' 'Sex' 'Education'\n",
        " 'Occupation' 'MaritalStatus' 'SardinianOrigin' 'FirstVisitDate' 'labsRBC'\n",
        " 'labsHB' 'labsMCV' 'labsMCH' 'labsWBC' 'labsPercNE' 'labsPercLY'\n",
        " 'labsPercMO' 'labsPercEO' 'labsPercBA' 'labsPLT' 'labsHBF' 'labsHBA2'\n",
        " 'labsG6PD' 'labsGlicemia' 'labsInsulinemia' 'labsAzotemia' 'labsALT'\n",
        " 'labsAST' 'labsGammaGT' 'labsFibrinogeno' 'labsSideremia'\n",
        " 'labsTransferrina' 'labsBilirubinad' 'labsBilirubinat' 'labsAcidourico'\n",
        " 'labsSodiemia' 'labsPotassiemia' 'labsVES' 'labsPCR' 'labsTSH' 'labsFt4'\n",
        " 'assayAdip' 'assayhsCRP' 'assayLeptin' 'assayMCP1' 'assayIL6' 'labsMCHC'\n",
        " 'labsHtc' 'labsMO_COUNT' 'labsEO_COUNT' 'labsBA_COUNT' 'labsLY_COUNT'\n",
        " 'labsNE_COUNT' 'labsCreatinina' 'labsColesterolo' 'labsHDL'\n",
        " 'labsTrigliceridi' 'exmHeight' 'exmWeight' 'exmWaist' 'exmHip' 'exmBMI'\n",
        " 'ecgHR' 'ecgQTC' 'ecgFibrillation' 'ecgRhythm' 'ecgDM' 'ecgP10' 'ecgP3'\n",
        " 'ecgPR' 'ecgSokolow' 'ecgEAS' 'ecgBBD' 'ecgBBS' 'ecgBAV1' 'ecgMobitz1'\n",
        " 'ecgMobitz2' 'ecgBAV3' 'ecgWPW' 'ecgPacemaker' 'ecgDextrocardia'\n",
        " 'exmBPsys_jbs' 'exmBPdia_jbs' 'pwvDate' 'pwvQual' 'pwv' 'rxAspirin1'\n",
        " 'rxHyperTension1' 'rxNitroglycerin' 'rxOtherMeds' 'rxFANS1'\n",
        " 'rxCatAntihipertensive' 'rxCatLipidlowering' 'rxCatAntidiabetic'\n",
        " 'rxCatAspirin' 'rxCatAntiplatelet_anticoagulants' 'rxCatCV_drugs'\n",
        " 'rxCatNitrates' 'rxCatInsulin' 'rxCatSulf_Hypoglicemic' 'rxCatBiguanidi'\n",
        " 'rxCatSulf_biguanidi' 'rxCatAngCEI' 'rxCatCCB' 'rxCatBeta_blockers'\n",
        " 'rxCatDiuretics' 'rxCatAt1_blockers' 'rxCatAlfa_blockers' 'vasPSV'\n",
        " 'vasEDV' 'vasIP' 'vasSDratio' 'vasAT' 'vasvti' 'vasSysDiam' 'vasDiaDiam'\n",
        " 'vasIMT' 'date_neo' 'form' 'n' 'e' 'o' 'a' 'c' 'n1' 'n2' 'n3' 'n4' 'n5'\n",
        " 'n6' 'e1' 'e2' 'e3' 'e4' 'e5' 'e6' 'o1' 'o2' 'o3' 'o4' 'o5' 'o6' 'a1' 'a2'\n",
        " 'a3' 'a4' 'a5' 'a6' 'c1' 'c2' 'c3' 'c4' 'c5' 'c6' 'face' 'pa' 'na' 'swls']\n"
       ]
      }
     ],
     "prompt_number": 120
    },
    {
     "cell_type": "code",
     "collapsed": false,
     "input": [
      "print sd.data_matrix\n",
      "#matches source data"
     ],
     "language": "python",
     "metadata": {},
     "outputs": [
      {
       "output_type": "stream",
       "stream": "stdout",
       "text": [
        "[[1L 1.0 0.0 ..., 9.0 6.0 20.0]\n",
        " [1L 1.0 1.0 ..., 19.0 7.0 32.0]\n",
        " [1L 1.0 0.0 ..., 11.0 11.0 11.0]\n",
        " ..., \n",
        " [1L 1.0 0.0 ..., 9.0 5.0 26.0]\n",
        " [1L 1.0 1.0 ..., 10.0 5.0 28.0]\n",
        " [1L 1.0 1.0 ..., 13.0 5.0 21.0]]\n"
       ]
      }
     ],
     "prompt_number": 121
    },
    {
     "cell_type": "code",
     "collapsed": false,
     "input": [
      "print sd.ages.shape #check\n",
      "print sd.ages #check\n",
      "#matches source data"
     ],
     "language": "python",
     "metadata": {},
     "outputs": [
      {
       "output_type": "stream",
       "stream": "stdout",
       "text": [
        "(4638,)\n",
        "[ 14.   14.   14.  ...,  90.3  93.7  93.9]\n"
       ]
      }
     ],
     "prompt_number": 122
    },
    {
     "cell_type": "code",
     "collapsed": false,
     "input": [
      "print sd.class_vals #check\n",
      "print len(sd.data_class_views) #check\n",
      "print sd.data_class_views #check\n",
      "#matches source data"
     ],
     "language": "python",
     "metadata": {},
     "outputs": [
      {
       "output_type": "stream",
       "stream": "stdout",
       "text": [
        "[15.5, 20.5, 25.5, 30.5, 35.5, 40.5, 45.5, 50.5, 55.5, 60.5, 65.5, 70.5, 75.5]\n",
        "13\n",
        "[array([[1L, 1.0, 0.0, ..., 9.0, 6.0, 20.0],\n",
        "       [1L, 1.0, 1.0, ..., 19.0, 7.0, 32.0],\n",
        "       [1L, 1.0, 0.0, ..., 11.0, 11.0, 11.0],\n",
        "       ..., \n",
        "       [1L, 1.0, 0.0, ..., 10.0, 6.0, 16.0],\n",
        "       [1L, 1.0, 0.0, ..., 12.0, 5.0, 8.0],\n",
        "       [1L, 1.0, 0.0, ..., 11.0, 13.0, 15.0]], dtype=object), array([[1L, 1.0, 0.0, ..., 11.0, 7.0, 26.0],\n",
        "       [1L, 1.0, 0.0, ..., 10.0, 9.0, 32.0],\n",
        "       [1L, 1.0, 0.0, ..., 13.0, 5.0, 23.0],\n",
        "       ..., \n",
        "       [1L, 1.0, 0.0, ..., 23.0, 6.0, 30.0],\n",
        "       [1L, 1.0, 0.0, ..., 10.0, 5.0, 28.0],\n",
        "       [1L, 1.0, 0.0, ..., 7.0, 5.0, 29.0]], dtype=object), array([[1L, 1.0, 0.0, ..., 14.0, 6.0, 21.0],\n",
        "       [1L, 1.0, 1.0, ..., 6.0, 5.0, 23.0],\n",
        "       [1L, 1.0, 1.0, ..., 10.0, 5.0, 19.0],\n",
        "       ..., \n",
        "       [1L, 1.0, 1.0, ..., 14.0, 5.0, 31.0],\n",
        "       [1L, 1.0, 0.0, ..., 10.0, 5.0, 24.0],\n",
        "       [1L, 1.0, 0.0, ..., 11.0, 6.0, 23.0]], dtype=object), array([[1L, 1.0, 1.0, ..., 9.0, 5.0, 26.0],\n",
        "       [1L, 1.0, 0.0, ..., 13.0, 6.0, 27.0],\n",
        "       [1L, 1.0, 0.0, ..., 11.0, 5.0, 19.0],\n",
        "       ..., \n",
        "       [1L, 1.0, 0.0, ..., 13.0, 5.0, 30.0],\n",
        "       [1L, 1.0, 0.0, ..., 11.0, 5.0, 31.0],\n",
        "       [1L, 1.0, 0.0, ..., 11.0, 14.0, 15.0]], dtype=object), array([[1L, 1.0, 0.0, ..., 18.0, 6.0, 27.0],\n",
        "       [1L, 1.0, 1.0, ..., 13.0, 5.0, 16.0],\n",
        "       [1L, 1.0, 1.0, ..., 10.0, 5.0, 23.0],\n",
        "       ..., \n",
        "       [1L, 1.0, 1.0, ..., 12.0, 5.0, 18.0],\n",
        "       [1L, 1.0, 1.0, ..., 14.0, 5.0, 10.0],\n",
        "       [1L, 1.0, 1.0, ..., 11.0, 5.0, 29.0]], dtype=object), array([[1L, 1.0, 1.0, ..., 14.0, 5.0, 30.0],\n",
        "       [1L, 1.0, 1.0, ..., 12.0, 7.0, 24.0],\n",
        "       [1L, 1.0, 1.0, ..., 8.0, 10.0, 10.0],\n",
        "       ..., \n",
        "       [1L, 1.0, 0.0, ..., 17.0, 5.0, 33.0],\n",
        "       [1L, 1.0, 0.0, ..., 15.0, 8.0, 26.0],\n",
        "       [1L, 1.0, 0.0, ..., 15.0, 5.0, 32.0]], dtype=object), array([[1L, 1.0, 0.0, ..., 17.0, 19.0, 10.0],\n",
        "       [1L, 1.0, 1.0, ..., 12.0, 5.0, 26.0],\n",
        "       [1L, 1.0, 0.0, ..., 13.0, 5.0, 14.0],\n",
        "       ..., \n",
        "       [1L, 1.0, 1.0, ..., 21.0, 5.0, 31.0],\n",
        "       [1L, 1.0, 0.0, ..., 9.0, 5.0, 24.0],\n",
        "       [1L, 1.0, 0.0, ..., 14.0, 5.0, 19.0]], dtype=object), array([[1L, 1.0, 0.0, ..., 9.0, 5.0, 29.0],\n",
        "       [1L, 1.0, 0.0, ..., 9.0, 11.0, 12.0],\n",
        "       [1L, 1.0, 1.0, ..., 9.0, 5.0, 23.0],\n",
        "       ..., \n",
        "       [1L, 1.0, 0.0, ..., 13.0, 5.0, 24.0],\n",
        "       [1L, 1.0, 1.0, ..., 8.0, 7.0, 14.0],\n",
        "       [1L, 1.0, 1.0, ..., 9.0, 5.0, 27.0]], dtype=object), array([[1L, 1.0, 0.0, ..., 9.0, 5.0, 19.0],\n",
        "       [1L, 1.0, 1.0, ..., 10.0, 5.0, 16.0],\n",
        "       [1L, 1.0, 1.0, ..., 12.0, 5.0, 29.0],\n",
        "       ..., \n",
        "       [1L, 1.0, 0.0, ..., 9.0, 9.0, 23.0],\n",
        "       [1L, 1.0, 1.0, ..., 14.0, 5.0, 30.0],\n",
        "       [1L, 1.0, 1.0, ..., 15.0, 5.0, 30.0]], dtype=object), array([[1L, 1.0, 1.0, ..., 6.0, 5.0, 28.0],\n",
        "       [1L, 1.0, 0.0, ..., 15.0, 9.0, 31.0],\n",
        "       [1L, 1.0, 1.0, ..., 8.0, 9.0, 30.0],\n",
        "       ..., \n",
        "       [1L, 1.0, 1.0, ..., 7.0, 5.0, 33.0],\n",
        "       [1L, 1.0, 0.0, ..., 16.0, 5.0, 15.0],\n",
        "       [1L, 1.0, 0.0, ..., 21.0, 5.0, 24.0]], dtype=object), array([[1L, 1.0, 0.0, ..., 6.0, 15.0, 9.0],\n",
        "       [1L, 1.0, 1.0, ..., 18.0, 5.0, 32.0],\n",
        "       [1L, 1.0, 0.0, ..., 17.0, 8.0, 20.0],\n",
        "       ..., \n",
        "       [1L, 1.0, 0.0, ..., 11.0, 7.0, 28.0],\n",
        "       [1L, 1.0, 0.0, ..., 6.0, 7.0, 14.0],\n",
        "       [1L, 1.0, 1.0, ..., 12.0, 6.0, 14.0]], dtype=object), array([[1L, 1.0, 1.0, ..., 6.0, 5.0, 24.0],\n",
        "       [1L, 1.0, 1.0, ..., 11.25, 5.0, 27.0],\n",
        "       [1L, 1.0, 1.0, ..., 5.0, 5.0, 27.0],\n",
        "       ..., \n",
        "       [1L, 1.0, 1.0, ..., 12.0, 6.0, 28.0],\n",
        "       [1L, 1.0, 1.0, ..., 13.0, 9.0, 29.0],\n",
        "       [1L, 1.0, 0.0, ..., 6.0, 8.0, 11.0]], dtype=object), array([[1L, 1.0, 0.0, ..., 8.0, 5.0, 15.0],\n",
        "       [1L, 1.0, 0.0, ..., 15.0, 19.0, 12.0],\n",
        "       [1L, 1.0, 1.0, ..., 12.0, 6.0, 27.0],\n",
        "       ..., \n",
        "       [1L, 1.0, 0.0, ..., 6.0, 5.0, 15.0],\n",
        "       [1L, 1.0, 1.0, ..., 19.0, 15.0, 34.0],\n",
        "       [1L, 1.0, 0.0, ..., 11.0, 6.0, 18.0]], dtype=object)]"
       ]
      },
      {
       "output_type": "stream",
       "stream": "stdout",
       "text": [
        "\n"
       ]
      }
     ],
     "prompt_number": 123
    },
    {
     "cell_type": "code",
     "collapsed": false,
     "input": [
      "print sd.id_mad #check\n",
      "print sd.id_ind #check\n",
      "#matches source data"
     ],
     "language": "python",
     "metadata": {},
     "outputs": [
      {
       "output_type": "stream",
       "stream": "stdout",
       "text": [
        "[   311.   2068.   2541. ...,  19651.  14619.  10781.]\n",
        "[  313  2069  2542 ...,  9554 12467 33961]\n"
       ]
      }
     ],
     "prompt_number": 124
    },
    {
     "cell_type": "code",
     "collapsed": false,
     "input": [
      "print sd.visit_dates #check\n",
      "print sd.pwv_dates #check\n",
      "#matches source data"
     ],
     "language": "python",
     "metadata": {},
     "outputs": [
      {
       "output_type": "stream",
       "stream": "stdout",
       "text": [
        "['4/30/2003' '10/8/2002' '10/16/2003' ..., '6/4/2002' '2/8/2002'\n",
        " '9/17/2003']\n",
        "['4/30/2003' '10/8/2002' '10/16/2003' ..., '6/4/2002' '2/8/2002'\n",
        " '9/17/2003']\n"
       ]
      }
     ],
     "prompt_number": 125
    },
    {
     "cell_type": "heading",
     "level": 1,
     "metadata": {},
     "source": [
      "Workflow"
     ]
    },
    {
     "cell_type": "code",
     "collapsed": false,
     "input": [
      "x = read_data('newWave1.csv')\n",
      "data_matrix, age_col, col_names = convert_numpy(x)\n",
      "views = bin_data(13,85,5,data_matrix,age_col)\n",
      "new_views = add_bin_col(views)\n",
      "train_data, test_data = train_test(90,22,new_views)\n",
      "train_data, train_labels, test_data, test_labels = split_data(train_data, test_data)\n",
      "train_data, train_labels, test_data, test_labels = split_data(train_data, test_data)\n",
      "score  = lasso_regression(train_data, train_labels, test_data, test_labels )\n",
      "print score"
     ],
     "language": "python",
     "metadata": {},
     "outputs": []
    },
    {
     "cell_type": "heading",
     "level": 1,
     "metadata": {},
     "source": [
      "Graphs"
     ]
    },
    {
     "cell_type": "code",
     "collapsed": false,
     "input": [
      "#GRAPH OF BINS\n",
      "graph = plt.hist(x.Age, bins=(13,18,23,28,33,38,43,48,53,58,63,68,73,78,83,88,93))\n",
      "plt.show()"
     ],
     "language": "python",
     "metadata": {},
     "outputs": []
    },
    {
     "cell_type": "code",
     "collapsed": false,
     "input": [
      "# FISHER SCORE GRAPH\n",
      "# I SHOULD GRAPH ALL FEATURE SELECTION SCORES TOGETHER\n",
      "\n",
      "import numpy as np\n",
      "import matplotlib.pyplot as plt\n",
      "\n",
      "y = fw.fisher_values\n",
      "\n",
      "\n",
      "ind = np.arange(len(sd.col_names))  # the x locations for the groups\n",
      "width = 0.35       # the width of the bars\n",
      "\n",
      "fig, ax = plt.subplots()\n",
      "rects1 = ax.bar(ind, y, width, color='r')\n",
      "\n",
      "\n",
      "# add some\n",
      "ax.set_ylabel('Fisher Scores')\n",
      "ax.set_xlabel('Feature Index')\n",
      "ax.set_title('Fisher Scores By Feature')\n",
      "\n",
      "plt.show()"
     ],
     "language": "python",
     "metadata": {},
     "outputs": []
    },
    {
     "cell_type": "code",
     "collapsed": false,
     "input": [
      "#PEARSON GRAPH\n",
      "import numpy as np\n",
      "import matplotlib.pyplot as plt\n",
      "\n",
      "y = pw.values\n",
      "\n",
      "\n",
      "ind = np.arange(len(sd.col_names))  # the x locations for the groups\n",
      "width = 0.35       # the width of the bars\n",
      "\n",
      "fig, ax = plt.subplots()\n",
      "rects1 = ax.bar(ind, y, width, color='r')\n",
      "\n",
      "\n",
      "# add some\n",
      "ax.set_ylabel('Pearson Scores')\n",
      "ax.set_xlabel('Feature Index')\n",
      "ax.set_title('Pearson Scores By Feature')\n",
      "\n",
      "plt.show()"
     ],
     "language": "python",
     "metadata": {},
     "outputs": [
      {
       "metadata": {},
       "output_type": "display_data",
       "png": "[encoded data removed]",
       "text": [
        "<matplotlib.figure.Figure at 0x7f9ce8165518>"
       ]
      }
     ],
     "prompt_number": 103
    }
   ],
   "metadata": {}
  }
 ]
}