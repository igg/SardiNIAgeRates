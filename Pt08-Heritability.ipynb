{
 "metadata": {
  "name": "",
  "signature": "sha256:74629d1003365dd9591cbbfc90d924b7da488cf66655a88f530cf622db924208"
 },
 "nbformat": 3,
 "nbformat_minor": 0,
 "worksheets": [
  {
   "cells": [
    {
     "cell_type": "code",
     "collapsed": false,
     "input": [
      "%run 'Functions.ipynb'"
     ],
     "language": "python",
     "metadata": {},
     "outputs": [],
     "prompt_number": 4
    },
    {
     "cell_type": "code",
     "collapsed": false,
     "input": [
      "def Dict_to_CSV (age_score_dict_filename, csv_filename):\n",
      "    with open(age_score_dict_filename, 'rb') as f:\n",
      "        aging_dict = pickle.load(f)\n",
      "    id_wave_rate = []\n",
      "    for ind_id in aging_dict:\n",
      "        # *** USE FOR ALL 3 WAVES *** : if len(aging_dict[ind_id]) == 3:\n",
      "        if 'wave_1' in aging_dict[ind_id] and 'wave_2' in aging_dict[ind_id]:\n",
      "            if len(aging_dict[ind_id]['wave_1']['P'])>4 and len(aging_dict[ind_id]['wave_2']['P'])>4:\n",
      "                w1_aging_rate = Calculate_Aging_Rate(np.mean(aging_dict[ind_id]['wave_1']['P']), aging_dict[ind_id]['wave_1']['A'])\n",
      "                w2_aging_rate = Calculate_Aging_Rate(np.mean(aging_dict[ind_id]['wave_2']['P']), aging_dict[ind_id]['wave_2']['A'])\n",
      "                id_wave_rate.append([ind_id, 1, w1_aging_rate])\n",
      "                id_wave_rate.append([ind_id, 2, w2_aging_rate])\n",
      "    new_csv = np.vstack(id_wave_rate)\n",
      "    np.savetxt(csv_filename+'.csv', new_csv, delimiter = ',')\n"
     ],
     "language": "python",
     "metadata": {},
     "outputs": [],
     "prompt_number": 2
    },
    {
     "cell_type": "code",
     "collapsed": false,
     "input": [
      "Dict_to_CSV('RFC_aging_scores', 'RFC_w1_w2_aging_rates')"
     ],
     "language": "python",
     "metadata": {},
     "outputs": [],
     "prompt_number": 4
    },
    {
     "cell_type": "code",
     "collapsed": false,
     "input": [
      "Dict_to_CSV('kNr_aging_scores', 'RFC_w1_w2_aging_rates')"
     ],
     "language": "python",
     "metadata": {},
     "outputs": []
    },
    {
     "cell_type": "code",
     "collapsed": false,
     "input": [
      "Dict_to_CSV('new_kneighreg_aging_scores', '/home/suned/Graphs/KNeighReg_W1_W2_ARs')"
     ],
     "language": "python",
     "metadata": {},
     "outputs": [],
     "prompt_number": 5
    },
    {
     "cell_type": "code",
     "collapsed": false,
     "input": [
      "Dict_to_CSV('new_randforclf_aging_scores', '/home/suned/Graphs/RandForClf_W1_W2_ARs')"
     ],
     "language": "python",
     "metadata": {},
     "outputs": [],
     "prompt_number": 6
    },
    {
     "cell_type": "code",
     "collapsed": false,
     "input": [],
     "language": "python",
     "metadata": {},
     "outputs": []
    }
   ],
   "metadata": {}
  }
 ]
}