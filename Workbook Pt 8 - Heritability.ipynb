{
 "metadata": {
  "name": "",
  "signature": "sha256:6bd668c63542567e49e888e977c9dee08db4cc553f453f31279b47a194d81a82"
 },
 "nbformat": 3,
 "nbformat_minor": 0,
 "worksheets": [
  {
   "cells": [
    {
     "cell_type": "code",
     "collapsed": false,
     "input": [
      "%run 'Functions.ipynb'"
     ],
     "language": "python",
     "metadata": {},
     "outputs": [],
     "prompt_number": 4
    },
    {
     "cell_type": "code",
     "collapsed": false,
     "input": [
      "raw_data = read_data ('newWave1.csv')\n",
      "ages = raw_data.Age.values\n",
      "data_matrix, col_names, age_col_idx, id_col_idx = clean_convert(raw_data)\n",
      "data_class_views, class_vals = bin_data (13, 79, 5, data_matrix, ages)"
     ],
     "language": "python",
     "metadata": {},
     "outputs": [],
     "prompt_number": 2
    },
    {
     "cell_type": "code",
     "collapsed": false,
     "input": [
      "Dict_to_CSV('RFC_aging_scores', 'RFC_w1_w2_aging_rates')"
     ],
     "language": "python",
     "metadata": {},
     "outputs": [],
     "prompt_number": 4
    },
    {
     "cell_type": "code",
     "collapsed": false,
     "input": [
      "Dict_to_CSV('kNr_aging_scores', 'RFC_w1_w2_aging_rates')"
     ],
     "language": "python",
     "metadata": {},
     "outputs": []
    },
    {
     "cell_type": "code",
     "collapsed": false,
     "input": [
      "Dict_to_CSV('new_kneighreg_aging_scores', '/home/suned/Graphs/KNeighReg_W1_W2_ARs')"
     ],
     "language": "python",
     "metadata": {},
     "outputs": [],
     "prompt_number": 5
    },
    {
     "cell_type": "code",
     "collapsed": false,
     "input": [
      "Dict_to_CSV('new_randforclf_aging_scores', '/home/suned/Graphs/RandForClf_W1_W2_ARs')"
     ],
     "language": "python",
     "metadata": {},
     "outputs": [],
     "prompt_number": 6
    },
    {
     "cell_type": "code",
     "collapsed": false,
     "input": [],
     "language": "python",
     "metadata": {},
     "outputs": []
    }
   ],
   "metadata": {}
  }
 ]
}