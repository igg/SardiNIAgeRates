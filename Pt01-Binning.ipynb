{
 "metadata": {
  "name": "",
  "signature": "sha256:ff55e289b4890b8b90479ac133da328fdb3c62a4d81ac59b7f0ad438e8e57354"
 },
 "nbformat": 3,
 "nbformat_minor": 0,
 "worksheets": [
  {
   "cells": [
    {
     "cell_type": "markdown",
     "metadata": {},
     "source": [
      "This notebook contains experiments on finding the optimal bin (age group) size and age range (youngest to oldest to include) with the Wave 1 data. It also contains the experiments to find the best cleaning functions for each wave. Much of the information gained from these experiments were applied (with some changes) to Wave 2 and Wave 3 data because of their similarities."
     ]
    },
    {
     "cell_type": "code",
     "collapsed": false,
     "input": [
      "# Some utility functions\n",
      "%run 'Functions.ipynb'\n",
      "def try_bins (col,start,stop,width):\n",
      "    print (\"range ({},{},{}):\".format(start,stop,width))\n",
      "    bins = range (start,stop,width)\n",
      "    counts,bins = np.histogram(col,bins=bins)\n",
      "    count_str = \"\"\n",
      "    bins_str = \"\"\n",
      "    for i in range(len(counts)):\n",
      "        count_str += \"{:4d}\".format(counts[i])\n",
      "        bins_str  += \"{:4d}\".format(bins[i])\n",
      "    print (bins_str)\n",
      "    print (count_str)\n",
      "    print ()\n"
     ],
     "language": "python",
     "metadata": {},
     "outputs": [],
     "prompt_number": 2
    },
    {
     "cell_type": "markdown",
     "metadata": {},
     "source": [
      "#Binning Data in the `2013-12-18-Sardinia-CleanUp-Data` distribution"
     ]
    },
    {
     "cell_type": "markdown",
     "metadata": {},
     "source": [
      "### Wave 1 binning"
     ]
    },
    {
     "cell_type": "code",
     "collapsed": false,
     "input": [
      "# 5-year classes, using the original read_data function\n",
      "# See notes in the Functions notebook for read_data_v3 \n",
      "%run 'Functions.ipynb'\n",
      "wavenum = 1\n",
      "Config.set_data_dist_base ('2013-12-18')\n",
      "Config.wave_info(wavenum).read_func = lambda : WaveInfo.read_data_v1 (wavenum, 'features')\n",
      "wd = Config.wave_data(wavenum)\n",
      "age_col = wd.data_matrix[:,wd.age_col_idx]\n",
      "try_bins (age_col,10,100,5)\n",
      "try_bins (age_col,11,100,5)\n",
      "try_bins (age_col,12,100,5)\n",
      "try_bins (age_col,13,100,5)\n",
      "try_bins (age_col,14,100,5)\n"
     ],
     "language": "python",
     "metadata": {},
     "outputs": [
      {
       "output_type": "stream",
       "stream": "stdout",
       "text": [
        "Setting Config.data_dist_base to \"2013-12-18-Sardinia-CleanUp-Data\"\n",
        "reading data from  data/2013-12-18-Sardinia-CleanUp-Data/2013-12-18-Sardinia-CleanUp-Data-Wave1.tsv\n"
       ]
      },
      {
       "output_type": "stream",
       "stream": "stdout",
       "text": [
        "range (10,100,5):\n",
        "  10  15  20  25  30  35  40  45  50  55  60  65  70  75  80  85  90\n",
        " 111 341 377 500 481 539 473 436 385 336 291 258 179  73  25   9   3\n",
        "\n",
        "range (11,100,5):\n",
        "  11  16  21  26  31  36  41  46  51  56  61  66  71  76  81  86  91\n",
        " 181 339 417 497 491 516 464 437 360 353 276 239 158  59  20   8   2\n",
        "\n",
        "range (12,100,5):\n",
        "  12  17  22  27  32  37  42  47  52  57  62  67  72  77  82  87  92\n",
        " 252 336 454 491 508 498 464 413 345 354 267 228 133  52  15   5   2\n",
        "\n",
        "range (13,100,5):\n",
        "  13  18  23  28  33  38  43  48  53  58  63  68  73  78  83  88  93\n",
        " 314 352 469 486 527 485 458 410 337 330 273 202 113  44  13   2   2\n",
        "\n",
        "range (14,100,5):\n",
        "  14  19  24  29  34  39  44  49  54  59  64  69  74  79  84  89  94\n",
        " 379 366 494 467 533 490 449 396 343 310 255 189  94  36  12   4   0\n",
        "\n"
       ]
      }
     ],
     "prompt_number": 28
    },
    {
     "cell_type": "code",
     "collapsed": false,
     "input": [
      "# Testing new Config settings\n",
      "%run 'Functions.ipynb'\n",
      "Config.set_data_dist_base ('2013-12-18')\n",
      "wavenum = 1\n",
      "wi = Config.wave_info(wavenum)\n",
      "\n",
      "wi.filename_base  = \"sard_w1_split_120tr_13te\"\n",
      "wi.num_train      =  120\n",
      "wi.num_test       =  13\n",
      "wi.age_start      =  12\n",
      "wi.age_end        =  77\n",
      "wi.bin_years      =   5\n",
      "wi.read_func      = lambda: WaveInfo.read_data_v1 (1, 'features')\n",
      "\n",
      "\n",
      "wd = Config.wave_data(wavenum)\n",
      "print (wd)"
     ],
     "language": "python",
     "metadata": {},
     "outputs": [
      {
       "output_type": "stream",
       "stream": "stdout",
       "text": [
        "Setting Config.data_dist_base to \"2013-12-18-Sardinia-CleanUp-Data\"\n",
        "reading data from  data/2013-12-18-Sardinia-CleanUp-Data/2013-12-18-Sardinia-CleanUp-Data-Wave1.tsv\n"
       ]
      },
      {
       "output_type": "stream",
       "stream": "stdout",
       "text": [
        "4817 samples, 150 features, 13 classes\n",
        "  14.5  19.5  24.5  29.5  34.5  39.5  44.5  49.5  54.5  59.5  64.5  69.5  74.5\n",
        " 252   336   454   491   508   498   464   413   345   354   267   228   133  \n",
        "\n"
       ]
      }
     ],
     "prompt_number": 31
    },
    {
     "cell_type": "markdown",
     "metadata": {},
     "source": [
      "### Wave 2 binning"
     ]
    },
    {
     "cell_type": "code",
     "collapsed": false,
     "input": [
      "# 5-year classes, using the original read_data function\n",
      "# See notes in the Functions notebook for read_data_v3 \n",
      "%run 'Functions.ipynb'\n",
      "wavenum = 2\n",
      "Config.set_data_dist_base ('2013-12-18')\n",
      "Config.wave_info(wavenum).read_func = lambda : WaveInfo.read_data_v2 (wavenum)\n",
      "wd = Config.wave_data(wavenum)\n",
      "age_col = wd.data_matrix[:,wd.age_col_idx]\n",
      "try_bins (age_col,10,100,5)\n",
      "try_bins (age_col,11,100,5)\n",
      "try_bins (age_col,12,100,5)\n",
      "try_bins (age_col,13,100,5)\n",
      "try_bins (age_col,14,100,5)\n"
     ],
     "language": "python",
     "metadata": {},
     "outputs": [
      {
       "output_type": "stream",
       "stream": "stdout",
       "text": [
        "Setting Config.data_dist_base to \"2013-12-18-Sardinia-CleanUp-Data\"\n",
        "reading data from  data/2013-12-18-Sardinia-CleanUp-Data/2013-12-18-Sardinia-CleanUp-Data-Wave2.tsv\n"
       ]
      },
      {
       "output_type": "stream",
       "stream": "stdout",
       "text": [
        "range (10,100,5):\n",
        "  10  15  20  25  30  35  40  45  50  55  60  65  70  75  80  85  90\n",
        "   0 164 298 397 443 462 499 455 404 365 344 273 225 135  47  15   0\n",
        "\n",
        "range (11,100,5):\n",
        "  11  16  21  26  31  36  41  46  51  56  61  66  71  76  81  86  91\n",
        "   0 230 293 425 438 492 483 434 418 342 338 270 204 106  42  11   0\n",
        "\n",
        "range (12,100,5):\n",
        "  12  17  22  27  32  37  42  47  52  57  62  67  72  77  82  87  92\n",
        "   0 282 314 442 427 500 481 428 410 349 316 254 189  92  35   7   0\n",
        "\n",
        "range (13,100,5):\n",
        "  13  18  23  28  33  38  43  48  53  58  63  68  73  78  83  88  93\n",
        "   2 346 326 446 443 510 460 432 399 340 292 248 177  76  28   1   0\n",
        "\n",
        "range (14,100,5):\n",
        "  14  19  24  29  34  39  44  49  54  59  64  69  74  79  84  89  94\n",
        " 100 303 376 419 469 504 455 411 388 340 287 234 161  56  22   1   1\n",
        "\n"
       ]
      }
     ],
     "prompt_number": 32
    },
    {
     "cell_type": "code",
     "collapsed": false,
     "input": [
      "# Testing new Config settings\n",
      "%run 'Functions.ipynb'\n",
      "Config.set_data_dist_base ('2013-12-18')\n",
      "wavenum = 2\n",
      "wi = Config.wave_info(wavenum)\n",
      "\n",
      "wi.filename_base  = \"sard_w2_split_96tr_10te\"\n",
      "wi.num_train      =  96\n",
      "wi.num_test       =  10\n",
      "wi.age_start      =  16\n",
      "wi.age_end        =  81\n",
      "wi.bin_years      =   5\n",
      "wi.read_func      = lambda: WaveInfo.read_data_v2 (2)\n",
      "\n",
      "\n",
      "wd = Config.wave_data(wavenum)\n",
      "print (wd)"
     ],
     "language": "python",
     "metadata": {},
     "outputs": [
      {
       "output_type": "stream",
       "stream": "stdout",
       "text": [
        "Setting Config.data_dist_base to \"2013-12-18-Sardinia-CleanUp-Data\"\n",
        "reading data from  data/2013-12-18-Sardinia-CleanUp-Data/2013-12-18-Sardinia-CleanUp-Data-Wave2.tsv\n"
       ]
      },
      {
       "output_type": "stream",
       "stream": "stdout",
       "text": [
        "4527 samples, 164 features, 13 classes\n",
        "  18.5  23.5  28.5  33.5  38.5  43.5  48.5  53.5  58.5  63.5  68.5  73.5  78.5\n",
        " 230   293   425   438   492   483   434   418   342   338   270   204   106  \n",
        "\n"
       ]
      }
     ],
     "prompt_number": 34
    },
    {
     "cell_type": "markdown",
     "metadata": {},
     "source": [
      "### Wave 3 binning"
     ]
    },
    {
     "cell_type": "code",
     "collapsed": false,
     "input": [
      "# 5-year classes, using the original read_data function\n",
      "# See notes in the Functions notebook for read_data_v3 \n",
      "%run 'Functions.ipynb'\n",
      "wavenum = 3\n",
      "Config.set_data_dist_base ('2013-12-18')\n",
      "Config.wave_info(wavenum).read_func = lambda : WaveInfo.read_data_v1 (3, 'samples')\n",
      "wd = Config.wave_data(wavenum)\n",
      "age_col = wd.data_matrix[:,wd.age_col_idx]\n",
      "try_bins (age_col,10,100,5)\n",
      "try_bins (age_col,11,100,5)\n",
      "try_bins (age_col,12,100,5)\n",
      "try_bins (age_col,13,100,5)\n",
      "try_bins (age_col,14,100,5)\n"
     ],
     "language": "python",
     "metadata": {},
     "outputs": [
      {
       "output_type": "stream",
       "stream": "stdout",
       "text": [
        "Setting Config.data_dist_base to \"2013-12-18-Sardinia-CleanUp-Data\"\n",
        "reading data from  data/2013-12-18-Sardinia-CleanUp-Data/2013-12-18-Sardinia-CleanUp-Data-Wave3.tsv\n"
       ]
      },
      {
       "output_type": "stream",
       "stream": "stdout",
       "text": [
        "range (10,100,5):\n",
        "  10  15  20  25  30  35  40  45  50  55  60  65  70  75  80  85  90\n",
        "   0   2  95 146 203 246 291 276 243 249 201 191 134  90  34   8   1\n",
        "\n",
        "range (11,100,5):\n",
        "  11  16  21  26  31  36  41  46  51  56  61  66  71  76  81  86  91\n",
        "   0   4 115 153 224 241 294 270 242 252 193 194 121  74  24   8   1\n",
        "\n",
        "range (12,100,5):\n",
        "  12  17  22  27  32  37  42  47  52  57  62  67  72  77  82  87  92\n",
        "   0  25 123 163 222 259 313 242 250 233 207 167 122  58  20   6   0\n",
        "\n",
        "range (13,100,5):\n",
        "  13  18  23  28  33  38  43  48  53  58  63  68  73  78  83  88  93\n",
        "   0  41 135 178 234 269 296 251 250 221 203 155 107  54  13   3   0\n",
        "\n",
        "range (14,100,5):\n",
        "  14  19  24  29  34  39  44  49  54  59  64  69  74  79  84  89  94\n",
        "   0  67 138 199 231 284 289 244 253 204 207 140 100  41  12   1   0\n",
        "\n"
       ]
      }
     ],
     "prompt_number": 35
    },
    {
     "cell_type": "code",
     "collapsed": false,
     "input": [
      "# Testing new Config settings\n",
      "%run 'Functions.ipynb'\n",
      "Config.set_data_dist_base ('2013-12-18')\n",
      "wavenum = 3\n",
      "wi = Config.wave_info(wavenum)\n",
      "\n",
      "wi.filename_base  = \"sard_w3_split_82tr_8te\"\n",
      "wi.num_train      =  82\n",
      "wi.num_test       =   8\n",
      "wi.age_start      =  20\n",
      "wi.age_end        =  80\n",
      "wi.bin_years      =   5\n",
      "wi.read_func      = lambda: WaveInfo.read_data_v1 (3, 'samples')\n",
      "\n",
      "\n",
      "wd = Config.wave_data(wavenum)\n",
      "print (wd)"
     ],
     "language": "python",
     "metadata": {},
     "outputs": [
      {
       "output_type": "stream",
       "stream": "stdout",
       "text": [
        "Setting Config.data_dist_base to \"2013-12-18-Sardinia-CleanUp-Data\"\n",
        "reading data from  data/2013-12-18-Sardinia-CleanUp-Data/2013-12-18-Sardinia-CleanUp-Data-Wave3.tsv\n"
       ]
      },
      {
       "output_type": "stream",
       "stream": "stdout",
       "text": [
        "2410 samples, 122 features, 12 classes\n",
        "  22.5  27.5  32.5  37.5  42.5  47.5  52.5  57.5  62.5  67.5  72.5  77.5\n",
        "  95   146   203   246   291   276   243   249   201   191   134    90  \n",
        "\n"
       ]
      }
     ],
     "prompt_number": 37
    },
    {
     "cell_type": "markdown",
     "metadata": {},
     "source": [
      "#Binning Data in the `2014-08-26-Sardinia` distribution"
     ]
    },
    {
     "cell_type": "markdown",
     "metadata": {},
     "source": [
      "### Wave 1 binning"
     ]
    },
    {
     "cell_type": "code",
     "collapsed": false,
     "input": [
      "# 5-year classes, using the new read_data_v3, which is more generic\n",
      "#   and dumps unused columns early to preserve more rows.\n",
      "# See notes in the Functions notebook for read_data_v3 \n",
      "%run 'Functions.ipynb'\n",
      "Config.set_data_dist_base ('2014-08-26-Sardinia')\n",
      "wavenum = 1\n",
      "\n",
      "Config.wave_info(wavenum).read_func = lambda : WaveInfo.read_data_v3 (wavenum, 'samples')\n",
      "wd = Config.wave_data(wavenum)\n",
      "age_col = wd.data_matrix[:,wd.age_col_idx]\n",
      "try_bins (age_col,10,100,5)\n",
      "try_bins (age_col,11,100,5)\n",
      "try_bins (age_col,12,100,5)\n",
      "try_bins (age_col,13,100,5)\n",
      "try_bins (age_col,14,100,5)\n"
     ],
     "language": "python",
     "metadata": {},
     "outputs": [
      {
       "output_type": "stream",
       "stream": "stdout",
       "text": [
        "Setting Config.data_dist_base to \"2014-08-26-Sardinia\"\n",
        "reading data from  data/2014-08-26-Sardinia/2014-08-26-Sardinia-Wave1.tsv\n"
       ]
      },
      {
       "output_type": "stream",
       "stream": "stdout",
       "text": [
        "range (10,100,5):\n",
        "  10  15  20  25  30  35  40  45  50  55  60  65  70  75  80  85  90\n",
        " 125 413 463 589 573 645 581 542 493 432 400 359 274 132  61  24  11\n",
        "\n",
        "range (11,100,5):\n",
        "  11  16  21  26  31  36  41  46  51  56  61  66  71  76  81  86  91\n",
        " 209 409 506 583 585 628 580 532 470 451 384 344 245 113  47  22  10\n",
        "\n",
        "range (12,100,5):\n",
        "  12  17  22  27  32  37  42  47  52  57  62  67  72  77  82  87  92\n",
        " 295 407 544 579 605 614 570 518 448 456 372 329 219  99  36  22   6\n",
        "\n",
        "range (13,100,5):\n",
        "  13  18  23  28  33  38  43  48  53  58  63  68  73  78  83  88  93\n",
        " 376 421 560 568 637 597 564 520 431 434 385 295 192  87  31  17   4\n",
        "\n",
        "range (14,100,5):\n",
        "  14  19  24  29  34  39  44  49  54  59  64  69  74  79  84  89  94\n",
        " 453 443 582 556 645 600 549 506 434 427 352 290 158  78  27  17   2\n",
        "\n"
       ]
      }
     ],
     "prompt_number": 3
    },
    {
     "cell_type": "code",
     "collapsed": false,
     "input": [
      "# Testing new Config settings\n",
      "%run 'Functions.ipynb'\n",
      "Config.set_data_dist_base ('2014-08-26-Sardinia')\n",
      "wavenum = 1\n",
      "wi = Config.wave_info(wavenum)\n",
      "\n",
      "'''\n",
      "# Configuration for 2013-12-18:\n",
      "wi.filename_base  = \"sard_w1_split_120tr_13te\"\n",
      "wi.num_train      =  120\n",
      "wi.num_test       =  13\n",
      "wi.age_start      =  12\n",
      "wi.age_end        =  77\n",
      "wi.bin_years      =   5\n",
      "wi.read_func      = lambda: WaveInfo.read_data_v1 (1, 'features')\n",
      "'''\n",
      "\n",
      "wi.filename_base  = \"sard_w1_split_119tr_13te\"\n",
      "wi.num_train      =  119\n",
      "wi.num_test       =  13\n",
      "wi.age_start      =  15\n",
      "wi.age_end        =  80\n",
      "wi.bin_years      =   5\n",
      "wi.read_func      = lambda: WaveInfo.read_data_v3 (1, 'samples')\n",
      "\n",
      "\n",
      "wd = Config.wave_data(wavenum)\n",
      "print (wd)"
     ],
     "language": "python",
     "metadata": {},
     "outputs": [
      {
       "output_type": "stream",
       "stream": "stdout",
       "text": [
        "Setting Config.data_dist_base to \"2014-08-26-Sardinia\"\n",
        "reading data from  data/2014-08-26-Sardinia/2014-08-26-Sardinia-Wave1.tsv\n"
       ]
      },
      {
       "output_type": "stream",
       "stream": "stdout",
       "text": [
        "6120 samples, 285 features, 13 classes\n",
        "  17.5  22.5  27.5  32.5  37.5  42.5  47.5  52.5  57.5  62.5  67.5  72.5  77.5\n",
        " 413   463   589   573   645   581   542   493   432   400   359   274   132  \n",
        "\n"
       ]
      }
     ],
     "prompt_number": 38
    },
    {
     "cell_type": "markdown",
     "metadata": {},
     "source": [
      "### Wave 2 binning"
     ]
    },
    {
     "cell_type": "code",
     "collapsed": false,
     "input": [
      "# 5-year classes, using the new read_data_v3, which is more generic\n",
      "#   and dumps unused columns early to preserve more rows.\n",
      "# See notes in the Functions notebook for read_data_v3 \n",
      "%run 'Functions.ipynb'\n",
      "Config.set_data_dist_base ('2014-08-26-Sardinia')\n",
      "wavenum = 2\n",
      "\n",
      "Config.wave_info(wavenum).read_func = lambda : WaveInfo.read_data_v3 (wavenum, 'samples')\n",
      "wd = Config.wave_data(wavenum)\n",
      "age_col = wd.data_matrix[:,wd.age_col_idx]\n",
      "try_bins (age_col,10,100,5)\n",
      "try_bins (age_col,11,100,5)\n",
      "try_bins (age_col,12,100,5)\n",
      "try_bins (age_col,13,100,5)\n",
      "try_bins (age_col,14,100,5)\n"
     ],
     "language": "python",
     "metadata": {},
     "outputs": [
      {
       "output_type": "stream",
       "stream": "stdout",
       "text": [
        "Setting Config.data_dist_base to \"2014-08-26-Sardinia\"\n",
        "reading data from  data/2014-08-26-Sardinia/2014-08-26-Sardinia-Wave2.tsv\n"
       ]
      },
      {
       "output_type": "stream",
       "stream": "stdout",
       "text": [
        "range (10,100,5):\n",
        "  10  15  20  25  30  35  40  45  50  55  60  65  70  75  80  85  90\n",
        "   0 179 333 434 487 508 549 501 463 414 390 321 292 179  75  20   6\n",
        "\n",
        "range (11,100,5):\n",
        "  11  16  21  26  31  36  41  46  51  56  61  66  71  76  81  86  91\n",
        "   0 253 325 468 479 544 528 483 476 387 380 336 254 154  67  13   5\n",
        "\n",
        "range (12,100,5):\n",
        "  12  17  22  27  32  37  42  47  52  57  62  67  72  77  82  87  92\n",
        "   0 314 341 490 468 551 525 480 467 397 358 316 246 131  54  10   4\n",
        "\n",
        "range (13,100,5):\n",
        "  13  18  23  28  33  38  43  48  53  58  63  68  73  78  83  88  93\n",
        "   2 382 358 490 487 564 505 481 451 394 331 314 231 110  44   5   3\n",
        "\n",
        "range (14,100,5):\n",
        "  14  19  24  29  34  39  44  49  54  59  64  69  74  79  84  89  94\n",
        " 111 333 414 462 508 560 499 466 440 388 336 299 208  89  31   5   4\n",
        "\n"
       ]
      }
     ],
     "prompt_number": 14
    },
    {
     "cell_type": "code",
     "collapsed": false,
     "input": [
      "# Testing new Config settings\n",
      "%run 'Functions.ipynb'\n",
      "Config.set_data_dist_base ('2014-08-26-Sardinia')\n",
      "wavenum = 2\n",
      "wi = Config.wave_info(wavenum)\n",
      "\n",
      "'''\n",
      "# Configuration for 2013-12-18:\n",
      "wi.filename_base  = \"sard_w2_split_96tr_10te\"\n",
      "wi.num_train      =  96\n",
      "wi.num_test       =  10\n",
      "wi.age_start      =  16\n",
      "wi.age_end        =  81\n",
      "wi.bin_years      =   5\n",
      "wi.read_func      = lambda: WaveInfo.read_data_v2 (2)\n",
      "'''\n",
      "\n",
      "wi.filename_base  = \"sard_w2_split_161tr_18te\"\n",
      "wi.num_train      =  161\n",
      "wi.num_test       =  18\n",
      "wi.age_start      =  15\n",
      "wi.age_end        =  80\n",
      "wi.bin_years      =   5\n",
      "wi.read_func      = lambda: WaveInfo.read_data_v3 (2, 'samples')\n",
      "\n",
      "\n",
      "wd = Config.wave_data(wavenum)\n",
      "print (wd)"
     ],
     "language": "python",
     "metadata": {},
     "outputs": [
      {
       "output_type": "stream",
       "stream": "stdout",
       "text": [
        "Setting Config.data_dist_base to \"2014-08-26-Sardinia\"\n",
        "reading data from  data/2014-08-26-Sardinia/2014-08-26-Sardinia-Wave2.tsv\n"
       ]
      },
      {
       "output_type": "stream",
       "stream": "stdout",
       "text": [
        "5153 samples, 277 features, 13 classes\n",
        "  17.5  22.5  27.5  32.5  37.5  42.5  47.5  52.5  57.5  62.5  67.5  72.5  77.5\n",
        " 179   333   434   487   508   549   501   463   414   390   321   292   179  \n",
        "\n"
       ]
      }
     ],
     "prompt_number": 40
    },
    {
     "cell_type": "markdown",
     "metadata": {},
     "source": [
      "### Wave 3 binning"
     ]
    },
    {
     "cell_type": "code",
     "collapsed": false,
     "input": [
      "# 5-year classes, using the original read_data function\n",
      "# See notes in the Functions notebook for read_data_v3 \n",
      "%run 'Functions.ipynb'\n",
      "wavenum = 3\n",
      "Config.set_data_dist_base ('2014-08-26-Sardinia')\n",
      "Config.wave_info(wavenum).read_func = lambda : WaveInfo.read_data_v1 (wavenum, 'samples')\n",
      "wd = Config.wave_data(wavenum)\n",
      "age_col = wd.data_matrix[:,wd.age_col_idx]\n",
      "try_bins (age_col,15,100,5)\n",
      "try_bins (age_col,16,100,5)\n",
      "try_bins (age_col,17,100,5)\n",
      "try_bins (age_col,18,100,5)\n",
      "try_bins (age_col,19,100,5)\n"
     ],
     "language": "python",
     "metadata": {},
     "outputs": [
      {
       "output_type": "stream",
       "stream": "stdout",
       "text": [
        "Setting Config.data_dist_base to \"2014-08-26-Sardinia\"\n",
        "reading data from  data/2014-08-26-Sardinia/2014-08-26-Sardinia-Wave3.tsv\n"
       ]
      },
      {
       "output_type": "stream",
       "stream": "stdout",
       "text": [
        "range (15,100,5):\n",
        "  15  20  25  30  35  40  45  50  55  60  65  70  75  80  85  90\n",
        "   4 139 192 260 287 336 326 273 275 235 216 163 132  54  13   5\n",
        "\n",
        "range (16,100,5):\n",
        "  16  21  26  31  36  41  46  51  56  61  66  71  76  81  86  91\n",
        "   8 161 202 278 289 341 314 274 282 220 216 158 108  43  14   2\n",
        "\n",
        "range (17,100,5):\n",
        "  17  22  27  32  37  42  47  52  57  62  67  72  77  82  87  92\n",
        "  30 183 207 278 303 359 284 280 273 220 196 156  95  33  12   1\n",
        "\n",
        "range (18,100,5):\n",
        "  18  23  28  33  38  43  48  53  58  63  68  73  78  83  88  93\n",
        "  62 192 231 278 311 342 290 277 263 220 185 140  88  22   9   0\n",
        "\n",
        "range (19,100,5):\n",
        "  19  24  29  34  39  44  49  54  59  64  69  74  79  84  89  94\n",
        " 105 187 254 270 328 335 280 279 240 225 179 135  69  17   6   0\n",
        "\n"
       ]
      }
     ],
     "prompt_number": 43
    },
    {
     "cell_type": "code",
     "collapsed": false,
     "input": [
      "# 5-year classes, using the new read_data_v3, which is more generic\n",
      "#   and dumps unused columns early to preserve more rows.\n",
      "# See notes in the Functions notebook for read_data_v3 \n",
      "%run 'Functions.ipynb'\n",
      "wavenum = 3\n",
      "Config.set_data_dist_base ('2014-08-26-Sardinia')\n",
      "Config.wave_info(wavenum).read_func = lambda : WaveInfo.read_data_v3 (wavenum, 'samples')\n",
      "wd = Config.wave_data(wavenum)\n",
      "age_col = wd.data_matrix[:,wd.age_col_idx]\n",
      "try_bins (age_col,15,100,5)\n",
      "try_bins (age_col,16,100,5)\n",
      "try_bins (age_col,17,100,5)\n",
      "try_bins (age_col,18,100,5)\n",
      "try_bins (age_col,19,100,5)\n"
     ],
     "language": "python",
     "metadata": {},
     "outputs": [
      {
       "output_type": "stream",
       "stream": "stdout",
       "text": [
        "Setting Config.data_dist_base to \"2014-08-26-Sardinia\"\n",
        "reading data from  data/2014-08-26-Sardinia/2014-08-26-Sardinia-Wave3.tsv\n"
       ]
      },
      {
       "output_type": "stream",
       "stream": "stdout",
       "text": [
        "range (15,100,5):\n",
        "  15  20  25  30  35  40  45  50  55  60  65  70  75  80  85  90\n",
        "  29 228 265 350 390 443 436 398 372 337 293 228 161  79  18   5\n",
        "\n",
        "range (16,100,5):\n",
        "  16  21  26  31  36  41  46  51  56  61  66  71  76  81  86  91\n",
        "  52 245 279 375 385 446 430 394 386 313 295 215 136  62  17   2\n",
        "\n",
        "range (17,100,5):\n",
        "  17  22  27  32  37  42  47  52  57  62  67  72  77  82  87  92\n",
        "  95 259 290 367 405 476 394 397 381 310 265 211 122  46  13   1\n",
        "\n",
        "range (18,100,5):\n",
        "  18  23  28  33  38  43  48  53  58  63  68  73  78  83  88  93\n",
        " 144 260 323 363 421 457 412 380 363 312 254 188 115  31   9   0\n",
        "\n",
        "range (19,100,5):\n",
        "  19  24  29  34  39  44  49  54  59  64  69  74  79  84  89  94\n",
        " 191 250 349 367 442 441 401 384 338 311 240 179  94  25   6   0\n",
        "\n"
       ]
      }
     ],
     "prompt_number": 38
    },
    {
     "cell_type": "code",
     "collapsed": false,
     "input": [
      "# Testing new Config settings\n",
      "%run 'Functions.ipynb'\n",
      "Config.set_data_dist_base ('2014-08-26-Sardinia')\n",
      "wavenum = 3\n",
      "wi = Config.wave_info(wavenum)\n",
      "wi.filename_base  = \"sard_w3_split_103tr_12te\"\n",
      "wi.num_train      =  103\n",
      "wi.num_test       =  12\n",
      "wi.age_start      =  18\n",
      "wi.age_end        =  83\n",
      "wi.bin_years      =   5\n",
      "wi.read_func      = lambda: WaveInfo.read_data_v3 (3, 'samples')\n",
      "\n",
      "\n",
      "wd = Config.wave_data(3)\n",
      "print (wd)"
     ],
     "language": "python",
     "metadata": {},
     "outputs": [
      {
       "output_type": "stream",
       "stream": "stdout",
       "text": [
        "Setting Config.data_dist_base to \"2014-08-26-Sardinia\"\n",
        "reading data from  data/2014-08-26-Sardinia/2014-08-26-Sardinia-Wave3.tsv\n"
       ]
      },
      {
       "output_type": "stream",
       "stream": "stdout",
       "text": [
        "4033 samples, 442 features, 13 classes\n",
        "  20.5  25.5  30.5  35.5  40.5  45.5  50.5  55.5  60.5  65.5  70.5  75.5  80.5\n",
        " 144   260   323   363   421   457   412   380   363   312   254   188   115  \n",
        "\n"
       ]
      }
     ],
     "prompt_number": 42
    },
    {
     "cell_type": "code",
     "collapsed": false,
     "input": [
      "# For reference, this was the configuration for wave 3 in 2013-12-18-Sardinia-CleanUp-Data\n",
      "%run 'Functions.ipynb'\n",
      "Config.set_data_dist_base ('2013-12-18')\n",
      "wavenum = 3\n",
      "wi = Config.wave_info(wavenum)\n",
      "\n",
      "wi.filename_base  = \"sard_w3_split_82tr_8te\"\n",
      "wi.num_train      =  82\n",
      "wi.num_test       =   8\n",
      "wi.age_start      =  20\n",
      "wi.age_end        =  80\n",
      "wi.bin_years      =   5\n",
      "wi.read_func      = lambda: WaveInfo.read_data_v1 (3, 'samples')\n",
      "\n",
      "wd = Config.wave_data(wavenum)\n",
      "print (wd)\n"
     ],
     "language": "python",
     "metadata": {},
     "outputs": [
      {
       "output_type": "stream",
       "stream": "stdout",
       "text": [
        "Setting Config.data_dist_base to \"2013-12-18-Sardinia-CleanUp-Data\"\n",
        "reading data from  data/2013-12-18-Sardinia-CleanUp-Data/2013-12-18-Sardinia-CleanUp-Data-Wave3.tsv\n"
       ]
      },
      {
       "output_type": "stream",
       "stream": "stdout",
       "text": [
        "2410 samples, 122 features, 12 classes\n",
        "  22.5  27.5  32.5  37.5  42.5  47.5  52.5  57.5  62.5  67.5  72.5  77.5\n",
        "  95   146   203   246   291   276   243   249   201   191   134    90  \n",
        "\n"
       ]
      }
     ],
     "prompt_number": 41
    },
    {
     "cell_type": "markdown",
     "metadata": {},
     "source": [
      "#Checking feature indexes and participant ID integrity"
     ]
    },
    {
     "cell_type": "code",
     "collapsed": false,
     "input": [
      "%run 'Functions.ipynb'\n",
      "\n",
      "def find_feature_values (wave_num, feature_idxs, feature_name, participant_idx):\n",
      "    wi = Config.wave_info (wave_num)\n",
      "    wd = Config.wave_data (wave_num)\n",
      "\n",
      "    participant_id = int (wd.data_matrix[participant_idx,wd.id_col_idx])\n",
      "    value = wd.data_matrix[participant_idx,feature_idxs[feature_name]+2]\n",
      "    print ('{} feature index={}'.format(feature_name,feature_idxs[feature_name]))\n",
      "    print ('participant index = {}, id = {}'.format(participant_idx,participant_id))\n",
      "    print ('value = {}'.format(value))\n",
      "    for split_num in range (50):\n",
      "        split = Split()\n",
      "        split.load_wave_train_test_RS (wave_num, split_num)\n",
      "        if participant_id in split.train_id:\n",
      "            idx = np.where(split.train_id == participant_id)[0][0]\n",
      "            value = split.train_set[idx,feature_idxs[feature_name]]\n",
      "            print ('in split {} train_set @ {} = {}'.format(split_num,idx,value))\n",
      "        if participant_id in split.test_id:\n",
      "            idx = np.where(split.test_id == participant_id)[0][0]\n",
      "            value = split.test_set[idx,feature_idxs[feature_name]]\n",
      "            print ('in split {} test_set  @ {} = {}'.format(split_num,idx,value))\n",
      "    print()\n",
      "\n",
      "wave_num = 2\n",
      "feature_idxs = {}\n",
      "col_idx = 0\n",
      "col_names = Config.wave_data (wave_num).col_names\n",
      "for col_idx in range (2,len(col_names)):\n",
      "    feature_idxs[col_names[col_idx]] = col_idx-2\n",
      "# Add a non-existent feature to ignore to get the baseline\n",
      "feature_idxs['NONE'] = None\n",
      "\n",
      "#feature_name = 'MMSE29Language_08'\n",
      "feature_name = 'labsTrigliceridi'\n",
      "participant_idx = 50\n",
      "find_feature_values (wave_num, feature_idxs, feature_name, participant_idx)\n",
      "\n",
      "find_feature_values (wave_num, feature_idxs, 'labsTransferrina', 87)\n"
     ],
     "language": "python",
     "metadata": {},
     "outputs": [
      {
       "output_type": "stream",
       "stream": "stdout",
       "text": [
        "reading data from  data/2014-08-26-Sardinia/2014-08-26-Sardinia-Wave2.tsv\n"
       ]
      },
      {
       "output_type": "stream",
       "stream": "stdout",
       "text": [
        "labsTrigliceridi feature index=14\n",
        "participant index = 50, id = 142\n",
        "value = 66.89\n",
        "in split 2 train_set @ 567 = 66.89"
       ]
      },
      {
       "output_type": "stream",
       "stream": "stdout",
       "text": [
        "\n",
        "in split 7 train_set @ 560 = 66.89"
       ]
      },
      {
       "output_type": "stream",
       "stream": "stdout",
       "text": [
        "\n",
        "in split 9 train_set @ 490 = 66.89"
       ]
      },
      {
       "output_type": "stream",
       "stream": "stdout",
       "text": [
        "\n",
        "in split 13 train_set @ 530 = 66.89"
       ]
      },
      {
       "output_type": "stream",
       "stream": "stdout",
       "text": [
        "\n",
        "in split 15 train_set @ 553 = 66.89"
       ]
      },
      {
       "output_type": "stream",
       "stream": "stdout",
       "text": [
        "\n",
        "in split 18 train_set @ 592 = 66.89"
       ]
      },
      {
       "output_type": "stream",
       "stream": "stdout",
       "text": [
        "\n",
        "in split 19 train_set @ 599 = 66.89\n",
        "in split 20 train_set @ 508 = 66.89"
       ]
      },
      {
       "output_type": "stream",
       "stream": "stdout",
       "text": [
        "\n",
        "in split 22 train_set @ 487 = 66.89"
       ]
      },
      {
       "output_type": "stream",
       "stream": "stdout",
       "text": [
        "\n",
        "in split 23 train_set @ 618 = 66.89\n",
        "in split 29 test_set  @ 57 = 66.89"
       ]
      },
      {
       "output_type": "stream",
       "stream": "stdout",
       "text": [
        "\n",
        "in split 34 train_set @ 613 = 66.89"
       ]
      },
      {
       "output_type": "stream",
       "stream": "stdout",
       "text": [
        "\n",
        "in split 37 train_set @ 531 = 66.89"
       ]
      },
      {
       "output_type": "stream",
       "stream": "stdout",
       "text": [
        "\n",
        "in split 38 train_set @ 636 = 66.89\n",
        "in split 39 train_set @ 552 = 66.89"
       ]
      },
      {
       "output_type": "stream",
       "stream": "stdout",
       "text": [
        "\n",
        "\n"
       ]
      },
      {
       "output_type": "stream",
       "stream": "stdout",
       "text": [
        "labsTransferrina feature index=16\n",
        "participant index = 87, id = 209\n",
        "value = 191.4\n",
        "in split 0 train_set @ 1503 = 191.4\n",
        "in split 1 train_set @ 1478 = 191.4"
       ]
      },
      {
       "output_type": "stream",
       "stream": "stdout",
       "text": [
        "\n",
        "in split 3 train_set @ 1546 = 191.4"
       ]
      },
      {
       "output_type": "stream",
       "stream": "stdout",
       "text": [
        "\n",
        "in split 6 train_set @ 1588 = 191.4"
       ]
      },
      {
       "output_type": "stream",
       "stream": "stdout",
       "text": [
        "\n",
        "in split 9 test_set  @ 175 = 191.4"
       ]
      },
      {
       "output_type": "stream",
       "stream": "stdout",
       "text": [
        "\n",
        "in split 10 train_set @ 1596 = 191.4\n",
        "in split 13 train_set @ 1607 = 191.4"
       ]
      },
      {
       "output_type": "stream",
       "stream": "stdout",
       "text": [
        "\n",
        "in split 14 train_set @ 1525 = 191.4\n",
        "in split 20 train_set @ 1599 = 191.4"
       ]
      },
      {
       "output_type": "stream",
       "stream": "stdout",
       "text": [
        "\n",
        "in split 23 train_set @ 1586 = 191.4"
       ]
      },
      {
       "output_type": "stream",
       "stream": "stdout",
       "text": [
        "\n",
        "in split 26 train_set @ 1470 = 191.4"
       ]
      },
      {
       "output_type": "stream",
       "stream": "stdout",
       "text": [
        "\n",
        "in split 27 train_set @ 1541 = 191.4\n",
        "in split 29 train_set @ 1593 = 191.4"
       ]
      },
      {
       "output_type": "stream",
       "stream": "stdout",
       "text": [
        "\n",
        "in split 33 train_set @ 1485 = 191.4"
       ]
      },
      {
       "output_type": "stream",
       "stream": "stdout",
       "text": [
        "\n",
        "in split 37 test_set  @ 170 = 191.4"
       ]
      },
      {
       "output_type": "stream",
       "stream": "stdout",
       "text": [
        "\n",
        "in split 39 train_set @ 1575 = 191.4"
       ]
      },
      {
       "output_type": "stream",
       "stream": "stdout",
       "text": [
        "\n",
        "in split 42 train_set @ 1515 = 191.4"
       ]
      },
      {
       "output_type": "stream",
       "stream": "stdout",
       "text": [
        "\n",
        "in split 44 test_set  @ 179 = 191.4"
       ]
      },
      {
       "output_type": "stream",
       "stream": "stdout",
       "text": [
        "\n",
        "in split 46 train_set @ 1456 = 191.4"
       ]
      },
      {
       "output_type": "stream",
       "stream": "stdout",
       "text": [
        "\n",
        "in split 47 train_set @ 1449 = 191.4\n",
        "\n"
       ]
      }
     ],
     "prompt_number": 46
    },
    {
     "cell_type": "code",
     "collapsed": false,
     "input": [],
     "language": "python",
     "metadata": {},
     "outputs": []
    }
   ],
   "metadata": {}
  }
 ]
}